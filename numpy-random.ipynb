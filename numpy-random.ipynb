{
 "cells": [
  {
   "attachments": {
    "numpy-logo-small.png": {
     "image/png": "[encoded data removed]"
    }
   },
   "cell_type": "markdown",
   "metadata": {},
   "source": [
    "![numpy-logo-small.png](attachment:numpy-logo-small.png)"
   ]
  },
  {
   "cell_type": "markdown",
   "metadata": {},
   "source": [
    "# An Overview of NumPy's Random Package\n",
    "---"
   ]
  },
  {
   "cell_type": "markdown",
   "metadata": {},
   "source": [
    "## Purpose of the numpy.random Package\n",
    "\n",
    "NumPy is a Python library used for scientific and mathematical computing in the Python programming language [1]. It contains a number of tools that can be used to solve mathematical models of problems using a computer [2]. \n",
    "\n",
    "Numpy.random is a collection of special library functions within NumPy to generate random numbers. These functions can also be used to organise random numbers into arrays of different shapes and sizes [3]. \n",
    " \n",
    "Functions within the numpy.random library are organised into four main categories: \n",
    "\n",
    "- Simple random data\n",
    "- Permutations\n",
    "- Distributions\n",
    "- Random generator\n",
    "\n",
    "The full numpy.random documentation can be accessed [here.](https://docs.scipy.org/doc/numpy/reference/routines.random.html)\n",
    "\n",
    "\n",
    "This notebook will discuss \"simple random data,\" \"permutations\" and \"distributions\" functions. The use of seeds in generating psuedorandom numbers will also be discussed.\n",
    "\n",
    "---"
   ]
  },
  {
   "cell_type": "markdown",
   "metadata": {},
   "source": [
    "\n",
    "## Simple random data functions in numpy.random\n",
    "\n",
    "There are 10 functions within the numpy.random \"simple random data\" family of functions: \n",
    "\n",
    "- rand()\n",
    "- randn()\n",
    "- randint()\n",
    "- random_integers()\n",
    "- random_sample()\n",
    "- random()\n",
    "- ranf()\n",
    "- sample()\n",
    "- choice()\n",
    "- bytes()\n",
    "\n",
    "Each of these are discussed below.\n"
   ]
  },
  {
   "cell_type": "code",
   "execution_count": 1,
   "metadata": {},
   "outputs": [],
   "source": [
    "# To import the python libraries required \n",
    "import numpy as np\n",
    "import matplotlib.pyplot as plt"
   ]
  },
  {
   "cell_type": "markdown",
   "metadata": {},
   "source": [
    "\n",
    "### numpy.random.rand()\n",
    "\n",
    "The rand function creates a random array of positive floating point numbers with a continuous uniform distribution from 0, up to but not including 1. An argument or parameter can be passed in, telling the function how many floats to return. If no argument is provided, the function will return a single float. \n",
    "\n",
    "In other words, this function creates random numbers that are uniformly distributed between 0 and 1, but not including the number 1.Uniform distribution is where each variable, or number in this case, has the same (uniform) probability or likelihood of occuring [4]."
   ]
  },
  {
   "cell_type": "code",
   "execution_count": 2,
   "metadata": {
    "scrolled": true
   },
   "outputs": [
    {
     "data": {
      "text/plain": [
       "array([ 0.68122634,  0.96612553,  0.62615195, ...,  0.67868847,\n",
       "        0.0086073 ,  0.27937749])"
      ]
     },
     "execution_count": 2,
     "metadata": {},
     "output_type": "execute_result"
    }
   ],
   "source": [
    "# To obtain an array of 10000 numbers using the rand function\n",
    "x = np.random.rand(10000)\n",
    "x"
   ]
  },
  {
   "cell_type": "code",
   "execution_count": 3,
   "metadata": {},
   "outputs": [
    {
     "data": {
      "image/png": "[encoded data removed]",
      "text/plain": [
       "<matplotlib.figure.Figure at 0x28a9cc00160>"
      ]
     },
     "metadata": {
      "needs_background": "light"
     },
     "output_type": "display_data"
    }
   ],
   "source": [
    "# Magic command to display histograms [5]. \n",
    "%matplotlib inline\n",
    "\n",
    "# To plot  this data on a histogram\n",
    "plt.hist(x)\n",
    "plt.show()"
   ]
  },
  {
   "cell_type": "markdown",
   "metadata": {},
   "source": [
    "Further parameters can be passed to request that more than one array of random data is returned, for example:"
   ]
  },
  {
   "cell_type": "code",
   "execution_count": 4,
   "metadata": {
    "scrolled": true
   },
   "outputs": [
    {
     "data": {
      "text/plain": [
       "array([[[ 0.23547782,  0.40235471,  0.26626818,  0.13464885],\n",
       "        [ 0.04634742,  0.72791546,  0.05413464,  0.30567209]],\n",
       "\n",
       "       [[ 0.19792072,  0.69865054,  0.70723476,  0.4194066 ],\n",
       "        [ 0.93668218,  0.88156903,  0.04613418,  0.54895357]],\n",
       "\n",
       "       [[ 0.22423413,  0.77427573,  0.85683773,  0.94685546],\n",
       "        [ 0.88830768,  0.89146401,  0.94866201,  0.71037198]],\n",
       "\n",
       "       [[ 0.43994694,  0.12630627,  0.40113066,  0.05425876],\n",
       "        [ 0.16693244,  0.79772233,  0.49651533,  0.31931587]],\n",
       "\n",
       "       [[ 0.31036797,  0.25324803,  0.63076784,  0.41724595],\n",
       "        [ 0.49199747,  0.45276393,  0.36462436,  0.05594856]],\n",
       "\n",
       "       [[ 0.67801338,  0.75270047,  0.60423562,  0.67054722],\n",
       "        [ 0.23088312,  0.15580685,  0.5898753 ,  0.60268163]],\n",
       "\n",
       "       [[ 0.1021937 ,  0.12165313,  0.72092733,  0.70457542],\n",
       "        [ 0.42113585,  0.42531111,  0.61724703,  0.43844241]],\n",
       "\n",
       "       [[ 0.89345043,  0.46740292,  0.68777783,  0.53817303],\n",
       "        [ 0.21428699,  0.00219264,  0.33896057,  0.04676555]],\n",
       "\n",
       "       [[ 0.8998132 ,  0.13667699,  0.04033297,  0.42618245],\n",
       "        [ 0.06530958,  0.21631397,  0.68091273,  0.48878377]],\n",
       "\n",
       "       [[ 0.03154698,  0.93482443,  0.2995927 ,  0.97057157],\n",
       "        [ 0.77201768,  0.80965957,  0.05801856,  0.77668851]]])"
      ]
     },
     "execution_count": 4,
     "metadata": {},
     "output_type": "execute_result"
    }
   ],
   "source": [
    "# To obtain 10 2x4 arrays of random numbers \n",
    "x = np.random.rand(10, 2, 4)\n",
    "x"
   ]
  },
  {
   "cell_type": "code",
   "execution_count": 5,
   "metadata": {},
   "outputs": [
    {
     "data": {
      "text/plain": [
       "array([[ 0.02177837,  0.4081592 ],\n",
       "       [ 0.6739448 ,  0.87386291],\n",
       "       [ 0.29294144,  0.0810956 ],\n",
       "       ..., \n",
       "       [ 0.40936914,  0.6233876 ],\n",
       "       [ 0.12746077,  0.69623134],\n",
       "       [ 0.58637623,  0.66061371]])"
      ]
     },
     "execution_count": 5,
     "metadata": {},
     "output_type": "execute_result"
    }
   ],
   "source": [
    "# To obtain two sets of arrays 10000 numbers using the rand function\n",
    "x = np.random.rand(10000, 2)\n",
    "x"
   ]
  },
  {
   "cell_type": "code",
   "execution_count": 6,
   "metadata": {},
   "outputs": [
    {
     "data": {
      "image/png": "[encoded data removed]",
      "text/plain": [
       "<matplotlib.figure.Figure at 0x28a9c53f128>"
      ]
     },
     "metadata": {
      "needs_background": "light"
     },
     "output_type": "display_data"
    }
   ],
   "source": [
    "plt.hist(x)\n",
    "plt.show()"
   ]
  },
  {
   "cell_type": "markdown",
   "metadata": {},
   "source": [
    "\n",
    "### numpy.random.randn\n",
    "\n",
    "The randn function also creates a random array of floating point numbers however it differs from the rand function above in that floats can be positive or negative. It also differs in that the randn function is based on normal (Gaussian) distribution. A parameter can be passed in, telling the function how many floats to return. If no argument is provided, the function will return a single float. \n",
    "\n",
    "Within this function, the mean is 0 and the standard deviation is 1.\n",
    "\n",
    "Normal distribution [5] can be visually represented by a bell curve and is distribution that occurs naturally when there is no bias. Most of the data falls within one point or standard deviation on either side of the mean. Examples of normal distribution can be seen throughout the general population, for example in a collection of IQ test scores, blood pressure results, heights, weights etc. "
   ]
  },
  {
   "cell_type": "code",
   "execution_count": 7,
   "metadata": {
    "scrolled": true
   },
   "outputs": [
    {
     "data": {
      "text/plain": [
       "array([-0.30182463,  1.14418509,  0.93511356, ..., -0.99915864,\n",
       "       -1.05956834,  0.54147422])"
      ]
     },
     "execution_count": 7,
     "metadata": {},
     "output_type": "execute_result"
    }
   ],
   "source": [
    "# To obtain an array of 10000 numbers using the randn function\n",
    "x = np.random.randn(10000)\n",
    "x"
   ]
  },
  {
   "cell_type": "code",
   "execution_count": 8,
   "metadata": {},
   "outputs": [
    {
     "data": {
      "image/png": "[encoded data removed]",
      "text/plain": [
       "<matplotlib.figure.Figure at 0x28a9c99a2e8>"
      ]
     },
     "metadata": {
      "needs_background": "light"
     },
     "output_type": "display_data"
    }
   ],
   "source": [
    "plt.hist(x)\n",
    "plt.show()"
   ]
  },
  {
   "cell_type": "markdown",
   "metadata": {},
   "source": [
    "More parameters can also be passed into the randn function and it will return more than one set of data, for example:"
   ]
  },
  {
   "cell_type": "code",
   "execution_count": 9,
   "metadata": {},
   "outputs": [
    {
     "data": {
      "text/plain": [
       "array([[-0.16343959, -0.17708127, -0.85089476],\n",
       "       [-0.82399786, -0.65153564,  0.58919211],\n",
       "       [ 1.00126657,  0.93817199,  1.09321974],\n",
       "       ..., \n",
       "       [ 1.18029132, -0.43416882,  0.60472824],\n",
       "       [-0.9373859 , -1.25661848,  1.81394214],\n",
       "       [-1.00194805, -0.18266837, -0.39710476]])"
      ]
     },
     "execution_count": 9,
     "metadata": {},
     "output_type": "execute_result"
    }
   ],
   "source": [
    "# To obtain three sets of arrays 10000 numbers using the randn function\n",
    "x = np.random.randn(10000, 3)\n",
    "x"
   ]
  },
  {
   "cell_type": "code",
   "execution_count": 10,
   "metadata": {},
   "outputs": [
    {
     "data": {
      "image/png": "[encoded data removed]",
      "text/plain": [
       "<matplotlib.figure.Figure at 0x28a9cb81da0>"
      ]
     },
     "metadata": {
      "needs_background": "light"
     },
     "output_type": "display_data"
    }
   ],
   "source": [
    "plt.hist(x)\n",
    "plt.show()"
   ]
  },
  {
   "cell_type": "markdown",
   "metadata": {},
   "source": [
    "\n",
    "### numpy.random.randint()\n",
    "\n",
    "The randint function returns random integers (whole numbers) that have discrete uniform distribution. Discrete uniform distribution is also known as equally likely outcomes distribution [6]. This is where the probability of evenly spaced values are equally likely to occur, for example when rolling a 6 sided dice, there are 6 evenly likely possibilties of rolling a certain number \n",
    "\n",
    "In probability, discrete uniform distribution differs from continuous uniform distribution in that disrcrete uniform distribution refers to whole numbers and continuous uniform distribution refers to numbers containing a decimal point (floats) [7].  \n",
    "\n",
    "The randint function requires parameters for the lowest and highest numbers you would like it to return. Lowest and highest numbers can be set as postive or negative. The lowest number is included in the output however the highest number is excluded. The example:\n",
    "\n",
    "*np.random.randint(1, 10)*\n",
    "\n",
    "will return a single random number between 1 and 9 inclusive. The size of the sample required can also be set, as outlined below. "
   ]
  },
  {
   "cell_type": "code",
   "execution_count": 11,
   "metadata": {},
   "outputs": [
    {
     "data": {
      "text/plain": [
       "array([-3,  9, 17, ..., -2, 16, 16])"
      ]
     },
     "execution_count": 11,
     "metadata": {},
     "output_type": "execute_result"
    }
   ],
   "source": [
    "# To return 10000 random floats between -5 and 19 using the randint function\n",
    "x = np.random.randint(-5, 20, size=10000)\n",
    "x"
   ]
  },
  {
   "cell_type": "code",
   "execution_count": 12,
   "metadata": {},
   "outputs": [
    {
     "data": {
      "image/png": "[encoded data removed]",
      "text/plain": [
       "<matplotlib.figure.Figure at 0x28a9cd85d68>"
      ]
     },
     "metadata": {
      "needs_background": "light"
     },
     "output_type": "display_data"
    }
   ],
   "source": [
    "plt.hist(x)\n",
    "plt.show()"
   ]
  },
  {
   "cell_type": "markdown",
   "metadata": {},
   "source": [
    "\n",
    "### numpy.random.random_integers()\n",
    "\n",
    "This function has been deprecated since version 1.11.0.\n"
   ]
  },
  {
   "cell_type": "markdown",
   "metadata": {},
   "source": [
    "\n",
    "### numpy.random.random_sample()\n",
    "\n",
    "The random_sample() function returns floats between 0.0 and 1.0, not including 1.0 using continuous uniform distribution. A single argument passed in will return that number of floats. If no argument is passed, a single float will be returned. "
   ]
  },
  {
   "cell_type": "code",
   "execution_count": 13,
   "metadata": {},
   "outputs": [
    {
     "data": {
      "text/plain": [
       "array([ 0.91123048,  0.73861695,  0.06055309, ...,  0.19461298,\n",
       "        0.01260093,  0.37164745])"
      ]
     },
     "execution_count": 13,
     "metadata": {},
     "output_type": "execute_result"
    }
   ],
   "source": [
    "# To return 10000 random numbers using the random_sample function \n",
    "x = np.random.random_sample(10000)\n",
    "x"
   ]
  },
  {
   "cell_type": "code",
   "execution_count": 14,
   "metadata": {},
   "outputs": [
    {
     "data": {
      "image/png": "[encoded data removed]",
      "text/plain": [
       "<matplotlib.figure.Figure at 0x28a9cd85668>"
      ]
     },
     "metadata": {
      "needs_background": "light"
     },
     "output_type": "display_data"
    }
   ],
   "source": [
    "plt.hist(x)\n",
    "plt.show()"
   ]
  },
  {
   "cell_type": "markdown",
   "metadata": {},
   "source": [
    "Similarly to the previous functions discussed, the random_sample function can also output more than one set of data if multiple arguments are passed in, for example:"
   ]
  },
  {
   "cell_type": "code",
   "execution_count": 15,
   "metadata": {
    "scrolled": true
   },
   "outputs": [
    {
     "data": {
      "text/plain": [
       "array([[[ 0.42843551,  0.15053469,  0.23560641,  0.58277296,  0.91377382],\n",
       "        [ 0.58995504,  0.54731614,  0.94716979,  0.41050351,  0.07979732],\n",
       "        [ 0.09235365,  0.14124439,  0.25157788,  0.1868742 ,  0.13730253]],\n",
       "\n",
       "       [[ 0.63333201,  0.25209191,  0.60980827,  0.32925577,  0.58160651],\n",
       "        [ 0.48929433,  0.90390469,  0.3537457 ,  0.43669536,  0.95123573],\n",
       "        [ 0.06034496,  0.48054438,  0.29012799,  0.14994241,  0.06062637]],\n",
       "\n",
       "       [[ 0.32238734,  0.08733074,  0.61118743,  0.47515311,  0.86146176],\n",
       "        [ 0.62807363,  0.9976499 ,  0.82295777,  0.9288892 ,  0.04904729],\n",
       "        [ 0.244863  ,  0.9181481 ,  0.93114012,  0.21303083,  0.78684678]],\n",
       "\n",
       "       [[ 0.5123987 ,  0.13256194,  0.17293402,  0.84023195,  0.48192788],\n",
       "        [ 0.17655299,  0.51218417,  0.93347713,  0.14489401,  0.35106149],\n",
       "        [ 0.41370088,  0.39699349,  0.45211447,  0.49577532,  0.9418087 ]],\n",
       "\n",
       "       [[ 0.40992884,  0.90377015,  0.62171262,  0.07319645,  0.33949255],\n",
       "        [ 0.81420747,  0.91017403,  0.73901713,  0.67195534,  0.78091383],\n",
       "        [ 0.54571334,  0.35787238,  0.48294207,  0.09831352,  0.4537401 ]],\n",
       "\n",
       "       [[ 0.44414852,  0.81797033,  0.48751084,  0.37776454,  0.58848914],\n",
       "        [ 0.23072097,  0.96125026,  0.86138663,  0.26250176,  0.41345302],\n",
       "        [ 0.96099915,  0.65722709,  0.4225586 ,  0.04201191,  0.48302041]],\n",
       "\n",
       "       [[ 0.1832009 ,  0.69354671,  0.32563188,  0.73076025,  0.09065686],\n",
       "        [ 0.33385994,  0.66987976,  0.61093169,  0.91751989,  0.31812741],\n",
       "        [ 0.44343251,  0.45918187,  0.13275099,  0.18092671,  0.6069647 ]],\n",
       "\n",
       "       [[ 0.70545338,  0.8374429 ,  0.78900285,  0.20989613,  0.45426607],\n",
       "        [ 0.03195431,  0.06601277,  0.76904286,  0.59385063,  0.05845714],\n",
       "        [ 0.75430364,  0.36298033,  0.85379216,  0.51277275,  0.69812591]],\n",
       "\n",
       "       [[ 0.79776516,  0.45665991,  0.17059695,  0.68602357,  0.80347393],\n",
       "        [ 0.62638585,  0.45530493,  0.5456495 ,  0.09393446,  0.86676044],\n",
       "        [ 0.62835789,  0.29473171,  0.42031614,  0.16153965,  0.4432913 ]],\n",
       "\n",
       "       [[ 0.01680839,  0.64377387,  0.49493722,  0.75504733,  0.68593507],\n",
       "        [ 0.14885253,  0.03512108,  0.3376349 ,  0.00897278,  0.07599292],\n",
       "        [ 0.53216469,  0.77049623,  0.98800287,  0.73001974,  0.8642028 ]]])"
      ]
     },
     "execution_count": 15,
     "metadata": {},
     "output_type": "execute_result"
    }
   ],
   "source": [
    "# To reutn ten 3x5 arrays of random numbers using the random_sample function\n",
    "x = np.random.random_sample((10, 3, 5))\n",
    "x"
   ]
  },
  {
   "cell_type": "code",
   "execution_count": 16,
   "metadata": {},
   "outputs": [
    {
     "data": {
      "text/plain": [
       "array([[ 0.12522723,  0.06726081,  0.82413185,  0.18182514],\n",
       "       [ 0.86209672,  0.46015793,  0.05356172,  0.50653993],\n",
       "       [ 0.07935445,  0.21596319,  0.0631711 ,  0.83146013],\n",
       "       [ 0.22165717,  0.9573232 ,  0.43185502,  0.9768435 ],\n",
       "       [ 0.08250745,  0.88581161,  0.14720382,  0.2212868 ],\n",
       "       [ 0.26369896,  0.70484095,  0.55814742,  0.22234476],\n",
       "       [ 0.73439435,  0.84214476,  0.03507723,  0.54500741],\n",
       "       [ 0.42414116,  0.79783792,  0.16214404,  0.57294993],\n",
       "       [ 0.94807891,  0.30742351,  0.32830743,  0.23177878],\n",
       "       [ 0.1160049 ,  0.14255017,  0.28677823,  0.51577422],\n",
       "       [ 0.6539945 ,  0.82452499,  0.30464699,  0.69460359],\n",
       "       [ 0.86448165,  0.33567751,  0.97718337,  0.84331066],\n",
       "       [ 0.00725868,  0.59131041,  0.94098902,  0.9834561 ],\n",
       "       [ 0.14044579,  0.27830477,  0.45718943,  0.9165413 ],\n",
       "       [ 0.8485599 ,  0.55035172,  0.9976575 ,  0.94609135],\n",
       "       [ 0.81040856,  0.815331  ,  0.76768424,  0.68707384],\n",
       "       [ 0.38785094,  0.74209933,  0.33051166,  0.5654392 ],\n",
       "       [ 0.68332194,  0.27147697,  0.44668179,  0.40103586],\n",
       "       [ 0.94933046,  0.49025611,  0.50475625,  0.72976246],\n",
       "       [ 0.48177083,  0.35492855,  0.10786185,  0.9112493 ]])"
      ]
     },
     "execution_count": 16,
     "metadata": {},
     "output_type": "execute_result"
    }
   ],
   "source": [
    "# To return twenty sets of 4 arrays using the random_sample function \n",
    "x = np.random.random_sample((20, 4))\n",
    "x"
   ]
  },
  {
   "cell_type": "code",
   "execution_count": 17,
   "metadata": {},
   "outputs": [
    {
     "data": {
      "image/png": "[encoded data removed]",
      "text/plain": [
       "<matplotlib.figure.Figure at 0x28a9ce2dd68>"
      ]
     },
     "metadata": {
      "needs_background": "light"
     },
     "output_type": "display_data"
    }
   ],
   "source": [
    "plt.hist(x)\n",
    "plt.show()"
   ]
  },
  {
   "cell_type": "markdown",
   "metadata": {},
   "source": [
    "To use the random_sample function across a larger range of numbers (rather than between 0.0 and 1.0), the following code can be used: \n",
    "\n",
    "   *(b - a) * random_sample() + a*\n"
   ]
  },
  {
   "cell_type": "code",
   "execution_count": 18,
   "metadata": {},
   "outputs": [
    {
     "data": {
      "text/plain": [
       "array([ 3.51469436,  3.51538513,  1.08980813,  2.548808  ,  1.29210796,\n",
       "        2.82134367,  3.38812398,  3.71859051,  5.3900356 ,  3.37648233])"
      ]
     },
     "execution_count": 18,
     "metadata": {},
     "output_type": "execute_result"
    }
   ],
   "source": [
    "# To obtain an array of ten random numbers (uniformly distributed) between 0 and 6\n",
    "x = -6 * np.random.random_sample(10) +6\n",
    "x"
   ]
  },
  {
   "cell_type": "markdown",
   "metadata": {},
   "source": [
    "\n",
    "### numpy.random.random(), numpy.random.ranf() and numpy.random.sample() functions\n",
    "\n",
    "The random, ranf and sample functions are the same as the random_sample function and they return the same output as described above [8]. "
   ]
  },
  {
   "cell_type": "code",
   "execution_count": 19,
   "metadata": {
    "scrolled": true
   },
   "outputs": [
    {
     "data": {
      "text/plain": [
       "array([ 0.78032174,  0.36991282,  0.90907436, ...,  0.66115432,\n",
       "        0.04906098,  0.90111025])"
      ]
     },
     "execution_count": 19,
     "metadata": {},
     "output_type": "execute_result"
    }
   ],
   "source": [
    "# To return 10000 floats using the random function and to demonstrate that this function is the \n",
    "# same as the random_sample function \n",
    "x = np.random.random(10000)\n",
    "x"
   ]
  },
  {
   "cell_type": "code",
   "execution_count": 20,
   "metadata": {},
   "outputs": [
    {
     "data": {
      "image/png": "[encoded data removed]",
      "text/plain": [
       "<matplotlib.figure.Figure at 0x28a9ab7b860>"
      ]
     },
     "metadata": {
      "needs_background": "light"
     },
     "output_type": "display_data"
    }
   ],
   "source": [
    "plt.hist(x)\n",
    "plt.show()"
   ]
  },
  {
   "cell_type": "code",
   "execution_count": 21,
   "metadata": {},
   "outputs": [
    {
     "data": {
      "text/plain": [
       "array([ 0.85372174,  0.33649828,  0.34479197, ...,  0.67357179,\n",
       "        0.44225057,  0.23604586])"
      ]
     },
     "execution_count": 21,
     "metadata": {},
     "output_type": "execute_result"
    }
   ],
   "source": [
    "# To return 10000 floats using the ranf function and to demonstrate that this function is the \n",
    "# same as the random_sample function \n",
    "x = np.random.ranf(10000)\n",
    "x"
   ]
  },
  {
   "cell_type": "code",
   "execution_count": 22,
   "metadata": {},
   "outputs": [
    {
     "data": {
      "image/png": "[encoded data removed]",
      "text/plain": [
       "<matplotlib.figure.Figure at 0x28a9cce6ac8>"
      ]
     },
     "metadata": {
      "needs_background": "light"
     },
     "output_type": "display_data"
    }
   ],
   "source": [
    "plt.hist(x)\n",
    "plt.show()"
   ]
  },
  {
   "cell_type": "code",
   "execution_count": 23,
   "metadata": {},
   "outputs": [
    {
     "data": {
      "text/plain": [
       "array([ 0.88784539,  0.92989511,  0.98615957, ...,  0.98038413,\n",
       "        0.10757127,  0.85083368])"
      ]
     },
     "execution_count": 23,
     "metadata": {},
     "output_type": "execute_result"
    }
   ],
   "source": [
    "# To return 10000 floats using the sample function and to demonstrate that this function is the \n",
    "# same as the random_sample function \n",
    "x = np.random.sample(10000)\n",
    "x"
   ]
  },
  {
   "cell_type": "code",
   "execution_count": 24,
   "metadata": {},
   "outputs": [
    {
     "data": {
      "image/png": "[encoded data removed]",
      "text/plain": [
       "<matplotlib.figure.Figure at 0x28a9d04e6a0>"
      ]
     },
     "metadata": {
      "needs_background": "light"
     },
     "output_type": "display_data"
    }
   ],
   "source": [
    "plt.hist(x)\n",
    "plt.show()"
   ]
  },
  {
   "cell_type": "markdown",
   "metadata": {},
   "source": [
    "\n",
    "### numpy.random.choice()\n",
    "\n",
    "At it's most basic, the choice function returns one positive integer when a single argument is passed in. The single argument that is passed in provides the range (automatically starting from 0) that the interger is randomly selected from. Using *np.random.choice(10)* is the same as selecting a single random integer from *np.arange(10).*\n"
   ]
  },
  {
   "cell_type": "code",
   "execution_count": 25,
   "metadata": {},
   "outputs": [
    {
     "data": {
      "text/plain": [
       "63"
      ]
     },
     "execution_count": 25,
     "metadata": {},
     "output_type": "execute_result"
    }
   ],
   "source": [
    "# To return a single integer between 0 and 99 using the choice function\n",
    "x = np.random.choice(100)\n",
    "x"
   ]
  },
  {
   "cell_type": "markdown",
   "metadata": {},
   "source": [
    "Further arguments can be passed in to the choice funtion. When a second parameter is passed, this relates to the size of the output, for example *np.random.choice(10, 3)* will return 3 random intergers from the range 0 to 9:"
   ]
  },
  {
   "cell_type": "code",
   "execution_count": 26,
   "metadata": {},
   "outputs": [
    {
     "data": {
      "text/plain": [
       "array([4, 9, 2])"
      ]
     },
     "execution_count": 26,
     "metadata": {},
     "output_type": "execute_result"
    }
   ],
   "source": [
    "# To return 3 integers between 0 and 9 using the choice function\n",
    "x = np.random.choice(10, 3)\n",
    "x"
   ]
  },
  {
   "cell_type": "markdown",
   "metadata": {},
   "source": [
    "When a third parameter - a boolean (True or False) is passed in, this will either allow or stop numbers from reccuring. For example True allows numbers to repeat and False stops numbers repeating: "
   ]
  },
  {
   "cell_type": "code",
   "execution_count": 27,
   "metadata": {},
   "outputs": [
    {
     "data": {
      "text/plain": [
       "array([3, 7, 3, 5, 7])"
      ]
     },
     "execution_count": 27,
     "metadata": {},
     "output_type": "execute_result"
    }
   ],
   "source": [
    "# To return 5 integers between 0 and 9 with repetition using the choice function\n",
    "x = np.random.choice(10, 5, True)\n",
    "x"
   ]
  },
  {
   "cell_type": "code",
   "execution_count": 28,
   "metadata": {},
   "outputs": [
    {
     "data": {
      "text/plain": [
       "array([8, 1, 4, 9, 0])"
      ]
     },
     "execution_count": 28,
     "metadata": {},
     "output_type": "execute_result"
    }
   ],
   "source": [
    "# To return 5 integers between 0 and 9 without repetition using the choice function\n",
    "x = np.random.choice(10, 5, False)\n",
    "x"
   ]
  },
  {
   "cell_type": "markdown",
   "metadata": {},
   "source": [
    "Finally, the choice function also allows for the type of distribution or probabilities assocaited with each entry to be set. If this parameter is not passed in, the choice function assumes uniform distribution."
   ]
  },
  {
   "cell_type": "markdown",
   "metadata": {},
   "source": [
    "\n",
    "### numpy.random.bytes()\n",
    "\n",
    "The bytes function returns a string of bytes when a parameter, which is an integer, is passed in."
   ]
  },
  {
   "cell_type": "code",
   "execution_count": 29,
   "metadata": {},
   "outputs": [
    {
     "data": {
      "text/plain": [
       "b'\\x99\\xe5Po\\xfd\\x91\\x0f\\xaa\\x0e\\r'"
      ]
     },
     "execution_count": 29,
     "metadata": {},
     "output_type": "execute_result"
    }
   ],
   "source": [
    "# To return 10 bytes using the bytes function\n",
    "x = np.random.bytes(10)\n",
    "x"
   ]
  },
  {
   "cell_type": "markdown",
   "metadata": {},
   "source": [
    "---\n",
    "## Permutations functions in numpy.random\n",
    "\n",
    "There are 2 functions within the numpy.random \"permutations\" family of functions: \n",
    "\n",
    "- shuffle()\n",
    "- permutation()\n",
    "\n",
    "These are discussed below."
   ]
  },
  {
   "cell_type": "markdown",
   "metadata": {},
   "source": [
    "\n",
    "### numpy.random.shuffle()"
   ]
  },
  {
   "cell_type": "markdown",
   "metadata": {},
   "source": [
    "The shuffle function shuffles a sequence of set integers. It changes the sequence or order of integers while the integers remain the same. Shuffle permanently changes the array in place therefore the output remains changed. The single parameter passed in indicates the range of numbers returned, for example *(20)* indicates an array from *0 to 19.* "
   ]
  },
  {
   "cell_type": "code",
   "execution_count": 30,
   "metadata": {},
   "outputs": [
    {
     "data": {
      "text/plain": [
       "(None, array([5, 1, 7, 9, 8, 3, 0, 6, 2, 4]))"
      ]
     },
     "execution_count": 30,
     "metadata": {},
     "output_type": "execute_result"
    }
   ],
   "source": [
    "# Create an ordered array of numbers 0-9. \n",
    "arr = np.arange(10)\n",
    "\n",
    "# The shuffle function will change the sequence of these numbers and this will become the new sequence of numbers \n",
    "# for further code\n",
    "\n",
    "shuffled = np.random.shuffle(arr)\n",
    "shuffled, arr"
   ]
  },
  {
   "cell_type": "markdown",
   "metadata": {},
   "source": [
    "\n",
    "### numpy.random.permutation()"
   ]
  },
  {
   "cell_type": "markdown",
   "metadata": {},
   "source": [
    "The permutation function works similarly to the shuffle function but returns a new array, leaving the original array untouched, as demonstrated below."
   ]
  },
  {
   "cell_type": "code",
   "execution_count": 31,
   "metadata": {},
   "outputs": [
    {
     "data": {
      "text/plain": [
       "(array([8, 6, 3, 2, 0, 7, 1, 5, 4, 9]), array([0, 1, 2, 3, 4, 5, 6, 7, 8, 9]))"
      ]
     },
     "execution_count": 31,
     "metadata": {},
     "output_type": "execute_result"
    }
   ],
   "source": [
    "# Create an ordered array of numbers 0-9. \n",
    "arr = np.arange(10)\n",
    "\n",
    "# The \"arr\" array remains the same while the permutation function shuffles the integers \n",
    "shuffled = np.random.permutation(arr)\n",
    "shuffled, arr"
   ]
  },
  {
   "cell_type": "markdown",
   "metadata": {
    "collapsed": true
   },
   "source": [
    "---\n",
    "## Distributions functions in numpy.random\n",
    "\n",
    "There are 35 functions within the numpy.random \"distributions\" family of functions. Seven of these functions are described below, including:\n",
    "\n",
    "- uniform()\n",
    "- standard_normal()\n",
    "- normal()\n",
    "- poisson()\n",
    "- power()\n",
    "- exponential()\n",
    "- standard_exponential()"
   ]
  },
  {
   "cell_type": "markdown",
   "metadata": {},
   "source": [
    "\n",
    "### numpy.random.uniform()"
   ]
  },
  {
   "cell_type": "markdown",
   "metadata": {},
   "source": [
    "The uniform function is similar to the rand function described above in that it is utilises uniform distribution. Uniform distribution is where each outcome is equally as likely, for example when choosing a random card from a deck of cards [9]. \n",
    "\n",
    "The uniform function differs in that low and high parameters can be set. The \"low\" parameter is included as a value however the \"high\" parameter is not included. The below example demonstrates that values of 0 can occur however only values up to and including 9 can occur. This function returns floats which indicates continuous uniform distribution. \n",
    "\n",
    "The purpose of this function is to generate random floats within a set range where all numbers are euqally likely to occur.  "
   ]
  },
  {
   "cell_type": "code",
   "execution_count": 32,
   "metadata": {},
   "outputs": [
    {
     "data": {
      "text/plain": [
       "array([ 7.59666164,  5.3659477 ,  6.79469918, ...,  5.68480042,\n",
       "        3.45094431,  6.20034044])"
      ]
     },
     "execution_count": 32,
     "metadata": {},
     "output_type": "execute_result"
    }
   ],
   "source": [
    "# To return an array of 10000 random integers between the values of 0 and 9 using the uniform function. \n",
    "x = np.random.uniform(0, 10,10000)\n",
    "x"
   ]
  },
  {
   "cell_type": "code",
   "execution_count": 33,
   "metadata": {},
   "outputs": [
    {
     "data": {
      "image/png": "[encoded data removed]",
      "text/plain": [
       "<matplotlib.figure.Figure at 0x28a9d0d4b00>"
      ]
     },
     "metadata": {
      "needs_background": "light"
     },
     "output_type": "display_data"
    }
   ],
   "source": [
    "plt.hist(x)\n",
    "plt.show()"
   ]
  },
  {
   "cell_type": "markdown",
   "metadata": {},
   "source": [
    "\n",
    "### numpy.random.normal()\n",
    "\n",
    "The normal function runs similarly to the randn function described above.It is based on normal (Gaussian) distribution and visually displays a typical bell curve.  \n",
    "\n",
    "The normal function differs from the randn function in that the randn function always has a set mean of 0 and a standard deviation of 1, whereas any mean and standard deviation can be passed in to the normal function. \n",
    "\n",
    "The purpose of this function is to generate random floats, with a set mean, where approximately 50% of the floats will be within a set standard deviation of the mean. \n",
    "\n",
    "In the example below, the mean is 10 and the standard deviation is 5. You can see that approximately 50% of the values occur within -1 and +1 standard deviation of the mean, from 5 to 15. "
   ]
  },
  {
   "cell_type": "code",
   "execution_count": 34,
   "metadata": {},
   "outputs": [
    {
     "data": {
      "text/plain": [
       "array([  3.91639794,   5.80072536,  17.38145157, ...,  11.50711542,\n",
       "        10.81261169,  13.27595345])"
      ]
     },
     "execution_count": 34,
     "metadata": {},
     "output_type": "execute_result"
    }
   ],
   "source": [
    "# To return an array of 10000 random integers, with a mean of 10 and a standard deviation of 5\n",
    "# using the normal function. \n",
    "x = np.random.normal(10, 5, 10000)\n",
    "x"
   ]
  },
  {
   "cell_type": "code",
   "execution_count": 35,
   "metadata": {},
   "outputs": [
    {
     "data": {
      "image/png": "[encoded data removed]",
      "text/plain": [
       "<matplotlib.figure.Figure at 0x28a9cf9f6a0>"
      ]
     },
     "metadata": {
      "needs_background": "light"
     },
     "output_type": "display_data"
    }
   ],
   "source": [
    "plt.hist(x)\n",
    "plt.show()"
   ]
  },
  {
   "cell_type": "markdown",
   "metadata": {},
   "source": [
    "\n",
    "### numpy.random.standard_normal()\n",
    "\n",
    "The standard_normal function is the same as the randn function. It uses normal distribution, it always has a mean of 0 and standard deviation of 1.\n",
    "\n",
    "The purpose of this function is to return a set number of random floats, where approximately 50% of the floats will be within -1 and 1 standard deviation of the mean. In other words, half of the outputs will be closer to 0 and there will be less floats (both positive and negative) as the values move further away from 0."
   ]
  },
  {
   "cell_type": "code",
   "execution_count": 36,
   "metadata": {},
   "outputs": [
    {
     "data": {
      "text/plain": [
       "array([-1.77408543, -1.45087195, -0.31824737, ..., -1.7495788 ,\n",
       "        0.98840391, -0.35835391])"
      ]
     },
     "execution_count": 36,
     "metadata": {},
     "output_type": "execute_result"
    }
   ],
   "source": [
    "# To return an array of 10000 random floats using the standard_normal function. \n",
    "x = np.random.standard_normal(10000)\n",
    "x"
   ]
  },
  {
   "cell_type": "code",
   "execution_count": 37,
   "metadata": {},
   "outputs": [
    {
     "data": {
      "image/png": "[encoded data removed]",
      "text/plain": [
       "<matplotlib.figure.Figure at 0x28a9cf9f780>"
      ]
     },
     "metadata": {
      "needs_background": "light"
     },
     "output_type": "display_data"
    }
   ],
   "source": [
    "plt.hist(x)\n",
    "plt.show()"
   ]
  },
  {
   "cell_type": "markdown",
   "metadata": {},
   "source": [
    "\n",
    "### numpy.random.poisson()\n",
    "\n",
    "The poisson function returns an array of positive integers based on the Poisson distribution. In statistics, the Poisson distribution demonstrates the probability that a given number of events will occur over a fixed time, distance, area or volume with a known constant rate. These events are discrete in that the occurence of one does not influence the occurence of the next thus occuring independently [9].\n",
    "\n",
    "Parameters for the poisson function can influence the size of the interval and the number of integers returned. If an interval is not indicated, the default integer is 1. The below example depicts an array of 10000 random integers from the Poisson distribution where lambda is 3. It is observed that the greater the number of random outputs, the greater the number of values between 0 and 3."
   ]
  },
  {
   "cell_type": "code",
   "execution_count": 38,
   "metadata": {
    "scrolled": true
   },
   "outputs": [
    {
     "data": {
      "text/plain": [
       "array([1, 4, 5, ..., 1, 8, 2])"
      ]
     },
     "execution_count": 38,
     "metadata": {},
     "output_type": "execute_result"
    }
   ],
   "source": [
    "# To return 10000 intergers, with a poisson distribution pf 3, using the poisson function.  \n",
    "x = np.random.poisson(3, 10000)\n",
    "x"
   ]
  },
  {
   "cell_type": "code",
   "execution_count": 39,
   "metadata": {},
   "outputs": [
    {
     "data": {
      "image/png": "[encoded data removed]",
      "text/plain": [
       "<matplotlib.figure.Figure at 0x28a9d073ba8>"
      ]
     },
     "metadata": {
      "needs_background": "light"
     },
     "output_type": "display_data"
    }
   ],
   "source": [
    "plt.hist(x)\n",
    "plt.show()"
   ]
  },
  {
   "cell_type": "markdown",
   "metadata": {},
   "source": [
    "\n",
    "### numpy.random.power()\n",
    "\n",
    "The power function returns random positive floats between 0.0 and 1.0, but not including 1.0. These random numbers are selected from a positive exponential distribution - this means that there is an increase in the number of outputs or values the closer we get to 1.0. Exponential distribution can be described in relation to time - the probability that an event will occur increases or becomes more likely as the time increases, for example scoring a goal in a football match [10]. \n",
    "\n",
    "The purpose of this function is to generate random floats from 0.0 up to but not including 1.0, where the larger numbers (numbers closer to 1.0) have a higher probability of occuring - it is more likely that there will be a greater number of values closer to 1.0. "
   ]
  },
  {
   "cell_type": "code",
   "execution_count": 40,
   "metadata": {},
   "outputs": [
    {
     "data": {
      "text/plain": [
       "array([ 0.96973035,  0.90002389,  0.99796971, ...,  0.97612622,\n",
       "        0.88441929,  0.99631685])"
      ]
     },
     "execution_count": 40,
     "metadata": {},
     "output_type": "execute_result"
    }
   ],
   "source": [
    "# To return 10000 random floats from 0.0 up to but not including 1.0, with a scale of 3 using the power function. \n",
    "x = np.random.power(3, 10000)\n",
    "x"
   ]
  },
  {
   "cell_type": "code",
   "execution_count": 41,
   "metadata": {},
   "outputs": [
    {
     "data": {
      "image/png": "[encoded data removed]",
      "text/plain": [
       "<matplotlib.figure.Figure at 0x28a9d0c1f28>"
      ]
     },
     "metadata": {
      "needs_background": "light"
     },
     "output_type": "display_data"
    }
   ],
   "source": [
    "plt.hist(x)\n",
    "plt.show()"
   ]
  },
  {
   "cell_type": "markdown",
   "metadata": {},
   "source": [
    "The *a* parameter (or first parameter) within the parentheses influences the values closer to 1.0. A higher *a* parameter results in a larger number of outputs that are closer to 1.0, in keeping with positive exponential distribution. This is demonstrated in the above and below histograms where *a* = 3 and *a* = 11."
   ]
  },
  {
   "cell_type": "code",
   "execution_count": 42,
   "metadata": {},
   "outputs": [
    {
     "data": {
      "text/plain": [
       "array([ 0.97233911,  0.98727258,  0.87573732, ...,  0.9896358 ,\n",
       "        0.98614866,  0.98989553])"
      ]
     },
     "execution_count": 42,
     "metadata": {},
     "output_type": "execute_result"
    }
   ],
   "source": [
    "# To return 10000 random floats from 0.0 up to but not including 1.0, with a scale of 11 using the power function. \n",
    "x = np.random.power( 11, 10000)\n",
    "x"
   ]
  },
  {
   "cell_type": "code",
   "execution_count": 43,
   "metadata": {},
   "outputs": [
    {
     "data": {
      "image/png": "[encoded data removed]",
      "text/plain": [
       "<matplotlib.figure.Figure at 0x28a9ce043c8>"
      ]
     },
     "metadata": {
      "needs_background": "light"
     },
     "output_type": "display_data"
    }
   ],
   "source": [
    "plt.hist(x)\n",
    "plt.show()"
   ]
  },
  {
   "cell_type": "markdown",
   "metadata": {},
   "source": [
    "\n",
    "### numpy.random.exponential()\n",
    "\n",
    "The exponential function returns random positive floats from a negative exponential distribution. A parameter can be passed in to set the scale of the distribution. The smaller the scale, the closer together the values will be (smaller intervals along the x axis when plotted). A further parameter can be pased in to set the size or number of floats returned. Most of the values returned are close to 0. The larger the numbers become, the lower probability there is of them occuring, therefore this is the opposite of positive exponential distribution described in relation to the power function. \n",
    "\n",
    "Negative exponential distribution can be used to describe the time between events in a Poisson process. \n",
    "The Poisson process offers a way to find probabilities for random points in time for a process. This process could be anything, for example customers arriving in a shop [14]. "
   ]
  },
  {
   "cell_type": "code",
   "execution_count": 44,
   "metadata": {},
   "outputs": [
    {
     "data": {
      "text/plain": [
       "array([  7.48325704,  13.8661467 ,   3.74426404, ...,   0.53181692,\n",
       "         6.74682277,   2.86571924])"
      ]
     },
     "execution_count": 44,
     "metadata": {},
     "output_type": "execute_result"
    }
   ],
   "source": [
    "# To return 10000 random floats with a scale of 7 using the exponential function \n",
    "x = np.random.exponential(7, 10000)\n",
    "x"
   ]
  },
  {
   "cell_type": "code",
   "execution_count": 45,
   "metadata": {},
   "outputs": [
    {
     "data": {
      "image/png": "[encoded data removed]",
      "text/plain": [
       "<matplotlib.figure.Figure at 0x28a9cb1ed30>"
      ]
     },
     "metadata": {
      "needs_background": "light"
     },
     "output_type": "display_data"
    }
   ],
   "source": [
    "plt.hist(x)\n",
    "plt.show()"
   ]
  },
  {
   "cell_type": "markdown",
   "metadata": {},
   "source": [
    "\n",
    "### numpy.random.standard_exponential()\n",
    "\n",
    "The standard_exponential function is the same as the exponential function however the standard_exponential function always has a scale of 1. A parameter can be passed in to return a specified number of floats. "
   ]
  },
  {
   "cell_type": "code",
   "execution_count": 46,
   "metadata": {},
   "outputs": [
    {
     "data": {
      "text/plain": [
       "array([ 1.49068126,  0.62567171,  0.17821518, ...,  0.77523453,\n",
       "        1.65674418,  0.55083017])"
      ]
     },
     "execution_count": 46,
     "metadata": {},
     "output_type": "execute_result"
    }
   ],
   "source": [
    "# To return 10000 random floats with a set scale of 1 using the standard_exponential function \n",
    "x = np.random.standard_exponential(10000)\n",
    "x"
   ]
  },
  {
   "cell_type": "code",
   "execution_count": 47,
   "metadata": {},
   "outputs": [
    {
     "data": {
      "image/png": "[encoded data removed]",
      "text/plain": [
       "<matplotlib.figure.Figure at 0x28a9cd0d748>"
      ]
     },
     "metadata": {
      "needs_background": "light"
     },
     "output_type": "display_data"
    }
   ],
   "source": [
    "plt.hist(x)\n",
    "plt.show()"
   ]
  },
  {
   "cell_type": "markdown",
   "metadata": {},
   "source": [
    "---\n",
    "## The Use of Seeds in Pseudo-Random Number Generation\n",
    "\n",
    "\n",
    "Throughout this document reference to generating random numbers is made however it is important to note that computers are unable to truly generate random numbers, due to  the fact that computers are deterministic - every time you ask the same question, you’ll get the same answer [11]. \n",
    "\n",
    "Instead, pseudo-random numbers are generated using an algorithm or mathematical function. The Mersenne Twister [12] is a widely used pseudo-random number generator (PRNG). A PRGN requires a parameter to start the process of generating pseudo-random numbers. This is known as the seed [13].\n",
    "\n",
    "Setting the seed can make generating pseudo-random numbers predictable, ensuring that the code produces the same result each time, which is useful when testing code.  "
   ]
  },
  {
   "cell_type": "markdown",
   "metadata": {},
   "source": [
    "## References "
   ]
  },
  {
   "cell_type": "markdown",
   "metadata": {},
   "source": [
    "[1] www.numpy.org/ date: 03/11/2018 \n",
    "\n",
    "[2] https://www.datacamp.com/community/tutorials/python-numpy-tutorial date: 03/11/2018 \n",
    "\n",
    "[3] https://docs.scipy.org/doc/numpy/user/basics.creation.html date: 03/11/2018 \n",
    "\n",
    "[4] https://www.investopedia.com/terms/u/uniform-distribution.asp date: 04/11/2018\n",
    "\n",
    "[5] https://ipython.readthedocs.io/en/stable/interactive/magics.html date:11/11/2018\n",
    "\n",
    "[5] https://www.statisticshowto.datasciencecentral.com/probability-and-statistics/normal-distributions/ date: 04/11/2018\n",
    "\n",
    "[6] https://www.chegg.com/homework-help/definitions/discrete-uniform-31 date: 04/11/2018 \n",
    "\n",
    "[7] https://socratic.org/questions/what-is-the-difference-between-a-discrete-uniform-distribution-and-a-continuous- dated: 04/11/2018\n",
    "\n",
    "[8] https://stackoverflow.com/questions/18829185/difference-between-various-numpy-random-functions dated: 04/11/2018\n",
    "\n",
    "[9] https://www.investopedia.com/terms/u/uniform-distribution.asp dated: 09/11/2018\n",
    "\n",
    "[9] https://stattrek.com/probability-distributions/poisson.aspx dated: 06/11/2018\n",
    "\n",
    "[10] https://www.statlect.com/probability-distributions/exponential-distribution dated: 06/11/2018 \n",
    "\n",
    "[11] https://engineering.mit.edu/engage/ask-an-engineer/can-a-computer-generate-a-truly-random-number/ date: 09/11/2018 \n",
    "\n",
    "[12] https://en.wikipedia.org/wiki/Mersenne_Twister dated: 09/11/2018 \n",
    "\n",
    "[13] https://machinelearningmastery.com/how-to-generate-random-numbers-in-python/ dated: 09/11/2018\n",
    "\n",
    "[14] [https://www.statisticshowto.datasciencecentral.com/exponential-distribution/ date: 11/11/2018"
   ]
  },
  {
   "cell_type": "markdown",
   "metadata": {},
   "source": [
    "## Bibliography and Acknowledgements "
   ]
  },
  {
   "cell_type": "markdown",
   "metadata": {},
   "source": [
    "- https://docs.scipy.org/doc/numpy-1.15.1/user/whatisnumpy.html date: 20/10/2018\n",
    "- https://docs.scipy.org/doc/numpy-1.15.1/reference/routines.random.html date:27/10/2018\n",
    "- http://nbviewer.jupyter.org/gist/rossant/4645217 date: 03/11/2018\n",
    "- https://en.wikipedia.org/wiki/NumPy date: 03/11/2018\n",
    "- https://www.packtpub.com/mapt/book/big_data_and_business_intelligence/9781785285110/2/ch02lvl1sec16/numpy-random-numbers date: 03/11/2018\n",
    "- https://www.datacamp.com/community/tutorials/python-numpy-tutorial date: 03/11/2018 \n",
    "- http://mathworld.wolfram.com/DiscreteUniformDistribution.html date: 04/11/2018 \n",
    "- https://machinelearningmastery.com/how-to-generate-random-numbers-in-python/ - good for seeds and pseudo random number info 04/11/2018\n",
    "- https://stackoverflow.com/questions/21494489/what-does-numpy-random-seed0-do dated: 09/11/2018\n",
    "- https://matplotlib.org/contents.html dated:11/11/2018"
   ]
  },
  {
   "cell_type": "code",
   "execution_count": null,
   "metadata": {},
   "outputs": [],
   "source": []
  }
 ],
 "metadata": {
  "kernelspec": {
   "display_name": "Python 3",
   "language": "python",
   "name": "python3"
  },
  "language_info": {
   "codemirror_mode": {
    "name": "ipython",
    "version": 3
   },
   "file_extension": ".py",
   "mimetype": "text/x-python",
   "name": "python",
   "nbconvert_exporter": "python",
   "pygments_lexer": "ipython3",
   "version": "3.6.7"
  }
 },
 "nbformat": 4,
 "nbformat_minor": 2
}
