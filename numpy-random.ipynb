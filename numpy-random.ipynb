{
 "cells": [
  {
   "cell_type": "markdown",
   "metadata": {},
   "source": [
    "# An Overview of the numpy.random Package"
   ]
  },
  {
   "cell_type": "markdown",
   "metadata": {},
   "source": [
    "## Purpose of the numpy.random Package\n",
    "\n",
    "NumPy is a Python library used for scientific and mathematical computing in the Python programming language [1]. It contains a number of tools that can be used to solve mathematical models of problems using a computer [2]. \n",
    "\n",
    "Numpy.random is a collection of special library functions within NumPy to generate random numbers. These functions can also be used to organise random numbers into arrays of different shapes and sizes [3]. \n",
    "\n",
    "**COMMENT RE PSEUDO RANDOM NUMBERS HERE?**\n",
    "\n",
    "\n",
    "Functions within the numpy.random library are organised into four main categories: \n",
    "\n",
    "- Simple random data\n",
    "- Permutations\n",
    "- Distributions\n",
    "- Random generator\n",
    "\n",
    "The full numpy.random documentation can be accessed [here.](https://docs.scipy.org/doc/numpy/reference/routines.random.html)\n",
    "\n",
    "\n",
    "This notebook will discuss \"simple random data,\" \"permutations\" and \"distributions\" functions. The use of seeds in generating psuedorandom numbers will also be discussed."
   ]
  },
  {
   "cell_type": "markdown",
   "metadata": {},
   "source": [
    "## Simple random data functions in numpy.random\n",
    "\n",
    "There are 10 functions within the numpy.random \"simple random data\" family of functions: \n",
    "\n",
    "- rand()\n",
    "- randn()\n",
    "- randint()\n",
    "- random_integers()\n",
    "- random_sample()\n",
    "- random()\n",
    "- ranf()\n",
    "- sample()\n",
    "- choice()\n",
    "- bytes()\n",
    "\n",
    "Each of these are discussed below.\n"
   ]
  },
  {
   "cell_type": "code",
   "execution_count": 1,
   "metadata": {},
   "outputs": [],
   "source": [
    "import numpy as np\n",
    "import matplotlib.pyplot as plt"
   ]
  },
  {
   "cell_type": "markdown",
   "metadata": {},
   "source": [
    "### numpy.random.rand()\n",
    "\n",
    "The rand function creates a random array of positive floating point numbers with a continuous uniform distribution from 0, up to but not including 1. An argument can be passed in, telling the function how many numbers to return. If no argument is provided, the function will return a single float. \n",
    "\n",
    "In other words, this function creates random numbers that are uniformly distributed between 0 and 1, but not including the number 1.Uniform distribution is where each variable, or number in this case, has the same (uniform) probability [4]."
   ]
  },
  {
   "cell_type": "code",
   "execution_count": 2,
   "metadata": {
    "scrolled": true
   },
   "outputs": [
    {
     "data": {
      "text/plain": [
       "array([ 0.17067908,  0.20973122,  0.29980349, ...,  0.1117192 ,\n",
       "        0.19655962,  0.69354667])"
      ]
     },
     "execution_count": 2,
     "metadata": {},
     "output_type": "execute_result"
    }
   ],
   "source": [
    "# To obtain an array of 100 numbers \n",
    "x = np.random.rand(10000)\n",
    "x"
   ]
  },
  {
   "cell_type": "code",
   "execution_count": 3,
   "metadata": {},
   "outputs": [
    {
     "data": {
      "image/png": "[encoded data removed]",
      "text/plain": [
       "<matplotlib.figure.Figure at 0x1b685405198>"
      ]
     },
     "metadata": {
      "needs_background": "light"
     },
     "output_type": "display_data"
    }
   ],
   "source": [
    "%matplotlib inline\n",
    "\n",
    "# To plot these numbers on a histogram\n",
    "plt.hist(x)\n",
    "plt.show()"
   ]
  },
  {
   "cell_type": "markdown",
   "metadata": {},
   "source": [
    "Further arguments can be passed to request that more than one array of random data is returned, for example:"
   ]
  },
  {
   "cell_type": "code",
   "execution_count": 4,
   "metadata": {},
   "outputs": [
    {
     "data": {
      "text/plain": [
       "array([[[ 0.6641219 ,  0.71368328,  0.5233184 ,  0.24612105],\n",
       "        [ 0.53492359,  0.60827639,  0.81409415,  0.32135349]],\n",
       "\n",
       "       [[ 0.14741567,  0.57827631,  0.19887509,  0.31583603],\n",
       "        [ 0.83445401,  0.43562229,  0.81492499,  0.97440933]],\n",
       "\n",
       "       [[ 0.01015943,  0.02684716,  0.56733646,  0.71999612],\n",
       "        [ 0.99448592,  0.10634348,  0.33812586,  0.27825052]],\n",
       "\n",
       "       [[ 0.79507567,  0.04250397,  0.01192301,  0.68467167],\n",
       "        [ 0.01972404,  0.82121229,  0.11146922,  0.74508264]],\n",
       "\n",
       "       [[ 0.38615774,  0.67260324,  0.76226481,  0.1337387 ],\n",
       "        [ 0.00278704,  0.95049706,  0.07994062,  0.66450143]],\n",
       "\n",
       "       [[ 0.18274923,  0.45617543,  0.34888126,  0.77965446],\n",
       "        [ 0.31655539,  0.71181943,  0.07333569,  0.70764869]],\n",
       "\n",
       "       [[ 0.12298261,  0.13237298,  0.47056553,  0.38026945],\n",
       "        [ 0.0673788 ,  0.54292295,  0.11940756,  0.09494846]],\n",
       "\n",
       "       [[ 0.33806936,  0.07954394,  0.45341839,  0.26125168],\n",
       "        [ 0.52217253,  0.03336611,  0.9150049 ,  0.56985622]],\n",
       "\n",
       "       [[ 0.3191674 ,  0.88154903,  0.71644925,  0.85551747],\n",
       "        [ 0.64805245,  0.54575168,  0.48761682,  0.4096677 ]],\n",
       "\n",
       "       [[ 0.27508126,  0.52108547,  0.54169238,  0.66153043],\n",
       "        [ 0.04675088,  0.50504757,  0.61562642,  0.35012249]]])"
      ]
     },
     "execution_count": 4,
     "metadata": {},
     "output_type": "execute_result"
    }
   ],
   "source": [
    "# 10 2x4 arrays of random numbers\n",
    "x = np.random.rand(10, 2, 4)\n",
    "x"
   ]
  },
  {
   "cell_type": "code",
   "execution_count": 5,
   "metadata": {},
   "outputs": [
    {
     "data": {
      "text/plain": [
       "array([[ 0.9567641 ,  0.59471162],\n",
       "       [ 0.57201567,  0.50646547],\n",
       "       [ 0.74159677,  0.96454112],\n",
       "       ..., \n",
       "       [ 0.6762316 ,  0.54477753],\n",
       "       [ 0.33427044,  0.77388934],\n",
       "       [ 0.1747524 ,  0.96010646]])"
      ]
     },
     "execution_count": 5,
     "metadata": {},
     "output_type": "execute_result"
    }
   ],
   "source": [
    "x = np.random.rand(10000, 2)\n",
    "x"
   ]
  },
  {
   "cell_type": "code",
   "execution_count": 6,
   "metadata": {},
   "outputs": [
    {
     "data": {
      "image/png": "[encoded data removed]",
      "text/plain": [
       "<matplotlib.figure.Figure at 0x1b68550ecc0>"
      ]
     },
     "metadata": {
      "needs_background": "light"
     },
     "output_type": "display_data"
    }
   ],
   "source": [
    "plt.hist(x)\n",
    "plt.show()"
   ]
  },
  {
   "cell_type": "markdown",
   "metadata": {},
   "source": [
    "### numpy.random.randn"
   ]
  },
  {
   "cell_type": "markdown",
   "metadata": {},
   "source": [
    "The randn function also creates a random array of floating point numbers however it differs from the rand function above in that floats can be positive or negative and the distribution is normal (Gaussian). \n",
    "\n",
    "Normal distribution [5] can be visually represented by a bell curve and is distribution that occurs naturally when there is no bias. Most of the data falls within one point or standard deviation on either side of the mean. Examples of normal distribution can be seen throughout the general population, for example in a collection of IQ test scores, blood pressure results, heights, weights etc. "
   ]
  },
  {
   "cell_type": "code",
   "execution_count": 7,
   "metadata": {
    "scrolled": true
   },
   "outputs": [
    {
     "data": {
      "text/plain": [
       "array([ 0.6647051 , -0.57245929, -0.32386534, ...,  0.06883062,\n",
       "        0.84328471,  0.55081668])"
      ]
     },
     "execution_count": 7,
     "metadata": {},
     "output_type": "execute_result"
    }
   ],
   "source": [
    "x = np.random.randn(10000)\n",
    "x"
   ]
  },
  {
   "cell_type": "code",
   "execution_count": 8,
   "metadata": {},
   "outputs": [
    {
     "data": {
      "image/png": "[encoded data removed]",
      "text/plain": [
       "<matplotlib.figure.Figure at 0x1b68541e550>"
      ]
     },
     "metadata": {
      "needs_background": "light"
     },
     "output_type": "display_data"
    }
   ],
   "source": [
    "plt.hist(x)\n",
    "plt.show()"
   ]
  },
  {
   "cell_type": "markdown",
   "metadata": {},
   "source": [
    "This function can also provide more than one set of data, for example:"
   ]
  },
  {
   "cell_type": "code",
   "execution_count": 9,
   "metadata": {},
   "outputs": [
    {
     "data": {
      "text/plain": [
       "array([[ 0.19072068, -0.50571225,  1.10742281],\n",
       "       [ 0.29416106,  1.15495719,  0.72321999],\n",
       "       [ 0.03662596, -0.16538095, -0.56790019],\n",
       "       ..., \n",
       "       [ 0.87553131, -0.51774488,  0.05884447],\n",
       "       [-0.83910439,  1.24493024, -0.46683033],\n",
       "       [ 1.00316648,  0.01593293, -0.01611801]])"
      ]
     },
     "execution_count": 9,
     "metadata": {},
     "output_type": "execute_result"
    }
   ],
   "source": [
    "x = np.random.randn(10000, 3)\n",
    "x"
   ]
  },
  {
   "cell_type": "code",
   "execution_count": 10,
   "metadata": {},
   "outputs": [
    {
     "data": {
      "image/png": "[encoded data removed]",
      "text/plain": [
       "<matplotlib.figure.Figure at 0x1b6855e5cf8>"
      ]
     },
     "metadata": {
      "needs_background": "light"
     },
     "output_type": "display_data"
    }
   ],
   "source": [
    "plt.hist(x)\n",
    "plt.show()"
   ]
  },
  {
   "cell_type": "markdown",
   "metadata": {},
   "source": [
    "### numpy.random.randint()\n",
    "\n",
    "The randint function returns random integers (whole numbers) that have discrete uniform distribution. Discrete uniform distribution is also known as equally likely outcomes distribution [6]. This is where the probability of evenly spaced values are equally likely to occur, for example when rolling a 6 sided dice, there are 6 evenly likely possibilties of rolling a certain number \n",
    "\n",
    "In probability, discrete uniform distribution differs from continuous uniform distribution in that disrcrete uniform distribution refers to whole numbers and continuous uniform distribution refers to numbers containing a decimal point (floats) [7].  \n",
    "\n",
    "The randint function requires parameters for the lowest and highest numbers you would like it to return. Lowest and highest numbers can be et as postive or negative. The lowest number is included in the output however the highest number is excluded. For example:\n",
    "\n",
    "*np.random.randint(1, 10)*\n",
    "\n",
    "will return a single random number between 1 and 9 inclusive. The size of the sample required can also be set, as outlined below. "
   ]
  },
  {
   "cell_type": "code",
   "execution_count": 11,
   "metadata": {},
   "outputs": [
    {
     "data": {
      "text/plain": [
       "array([16,  4,  3, ...,  9, 19, 11])"
      ]
     },
     "execution_count": 11,
     "metadata": {},
     "output_type": "execute_result"
    }
   ],
   "source": [
    "x = np.random.randint(-5, 20, size=10000)\n",
    "x"
   ]
  },
  {
   "cell_type": "code",
   "execution_count": 12,
   "metadata": {},
   "outputs": [
    {
     "data": {
      "image/png": "[encoded data removed]",
      "text/plain": [
       "<matplotlib.figure.Figure at 0x1b68567ada0>"
      ]
     },
     "metadata": {
      "needs_background": "light"
     },
     "output_type": "display_data"
    }
   ],
   "source": [
    "plt.hist(x)\n",
    "plt.show()"
   ]
  },
  {
   "cell_type": "markdown",
   "metadata": {},
   "source": [
    "### numpy.random.random_integers()\n",
    "\n",
    "This function has been deprecated since version 1.11.0.\n"
   ]
  },
  {
   "cell_type": "markdown",
   "metadata": {},
   "source": [
    "### numpy.random.random_sample()\n",
    "\n",
    "The random_sample() function returns floats between 0.0 and 1.0, not including 1.0 using continuous uniform distribution. "
   ]
  },
  {
   "cell_type": "code",
   "execution_count": 13,
   "metadata": {},
   "outputs": [
    {
     "data": {
      "text/plain": [
       "array([ 0.88675551,  0.27594666,  0.68262013, ...,  0.78465903,\n",
       "        0.9005102 ,  0.74287823])"
      ]
     },
     "execution_count": 13,
     "metadata": {},
     "output_type": "execute_result"
    }
   ],
   "source": [
    "x = np.random.random_sample(10000)\n",
    "x"
   ]
  },
  {
   "cell_type": "code",
   "execution_count": 14,
   "metadata": {},
   "outputs": [
    {
     "data": {
      "image/png": "[encoded data removed]",
      "text/plain": [
       "<matplotlib.figure.Figure at 0x1b6856abf98>"
      ]
     },
     "metadata": {
      "needs_background": "light"
     },
     "output_type": "display_data"
    }
   ],
   "source": [
    "plt.hist(x)\n",
    "plt.show()"
   ]
  },
  {
   "cell_type": "markdown",
   "metadata": {},
   "source": [
    "Similarly to the previous functions discussed, the random_sample function can also output more than one set of data:"
   ]
  },
  {
   "cell_type": "code",
   "execution_count": 15,
   "metadata": {
    "scrolled": true
   },
   "outputs": [
    {
     "data": {
      "text/plain": [
       "array([[[  4.76779346e-01,   5.75892113e-01,   1.07228244e-01,\n",
       "           9.10643507e-01,   4.54084629e-01],\n",
       "        [  9.28802723e-01,   9.70562177e-01,   9.17992440e-01,\n",
       "           3.84679729e-01,   6.91563327e-01],\n",
       "        [  4.06095097e-02,   8.07174979e-01,   3.26465995e-01,\n",
       "           4.90695731e-01,   8.03025800e-01],\n",
       "        [  2.22643152e-01,   2.53714899e-01,   2.31968084e-01,\n",
       "           2.15304056e-01,   8.41026176e-01]],\n",
       "\n",
       "       [[  1.14151175e-01,   8.08674268e-01,   6.82999274e-01,\n",
       "           9.71451486e-01,   3.30167090e-01],\n",
       "        [  6.45037009e-01,   8.21505100e-01,   6.12919642e-01,\n",
       "           6.58239348e-01,   2.70202983e-01],\n",
       "        [  7.59041811e-01,   7.23750051e-01,   7.49794402e-01,\n",
       "           9.00356825e-01,   3.99137969e-01],\n",
       "        [  5.86128663e-01,   7.80312227e-01,   5.47376775e-01,\n",
       "           7.93594068e-01,   7.59199629e-01]],\n",
       "\n",
       "       [[  8.20690919e-01,   5.37360120e-01,   5.76592954e-01,\n",
       "           7.85361760e-01,   8.35518461e-01],\n",
       "        [  2.33875152e-01,   6.57776612e-01,   2.65759164e-01,\n",
       "           1.82208592e-01,   1.13471486e-01],\n",
       "        [  7.38343239e-01,   3.03314755e-01,   6.06030282e-01,\n",
       "           9.71151973e-01,   9.68766751e-01],\n",
       "        [  6.83136535e-01,   5.31416415e-01,   2.02383406e-01,\n",
       "           2.90418513e-01,   4.71629283e-01]],\n",
       "\n",
       "       [[  2.40516252e-01,   4.72864523e-01,   5.22495686e-01,\n",
       "           3.01870450e-01,   8.86739478e-01],\n",
       "        [  4.59454526e-01,   3.05616568e-01,   3.18400689e-01,\n",
       "           6.24351717e-01,   6.81847206e-01],\n",
       "        [  2.51812904e-01,   2.71393356e-01,   8.94797571e-01,\n",
       "           6.09237333e-01,   8.46243987e-01],\n",
       "        [  4.73656450e-02,   7.03959299e-01,   1.72469121e-02,\n",
       "           5.41584781e-01,   5.32022337e-01]],\n",
       "\n",
       "       [[  4.10477758e-01,   3.76921644e-01,   2.05869914e-01,\n",
       "           6.01574014e-01,   5.42130053e-01],\n",
       "        [  9.59146381e-01,   8.91051492e-01,   2.05967362e-01,\n",
       "           7.57261753e-02,   6.03375020e-01],\n",
       "        [  1.67282827e-02,   8.19483015e-02,   3.74255023e-01,\n",
       "           7.17588453e-01,   1.97432285e-02],\n",
       "        [  2.50311662e-01,   5.80495976e-01,   1.56068751e-01,\n",
       "           1.69658507e-02,   4.94389388e-01]],\n",
       "\n",
       "       [[  9.89789379e-01,   5.32101078e-01,   8.12890991e-01,\n",
       "           7.37700559e-01,   1.14098468e-01],\n",
       "        [  2.81717163e-01,   6.68354371e-01,   8.79480557e-01,\n",
       "           3.29112574e-01,   8.19754850e-01],\n",
       "        [  7.05679543e-01,   6.17483976e-01,   9.61779656e-01,\n",
       "           5.68086897e-01,   8.24176407e-01],\n",
       "        [  7.41445552e-01,   9.75886491e-01,   8.35711829e-01,\n",
       "           1.92255446e-01,   8.47807450e-02]],\n",
       "\n",
       "       [[  4.85798877e-01,   3.77158605e-02,   5.39270110e-01,\n",
       "           1.15036738e-01,   6.10789693e-01],\n",
       "        [  7.49286165e-01,   1.52456364e-01,   9.37952888e-01,\n",
       "           3.55645265e-01,   8.43298376e-01],\n",
       "        [  1.33395487e-01,   5.14597048e-01,   1.46197181e-01,\n",
       "           1.99796666e-01,   3.57864897e-01],\n",
       "        [  8.39269516e-01,   9.17295402e-01,   9.48118328e-02,\n",
       "           8.33945581e-01,   7.63696950e-01]],\n",
       "\n",
       "       [[  4.07381468e-01,   4.97304554e-02,   3.45922304e-01,\n",
       "           4.64075371e-01,   9.30620122e-01],\n",
       "        [  7.63794784e-01,   4.34793277e-01,   9.75901388e-01,\n",
       "           7.88495174e-01,   2.83315806e-01],\n",
       "        [  4.61318347e-01,   5.34662065e-01,   4.67026571e-01,\n",
       "           8.29586435e-01,   9.87278071e-01],\n",
       "        [  6.15458148e-01,   8.40163593e-01,   4.44162954e-01,\n",
       "           4.78453894e-01,   7.85035227e-01]],\n",
       "\n",
       "       [[  4.73840057e-01,   5.86895347e-01,   8.07557965e-01,\n",
       "           5.69984726e-01,   8.80124714e-01],\n",
       "        [  4.69826632e-02,   1.28598877e-01,   1.91232704e-01,\n",
       "           3.34858235e-02,   7.72900705e-01],\n",
       "        [  1.26629703e-01,   6.19187874e-01,   3.99187115e-01,\n",
       "           7.73267441e-01,   1.67612093e-02],\n",
       "        [  3.22041526e-01,   5.16760574e-01,   2.36045112e-04,\n",
       "           1.21790450e-01,   9.35726288e-02]],\n",
       "\n",
       "       [[  2.15599745e-01,   3.52123427e-01,   8.37127666e-01,\n",
       "           4.04468761e-01,   9.12738537e-01],\n",
       "        [  6.24513607e-01,   4.25333965e-01,   4.07016182e-02,\n",
       "           6.65791796e-01,   2.21796886e-01],\n",
       "        [  4.63363930e-01,   9.17359529e-01,   8.69717417e-01,\n",
       "           3.19039946e-01,   7.72076924e-01],\n",
       "        [  5.57020919e-01,   6.59514080e-01,   6.53838719e-02,\n",
       "           6.76705579e-01,   5.75932994e-01]],\n",
       "\n",
       "       [[  9.07387519e-01,   9.01024656e-01,   4.93318611e-01,\n",
       "           3.45553700e-01,   4.70681392e-01],\n",
       "        [  8.00063542e-01,   4.76252891e-01,   4.03776206e-01,\n",
       "           2.86358289e-03,   6.73777763e-01],\n",
       "        [  9.70928333e-01,   4.80128855e-02,   9.84935991e-01,\n",
       "           9.88830165e-02,   4.72261871e-01],\n",
       "        [  2.91306472e-01,   1.39968626e-01,   8.13916568e-01,\n",
       "           2.95359494e-01,   3.43022844e-01]],\n",
       "\n",
       "       [[  3.98127400e-01,   5.96704009e-01,   9.58674752e-01,\n",
       "           6.46972786e-01,   6.68856311e-01],\n",
       "        [  4.23043157e-01,   6.98871077e-01,   2.22714426e-01,\n",
       "           2.59695668e-01,   8.10568214e-01],\n",
       "        [  1.71397469e-01,   6.47648376e-01,   6.87406853e-01,\n",
       "           3.83008506e-02,   9.83494317e-01],\n",
       "        [  3.57343255e-01,   8.63288605e-01,   2.66381858e-01,\n",
       "           1.37280566e-01,   9.36819017e-01]],\n",
       "\n",
       "       [[  5.36891818e-01,   9.26765955e-01,   1.50631770e-01,\n",
       "           1.89410899e-01,   9.07698229e-01],\n",
       "        [  9.20422169e-01,   9.41744879e-01,   8.13637091e-01,\n",
       "           9.35640716e-01,   7.73415832e-02],\n",
       "        [  4.17443618e-01,   6.29409840e-01,   5.02695215e-01,\n",
       "           1.77802638e-01,   7.55838875e-02],\n",
       "        [  5.33563378e-01,   7.95188214e-01,   8.24598437e-01,\n",
       "           6.86070688e-01,   7.83181212e-01]],\n",
       "\n",
       "       [[  1.79613370e-01,   4.31437621e-01,   2.15952750e-01,\n",
       "           1.77492060e-01,   5.04882409e-01],\n",
       "        [  5.39746552e-01,   7.73033078e-01,   6.57450948e-01,\n",
       "           7.10906359e-02,   8.19287842e-01],\n",
       "        [  8.47121468e-01,   7.00109216e-01,   9.58825907e-01,\n",
       "           9.78706107e-01,   4.00742450e-01],\n",
       "        [  1.69426818e-01,   2.69459226e-01,   6.01795229e-01,\n",
       "           3.01039714e-01,   8.15961622e-01]],\n",
       "\n",
       "       [[  7.91927574e-01,   5.67736336e-01,   8.91082203e-01,\n",
       "           2.20134252e-01,   8.88107079e-01],\n",
       "        [  1.73519414e-01,   6.70918064e-01,   5.35316609e-01,\n",
       "           2.53062066e-02,   2.66556083e-01],\n",
       "        [  3.37877482e-02,   6.10105016e-01,   6.37771462e-01,\n",
       "           5.42621896e-01,   2.68153650e-01],\n",
       "        [  7.72955932e-01,   2.03392790e-01,   7.60428991e-01,\n",
       "           2.15556560e-01,   4.90947445e-01]],\n",
       "\n",
       "       [[  5.50133654e-01,   3.86582852e-01,   4.51810250e-01,\n",
       "           4.85659454e-01,   4.66005571e-01],\n",
       "        [  1.19568119e-01,   9.97978300e-01,   6.93063262e-01,\n",
       "           3.02374136e-01,   4.80873357e-02],\n",
       "        [  8.35117379e-01,   9.34328435e-01,   1.92531417e-01,\n",
       "           2.39597574e-01,   8.66573327e-01],\n",
       "        [  9.63079193e-01,   3.89783644e-01,   2.67814140e-01,\n",
       "           4.16472217e-01,   6.44819172e-01]],\n",
       "\n",
       "       [[  8.48079106e-01,   6.57703228e-01,   5.40878362e-01,\n",
       "           4.77535691e-01,   5.99695455e-01],\n",
       "        [  4.10118441e-01,   5.18594426e-01,   8.79794517e-01,\n",
       "           8.23415113e-01,   7.34981659e-01],\n",
       "        [  9.64048326e-01,   1.69456359e-01,   2.77785318e-01,\n",
       "           1.97078592e-03,   4.40171460e-01],\n",
       "        [  3.04914751e-02,   7.25190664e-01,   7.14570700e-02,\n",
       "           7.89955242e-01,   9.38289549e-01]],\n",
       "\n",
       "       [[  1.37106408e-01,   3.66351503e-02,   1.32560735e-01,\n",
       "           2.05090359e-01,   5.41070070e-01],\n",
       "        [  9.38285372e-01,   7.47037639e-01,   9.65617069e-01,\n",
       "           7.72097082e-01,   6.53425883e-01],\n",
       "        [  3.77691464e-01,   6.28989187e-01,   8.42996060e-01,\n",
       "           7.47733254e-01,   9.98533572e-01],\n",
       "        [  6.91153884e-01,   8.64985211e-01,   1.46584886e-01,\n",
       "           2.00768399e-01,   7.46628547e-01]],\n",
       "\n",
       "       [[  2.79595154e-01,   8.49974698e-01,   5.46748606e-01,\n",
       "           2.53110852e-01,   1.33295700e-01],\n",
       "        [  3.40124517e-01,   2.75037211e-01,   8.14058885e-01,\n",
       "           1.54634679e-01,   2.26516835e-01],\n",
       "        [  7.89839887e-01,   9.25119666e-01,   7.53093550e-01,\n",
       "           3.54915588e-01,   8.15786532e-01],\n",
       "        [  2.11287536e-01,   4.96595701e-01,   4.14600308e-01,\n",
       "           3.69514357e-01,   2.81801074e-01]],\n",
       "\n",
       "       [[  1.98280437e-01,   4.95628978e-01,   3.01933259e-01,\n",
       "           6.86094328e-01,   2.37385868e-01],\n",
       "        [  1.91939639e-01,   6.32288805e-01,   1.27349252e-01,\n",
       "           4.76734140e-01,   9.30460046e-01],\n",
       "        [  4.52290427e-02,   2.45148049e-01,   5.77195226e-01,\n",
       "           3.76305408e-01,   3.57533804e-01],\n",
       "        [  8.92660497e-01,   6.66735872e-02,   6.88840157e-01,\n",
       "           3.28711149e-01,   5.34208555e-01]]])"
      ]
     },
     "execution_count": 15,
     "metadata": {},
     "output_type": "execute_result"
    }
   ],
   "source": [
    "# 20 4x5 arrays of random numbers \n",
    "x = np.random.random_sample((20, 4, 5))\n",
    "x"
   ]
  },
  {
   "cell_type": "code",
   "execution_count": 16,
   "metadata": {},
   "outputs": [
    {
     "data": {
      "text/plain": [
       "array([[ 0.292111  ,  0.65116791,  0.41736743,  0.85533864],\n",
       "       [ 0.99736624,  0.67810504,  0.92096972,  0.04046591],\n",
       "       [ 0.47939625,  0.16483622,  0.8833561 ,  0.94097446],\n",
       "       [ 0.15030008,  0.8528871 ,  0.04682614,  0.28789229],\n",
       "       [ 0.86216862,  0.02348739,  0.39531096,  0.20243809],\n",
       "       [ 0.33633466,  0.92449278,  0.7562192 ,  0.39958693],\n",
       "       [ 0.95264307,  0.96538359,  0.08470494,  0.70337565],\n",
       "       [ 0.55540009,  0.89969068,  0.0172661 ,  0.01448404],\n",
       "       [ 0.8637577 ,  0.33800095,  0.47599004,  0.90776304],\n",
       "       [ 0.94738475,  0.03458799,  0.80821114,  0.23906467],\n",
       "       [ 0.96504408,  0.44536627,  0.46086828,  0.94161104],\n",
       "       [ 0.76737495,  0.82851392,  0.66939615,  0.54313972],\n",
       "       [ 0.05121055,  0.02351746,  0.21250416,  0.86227424],\n",
       "       [ 0.12855269,  0.2260264 ,  0.18053004,  0.84665289],\n",
       "       [ 0.45525664,  0.00853465,  0.11210757,  0.35061489],\n",
       "       [ 0.14417354,  0.21931518,  0.85213801,  0.8007877 ],\n",
       "       [ 0.81339687,  0.17986196,  0.570701  ,  0.46129622],\n",
       "       [ 0.22350418,  0.82129867,  0.12969735,  0.6277679 ],\n",
       "       [ 0.86689759,  0.69003781,  0.84666728,  0.70016153],\n",
       "       [ 0.53530019,  0.61197974,  0.86780798,  0.39815536]])"
      ]
     },
     "execution_count": 16,
     "metadata": {},
     "output_type": "execute_result"
    }
   ],
   "source": [
    "# To represent data using a histogram\n",
    "x = np.random.random_sample((20, 4))\n",
    "x"
   ]
  },
  {
   "cell_type": "code",
   "execution_count": 17,
   "metadata": {},
   "outputs": [
    {
     "data": {
      "image/png": "[encoded data removed]",
      "text/plain": [
       "<matplotlib.figure.Figure at 0x1b68575ef28>"
      ]
     },
     "metadata": {
      "needs_background": "light"
     },
     "output_type": "display_data"
    }
   ],
   "source": [
    "plt.hist(x)\n",
    "plt.show()"
   ]
  },
  {
   "cell_type": "markdown",
   "metadata": {},
   "source": [
    "To use the random_sample function across a larger range of numbers (rather than between 0.0 and 1.0), the following code can be used: \n",
    "\n",
    "   *(b - a) * random_sample() + a*\n"
   ]
  },
  {
   "cell_type": "code",
   "execution_count": 18,
   "metadata": {},
   "outputs": [
    {
     "data": {
      "text/plain": [
       "array([ 1.88980208,  0.42621635,  1.66112446,  5.86171271,  0.70856061,\n",
       "        0.35709466,  0.14410009,  4.15933253,  2.99500005,  0.15442037])"
      ]
     },
     "execution_count": 18,
     "metadata": {},
     "output_type": "execute_result"
    }
   ],
   "source": [
    "#To obtain an array of random numbers (uniformly distributed) between 0 and 6\n",
    "x = -6 * np.random.random_sample(10) +6\n",
    "x"
   ]
  },
  {
   "cell_type": "markdown",
   "metadata": {},
   "source": [
    "### numpy.random.random(), numpy.random.ranf() and numpy.random.sample() functions\n",
    "\n",
    "The random, ranf and sample functions are the same as the random_sample function and they return the same output as described above [8]. "
   ]
  },
  {
   "cell_type": "code",
   "execution_count": 19,
   "metadata": {
    "scrolled": true
   },
   "outputs": [
    {
     "data": {
      "text/plain": [
       "array([ 0.07001547,  0.38995552,  0.89251522, ...,  0.04833397,\n",
       "        0.56645645,  0.34681881])"
      ]
     },
     "execution_count": 19,
     "metadata": {},
     "output_type": "execute_result"
    }
   ],
   "source": [
    "x = np.random.random(10000)\n",
    "x"
   ]
  },
  {
   "cell_type": "code",
   "execution_count": 20,
   "metadata": {},
   "outputs": [
    {
     "data": {
      "image/png": "[encoded data removed]",
      "text/plain": [
       "<matplotlib.figure.Figure at 0x1b6850b0c50>"
      ]
     },
     "metadata": {
      "needs_background": "light"
     },
     "output_type": "display_data"
    }
   ],
   "source": [
    "plt.hist(x)\n",
    "plt.show()"
   ]
  },
  {
   "cell_type": "code",
   "execution_count": 21,
   "metadata": {},
   "outputs": [
    {
     "data": {
      "text/plain": [
       "array([ 0.55349235,  0.62922426,  0.8111153 , ...,  0.42842407,\n",
       "        0.76666407,  0.83282393])"
      ]
     },
     "execution_count": 21,
     "metadata": {},
     "output_type": "execute_result"
    }
   ],
   "source": [
    "x = np.random.ranf(10000)\n",
    "x"
   ]
  },
  {
   "cell_type": "code",
   "execution_count": 22,
   "metadata": {},
   "outputs": [
    {
     "data": {
      "image/png": "[encoded data removed]",
      "text/plain": [
       "<matplotlib.figure.Figure at 0x1b6858d2278>"
      ]
     },
     "metadata": {
      "needs_background": "light"
     },
     "output_type": "display_data"
    }
   ],
   "source": [
    "plt.hist(x)\n",
    "plt.show()"
   ]
  },
  {
   "cell_type": "code",
   "execution_count": 23,
   "metadata": {},
   "outputs": [
    {
     "data": {
      "text/plain": [
       "array([ 0.4140188 ,  0.31828094,  0.68423295, ...,  0.11468399,\n",
       "        0.68452296,  0.06565389])"
      ]
     },
     "execution_count": 23,
     "metadata": {},
     "output_type": "execute_result"
    }
   ],
   "source": [
    "x = np.random.sample(10000)\n",
    "x"
   ]
  },
  {
   "cell_type": "code",
   "execution_count": 24,
   "metadata": {},
   "outputs": [
    {
     "data": {
      "image/png": "[encoded data removed]",
      "text/plain": [
       "<matplotlib.figure.Figure at 0x1b6858d28d0>"
      ]
     },
     "metadata": {
      "needs_background": "light"
     },
     "output_type": "display_data"
    }
   ],
   "source": [
    "plt.hist(x)\n",
    "plt.show()"
   ]
  },
  {
   "cell_type": "markdown",
   "metadata": {},
   "source": [
    "### numpy.random.choice()\n",
    "\n",
    "The choice function provides one positive integer when a single argument is passed. "
   ]
  },
  {
   "cell_type": "code",
   "execution_count": 25,
   "metadata": {},
   "outputs": [
    {
     "data": {
      "text/plain": [
       "9"
      ]
     },
     "execution_count": 25,
     "metadata": {},
     "output_type": "execute_result"
    }
   ],
   "source": [
    "x = np.random.choice(10)\n",
    "x"
   ]
  },
  {
   "cell_type": "markdown",
   "metadata": {},
   "source": [
    "If a second argument is passed, the choice function creates a list of a specified length."
   ]
  },
  {
   "cell_type": "code",
   "execution_count": 26,
   "metadata": {},
   "outputs": [
    {
     "data": {
      "text/plain": [
       "array([7, 1, 5, 9, 4])"
      ]
     },
     "execution_count": 26,
     "metadata": {},
     "output_type": "execute_result"
    }
   ],
   "source": [
    "x = np.random.choice(10, 5)\n",
    "x"
   ]
  },
  {
   "cell_type": "markdown",
   "metadata": {},
   "source": [
    "### numpy.random.bytes()"
   ]
  },
  {
   "cell_type": "code",
   "execution_count": 27,
   "metadata": {},
   "outputs": [
    {
     "data": {
      "text/plain": [
       "b'\\xbf\\xf8\\x93K\\xbc\\xc3\\x9a\\xb4\\xa2`'"
      ]
     },
     "execution_count": 27,
     "metadata": {},
     "output_type": "execute_result"
    }
   ],
   "source": [
    "x = np.random.bytes(10)\n",
    "x"
   ]
  },
  {
   "cell_type": "code",
   "execution_count": null,
   "metadata": {},
   "outputs": [],
   "source": []
  },
  {
   "cell_type": "markdown",
   "metadata": {},
   "source": [
    "## Permutations functions in numpy.random\n",
    "\n",
    "There are 2 functions within the numpy.random \"permutations\" family of functions: \n",
    "\n",
    "- shuffle()\n",
    "- permutation()\n",
    "\n",
    "These are discussed below."
   ]
  },
  {
   "cell_type": "markdown",
   "metadata": {},
   "source": [
    "### numpy.random.shuffle()"
   ]
  },
  {
   "cell_type": "markdown",
   "metadata": {},
   "source": [
    "The numpy.random.shuffle function shuffles a sequence of set integers. It changes the sequence or order of integers while the integers remain the same. Shuffle permanently changes the array in place therefore the output remains changed. "
   ]
  },
  {
   "cell_type": "code",
   "execution_count": 45,
   "metadata": {},
   "outputs": [
    {
     "data": {
      "text/plain": [
       "(None, array([6, 9, 1, 4, 2, 0, 8, 7, 3, 5]))"
      ]
     },
     "execution_count": 45,
     "metadata": {},
     "output_type": "execute_result"
    }
   ],
   "source": [
    "# I have created an ordered array of numbers 0-9. \n",
    "\n",
    "arr = np.arange(10)\n",
    "\n",
    "# The shuffle function will change the sequence of these numbers and this will become the new sequence of numbers \n",
    "# for further code\n",
    "\n",
    "shuffled = np.random.shuffle(arr)\n",
    "shuffled, arr"
   ]
  },
  {
   "cell_type": "markdown",
   "metadata": {},
   "source": [
    "### numpy.random.permutation()"
   ]
  },
  {
   "cell_type": "markdown",
   "metadata": {},
   "source": [
    "The numpy.random.permutation function works similarly to the shuffle function but returns a new array, leaving the original array untouched, as demonstrated below."
   ]
  },
  {
   "cell_type": "code",
   "execution_count": 46,
   "metadata": {},
   "outputs": [
    {
     "data": {
      "text/plain": [
       "(array([0, 2, 4, 3, 6, 8, 7, 1, 9, 5]), array([0, 1, 2, 3, 4, 5, 6, 7, 8, 9]))"
      ]
     },
     "execution_count": 46,
     "metadata": {},
     "output_type": "execute_result"
    }
   ],
   "source": [
    "arr = np.arange(10)\n",
    "shuffled = np.random.permutation(arr)\n",
    "shuffled, arr"
   ]
  },
  {
   "cell_type": "code",
   "execution_count": null,
   "metadata": {},
   "outputs": [],
   "source": []
  },
  {
   "cell_type": "markdown",
   "metadata": {
    "collapsed": true
   },
   "source": [
    "## Distributions functions in numpy.random\n",
    "\n",
    "There are 35 functions within the numpy.random \"distributions\" family of functions. Six of these functions are described below, including:\n",
    "\n",
    "- uniform()\n",
    "- normal()\n",
    "-\n",
    "-\n",
    "-\n",
    "-"
   ]
  },
  {
   "cell_type": "markdown",
   "metadata": {},
   "source": [
    "### numpy.random.uniform()"
   ]
  },
  {
   "cell_type": "code",
   "execution_count": null,
   "metadata": {},
   "outputs": [],
   "source": []
  },
  {
   "cell_type": "code",
   "execution_count": 48,
   "metadata": {},
   "outputs": [
    {
     "data": {
      "text/plain": [
       "array([ 2.70575514,  3.48756051,  1.09828459,  5.13324489,  9.10011867,\n",
       "        5.81127834,  5.23084548,  2.5251496 ,  3.05124624,  3.9975964 ,\n",
       "        8.56015635,  5.98125063,  2.95220072,  5.82669276,  3.2967151 ,\n",
       "        7.86752143,  3.16022971,  6.2991269 ,  3.64674961,  9.68900687,\n",
       "        0.31800447,  6.73887799,  2.76259741,  3.54899618,  5.15079134,\n",
       "        1.03321784,  6.05046363,  8.73481382,  9.72250161,  3.76262052,\n",
       "        6.18486341,  8.69908234,  3.02154748,  6.54385125,  2.86590051,\n",
       "        6.35428212,  7.77927747,  6.36864221,  3.74673371,  6.4536296 ,\n",
       "        2.42643879,  6.66482437,  9.67200778,  5.93574255,  6.06007802,\n",
       "        6.88228269,  8.41228309,  2.51971657,  7.58889298,  9.54753122,\n",
       "        7.55111773,  8.41149906,  5.58095874,  6.97063773,  6.29923963,\n",
       "        7.29757857,  8.844838  ,  0.43939251,  8.09146632,  0.42517485,\n",
       "        2.66587653,  4.67533116,  5.88786779,  3.70167889,  6.97748529,\n",
       "        4.79088218,  7.83413074,  0.132281  ,  3.6914259 ,  1.85150283,\n",
       "        2.59740278,  7.45561481,  5.69918138,  6.19282387,  8.25807949,\n",
       "        3.47424736,  1.87943574,  5.05793513,  9.33220496,  1.21354343,\n",
       "        9.65909118,  2.3680472 ,  9.62557508,  3.4624708 ,  6.61376142,\n",
       "        5.53800198,  2.27822164,  4.42723294,  5.85378842,  6.40617325,\n",
       "        8.26663924,  8.42610065,  6.05357111,  2.44637354,  4.56501084,\n",
       "        4.00883668,  2.83481566,  7.41725685,  5.60082056,  1.52814593])"
      ]
     },
     "execution_count": 48,
     "metadata": {},
     "output_type": "execute_result"
    }
   ],
   "source": [
    "xx = np.random.uniform(0, 10,100)\n"
   ]
  },
  {
   "cell_type": "code",
   "execution_count": 49,
   "metadata": {},
   "outputs": [
    {
     "data": {
      "image/png": "[encoded data removed]",
      "text/plain": [
       "<matplotlib.figure.Figure at 0x1b6859e8eb8>"
      ]
     },
     "metadata": {
      "needs_background": "light"
     },
     "output_type": "display_data"
    }
   ],
   "source": [
    "plt.hist(x)\n",
    "plt.show()"
   ]
  },
  {
   "cell_type": "markdown",
   "metadata": {},
   "source": [
    "### numpy.random.normal()"
   ]
  },
  {
   "cell_type": "code",
   "execution_count": null,
   "metadata": {},
   "outputs": [],
   "source": []
  },
  {
   "cell_type": "code",
   "execution_count": 52,
   "metadata": {},
   "outputs": [
    {
     "data": {
      "text/plain": [
       "array([ 27.1686257 , -13.57044577, -16.5029302 , ...,  22.84839305,\n",
       "        88.03869253,   4.77950001])"
      ]
     },
     "execution_count": 52,
     "metadata": {},
     "output_type": "execute_result"
    }
   ],
   "source": [
    "x = np.random.normal(10, 100, 10000)\n",
    "x"
   ]
  },
  {
   "cell_type": "code",
   "execution_count": 33,
   "metadata": {},
   "outputs": [
    {
     "data": {
      "image/png": "[encoded data removed]",
      "text/plain": [
       "<matplotlib.figure.Figure at 0x1b6859e6dd8>"
      ]
     },
     "metadata": {
      "needs_background": "light"
     },
     "output_type": "display_data"
    }
   ],
   "source": [
    "plt.hist(x)\n",
    "plt.show()"
   ]
  },
  {
   "cell_type": "code",
   "execution_count": null,
   "metadata": {},
   "outputs": [],
   "source": []
  },
  {
   "cell_type": "code",
   "execution_count": 55,
   "metadata": {},
   "outputs": [
    {
     "data": {
      "text/plain": [
       "array([ 96,  97,  95, ..., 104, 102,  96])"
      ]
     },
     "execution_count": 55,
     "metadata": {},
     "output_type": "execute_result"
    }
   ],
   "source": [
    "x = np.random.poisson(100, 50000)\n",
    "x"
   ]
  },
  {
   "cell_type": "code",
   "execution_count": 56,
   "metadata": {},
   "outputs": [
    {
     "data": {
      "image/png": "[encoded data removed]",
      "text/plain": [
       "<matplotlib.figure.Figure at 0x1b68595b828>"
      ]
     },
     "metadata": {
      "needs_background": "light"
     },
     "output_type": "display_data"
    }
   ],
   "source": [
    "plt.hist(x)\n",
    "plt.show()"
   ]
  },
  {
   "cell_type": "code",
   "execution_count": null,
   "metadata": {},
   "outputs": [],
   "source": []
  },
  {
   "cell_type": "code",
   "execution_count": 63,
   "metadata": {},
   "outputs": [
    {
     "data": {
      "text/plain": [
       "array([  616.3279125 ,   171.2741165 ,   944.49673499,  1752.68725875,\n",
       "         408.55517489,  1312.96018808,  1445.12624572,  1145.80179398,\n",
       "        1332.97399687,  1835.61300719,   818.23615497,   905.90199615,\n",
       "         784.45824211,  1032.67370106,  2865.73150075,  2201.26663317,\n",
       "        1174.95135416,  1791.06963003,   285.74893947,   667.3398569 ])"
      ]
     },
     "execution_count": 63,
     "metadata": {},
     "output_type": "execute_result"
    }
   ],
   "source": [
    "x = np.random.rayleigh(1000, 20)\n",
    "x"
   ]
  },
  {
   "cell_type": "code",
   "execution_count": 61,
   "metadata": {},
   "outputs": [
    {
     "data": {
      "image/png": "[encoded data removed]",
      "text/plain": [
       "<matplotlib.figure.Figure at 0x1b68575e470>"
      ]
     },
     "metadata": {
      "needs_background": "light"
     },
     "output_type": "display_data"
    }
   ],
   "source": [
    "plt.hist(x)\n",
    "plt.show()"
   ]
  },
  {
   "cell_type": "code",
   "execution_count": null,
   "metadata": {},
   "outputs": [],
   "source": []
  },
  {
   "cell_type": "code",
   "execution_count": 68,
   "metadata": {},
   "outputs": [
    {
     "ename": "ValueError",
     "evalue": "left > mode",
     "output_type": "error",
     "traceback": [
      "\u001b[1;31m---------------------------------------------------------------------------\u001b[0m",
      "\u001b[1;31mValueError\u001b[0m                                Traceback (most recent call last)",
      "\u001b[1;32m<ipython-input-68-35f213a2680b>\u001b[0m in \u001b[0;36m<module>\u001b[1;34m\u001b[0m\n\u001b[1;32m----> 1\u001b[1;33m \u001b[0mx\u001b[0m \u001b[1;33m=\u001b[0m \u001b[0mnp\u001b[0m\u001b[1;33m.\u001b[0m\u001b[0mrandom\u001b[0m\u001b[1;33m.\u001b[0m\u001b[0mtriangular\u001b[0m\u001b[1;33m(\u001b[0m\u001b[1;36m8\u001b[0m\u001b[1;33m,\u001b[0m \u001b[1;36m0\u001b[0m\u001b[1;33m,\u001b[0m \u001b[1;36m100\u001b[0m\u001b[1;33m,\u001b[0m  \u001b[1;36m1000\u001b[0m\u001b[1;33m)\u001b[0m\u001b[1;33m\u001b[0m\u001b[1;33m\u001b[0m\u001b[0m\n\u001b[0m\u001b[0;32m      2\u001b[0m \u001b[0mx\u001b[0m\u001b[1;33m\u001b[0m\u001b[1;33m\u001b[0m\u001b[0m\n",
      "\u001b[1;32mmtrand.pyx\u001b[0m in \u001b[0;36mmtrand.RandomState.triangular\u001b[1;34m()\u001b[0m\n",
      "\u001b[1;31mValueError\u001b[0m: left > mode"
     ]
    }
   ],
   "source": [
    "x = np.random.triangular(8, 0, 100,  1000)"
   ]
  },
  {
   "cell_type": "code",
   "execution_count": null,
   "metadata": {},
   "outputs": [],
   "source": []
  },
  {
   "cell_type": "code",
   "execution_count": null,
   "metadata": {},
   "outputs": [],
   "source": []
  },
  {
   "cell_type": "code",
   "execution_count": null,
   "metadata": {},
   "outputs": [],
   "source": []
  },
  {
   "cell_type": "code",
   "execution_count": null,
   "metadata": {},
   "outputs": [],
   "source": []
  },
  {
   "cell_type": "code",
   "execution_count": null,
   "metadata": {},
   "outputs": [],
   "source": []
  },
  {
   "cell_type": "code",
   "execution_count": null,
   "metadata": {},
   "outputs": [],
   "source": []
  },
  {
   "cell_type": "code",
   "execution_count": null,
   "metadata": {},
   "outputs": [],
   "source": []
  },
  {
   "cell_type": "markdown",
   "metadata": {},
   "source": [
    "### Explain the use of seeds in generating pseudorandom numbers"
   ]
  },
  {
   "cell_type": "code",
   "execution_count": null,
   "metadata": {},
   "outputs": [],
   "source": []
  },
  {
   "cell_type": "code",
   "execution_count": null,
   "metadata": {},
   "outputs": [],
   "source": []
  },
  {
   "cell_type": "code",
   "execution_count": null,
   "metadata": {},
   "outputs": [],
   "source": []
  },
  {
   "cell_type": "markdown",
   "metadata": {},
   "source": [
    "## References "
   ]
  },
  {
   "cell_type": "markdown",
   "metadata": {},
   "source": [
    "[1] www.numpy.org/ date: 03/11/2018 \n",
    "\n",
    "[2] https://www.datacamp.com/community/tutorials/python-numpy-tutorial date: 03/11/2018 \n",
    "\n",
    "[3] https://docs.scipy.org/doc/numpy/user/basics.creation.html date: 03/11/2018 \n",
    "\n",
    "[4] https://www.investopedia.com/terms/u/uniform-distribution.asp date: 04/11/2018\n",
    "\n",
    "[5] https://www.statisticshowto.datasciencecentral.com/probability-and-statistics/normal-distributions/ date: 04/11/2018\n",
    "\n",
    "[6] https://www.chegg.com/homework-help/definitions/discrete-uniform-31 date: 04/11/2018 \n",
    "\n",
    "[7] https://socratic.org/questions/what-is-the-difference-between-a-discrete-uniform-distribution-and-a-continuous- dated: 04/11/2018\n",
    "\n",
    "[8] https://stackoverflow.com/questions/18829185/difference-between-various-numpy-random-functions dated: 04/11/2018"
   ]
  },
  {
   "cell_type": "markdown",
   "metadata": {},
   "source": [
    "## Bibliography and Acknowledgements "
   ]
  },
  {
   "cell_type": "markdown",
   "metadata": {},
   "source": [
    "- https://docs.scipy.org/doc/numpy-1.15.1/user/whatisnumpy.html date: 20/10/2018\n",
    "- https://docs.scipy.org/doc/numpy-1.15.1/reference/routines.random.html date:27/10/2018\n",
    "- http://nbviewer.jupyter.org/gist/rossant/4645217 date: 03/11/2018\n",
    "- https://en.wikipedia.org/wiki/NumPy date: 03/11/2018\n",
    "- https://www.packtpub.com/mapt/book/big_data_and_business_intelligence/9781785285110/2/ch02lvl1sec16/numpy-random-numbers date: 03/11/2018\n",
    "- https://www.datacamp.com/community/tutorials/python-numpy-tutorial date: 03/11/2018 \n",
    "- http://mathworld.wolfram.com/DiscreteUniformDistribution.html date: 04/11/2018 \n",
    "- https://machinelearningmastery.com/how-to-generate-random-numbers-in-python/ - good for seeds and pseudo random number info 04/11/2018"
   ]
  },
  {
   "cell_type": "code",
   "execution_count": null,
   "metadata": {},
   "outputs": [],
   "source": []
  }
 ],
 "metadata": {
  "kernelspec": {
   "display_name": "Python 3",
   "language": "python",
   "name": "python3"
  },
  "language_info": {
   "codemirror_mode": {
    "name": "ipython",
    "version": 3
   },
   "file_extension": ".py",
   "mimetype": "text/x-python",
   "name": "python",
   "nbconvert_exporter": "python",
   "pygments_lexer": "ipython3",
   "version": "3.6.7"
  }
 },
 "nbformat": 4,
 "nbformat_minor": 2
}
