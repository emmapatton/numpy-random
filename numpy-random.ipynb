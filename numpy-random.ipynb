{
 "cells": [
  {
   "attachments": {
    "numpy-logo-small.png": {
     "image/png": "[encoded data removed]"
    }
   },
   "cell_type": "markdown",
   "metadata": {},
   "source": [
    "![numpy-logo-small.png](attachment:numpy-logo-small.png)"
   ]
  },
  {
   "cell_type": "markdown",
   "metadata": {},
   "source": [
    "# An Overview of NumPy's Random Package\n",
    "---"
   ]
  },
  {
   "cell_type": "markdown",
   "metadata": {},
   "source": [
    "## Purpose of the numpy.random Package\n",
    "\n",
    "NumPy is a Python library used for scientific and mathematical computing in the Python programming language [1]. It contains a number of tools that can be used to solve mathematical models of problems using a computer [2]. \n",
    "\n",
    "Numpy.random is a collection of special library functions within NumPy to generate random numbers. These functions can also be used to organise random numbers into arrays of different shapes and sizes [3]. \n",
    " \n",
    "Functions within the numpy.random library are organised into four main categories: \n",
    "\n",
    "- Simple random data\n",
    "- Permutations\n",
    "- Distributions\n",
    "- Random generator\n",
    "\n",
    "The full numpy.random documentation can be accessed [here.](https://docs.scipy.org/doc/numpy/reference/routines.random.html)\n",
    "\n",
    "\n",
    "This notebook will discuss \"simple random data,\" \"permutations\" and \"distributions\" functions. The use of seeds in generating psuedorandom numbers will also be discussed.\n",
    "\n",
    "---"
   ]
  },
  {
   "cell_type": "markdown",
   "metadata": {},
   "source": [
    "### A note on \"random\" numbers\n",
    "\n",
    "While this document refers to generation of random numbers, it is of note that computers are unable to truly generate random numbers, due to  the fact that computers are deterministic - meaning that every time you ask the same question, you’ll get the same answer. Instead computers use algorithms to generate pseudorandom numbers [4]. \n",
    "\n",
    "---"
   ]
  },
  {
   "cell_type": "markdown",
   "metadata": {},
   "source": [
    "\n",
    "## Simple random data functions in numpy.random\n",
    "\n",
    "There are 10 functions within the numpy.random \"simple random data\" family of functions: \n",
    "\n",
    "- rand()\n",
    "- randn()\n",
    "- randint()\n",
    "- random_integers()\n",
    "- random_sample()\n",
    "- random()\n",
    "- ranf()\n",
    "- sample()\n",
    "- choice()\n",
    "- bytes()\n",
    "\n",
    "Each of these are discussed below.\n"
   ]
  },
  {
   "cell_type": "code",
   "execution_count": 1,
   "metadata": {},
   "outputs": [],
   "source": [
    "import numpy as np\n",
    "import matplotlib.pyplot as plt"
   ]
  },
  {
   "cell_type": "markdown",
   "metadata": {},
   "source": [
    "\n",
    "### numpy.random.rand()\n",
    "\n",
    "The rand function creates a random array of positive floating point numbers with a continuous uniform distribution from 0, up to but not including 1. An argument or parameter can be passed in, telling the function how many floats to return. If no argument is provided, the function will return a single float. \n",
    "\n",
    "In other words, this function creates random numbers that are uniformly distributed between 0 and 1, but not including the number 1.Uniform distribution is where each variable, or number in this case, has the same (uniform) probability or likelihood of occuring [4]."
   ]
  },
  {
   "cell_type": "code",
   "execution_count": 2,
   "metadata": {
    "scrolled": true
   },
   "outputs": [
    {
     "data": {
      "text/plain": [
       "array([ 0.91728279,  0.47178992,  0.12870238, ...,  0.66759949,\n",
       "        0.44699203,  0.13694484])"
      ]
     },
     "execution_count": 2,
     "metadata": {},
     "output_type": "execute_result"
    }
   ],
   "source": [
    "# To obtain an array of 100 numbers \n",
    "x = np.random.rand(10000)\n",
    "x"
   ]
  },
  {
   "cell_type": "code",
   "execution_count": 3,
   "metadata": {},
   "outputs": [
    {
     "data": {
      "image/png": "[encoded data removed]",
      "text/plain": [
       "<matplotlib.figure.Figure at 0x21cd1d201d0>"
      ]
     },
     "metadata": {
      "needs_background": "light"
     },
     "output_type": "display_data"
    }
   ],
   "source": [
    "%matplotlib inline\n",
    "\n",
    "# To plot these numbers on a histogram\n",
    "plt.hist(x)\n",
    "plt.show()"
   ]
  },
  {
   "cell_type": "markdown",
   "metadata": {},
   "source": [
    "Further parameters can be passed to request that more than one array of random data is returned, for example:"
   ]
  },
  {
   "cell_type": "code",
   "execution_count": 4,
   "metadata": {
    "scrolled": true
   },
   "outputs": [
    {
     "data": {
      "text/plain": [
       "array([[[ 0.83498531,  0.44323741,  0.93438096,  0.42730064],\n",
       "        [ 0.48704053,  0.06608673,  0.0416088 ,  0.1369619 ]],\n",
       "\n",
       "       [[ 0.49742761,  0.0563805 ,  0.30001841,  0.74017208],\n",
       "        [ 0.15332476,  0.11503679,  0.94140692,  0.28193589]],\n",
       "\n",
       "       [[ 0.56980623,  0.39749521,  0.23569049,  0.68895845],\n",
       "        [ 0.40903241,  0.50725722,  0.08696841,  0.6269394 ]],\n",
       "\n",
       "       [[ 0.16518427,  0.43180209,  0.3220429 ,  0.27271184],\n",
       "        [ 0.80120403,  0.96455665,  0.01410891,  0.94498486]],\n",
       "\n",
       "       [[ 0.82688237,  0.81723836,  0.9947903 ,  0.51527302],\n",
       "        [ 0.01033576,  0.8871787 ,  0.57392335,  0.7891145 ]],\n",
       "\n",
       "       [[ 0.99186488,  0.4834634 ,  0.97245373,  0.78435501],\n",
       "        [ 0.30445575,  0.61920493,  0.96880025,  0.08307684]],\n",
       "\n",
       "       [[ 0.02847637,  0.67232523,  0.84534281,  0.44877442],\n",
       "        [ 0.63788301,  0.60474887,  0.81898705,  0.00461255]],\n",
       "\n",
       "       [[ 0.74081502,  0.09250802,  0.31632053,  0.58727446],\n",
       "        [ 0.64222107,  0.22571892,  0.73854992,  0.5004328 ]],\n",
       "\n",
       "       [[ 0.09000956,  0.01518786,  0.56764376,  0.76792432],\n",
       "        [ 0.13012662,  0.42869109,  0.00643862,  0.67497846]],\n",
       "\n",
       "       [[ 0.74975564,  0.77098496,  0.15037882,  0.70305596],\n",
       "        [ 0.08494494,  0.89458518,  0.17454464,  0.06938238]]])"
      ]
     },
     "execution_count": 4,
     "metadata": {},
     "output_type": "execute_result"
    }
   ],
   "source": [
    "# 10 2x4 arrays of random numbers is: \n",
    "x = np.random.rand(10, 2, 4)\n",
    "x"
   ]
  },
  {
   "cell_type": "code",
   "execution_count": 5,
   "metadata": {},
   "outputs": [
    {
     "data": {
      "text/plain": [
       "array([[ 0.47080651,  0.87047794],\n",
       "       [ 0.39910326,  0.37982163],\n",
       "       [ 0.51640783,  0.21684539],\n",
       "       ..., \n",
       "       [ 0.32918404,  0.2509203 ],\n",
       "       [ 0.82693296,  0.49213349],\n",
       "       [ 0.16160494,  0.65127137]])"
      ]
     },
     "execution_count": 5,
     "metadata": {},
     "output_type": "execute_result"
    }
   ],
   "source": [
    "x = np.random.rand(10000, 2)\n",
    "x"
   ]
  },
  {
   "cell_type": "code",
   "execution_count": 6,
   "metadata": {},
   "outputs": [
    {
     "data": {
      "image/png": "[encoded data removed]",
      "text/plain": [
       "<matplotlib.figure.Figure at 0x21cd1bcc080>"
      ]
     },
     "metadata": {
      "needs_background": "light"
     },
     "output_type": "display_data"
    }
   ],
   "source": [
    "plt.hist(x)\n",
    "plt.show()"
   ]
  },
  {
   "cell_type": "markdown",
   "metadata": {},
   "source": [
    "\n",
    "### numpy.random.randn\n",
    "\n",
    "The randn function also creates a random array of floating point numbers however it differs from the rand function above in that floats can be positive or negative. It also differs in that the randn function is based on normal (Gaussian) distribution. A parameter can be passed in, telling the function how many floats to return. If no argument is provided, the function will return a single float. \n",
    "\n",
    "Within this function, the mean is 0 and the standard deviation is 1.\n",
    "\n",
    "Normal distribution [5] can be visually represented by a bell curve and is distribution that occurs naturally when there is no bias. Most of the data falls within one point or standard deviation on either side of the mean. Examples of normal distribution can be seen throughout the general population, for example in a collection of IQ test scores, blood pressure results, heights, weights etc. "
   ]
  },
  {
   "cell_type": "code",
   "execution_count": 7,
   "metadata": {
    "scrolled": true
   },
   "outputs": [
    {
     "data": {
      "text/plain": [
       "array([ 0.56953274, -0.99749527,  0.87595746, ..., -0.77446598,\n",
       "       -0.51102796,  0.45120869])"
      ]
     },
     "execution_count": 7,
     "metadata": {},
     "output_type": "execute_result"
    }
   ],
   "source": [
    "x = np.random.randn(10000)\n",
    "x"
   ]
  },
  {
   "cell_type": "code",
   "execution_count": 8,
   "metadata": {},
   "outputs": [
    {
     "data": {
      "image/png": "[encoded data removed]",
      "text/plain": [
       "<matplotlib.figure.Figure at 0x21cd1bfea58>"
      ]
     },
     "metadata": {
      "needs_background": "light"
     },
     "output_type": "display_data"
    }
   ],
   "source": [
    "plt.hist(x)\n",
    "plt.show()"
   ]
  },
  {
   "cell_type": "markdown",
   "metadata": {},
   "source": [
    "More parameters can also be passed into the randn function and it will return more than one set of data, for example:"
   ]
  },
  {
   "cell_type": "code",
   "execution_count": 9,
   "metadata": {},
   "outputs": [
    {
     "data": {
      "text/plain": [
       "array([[ 0.38500353, -1.42759202, -0.47316279],\n",
       "       [-0.83265439,  0.09396634,  0.28534073],\n",
       "       [-1.3543956 , -0.2580148 ,  0.53821067],\n",
       "       ..., \n",
       "       [-0.66560814,  0.36110481, -0.32575758],\n",
       "       [-0.64240439,  0.21104526,  1.0015078 ],\n",
       "       [ 1.24382775, -0.02915004, -0.63014778]])"
      ]
     },
     "execution_count": 9,
     "metadata": {},
     "output_type": "execute_result"
    }
   ],
   "source": [
    "x = np.random.randn(10000, 3)\n",
    "x"
   ]
  },
  {
   "cell_type": "code",
   "execution_count": 10,
   "metadata": {},
   "outputs": [
    {
     "data": {
      "image/png": "[encoded data removed]",
      "text/plain": [
       "<matplotlib.figure.Figure at 0x21cd1d9f780>"
      ]
     },
     "metadata": {
      "needs_background": "light"
     },
     "output_type": "display_data"
    }
   ],
   "source": [
    "plt.hist(x)\n",
    "plt.show()"
   ]
  },
  {
   "cell_type": "markdown",
   "metadata": {},
   "source": [
    "\n",
    "### numpy.random.randint()\n",
    "\n",
    "The randint function returns random integers (whole numbers) that have discrete uniform distribution. Discrete uniform distribution is also known as equally likely outcomes distribution [6]. This is where the probability of evenly spaced values are equally likely to occur, for example when rolling a 6 sided dice, there are 6 evenly likely possibilties of rolling a certain number \n",
    "\n",
    "In probability, discrete uniform distribution differs from continuous uniform distribution in that disrcrete uniform distribution refers to whole numbers and continuous uniform distribution refers to numbers containing a decimal point (floats) [7].  \n",
    "\n",
    "The randint function requires parameters for the lowest and highest numbers you would like it to return. Lowest and highest numbers can be set as postive or negative. The lowest number is included in the output however the highest number is excluded. The example:\n",
    "\n",
    "*np.random.randint(1, 10)*\n",
    "\n",
    "will return a single random number between 1 and 9 inclusive. The size of the sample required can also be set, as outlined below. "
   ]
  },
  {
   "cell_type": "code",
   "execution_count": 11,
   "metadata": {},
   "outputs": [
    {
     "data": {
      "text/plain": [
       "array([ 8, -5, 16, ..., 16,  6,  6])"
      ]
     },
     "execution_count": 11,
     "metadata": {},
     "output_type": "execute_result"
    }
   ],
   "source": [
    "x = np.random.randint(-5, 20, size=10000)\n",
    "x"
   ]
  },
  {
   "cell_type": "code",
   "execution_count": 12,
   "metadata": {},
   "outputs": [
    {
     "data": {
      "image/png": "[encoded data removed]",
      "text/plain": [
       "<matplotlib.figure.Figure at 0x21cd1eea358>"
      ]
     },
     "metadata": {
      "needs_background": "light"
     },
     "output_type": "display_data"
    }
   ],
   "source": [
    "plt.hist(x)\n",
    "plt.show()"
   ]
  },
  {
   "cell_type": "markdown",
   "metadata": {},
   "source": [
    "\n",
    "### numpy.random.random_integers()\n",
    "\n",
    "This function has been deprecated since version 1.11.0.\n"
   ]
  },
  {
   "cell_type": "markdown",
   "metadata": {},
   "source": [
    "\n",
    "### numpy.random.random_sample()\n",
    "\n",
    "The random_sample() function returns floats between 0.0 and 1.0, not including 1.0 using continuous uniform distribution. A single argument passed in will return that number of floats. If no argument is passed, a single float will be returned. "
   ]
  },
  {
   "cell_type": "code",
   "execution_count": 13,
   "metadata": {},
   "outputs": [
    {
     "data": {
      "text/plain": [
       "array([ 0.46301153,  0.06910498,  0.87084286, ...,  0.73394925,\n",
       "        0.85508885,  0.59822214])"
      ]
     },
     "execution_count": 13,
     "metadata": {},
     "output_type": "execute_result"
    }
   ],
   "source": [
    "x = np.random.random_sample(10000)\n",
    "x"
   ]
  },
  {
   "cell_type": "code",
   "execution_count": 14,
   "metadata": {},
   "outputs": [
    {
     "data": {
      "image/png": "[encoded data removed]",
      "text/plain": [
       "<matplotlib.figure.Figure at 0x21cd1fcc518>"
      ]
     },
     "metadata": {
      "needs_background": "light"
     },
     "output_type": "display_data"
    }
   ],
   "source": [
    "plt.hist(x)\n",
    "plt.show()"
   ]
  },
  {
   "cell_type": "markdown",
   "metadata": {},
   "source": [
    "Similarly to the previous functions discussed, the random_sample function can also output more than one set of data if multiple arguments are passed in, for example:"
   ]
  },
  {
   "cell_type": "code",
   "execution_count": 15,
   "metadata": {
    "scrolled": true
   },
   "outputs": [
    {
     "data": {
      "text/plain": [
       "array([[[ 0.3465464 ,  0.54268419,  0.54409829,  0.66462615,  0.26160498],\n",
       "        [ 0.95720328,  0.10348125,  0.63222631,  0.99892084,  0.36966444],\n",
       "        [ 0.66626687,  0.36591632,  0.57390605,  0.71566079,  0.80043416]],\n",
       "\n",
       "       [[ 0.18882405,  0.15056564,  0.23075251,  0.59329744,  0.43240761],\n",
       "        [ 0.36375212,  0.20232039,  0.79347065,  0.85964663,  0.96072444],\n",
       "        [ 0.43816225,  0.9939828 ,  0.68275277,  0.43944072,  0.8147241 ]],\n",
       "\n",
       "       [[ 0.96061022,  0.47988134,  0.06238843,  0.48747143,  0.05837822],\n",
       "        [ 0.62681981,  0.26770619,  0.09538854,  0.83146849,  0.47364876],\n",
       "        [ 0.05415026,  0.83921442,  0.15525423,  0.76057957,  0.13324471]],\n",
       "\n",
       "       [[ 0.69734423,  0.77476071,  0.04078254,  0.65724606,  0.41453173],\n",
       "        [ 0.89782953,  0.14324344,  0.5200977 ,  0.16800662,  0.95138902],\n",
       "        [ 0.6904298 ,  0.00777609,  0.7232619 ,  0.69973241,  0.10986556]],\n",
       "\n",
       "       [[ 0.29500865,  0.07116129,  0.30406277,  0.57205688,  0.9887287 ],\n",
       "        [ 0.96369492,  0.61723984,  0.43347395,  0.71626977,  0.91318067],\n",
       "        [ 0.60495224,  0.45737742,  0.01008364,  0.54818602,  0.41267883]],\n",
       "\n",
       "       [[ 0.80667009,  0.78242233,  0.98570166,  0.29041481,  0.24882284],\n",
       "        [ 0.02303684,  0.12115211,  0.187261  ,  0.68388977,  0.90343735],\n",
       "        [ 0.06158274,  0.76794162,  0.66755148,  0.07909554,  0.63577523]],\n",
       "\n",
       "       [[ 0.27031415,  0.61435074,  0.94185848,  0.33812241,  0.17305199],\n",
       "        [ 0.08056745,  0.49535947,  0.82998732,  0.10873061,  0.73407107],\n",
       "        [ 0.10670908,  0.84599432,  0.04097972,  0.11433043,  0.95845312]],\n",
       "\n",
       "       [[ 0.56773634,  0.58514087,  0.51504165,  0.22270019,  0.43136094],\n",
       "        [ 0.86845732,  0.16342581,  0.03030064,  0.67079652,  0.08734548],\n",
       "        [ 0.41080131,  0.11588294,  0.60224389,  0.21378878,  0.70632699]],\n",
       "\n",
       "       [[ 0.35260454,  0.2362972 ,  0.72588051,  0.38076717,  0.42649121],\n",
       "        [ 0.30830923,  0.89257505,  0.55986372,  0.92078612,  0.22933932],\n",
       "        [ 0.04238955,  0.65897436,  0.99970041,  0.08243744,  0.89814866]],\n",
       "\n",
       "       [[ 0.99339025,  0.0395473 ,  0.79036207,  0.45130852,  0.32773935],\n",
       "        [ 0.28566252,  0.48930243,  0.48593179,  0.73262927,  0.51843711],\n",
       "        [ 0.07108724,  0.51926457,  0.94305273,  0.92366898,  0.59727461]]])"
      ]
     },
     "execution_count": 15,
     "metadata": {},
     "output_type": "execute_result"
    }
   ],
   "source": [
    "# 10 3x5 arrays of random numbers \n",
    "x = np.random.random_sample((10, 3, 5))\n",
    "x"
   ]
  },
  {
   "cell_type": "code",
   "execution_count": 16,
   "metadata": {},
   "outputs": [
    {
     "data": {
      "text/plain": [
       "array([[  4.04023032e-04,   4.41296808e-01,   2.47113857e-01,\n",
       "          6.51374120e-01],\n",
       "       [  8.80940666e-02,   6.41226245e-01,   6.64012452e-01,\n",
       "          7.58110384e-01],\n",
       "       [  3.65219430e-01,   2.69368999e-01,   6.79153579e-02,\n",
       "          2.09288232e-01],\n",
       "       [  6.13636716e-01,   8.20736982e-01,   8.10186437e-01,\n",
       "          9.60640769e-03],\n",
       "       [  3.29571245e-01,   4.42475231e-01,   4.74056180e-01,\n",
       "          5.73562470e-01],\n",
       "       [  6.55848100e-02,   2.47602395e-01,   9.77582164e-01,\n",
       "          3.79460862e-01],\n",
       "       [  3.32221142e-01,   9.95083538e-01,   9.87781071e-01,\n",
       "          8.90481835e-01],\n",
       "       [  1.73364359e-01,   1.64235499e-01,   9.32101445e-01,\n",
       "          2.35624374e-01],\n",
       "       [  8.89591767e-01,   9.82212624e-01,   5.45983677e-01,\n",
       "          2.84734961e-01],\n",
       "       [  4.86214645e-01,   9.79112059e-01,   2.35486568e-01,\n",
       "          3.98509096e-01],\n",
       "       [  3.81144767e-01,   5.01857896e-01,   6.78363300e-01,\n",
       "          8.12894186e-01],\n",
       "       [  2.15558609e-01,   8.14465431e-01,   7.82494532e-01,\n",
       "          9.95136896e-01],\n",
       "       [  5.06113169e-01,   3.33105918e-01,   8.87775562e-01,\n",
       "          3.60212940e-01],\n",
       "       [  4.43049834e-01,   6.46956274e-02,   7.75885172e-01,\n",
       "          9.02730738e-01],\n",
       "       [  2.68466063e-01,   6.06596018e-01,   5.67527141e-01,\n",
       "          3.63896270e-02],\n",
       "       [  7.15271951e-01,   2.73794437e-01,   4.90557160e-01,\n",
       "          4.26042591e-01],\n",
       "       [  9.72849689e-01,   5.02259414e-01,   4.27786528e-01,\n",
       "          2.03183956e-01],\n",
       "       [  3.36023875e-01,   6.24948458e-01,   7.65785214e-01,\n",
       "          3.61084022e-01],\n",
       "       [  1.78723672e-01,   7.66811732e-01,   8.85628418e-01,\n",
       "          2.73734593e-01],\n",
       "       [  3.19118611e-01,   5.95882542e-01,   9.17667652e-01,\n",
       "          3.04392704e-01]])"
      ]
     },
     "execution_count": 16,
     "metadata": {},
     "output_type": "execute_result"
    }
   ],
   "source": [
    "# To represent the data using a histogram\n",
    "x = np.random.random_sample((20, 4))\n",
    "x"
   ]
  },
  {
   "cell_type": "code",
   "execution_count": 17,
   "metadata": {},
   "outputs": [
    {
     "data": {
      "image/png": "[encoded data removed]",
      "text/plain": [
       "<matplotlib.figure.Figure at 0x21cd2046da0>"
      ]
     },
     "metadata": {
      "needs_background": "light"
     },
     "output_type": "display_data"
    }
   ],
   "source": [
    "plt.hist(x)\n",
    "plt.show()"
   ]
  },
  {
   "cell_type": "markdown",
   "metadata": {},
   "source": [
    "To use the random_sample function across a larger range of numbers (rather than between 0.0 and 1.0), the following code can be used: \n",
    "\n",
    "   *(b - a) * random_sample() + a*\n"
   ]
  },
  {
   "cell_type": "code",
   "execution_count": 18,
   "metadata": {},
   "outputs": [
    {
     "data": {
      "text/plain": [
       "array([ 3.30553667,  2.27789148,  0.13174865,  4.61920426,  4.65281136,\n",
       "        3.59842547,  4.08259969,  4.76955349,  5.68075936,  2.12992439])"
      ]
     },
     "execution_count": 18,
     "metadata": {},
     "output_type": "execute_result"
    }
   ],
   "source": [
    "#To obtain an array of random numbers (uniformly distributed) between 0 and 6\n",
    "x = -6 * np.random.random_sample(10) +6\n",
    "x"
   ]
  },
  {
   "cell_type": "markdown",
   "metadata": {},
   "source": [
    "\n",
    "### numpy.random.random(), numpy.random.ranf() and numpy.random.sample() functions\n",
    "\n",
    "The random, ranf and sample functions are the same as the random_sample function and they return the same output as described above [8]. "
   ]
  },
  {
   "cell_type": "code",
   "execution_count": 19,
   "metadata": {
    "scrolled": true
   },
   "outputs": [
    {
     "data": {
      "text/plain": [
       "array([ 0.66701176,  0.00996462,  0.08751438, ...,  0.96385258,\n",
       "        0.6077104 ,  0.63459307])"
      ]
     },
     "execution_count": 19,
     "metadata": {},
     "output_type": "execute_result"
    }
   ],
   "source": [
    "x = np.random.random(10000)\n",
    "x"
   ]
  },
  {
   "cell_type": "code",
   "execution_count": 20,
   "metadata": {},
   "outputs": [
    {
     "data": {
      "image/png": "[encoded data removed]",
      "text/plain": [
       "<matplotlib.figure.Figure at 0x21cd20002b0>"
      ]
     },
     "metadata": {
      "needs_background": "light"
     },
     "output_type": "display_data"
    }
   ],
   "source": [
    "plt.hist(x)\n",
    "plt.show()"
   ]
  },
  {
   "cell_type": "code",
   "execution_count": 21,
   "metadata": {},
   "outputs": [
    {
     "data": {
      "text/plain": [
       "array([ 0.40476401,  0.69301467,  0.95382202, ...,  0.49790582,\n",
       "        0.78255843,  0.5622105 ])"
      ]
     },
     "execution_count": 21,
     "metadata": {},
     "output_type": "execute_result"
    }
   ],
   "source": [
    "x = np.random.ranf(10000)\n",
    "x"
   ]
  },
  {
   "cell_type": "code",
   "execution_count": 22,
   "metadata": {},
   "outputs": [
    {
     "data": {
      "image/png": "[encoded data removed]",
      "text/plain": [
       "<matplotlib.figure.Figure at 0x21cd2095d68>"
      ]
     },
     "metadata": {
      "needs_background": "light"
     },
     "output_type": "display_data"
    }
   ],
   "source": [
    "plt.hist(x)\n",
    "plt.show()"
   ]
  },
  {
   "cell_type": "code",
   "execution_count": 23,
   "metadata": {},
   "outputs": [
    {
     "data": {
      "text/plain": [
       "array([ 0.9259199 ,  0.68569367,  0.45675183, ...,  0.92977667,\n",
       "        0.45317104,  0.18633116])"
      ]
     },
     "execution_count": 23,
     "metadata": {},
     "output_type": "execute_result"
    }
   ],
   "source": [
    "x = np.random.sample(10000)\n",
    "x"
   ]
  },
  {
   "cell_type": "code",
   "execution_count": 24,
   "metadata": {},
   "outputs": [
    {
     "data": {
      "image/png": "[encoded data removed]",
      "text/plain": [
       "<matplotlib.figure.Figure at 0x21cd2223748>"
      ]
     },
     "metadata": {
      "needs_background": "light"
     },
     "output_type": "display_data"
    }
   ],
   "source": [
    "plt.hist(x)\n",
    "plt.show()"
   ]
  },
  {
   "cell_type": "markdown",
   "metadata": {},
   "source": [
    "\n",
    "### numpy.random.choice()\n",
    "\n",
    "At it's most basic, the choice function returns one positive integer when a single argument is passed in. The single argument that is passed in provides the range (automatically starting from 0) that the interger is randomly selected from. Using *np.random.choice(10)* is the same as selecting a single random integer from *np.arange(10).*\n"
   ]
  },
  {
   "cell_type": "code",
   "execution_count": 25,
   "metadata": {},
   "outputs": [
    {
     "data": {
      "text/plain": [
       "81"
      ]
     },
     "execution_count": 25,
     "metadata": {},
     "output_type": "execute_result"
    }
   ],
   "source": [
    "x = np.random.choice(100)\n",
    "x"
   ]
  },
  {
   "cell_type": "markdown",
   "metadata": {},
   "source": [
    "Further arguments can be passed in to the choice funtion. When a second parameter is passed, this relates to the size of the output, for example *np.random.choice(10, 3)* will return 3 random intergers from the range 0 to 9:"
   ]
  },
  {
   "cell_type": "code",
   "execution_count": 26,
   "metadata": {},
   "outputs": [
    {
     "data": {
      "text/plain": [
       "array([9, 8, 8])"
      ]
     },
     "execution_count": 26,
     "metadata": {},
     "output_type": "execute_result"
    }
   ],
   "source": [
    "x = np.random.choice(10, 3)\n",
    "x"
   ]
  },
  {
   "cell_type": "markdown",
   "metadata": {},
   "source": [
    "When a third parameter - a boolean (True or False) is passed in, this will either allow or stop numbers from reccuring. For example True allows numbers to repeat and False stops numbers repeating: "
   ]
  },
  {
   "cell_type": "code",
   "execution_count": 27,
   "metadata": {},
   "outputs": [
    {
     "data": {
      "text/plain": [
       "array([8, 7, 7, 0, 2])"
      ]
     },
     "execution_count": 27,
     "metadata": {},
     "output_type": "execute_result"
    }
   ],
   "source": [
    "x = np.random.choice(10, 5, True)\n",
    "x"
   ]
  },
  {
   "cell_type": "code",
   "execution_count": 28,
   "metadata": {},
   "outputs": [
    {
     "data": {
      "text/plain": [
       "array([4, 1, 2, 9, 0])"
      ]
     },
     "execution_count": 28,
     "metadata": {},
     "output_type": "execute_result"
    }
   ],
   "source": [
    "x = np.random.choice(10, 5, False)\n",
    "x"
   ]
  },
  {
   "cell_type": "markdown",
   "metadata": {},
   "source": [
    "Finally, the choice function also allows for the type of distribution or probabilities assocaited with each entry to be set. If this parameter is not passed in, the choice function assumes uniform distribution."
   ]
  },
  {
   "cell_type": "markdown",
   "metadata": {},
   "source": [
    "\n",
    "### numpy.random.bytes()\n",
    "\n",
    "The bytes function returns a string when an integer is passed in. "
   ]
  },
  {
   "cell_type": "code",
   "execution_count": 29,
   "metadata": {},
   "outputs": [
    {
     "data": {
      "text/plain": [
       "b't\\x8f\\xa8A\\x8bF\\xcd\\x8a\\x07\\\\'"
      ]
     },
     "execution_count": 29,
     "metadata": {},
     "output_type": "execute_result"
    }
   ],
   "source": [
    "x = np.random.bytes(10)\n",
    "x"
   ]
  },
  {
   "cell_type": "markdown",
   "metadata": {},
   "source": [
    "---\n",
    "## Permutations functions in numpy.random\n",
    "\n",
    "There are 2 functions within the numpy.random \"permutations\" family of functions: \n",
    "\n",
    "- shuffle()\n",
    "- permutation()\n",
    "\n",
    "These are discussed below."
   ]
  },
  {
   "cell_type": "markdown",
   "metadata": {},
   "source": [
    "\n",
    "### numpy.random.shuffle()"
   ]
  },
  {
   "cell_type": "markdown",
   "metadata": {},
   "source": [
    "The shuffle function shuffles a sequence of set integers. It changes the sequence or order of integers while the integers remain the same. Shuffle permanently changes the array in place therefore the output remains changed. The single parameter passed in indicates the range of numbers returned, for example *(20)* indicates an array from *0 to 19.* "
   ]
  },
  {
   "cell_type": "code",
   "execution_count": 30,
   "metadata": {},
   "outputs": [
    {
     "data": {
      "text/plain": [
       "(None, array([7, 8, 6, 0, 2, 5, 3, 9, 4, 1]))"
      ]
     },
     "execution_count": 30,
     "metadata": {},
     "output_type": "execute_result"
    }
   ],
   "source": [
    "# I have created an ordered array of numbers 0-9. \n",
    "\n",
    "arr = np.arange(10)\n",
    "\n",
    "# The shuffle function will change the sequence of these numbers and this will become the new sequence of numbers \n",
    "# for further code\n",
    "\n",
    "shuffled = np.random.shuffle(arr)\n",
    "shuffled, arr"
   ]
  },
  {
   "cell_type": "markdown",
   "metadata": {},
   "source": [
    "\n",
    "### numpy.random.permutation()"
   ]
  },
  {
   "cell_type": "markdown",
   "metadata": {},
   "source": [
    "The permutation function works similarly to the shuffle function but returns a new array, leaving the original array untouched, as demonstrated below."
   ]
  },
  {
   "cell_type": "code",
   "execution_count": 31,
   "metadata": {},
   "outputs": [
    {
     "data": {
      "text/plain": [
       "(array([9, 7, 5, 8, 1, 3, 4, 0, 2, 6]), array([0, 1, 2, 3, 4, 5, 6, 7, 8, 9]))"
      ]
     },
     "execution_count": 31,
     "metadata": {},
     "output_type": "execute_result"
    }
   ],
   "source": [
    "arr = np.arange(10)\n",
    "shuffled = np.random.permutation(arr)\n",
    "shuffled, arr"
   ]
  },
  {
   "cell_type": "markdown",
   "metadata": {
    "collapsed": true
   },
   "source": [
    "---\n",
    "## Distributions functions in numpy.random\n",
    "\n",
    "There are 35 functions within the numpy.random \"distributions\" family of functions. Seven of these functions are described below, including:\n",
    "\n",
    "- uniform()\n",
    "- standard_normal()\n",
    "- normal()\n",
    "- poisson()\n",
    "- power()\n",
    "- exponential()\n",
    "- standard_exponential()"
   ]
  },
  {
   "cell_type": "markdown",
   "metadata": {},
   "source": [
    "\n",
    "### numpy.random.uniform()"
   ]
  },
  {
   "cell_type": "markdown",
   "metadata": {},
   "source": [
    "The uniform function is similar to the rand function described above in that it is utilises uniform distribution. Uniform distribution is where each outcome is equally as likely, for example when choosing a random card from a deck of cards [9]. \n",
    "\n",
    "The uniform function differs in that low and high parameters can be set. The \"low\" parameter is included as a value however the \"high\" parameter is not included. The below example demonstrates that values of 0 can occur however only values up to and including 9 can occur. This function returns floats which indicates continuous uniform distribution. \n",
    "\n",
    "The purpose of this function is to generate random floats within a set range where all numbers are euqally likely to occur.  "
   ]
  },
  {
   "cell_type": "code",
   "execution_count": 32,
   "metadata": {},
   "outputs": [
    {
     "data": {
      "text/plain": [
       "array([ 6.97022195,  3.50222421,  1.54023271, ...,  2.01007361,\n",
       "        9.51430878,  4.07942782])"
      ]
     },
     "execution_count": 32,
     "metadata": {},
     "output_type": "execute_result"
    }
   ],
   "source": [
    "x = np.random.uniform(0, 10,10000)\n",
    "x"
   ]
  },
  {
   "cell_type": "code",
   "execution_count": 33,
   "metadata": {},
   "outputs": [
    {
     "data": {
      "image/png": "[encoded data removed]",
      "text/plain": [
       "<matplotlib.figure.Figure at 0x21cd22e9b70>"
      ]
     },
     "metadata": {
      "needs_background": "light"
     },
     "output_type": "display_data"
    }
   ],
   "source": [
    "plt.hist(x)\n",
    "plt.show()"
   ]
  },
  {
   "cell_type": "markdown",
   "metadata": {},
   "source": [
    "\n",
    "### numpy.random.normal()\n",
    "\n",
    "The normal function runs similarly to the randn function described above.It is based on normal (Gaussian) distribution and visually displays a typical bell curve.  \n",
    "\n",
    "The normal function differs from the randn function in that the randn function always has a set mean of 0 and a standard deviation of 1, whereas any mean and standard deviation can be passed in to the normal function. \n",
    "\n",
    "The purpose of this function is to generate random floats, with a set mean, where approximately 50% of the floats will be within a set standard deviation of the mean. \n",
    "\n",
    "In the example below, the mean is 10 and the standard deviation is 5. You can see that approximately 50% of the values occur within -1 and +1 standard deviation of the mean, from 5 to 15. "
   ]
  },
  {
   "cell_type": "code",
   "execution_count": 34,
   "metadata": {},
   "outputs": [
    {
     "data": {
      "text/plain": [
       "array([ 16.68283911,  10.95910988,   8.83295953, ...,  10.31760999,\n",
       "        12.64233991,  13.83377646])"
      ]
     },
     "execution_count": 34,
     "metadata": {},
     "output_type": "execute_result"
    }
   ],
   "source": [
    "x = np.random.normal(10, 5, 10000)\n",
    "x"
   ]
  },
  {
   "cell_type": "code",
   "execution_count": 35,
   "metadata": {},
   "outputs": [
    {
     "data": {
      "image/png": "[encoded data removed]",
      "text/plain": [
       "<matplotlib.figure.Figure at 0x21cd230e710>"
      ]
     },
     "metadata": {
      "needs_background": "light"
     },
     "output_type": "display_data"
    }
   ],
   "source": [
    "plt.hist(x)\n",
    "plt.show()"
   ]
  },
  {
   "cell_type": "markdown",
   "metadata": {},
   "source": [
    "\n",
    "### numpy.random.standard_normal()\n",
    "\n",
    "The standard_normal function is the same as the randn function. It uses normal distribution, it always has a mean of 0 and standard deviation of 1.\n",
    "\n",
    "The purpose of this function is to return a set number of random floats, where approximately 50% of the floats will be within -1 and 1 standard deviation of the mean. In other words, half of the outputs will be closer to 0 and there will be less floats (both positive and negative) as the values move further away from 0."
   ]
  },
  {
   "cell_type": "code",
   "execution_count": 36,
   "metadata": {},
   "outputs": [
    {
     "data": {
      "text/plain": [
       "array([ 0.15976058,  0.72282498, -1.38148251, ...,  1.93865979,\n",
       "       -0.01663754,  0.64733083])"
      ]
     },
     "execution_count": 36,
     "metadata": {},
     "output_type": "execute_result"
    }
   ],
   "source": [
    "x = np.random.standard_normal(10000)\n",
    "x"
   ]
  },
  {
   "cell_type": "code",
   "execution_count": 37,
   "metadata": {},
   "outputs": [
    {
     "data": {
      "image/png": "[encoded data removed]",
      "text/plain": [
       "<matplotlib.figure.Figure at 0x21cd23052b0>"
      ]
     },
     "metadata": {
      "needs_background": "light"
     },
     "output_type": "display_data"
    }
   ],
   "source": [
    "plt.hist(x)\n",
    "plt.show()"
   ]
  },
  {
   "cell_type": "markdown",
   "metadata": {},
   "source": [
    "\n",
    "### numpy.random.poisson()\n",
    "\n",
    "The poisson function returns an array of positive integers based on the Poisson distribution. In statistics, the Poisson distribution demonstrates the probability that a given number of events will occur over a fixed time, distance, area or volume with a known constant rate. These events are discrete in that the occurence of one does not influence the occurence of the next thus occuring independently [9].\n",
    "\n",
    "Parameters for the poisson function can influence the size of the interval and the number of integers returned. If an interval is not indicated, the default integer is 1. The below example depicts an array of 10000 random integers from the Poisson distribution where lambda is 3. It is observed that the greater the number of random outputs, the greater the number of values between 0 and 3."
   ]
  },
  {
   "cell_type": "code",
   "execution_count": 38,
   "metadata": {
    "scrolled": true
   },
   "outputs": [
    {
     "data": {
      "text/plain": [
       "array([3, 2, 3, ..., 1, 5, 4])"
      ]
     },
     "execution_count": 38,
     "metadata": {},
     "output_type": "execute_result"
    }
   ],
   "source": [
    "x = np.random.poisson(3, 10000)\n",
    "x"
   ]
  },
  {
   "cell_type": "code",
   "execution_count": 39,
   "metadata": {},
   "outputs": [
    {
     "data": {
      "image/png": "[encoded data removed]",
      "text/plain": [
       "<matplotlib.figure.Figure at 0x21cd2258c18>"
      ]
     },
     "metadata": {
      "needs_background": "light"
     },
     "output_type": "display_data"
    }
   ],
   "source": [
    "plt.hist(x)\n",
    "plt.show()"
   ]
  },
  {
   "cell_type": "markdown",
   "metadata": {},
   "source": [
    "\n",
    "### numpy.random.power()\n",
    "\n",
    "The power function returns random positive floats between 0.0 and 1.0, but not including 1.0. These random numbers are selected from a positive exponential distribution - this means that there is an increase in the number of outputs or values the closer we get to 1.0. Exponential distribution can be described in relation to time - the probability that an event will occur increases or becomes more likely as the time increases, for example scoring a goal in a football match [10]. "
   ]
  },
  {
   "cell_type": "code",
   "execution_count": 40,
   "metadata": {},
   "outputs": [
    {
     "data": {
      "text/plain": [
       "array([ 0.48364006,  0.76149122,  0.92018698, ...,  0.91062321,\n",
       "        0.97816878,  0.89881533])"
      ]
     },
     "execution_count": 40,
     "metadata": {},
     "output_type": "execute_result"
    }
   ],
   "source": [
    "x = np.random.power( 3, 10000)\n",
    "x"
   ]
  },
  {
   "cell_type": "code",
   "execution_count": 41,
   "metadata": {},
   "outputs": [
    {
     "data": {
      "image/png": "[encoded data removed]",
      "text/plain": [
       "<matplotlib.figure.Figure at 0x21cd2012358>"
      ]
     },
     "metadata": {
      "needs_background": "light"
     },
     "output_type": "display_data"
    }
   ],
   "source": [
    "plt.hist(x)\n",
    "plt.show()"
   ]
  },
  {
   "cell_type": "markdown",
   "metadata": {},
   "source": [
    "The *a* parameter (or first parameter) within the parentheses influences the values closer to 1.0. A higher *a* parameter results in a larger number of outputs that are closer to 1.0, in keeping with positive exponential distribution. This is demonstrated in the above and below histograms where *a* = 3 and *a* = 11."
   ]
  },
  {
   "cell_type": "code",
   "execution_count": 42,
   "metadata": {},
   "outputs": [
    {
     "data": {
      "text/plain": [
       "array([ 0.98782867,  0.95019842,  0.95317478, ...,  0.79061591,\n",
       "        0.95668871,  0.95978965])"
      ]
     },
     "execution_count": 42,
     "metadata": {},
     "output_type": "execute_result"
    }
   ],
   "source": [
    "x = np.random.power( 11, 10000)\n",
    "x"
   ]
  },
  {
   "cell_type": "code",
   "execution_count": 43,
   "metadata": {},
   "outputs": [
    {
     "data": {
      "image/png": "[encoded data removed]",
      "text/plain": [
       "<matplotlib.figure.Figure at 0x21cd1f0f2e8>"
      ]
     },
     "metadata": {
      "needs_background": "light"
     },
     "output_type": "display_data"
    }
   ],
   "source": [
    "plt.hist(x)\n",
    "plt.show()"
   ]
  },
  {
   "cell_type": "code",
   "execution_count": null,
   "metadata": {},
   "outputs": [],
   "source": []
  },
  {
   "cell_type": "code",
   "execution_count": null,
   "metadata": {},
   "outputs": [],
   "source": []
  },
  {
   "cell_type": "code",
   "execution_count": null,
   "metadata": {},
   "outputs": [],
   "source": []
  },
  {
   "cell_type": "markdown",
   "metadata": {},
   "source": [
    "### Explain the use of seeds in generating pseudorandom numbers"
   ]
  },
  {
   "cell_type": "code",
   "execution_count": null,
   "metadata": {},
   "outputs": [],
   "source": []
  },
  {
   "cell_type": "code",
   "execution_count": null,
   "metadata": {},
   "outputs": [],
   "source": []
  },
  {
   "cell_type": "code",
   "execution_count": null,
   "metadata": {},
   "outputs": [],
   "source": []
  },
  {
   "cell_type": "markdown",
   "metadata": {},
   "source": [
    "## References "
   ]
  },
  {
   "cell_type": "markdown",
   "metadata": {},
   "source": [
    "[1] www.numpy.org/ date: 03/11/2018 \n",
    "\n",
    "[2] https://www.datacamp.com/community/tutorials/python-numpy-tutorial date: 03/11/2018 \n",
    "\n",
    "[3] https://docs.scipy.org/doc/numpy/user/basics.creation.html date: 03/11/2018\n",
    "\n",
    "[4] https://engineering.mit.edu/engage/ask-an-engineer/can-a-computer-generate-a-truly-random-number/ date: 09/11/2018 \n",
    "\n",
    "[4] https://www.investopedia.com/terms/u/uniform-distribution.asp date: 04/11/2018\n",
    "\n",
    "[5] https://www.statisticshowto.datasciencecentral.com/probability-and-statistics/normal-distributions/ date: 04/11/2018\n",
    "\n",
    "[6] https://www.chegg.com/homework-help/definitions/discrete-uniform-31 date: 04/11/2018 \n",
    "\n",
    "[7] https://socratic.org/questions/what-is-the-difference-between-a-discrete-uniform-distribution-and-a-continuous- dated: 04/11/2018\n",
    "\n",
    "[8] https://stackoverflow.com/questions/18829185/difference-between-various-numpy-random-functions dated: 04/11/2018\n",
    "\n",
    "[9] https://www.investopedia.com/terms/u/uniform-distribution.asp dated: 09/11/2018\n",
    "\n",
    "[9] https://stattrek.com/probability-distributions/poisson.aspx dated: 06/11/2018\n",
    "\n",
    "[10] https://www.statlect.com/probability-distributions/exponential-distribution dated: 06/11/2018 "
   ]
  },
  {
   "cell_type": "markdown",
   "metadata": {},
   "source": [
    "## Bibliography and Acknowledgements "
   ]
  },
  {
   "cell_type": "markdown",
   "metadata": {},
   "source": [
    "- https://docs.scipy.org/doc/numpy-1.15.1/user/whatisnumpy.html date: 20/10/2018\n",
    "- https://docs.scipy.org/doc/numpy-1.15.1/reference/routines.random.html date:27/10/2018\n",
    "- http://nbviewer.jupyter.org/gist/rossant/4645217 date: 03/11/2018\n",
    "- https://en.wikipedia.org/wiki/NumPy date: 03/11/2018\n",
    "- https://www.packtpub.com/mapt/book/big_data_and_business_intelligence/9781785285110/2/ch02lvl1sec16/numpy-random-numbers date: 03/11/2018\n",
    "- https://www.datacamp.com/community/tutorials/python-numpy-tutorial date: 03/11/2018 \n",
    "- http://mathworld.wolfram.com/DiscreteUniformDistribution.html date: 04/11/2018 \n",
    "- https://machinelearningmastery.com/how-to-generate-random-numbers-in-python/ - good for seeds and pseudo random number info 04/11/2018"
   ]
  },
  {
   "cell_type": "code",
   "execution_count": null,
   "metadata": {},
   "outputs": [],
   "source": []
  }
 ],
 "metadata": {
  "kernelspec": {
   "display_name": "Python 3",
   "language": "python",
   "name": "python3"
  },
  "language_info": {
   "codemirror_mode": {
    "name": "ipython",
    "version": 3
   },
   "file_extension": ".py",
   "mimetype": "text/x-python",
   "name": "python",
   "nbconvert_exporter": "python",
   "pygments_lexer": "ipython3",
   "version": "3.6.7"
  }
 },
 "nbformat": 4,
 "nbformat_minor": 2
}
