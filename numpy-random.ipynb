{
 "cells": [
  {
   "attachments": {
    "numpy-logo-small.png": {
     "image/png": "[encoded data removed]"
    }
   },
   "cell_type": "markdown",
   "metadata": {},
   "source": [
    "![numpy-logo-small.png](attachment:numpy-logo-small.png)"
   ]
  },
  {
   "cell_type": "markdown",
   "metadata": {},
   "source": [
    "# An Overview of NumPy's Random Package\n",
    "---"
   ]
  },
  {
   "cell_type": "markdown",
   "metadata": {},
   "source": [
    "## Purpose of the numpy.random Package\n",
    "\n",
    "NumPy is a Python library used for scientific and mathematical computing in the Python programming language [1]. It contains a number of tools that can be used to solve mathematical models of problems using a computer [2]. \n",
    "\n",
    "Numpy.random is a collection of special library functions within NumPy to generate random numbers. These functions can also be used to organise random numbers into arrays of different shapes and sizes [3]. \n",
    " \n",
    "Functions within the numpy.random library are organised into four main categories: \n",
    "\n",
    "- Simple random data\n",
    "- Permutations\n",
    "- Distributions\n",
    "- Random generator\n",
    "\n",
    "The full numpy.random documentation can be accessed [here.](https://docs.scipy.org/doc/numpy/reference/routines.random.html)\n",
    "\n",
    "\n",
    "This notebook will discuss \"simple random data,\" \"permutations\" and \"distributions\" functions. The use of seeds in generating psuedorandom numbers will also be discussed.\n",
    "\n",
    "---"
   ]
  },
  {
   "cell_type": "markdown",
   "metadata": {},
   "source": [
    "\n",
    "## Simple random data functions in numpy.random\n",
    "\n",
    "There are 10 functions within the numpy.random \"simple random data\" family of functions: \n",
    "\n",
    "- rand()\n",
    "- randn()\n",
    "- randint()\n",
    "- random_integers()\n",
    "- random_sample()\n",
    "- random()\n",
    "- ranf()\n",
    "- sample()\n",
    "- choice()\n",
    "- bytes()\n",
    "\n",
    "Each of these are discussed below.\n"
   ]
  },
  {
   "cell_type": "code",
   "execution_count": 1,
   "metadata": {},
   "outputs": [],
   "source": [
    "# To import the python libraries required \n",
    "import numpy as np\n",
    "import matplotlib.pyplot as plt"
   ]
  },
  {
   "cell_type": "markdown",
   "metadata": {},
   "source": [
    "\n",
    "### numpy.random.rand()\n",
    "\n",
    "The rand function creates a random array of positive floating point numbers with a continuous uniform distribution from 0, up to but not including 1. An argument or parameter can be passed in, telling the function how many floats to return. If no argument is provided, the function will return a single float. \n",
    "\n",
    "In other words, this function creates random numbers that are uniformly distributed between 0 and 1, but not including the number 1.Uniform distribution is where each variable, or number in this case, has the same (uniform) probability or likelihood of occuring [4]."
   ]
  },
  {
   "cell_type": "code",
   "execution_count": 2,
   "metadata": {
    "scrolled": true
   },
   "outputs": [
    {
     "data": {
      "text/plain": [
       "array([ 0.22183883,  0.67472243,  0.16714977, ...,  0.02712389,\n",
       "        0.49659728,  0.70460308])"
      ]
     },
     "execution_count": 2,
     "metadata": {},
     "output_type": "execute_result"
    }
   ],
   "source": [
    "# To obtain an array of 10000 numbers using the rand function\n",
    "x = np.random.rand(10000)\n",
    "x"
   ]
  },
  {
   "cell_type": "code",
   "execution_count": 3,
   "metadata": {},
   "outputs": [
    {
     "data": {
      "image/png": "[encoded data removed]",
      "text/plain": [
       "<matplotlib.figure.Figure at 0x13c3ee2e0f0>"
      ]
     },
     "metadata": {
      "needs_background": "light"
     },
     "output_type": "display_data"
    }
   ],
   "source": [
    "# Magic command to display histograms [5]. \n",
    "%matplotlib inline\n",
    "\n",
    "# To plot  this data on a histogram\n",
    "plt.hist(x)\n",
    "plt.show()"
   ]
  },
  {
   "cell_type": "markdown",
   "metadata": {},
   "source": [
    "Further parameters can be passed to request that more than one array of random data is returned, for example:"
   ]
  },
  {
   "cell_type": "code",
   "execution_count": 4,
   "metadata": {
    "scrolled": true
   },
   "outputs": [
    {
     "data": {
      "text/plain": [
       "array([[[ 0.25851137,  0.73412448,  0.59366523,  0.32621466],\n",
       "        [ 0.35797594,  0.22794257,  0.55082796,  0.46506672]],\n",
       "\n",
       "       [[ 0.31212843,  0.64338188,  0.17642895,  0.28751703],\n",
       "        [ 0.15840229,  0.33078549,  0.23644552,  0.78947918]],\n",
       "\n",
       "       [[ 0.02191369,  0.64829801,  0.31720679,  0.00785241],\n",
       "        [ 0.3546982 ,  0.70096462,  0.19124309,  0.10753492]],\n",
       "\n",
       "       [[ 0.53346167,  0.75147803,  0.71359113,  0.98442427],\n",
       "        [ 0.58025669,  0.22487114,  0.3816379 ,  0.87165938]],\n",
       "\n",
       "       [[ 0.0484026 ,  0.85515074,  0.97342632,  0.87693251],\n",
       "        [ 0.0498209 ,  0.76653835,  0.89694691,  0.89641913]],\n",
       "\n",
       "       [[ 0.35239036,  0.04512547,  0.62311252,  0.1859403 ],\n",
       "        [ 0.27380384,  0.33164736,  0.80910066,  0.22791642]],\n",
       "\n",
       "       [[ 0.4406684 ,  0.96292138,  0.82901538,  0.93875144],\n",
       "        [ 0.7034381 ,  0.02596027,  0.12132454,  0.42142358]],\n",
       "\n",
       "       [[ 0.98943587,  0.70063792,  0.67504803,  0.23205368],\n",
       "        [ 0.38284423,  0.93166112,  0.7525532 ,  0.08870386]],\n",
       "\n",
       "       [[ 0.69947752,  0.0029723 ,  0.26494216,  0.37512627],\n",
       "        [ 0.73366598,  0.52868091,  0.30234438,  0.36343117]],\n",
       "\n",
       "       [[ 0.29282169,  0.64268026,  0.08690669,  0.74855445],\n",
       "        [ 0.93987035,  0.13017077,  0.97157148,  0.15496179]]])"
      ]
     },
     "execution_count": 4,
     "metadata": {},
     "output_type": "execute_result"
    }
   ],
   "source": [
    "# To obtain 10 2x4 arrays of random numbers \n",
    "x = np.random.rand(10, 2, 4)\n",
    "x"
   ]
  },
  {
   "cell_type": "code",
   "execution_count": 5,
   "metadata": {},
   "outputs": [
    {
     "data": {
      "text/plain": [
       "array([[ 0.88226137,  0.55773847],\n",
       "       [ 0.11313653,  0.42510081],\n",
       "       [ 0.92794985,  0.58733805],\n",
       "       ..., \n",
       "       [ 0.86658681,  0.14244283],\n",
       "       [ 0.1388408 ,  0.01357447],\n",
       "       [ 0.45044063,  0.18658214]])"
      ]
     },
     "execution_count": 5,
     "metadata": {},
     "output_type": "execute_result"
    }
   ],
   "source": [
    "# To obtain two sets of arrays 10000 numbers using the rand function\n",
    "x = np.random.rand(10000, 2)\n",
    "x"
   ]
  },
  {
   "cell_type": "code",
   "execution_count": 6,
   "metadata": {},
   "outputs": [
    {
     "data": {
      "image/png": "[encoded data removed]",
      "text/plain": [
       "<matplotlib.figure.Figure at 0x13c3e775358>"
      ]
     },
     "metadata": {
      "needs_background": "light"
     },
     "output_type": "display_data"
    }
   ],
   "source": [
    "plt.hist(x)\n",
    "plt.show()"
   ]
  },
  {
   "cell_type": "markdown",
   "metadata": {},
   "source": [
    "\n",
    "### numpy.random.randn\n",
    "\n",
    "The randn function also creates a random array of floating point numbers however it differs from the rand function above in that floats can be positive or negative. It also differs in that the randn function is based on normal (Gaussian) distribution. A parameter can be passed in, telling the function how many floats to return. If no argument is provided, the function will return a single float. \n",
    "\n",
    "Within this function, the mean is 0 and the standard deviation is 1.\n",
    "\n",
    "Normal distribution [6] can be visually represented by a bell curve and is distribution that occurs naturally when there is no bias. Most of the data falls within one point or standard deviation on either side of the mean. Examples of normal distribution can be seen throughout the general population, for example in a collection of IQ test scores, blood pressure results, heights, weights etc. "
   ]
  },
  {
   "cell_type": "code",
   "execution_count": 7,
   "metadata": {
    "scrolled": true
   },
   "outputs": [
    {
     "data": {
      "text/plain": [
       "array([-0.04376021, -1.76860437,  1.0449335 , ...,  0.37052654,\n",
       "       -0.93062688, -0.94743558])"
      ]
     },
     "execution_count": 7,
     "metadata": {},
     "output_type": "execute_result"
    }
   ],
   "source": [
    "# To obtain an array of 10000 numbers using the randn function\n",
    "x = np.random.randn(10000)\n",
    "x"
   ]
  },
  {
   "cell_type": "code",
   "execution_count": 8,
   "metadata": {},
   "outputs": [
    {
     "data": {
      "image/png": "[encoded data removed]",
      "text/plain": [
       "<matplotlib.figure.Figure at 0x13c3ec1b550>"
      ]
     },
     "metadata": {
      "needs_background": "light"
     },
     "output_type": "display_data"
    }
   ],
   "source": [
    "plt.hist(x)\n",
    "plt.show()"
   ]
  },
  {
   "cell_type": "markdown",
   "metadata": {},
   "source": [
    "More parameters can also be passed into the randn function and it will return more than one set of data, for example:"
   ]
  },
  {
   "cell_type": "code",
   "execution_count": 9,
   "metadata": {},
   "outputs": [
    {
     "data": {
      "text/plain": [
       "array([[ -4.14537782e-01,   1.56317833e-01,  -7.43033799e-01],\n",
       "       [  4.43027514e-01,  -5.56293495e-01,   1.76048514e+00],\n",
       "       [  6.46362446e-01,  -1.84383176e-01,  -1.38923981e+00],\n",
       "       ..., \n",
       "       [ -6.63925981e-01,  -3.89710044e-02,   3.01868632e-04],\n",
       "       [ -4.10641111e-01,   7.23386258e-01,  -1.11170943e-01],\n",
       "       [ -1.31801223e+00,  -2.44051738e+00,   1.29474059e+00]])"
      ]
     },
     "execution_count": 9,
     "metadata": {},
     "output_type": "execute_result"
    }
   ],
   "source": [
    "# To obtain three sets of arrays 10000 numbers using the randn function\n",
    "x = np.random.randn(10000, 3)\n",
    "x"
   ]
  },
  {
   "cell_type": "code",
   "execution_count": 10,
   "metadata": {},
   "outputs": [
    {
     "data": {
      "image/png": "[encoded data removed]",
      "text/plain": [
       "<matplotlib.figure.Figure at 0x13c3edbedd8>"
      ]
     },
     "metadata": {
      "needs_background": "light"
     },
     "output_type": "display_data"
    }
   ],
   "source": [
    "plt.hist(x)\n",
    "plt.show()"
   ]
  },
  {
   "cell_type": "markdown",
   "metadata": {},
   "source": [
    "\n",
    "### numpy.random.randint()\n",
    "\n",
    "The randint function returns random integers (whole numbers) that have discrete uniform distribution. Discrete uniform distribution is also known as equally likely outcomes distribution [7]. This is where the probability of evenly spaced values are equally likely to occur, for example when rolling a 6 sided dice, there are 6 evenly likely possibilties of rolling a certain number \n",
    "\n",
    "In probability, discrete uniform distribution differs from continuous uniform distribution in that disrcrete uniform distribution refers to whole numbers and continuous uniform distribution refers to numbers containing a decimal point (floats) [8].  \n",
    "\n",
    "The randint function requires parameters for the lowest and highest numbers you would like it to return. Lowest and highest numbers can be set as postive or negative. The lowest number is included in the output however the highest number is excluded. The example:\n",
    "\n",
    "*np.random.randint(1, 10)*\n",
    "\n",
    "will return a single random number between 1 and 9 inclusive. The size of the sample required can also be set, as outlined below. "
   ]
  },
  {
   "cell_type": "code",
   "execution_count": 11,
   "metadata": {},
   "outputs": [
    {
     "data": {
      "text/plain": [
       "array([15, -3, 18, ..., 14,  5, 19])"
      ]
     },
     "execution_count": 11,
     "metadata": {},
     "output_type": "execute_result"
    }
   ],
   "source": [
    "# To return 10000 random floats between -5 and 19 using the randint function\n",
    "x = np.random.randint(-5, 20, size=10000)\n",
    "x"
   ]
  },
  {
   "cell_type": "code",
   "execution_count": 12,
   "metadata": {},
   "outputs": [
    {
     "data": {
      "image/png": "[encoded data removed]",
      "text/plain": [
       "<matplotlib.figure.Figure at 0x13c3ef75748>"
      ]
     },
     "metadata": {
      "needs_background": "light"
     },
     "output_type": "display_data"
    }
   ],
   "source": [
    "plt.hist(x)\n",
    "plt.show()"
   ]
  },
  {
   "cell_type": "markdown",
   "metadata": {},
   "source": [
    "\n",
    "### numpy.random.random_integers()\n",
    "\n",
    "This function has been deprecated since version 1.11.0.\n"
   ]
  },
  {
   "cell_type": "markdown",
   "metadata": {},
   "source": [
    "\n",
    "### numpy.random.random_sample()\n",
    "\n",
    "The random_sample() function returns floats between 0.0 and 1.0, not including 1.0 using continuous uniform distribution. A single argument passed in will return that number of floats. If no argument is passed, a single float will be returned. "
   ]
  },
  {
   "cell_type": "code",
   "execution_count": 13,
   "metadata": {},
   "outputs": [
    {
     "data": {
      "text/plain": [
       "array([ 0.77360559,  0.6038822 ,  0.38784405, ...,  0.49374541,\n",
       "        0.548451  ,  0.71479899])"
      ]
     },
     "execution_count": 13,
     "metadata": {},
     "output_type": "execute_result"
    }
   ],
   "source": [
    "# To return 10000 random numbers using the random_sample function \n",
    "x = np.random.random_sample(10000)\n",
    "x"
   ]
  },
  {
   "cell_type": "code",
   "execution_count": 14,
   "metadata": {},
   "outputs": [
    {
     "data": {
      "image/png": "[encoded data removed]",
      "text/plain": [
       "<matplotlib.figure.Figure at 0x13c3f002320>"
      ]
     },
     "metadata": {
      "needs_background": "light"
     },
     "output_type": "display_data"
    }
   ],
   "source": [
    "plt.hist(x)\n",
    "plt.show()"
   ]
  },
  {
   "cell_type": "markdown",
   "metadata": {},
   "source": [
    "Similarly to the previous functions discussed, the random_sample function can also output more than one set of data if multiple arguments are passed in, for example:"
   ]
  },
  {
   "cell_type": "code",
   "execution_count": 15,
   "metadata": {
    "scrolled": true
   },
   "outputs": [
    {
     "data": {
      "text/plain": [
       "array([[[ 0.11364541,  0.24293393,  0.09679167,  0.60071733,  0.3968669 ],\n",
       "        [ 0.85038377,  0.9550384 ,  0.93553953,  0.03070379,  0.51421771],\n",
       "        [ 0.43398576,  0.12401247,  0.80532728,  0.4107828 ,  0.01614469]],\n",
       "\n",
       "       [[ 0.77185461,  0.00961488,  0.73092427,  0.30084553,  0.08368232],\n",
       "        [ 0.21822518,  0.7195385 ,  0.83219633,  0.02052288,  0.4847121 ],\n",
       "        [ 0.85388283,  0.79982943,  0.18621375,  0.7979047 ,  0.049239  ]],\n",
       "\n",
       "       [[ 0.41941273,  0.47203696,  0.30674746,  0.51573886,  0.40914538],\n",
       "        [ 0.35379273,  0.14544204,  0.15172086,  0.56764152,  0.1088809 ],\n",
       "        [ 0.06683302,  0.07526152,  0.15136237,  0.26939876,  0.10958956]],\n",
       "\n",
       "       [[ 0.08451941,  0.96169348,  0.31031231,  0.19993275,  0.73175671],\n",
       "        [ 0.42156664,  0.63092802,  0.45890997,  0.68353794,  0.85244201],\n",
       "        [ 0.18927292,  0.23724229,  0.28394375,  0.01806294,  0.18902119]],\n",
       "\n",
       "       [[ 0.54176646,  0.32434732,  0.02306925,  0.31463683,  0.96102696],\n",
       "        [ 0.20746106,  0.57395436,  0.35844731,  0.93480555,  0.88447103],\n",
       "        [ 0.04289162,  0.26343748,  0.48284072,  0.77209548,  0.32213923]],\n",
       "\n",
       "       [[ 0.12046512,  0.68873728,  0.14013357,  0.65581969,  0.48189604],\n",
       "        [ 0.78010407,  0.11622946,  0.49309774,  0.70774076,  0.91856858],\n",
       "        [ 0.23757388,  0.23474741,  0.13426685,  0.61411832,  0.88431506]],\n",
       "\n",
       "       [[ 0.92103745,  0.44016212,  0.3308339 ,  0.26640731,  0.0399106 ],\n",
       "        [ 0.45228743,  0.88471937,  0.37165881,  0.25715443,  0.07789467],\n",
       "        [ 0.33715267,  0.26833341,  0.53057754,  0.98051556,  0.63217008]],\n",
       "\n",
       "       [[ 0.10047312,  0.23722809,  0.9810116 ,  0.69177276,  0.36404499],\n",
       "        [ 0.90428143,  0.31503043,  0.36160865,  0.7271599 ,  0.65629816],\n",
       "        [ 0.84869795,  0.62302846,  0.21045067,  0.82885987,  0.07034081]],\n",
       "\n",
       "       [[ 0.69614655,  0.35644784,  0.05011573,  0.8617182 ,  0.06379389],\n",
       "        [ 0.94461299,  0.19886618,  0.31191969,  0.45982358,  0.61868596],\n",
       "        [ 0.56542815,  0.56304528,  0.82779318,  0.68755144,  0.2922584 ]],\n",
       "\n",
       "       [[ 0.01069506,  0.90421292,  0.98300981,  0.65028736,  0.31643328],\n",
       "        [ 0.09074026,  0.864913  ,  0.27120101,  0.29283854,  0.95118386],\n",
       "        [ 0.85146602,  0.83589867,  0.69672541,  0.46014283,  0.65816767]]])"
      ]
     },
     "execution_count": 15,
     "metadata": {},
     "output_type": "execute_result"
    }
   ],
   "source": [
    "# To reutn ten 3x5 arrays of random numbers using the random_sample function\n",
    "x = np.random.random_sample((10, 3, 5))\n",
    "x"
   ]
  },
  {
   "cell_type": "code",
   "execution_count": 16,
   "metadata": {},
   "outputs": [
    {
     "data": {
      "text/plain": [
       "array([[ 0.73245553,  0.25529114,  0.85109472,  0.856471  ],\n",
       "       [ 0.01998014,  0.00340288,  0.15990767,  0.4543476 ],\n",
       "       [ 0.25290067,  0.93479183,  0.6459091 ,  0.75149617],\n",
       "       [ 0.1396377 ,  0.85422876,  0.96050569,  0.67872099],\n",
       "       [ 0.77328014,  0.04925396,  0.05739271,  0.34541294],\n",
       "       [ 0.82422767,  0.78136875,  0.33723706,  0.47646629],\n",
       "       [ 0.40003971,  0.02801566,  0.73954538,  0.01643754],\n",
       "       [ 0.70541485,  0.89501578,  0.24170792,  0.5308268 ],\n",
       "       [ 0.57503125,  0.26898874,  0.52508493,  0.10370143],\n",
       "       [ 0.82749957,  0.45388403,  0.77691425,  0.58074355],\n",
       "       [ 0.7422898 ,  0.148619  ,  0.86360552,  0.05480542],\n",
       "       [ 0.67967361,  0.21442618,  0.9496099 ,  0.32478285],\n",
       "       [ 0.09102283,  0.62075407,  0.1293611 ,  0.35764669],\n",
       "       [ 0.27637335,  0.93359502,  0.92694136,  0.56912688],\n",
       "       [ 0.42274477,  0.26852257,  0.74747225,  0.04819633],\n",
       "       [ 0.4110689 ,  0.73924481,  0.95740317,  0.48888984],\n",
       "       [ 0.08487666,  0.40009053,  0.86387272,  0.98984793],\n",
       "       [ 0.56732199,  0.70117271,  0.15375738,  0.08329933],\n",
       "       [ 0.77644771,  0.35275227,  0.87443759,  0.81511456],\n",
       "       [ 0.88520971,  0.12047888,  0.20258094,  0.69699819]])"
      ]
     },
     "execution_count": 16,
     "metadata": {},
     "output_type": "execute_result"
    }
   ],
   "source": [
    "# To return twenty sets of 4 arrays using the random_sample function \n",
    "x = np.random.random_sample((20, 4))\n",
    "x"
   ]
  },
  {
   "cell_type": "code",
   "execution_count": 17,
   "metadata": {},
   "outputs": [
    {
     "data": {
      "image/png": "[encoded data removed]",
      "text/plain": [
       "<matplotlib.figure.Figure at 0x13c3f08b0f0>"
      ]
     },
     "metadata": {
      "needs_background": "light"
     },
     "output_type": "display_data"
    }
   ],
   "source": [
    "plt.hist(x)\n",
    "plt.show()"
   ]
  },
  {
   "cell_type": "markdown",
   "metadata": {},
   "source": [
    "To use the random_sample function across a larger range of numbers (rather than between 0.0 and 1.0), the following code can be used: \n",
    "\n",
    "   *(b - a) * random_sample() + a*\n"
   ]
  },
  {
   "cell_type": "code",
   "execution_count": 18,
   "metadata": {},
   "outputs": [
    {
     "data": {
      "text/plain": [
       "array([ 0.70020253,  5.79368371,  4.94238236,  1.69632398,  1.42609299,\n",
       "        0.38349785,  2.25060737,  4.61637757,  3.0931656 ,  3.75937012])"
      ]
     },
     "execution_count": 18,
     "metadata": {},
     "output_type": "execute_result"
    }
   ],
   "source": [
    "# To obtain an array of ten random numbers (uniformly distributed) between 0 and 6\n",
    "x = -6 * np.random.random_sample(10) +6\n",
    "x"
   ]
  },
  {
   "cell_type": "markdown",
   "metadata": {},
   "source": [
    "\n",
    "### numpy.random.random(), numpy.random.ranf() and numpy.random.sample() functions\n",
    "\n",
    "The random, ranf and sample functions are the same as the random_sample function and they return the same output as described above [9]. "
   ]
  },
  {
   "cell_type": "code",
   "execution_count": 19,
   "metadata": {
    "scrolled": true
   },
   "outputs": [
    {
     "data": {
      "text/plain": [
       "array([ 0.49914549,  0.35061615,  0.29541613, ...,  0.45256067,\n",
       "        0.79835525,  0.58773451])"
      ]
     },
     "execution_count": 19,
     "metadata": {},
     "output_type": "execute_result"
    }
   ],
   "source": [
    "# To return 10000 floats using the random function and to demonstrate that this function is the \n",
    "# same as the random_sample function \n",
    "x = np.random.random(10000)\n",
    "x"
   ]
  },
  {
   "cell_type": "code",
   "execution_count": 20,
   "metadata": {},
   "outputs": [
    {
     "data": {
      "image/png": "[encoded data removed]",
      "text/plain": [
       "<matplotlib.figure.Figure at 0x13c3ed1ba90>"
      ]
     },
     "metadata": {
      "needs_background": "light"
     },
     "output_type": "display_data"
    }
   ],
   "source": [
    "plt.hist(x)\n",
    "plt.show()"
   ]
  },
  {
   "cell_type": "code",
   "execution_count": 21,
   "metadata": {},
   "outputs": [
    {
     "data": {
      "text/plain": [
       "array([ 0.88309252,  0.23881991,  0.52017994, ...,  0.67962153,\n",
       "        0.07299923,  0.48617196])"
      ]
     },
     "execution_count": 21,
     "metadata": {},
     "output_type": "execute_result"
    }
   ],
   "source": [
    "# To return 10000 floats using the ranf function and to demonstrate that this function is the \n",
    "# same as the random_sample function \n",
    "x = np.random.ranf(10000)\n",
    "x"
   ]
  },
  {
   "cell_type": "code",
   "execution_count": 22,
   "metadata": {},
   "outputs": [
    {
     "data": {
      "image/png": "[encoded data removed]",
      "text/plain": [
       "<matplotlib.figure.Figure at 0x13c3f211198>"
      ]
     },
     "metadata": {
      "needs_background": "light"
     },
     "output_type": "display_data"
    }
   ],
   "source": [
    "plt.hist(x)\n",
    "plt.show()"
   ]
  },
  {
   "cell_type": "code",
   "execution_count": 23,
   "metadata": {},
   "outputs": [
    {
     "data": {
      "text/plain": [
       "array([ 0.71005762,  0.31453348,  0.65693605, ...,  0.52841015,\n",
       "        0.67835309,  0.65607873])"
      ]
     },
     "execution_count": 23,
     "metadata": {},
     "output_type": "execute_result"
    }
   ],
   "source": [
    "# To return 10000 floats using the sample function and to demonstrate that this function is the \n",
    "# same as the random_sample function \n",
    "x = np.random.sample(10000)\n",
    "x"
   ]
  },
  {
   "cell_type": "code",
   "execution_count": 24,
   "metadata": {},
   "outputs": [
    {
     "data": {
      "image/png": "[encoded data removed]",
      "text/plain": [
       "<matplotlib.figure.Figure at 0x13c3f23b7b8>"
      ]
     },
     "metadata": {
      "needs_background": "light"
     },
     "output_type": "display_data"
    }
   ],
   "source": [
    "plt.hist(x)\n",
    "plt.show()"
   ]
  },
  {
   "cell_type": "markdown",
   "metadata": {},
   "source": [
    "\n",
    "### numpy.random.choice()\n",
    "\n",
    "At it's most basic, the choice function returns one positive integer when a single argument is passed in. The single argument that is passed in provides the range (automatically starting from 0) that the interger is randomly selected from. Using *np.random.choice(10)* is the same as selecting a single random integer from *np.arange(10).*\n"
   ]
  },
  {
   "cell_type": "code",
   "execution_count": 25,
   "metadata": {},
   "outputs": [
    {
     "data": {
      "text/plain": [
       "50"
      ]
     },
     "execution_count": 25,
     "metadata": {},
     "output_type": "execute_result"
    }
   ],
   "source": [
    "# To return a single integer between 0 and 99 using the choice function\n",
    "x = np.random.choice(100)\n",
    "x"
   ]
  },
  {
   "cell_type": "markdown",
   "metadata": {},
   "source": [
    "Further arguments can be passed in to the choice funtion. When a second parameter is passed, this relates to the size of the output, for example *np.random.choice(10, 3)* will return 3 random intergers from the range 0 to 9:"
   ]
  },
  {
   "cell_type": "code",
   "execution_count": 26,
   "metadata": {},
   "outputs": [
    {
     "data": {
      "text/plain": [
       "array([3, 3, 3])"
      ]
     },
     "execution_count": 26,
     "metadata": {},
     "output_type": "execute_result"
    }
   ],
   "source": [
    "# To return 3 integers between 0 and 9 using the choice function\n",
    "x = np.random.choice(10, 3)\n",
    "x"
   ]
  },
  {
   "cell_type": "markdown",
   "metadata": {},
   "source": [
    "When a third parameter - a boolean (True or False) is passed in, this will either allow or stop numbers from reccuring. For example True allows numbers to repeat and False stops numbers repeating: "
   ]
  },
  {
   "cell_type": "code",
   "execution_count": 27,
   "metadata": {},
   "outputs": [
    {
     "data": {
      "text/plain": [
       "array([6, 1, 0, 4, 2])"
      ]
     },
     "execution_count": 27,
     "metadata": {},
     "output_type": "execute_result"
    }
   ],
   "source": [
    "# To return 5 integers between 0 and 9 with repetition using the choice function\n",
    "x = np.random.choice(10, 5, True)\n",
    "x"
   ]
  },
  {
   "cell_type": "code",
   "execution_count": 28,
   "metadata": {},
   "outputs": [
    {
     "data": {
      "text/plain": [
       "array([5, 9, 2, 1, 6])"
      ]
     },
     "execution_count": 28,
     "metadata": {},
     "output_type": "execute_result"
    }
   ],
   "source": [
    "# To return 5 integers between 0 and 9 without repetition using the choice function\n",
    "x = np.random.choice(10, 5, False)\n",
    "x"
   ]
  },
  {
   "cell_type": "markdown",
   "metadata": {},
   "source": [
    "Finally, the choice function also allows for the type of distribution or probabilities assocaited with each entry to be set. If this parameter is not passed in, the choice function assumes uniform distribution."
   ]
  },
  {
   "cell_type": "markdown",
   "metadata": {},
   "source": [
    "\n",
    "### numpy.random.bytes()\n",
    "\n",
    "The bytes function returns a string of bytes when a parameter, which is an integer, is passed in."
   ]
  },
  {
   "cell_type": "code",
   "execution_count": 29,
   "metadata": {},
   "outputs": [
    {
     "data": {
      "text/plain": [
       "b'\\xfcf\\x11&\\x80F7\\x1c\\x9bm'"
      ]
     },
     "execution_count": 29,
     "metadata": {},
     "output_type": "execute_result"
    }
   ],
   "source": [
    "# To return 10 bytes using the bytes function\n",
    "x = np.random.bytes(10)\n",
    "x"
   ]
  },
  {
   "cell_type": "markdown",
   "metadata": {},
   "source": [
    "---\n",
    "## Permutations functions in numpy.random\n",
    "\n",
    "There are 2 functions within the numpy.random \"permutations\" family of functions: \n",
    "\n",
    "- shuffle()\n",
    "- permutation()\n",
    "\n",
    "These are discussed below."
   ]
  },
  {
   "cell_type": "markdown",
   "metadata": {},
   "source": [
    "\n",
    "### numpy.random.shuffle()"
   ]
  },
  {
   "cell_type": "markdown",
   "metadata": {},
   "source": [
    "The shuffle function shuffles a sequence of set integers. It changes the sequence or order of integers while the integers remain the same. Shuffle permanently changes the array in place therefore the output remains changed. The single parameter passed in indicates the range of numbers returned, for example *(20)* indicates an array from *0 to 19.* "
   ]
  },
  {
   "cell_type": "code",
   "execution_count": 30,
   "metadata": {},
   "outputs": [
    {
     "data": {
      "text/plain": [
       "(None, array([4, 5, 2, 6, 1, 9, 0, 3, 8, 7]))"
      ]
     },
     "execution_count": 30,
     "metadata": {},
     "output_type": "execute_result"
    }
   ],
   "source": [
    "# Create an ordered array of numbers 0-9. \n",
    "arr = np.arange(10)\n",
    "\n",
    "# The shuffle function will change the sequence of these numbers and this will become the new sequence of numbers \n",
    "# for further code\n",
    "\n",
    "shuffled = np.random.shuffle(arr)\n",
    "shuffled, arr"
   ]
  },
  {
   "cell_type": "markdown",
   "metadata": {},
   "source": [
    "\n",
    "### numpy.random.permutation()"
   ]
  },
  {
   "cell_type": "markdown",
   "metadata": {},
   "source": [
    "The permutation function works similarly to the shuffle function but returns a new array, leaving the original array untouched, as demonstrated below."
   ]
  },
  {
   "cell_type": "code",
   "execution_count": 31,
   "metadata": {},
   "outputs": [
    {
     "data": {
      "text/plain": [
       "(array([5, 3, 9, 8, 1, 2, 0, 7, 6, 4]), array([0, 1, 2, 3, 4, 5, 6, 7, 8, 9]))"
      ]
     },
     "execution_count": 31,
     "metadata": {},
     "output_type": "execute_result"
    }
   ],
   "source": [
    "# Create an ordered array of numbers 0-9. \n",
    "arr = np.arange(10)\n",
    "\n",
    "# The \"arr\" array remains the same while the permutation function shuffles the integers \n",
    "shuffled = np.random.permutation(arr)\n",
    "shuffled, arr"
   ]
  },
  {
   "cell_type": "markdown",
   "metadata": {
    "collapsed": true
   },
   "source": [
    "---\n",
    "## Distributions functions in numpy.random\n",
    "\n",
    "There are 35 functions within the numpy.random \"distributions\" family of functions. Seven of these functions are described below, including:\n",
    "\n",
    "- uniform()\n",
    "- standard_normal()\n",
    "- normal()\n",
    "- poisson()\n",
    "- power()\n",
    "- exponential()\n",
    "- standard_exponential()"
   ]
  },
  {
   "cell_type": "markdown",
   "metadata": {},
   "source": [
    "\n",
    "### numpy.random.uniform()"
   ]
  },
  {
   "cell_type": "markdown",
   "metadata": {},
   "source": [
    "The uniform function is similar to the rand function described above in that it is utilises uniform distribution. Uniform distribution is where each outcome is equally as likely, for example when choosing a random card from a deck of cards [10]. \n",
    "\n",
    "The uniform function differs in that low and high parameters can be set. The \"low\" parameter is included as a value however the \"high\" parameter is not included. The below example demonstrates that values of 0 can occur however only values up to and including 9 can occur. This function returns floats which indicates continuous uniform distribution. \n",
    "\n",
    "The purpose of this function is to generate random floats within a set range where all numbers are euqally likely to occur.  "
   ]
  },
  {
   "cell_type": "code",
   "execution_count": 32,
   "metadata": {},
   "outputs": [
    {
     "data": {
      "text/plain": [
       "array([ 4.3672536 ,  5.89533771,  0.88621565, ...,  1.22004438,\n",
       "        8.68668513,  9.000248  ])"
      ]
     },
     "execution_count": 32,
     "metadata": {},
     "output_type": "execute_result"
    }
   ],
   "source": [
    "# To return an array of 10000 random integers between the values of 0 and 9 using the uniform function. \n",
    "x = np.random.uniform(0, 10,10000)\n",
    "x"
   ]
  },
  {
   "cell_type": "code",
   "execution_count": 33,
   "metadata": {},
   "outputs": [
    {
     "data": {
      "image/png": "[encoded data removed]",
      "text/plain": [
       "<matplotlib.figure.Figure at 0x13c3f3029b0>"
      ]
     },
     "metadata": {
      "needs_background": "light"
     },
     "output_type": "display_data"
    }
   ],
   "source": [
    "plt.hist(x)\n",
    "plt.show()"
   ]
  },
  {
   "cell_type": "markdown",
   "metadata": {},
   "source": [
    "\n",
    "### numpy.random.normal()\n",
    "\n",
    "The normal function runs similarly to the randn function described above.It is based on normal (Gaussian) distribution and visually displays a typical bell curve.  \n",
    "\n",
    "The normal function differs from the randn function in that the randn function always has a set mean of 0 and a standard deviation of 1, whereas any mean and standard deviation can be passed in to the normal function. \n",
    "\n",
    "The purpose of this function is to generate random floats, with a set mean, where approximately 50% of the floats will be within a set standard deviation of the mean. \n",
    "\n",
    "In the example below, the mean is 10 and the standard deviation is 5. You can see that approximately 50% of the values occur within -1 and +1 standard deviation of the mean, from 5 to 15. "
   ]
  },
  {
   "cell_type": "code",
   "execution_count": 34,
   "metadata": {},
   "outputs": [
    {
     "data": {
      "text/plain": [
       "array([  8.85251436,  16.48120101,   5.67529652, ...,   9.65434761,\n",
       "         9.57582229,   0.42025878])"
      ]
     },
     "execution_count": 34,
     "metadata": {},
     "output_type": "execute_result"
    }
   ],
   "source": [
    "# To return an array of 10000 random integers, with a mean of 10 and a standard deviation of 5\n",
    "# using the normal function. \n",
    "x = np.random.normal(10, 5, 10000)\n",
    "x"
   ]
  },
  {
   "cell_type": "code",
   "execution_count": 35,
   "metadata": {},
   "outputs": [
    {
     "data": {
      "image/png": "[encoded data removed]",
      "text/plain": [
       "<matplotlib.figure.Figure at 0x13c3f0a9e10>"
      ]
     },
     "metadata": {
      "needs_background": "light"
     },
     "output_type": "display_data"
    }
   ],
   "source": [
    "plt.hist(x)\n",
    "plt.show()"
   ]
  },
  {
   "cell_type": "markdown",
   "metadata": {},
   "source": [
    "\n",
    "### numpy.random.standard_normal()\n",
    "\n",
    "The standard_normal function is the same as the randn function. It uses normal distribution, it always has a mean of 0 and standard deviation of 1.\n",
    "\n",
    "The purpose of this function is to return a set number of random floats, where approximately 50% of the floats will be within -1 and 1 standard deviation of the mean. In other words, half of the outputs will be closer to 0 and there will be less floats (both positive and negative) as the values move further away from 0."
   ]
  },
  {
   "cell_type": "code",
   "execution_count": 36,
   "metadata": {},
   "outputs": [
    {
     "data": {
      "text/plain": [
       "array([ 1.36715525,  0.2242627 , -1.37596899, ..., -0.27250107,\n",
       "       -1.39767398,  0.62135643])"
      ]
     },
     "execution_count": 36,
     "metadata": {},
     "output_type": "execute_result"
    }
   ],
   "source": [
    "# To return an array of 10000 random floats using the standard_normal function. \n",
    "x = np.random.standard_normal(10000)\n",
    "x"
   ]
  },
  {
   "cell_type": "code",
   "execution_count": 37,
   "metadata": {},
   "outputs": [
    {
     "data": {
      "image/png": "[encoded data removed]",
      "text/plain": [
       "<matplotlib.figure.Figure at 0x13c3f321320>"
      ]
     },
     "metadata": {
      "needs_background": "light"
     },
     "output_type": "display_data"
    }
   ],
   "source": [
    "plt.hist(x)\n",
    "plt.show()"
   ]
  },
  {
   "cell_type": "markdown",
   "metadata": {},
   "source": [
    "\n",
    "### numpy.random.poisson()\n",
    "\n",
    "The poisson function returns an array of positive integers based on the Poisson distribution. In statistics, the Poisson distribution demonstrates the probability that a given number of events will occur over a fixed time, distance, area or volume with a known constant rate. These events are discrete in that the occurence of one does not influence the occurence of the next thus occuring independently [11].\n",
    "\n",
    "Parameters for the poisson function can influence the size of the interval and the number of integers returned. If an interval is not indicated, the default integer is 1. The below example depicts an array of 10000 random integers from the Poisson distribution where lambda is 3. It is observed that the greater the number of random outputs, the greater the number of values between 0 and 3."
   ]
  },
  {
   "cell_type": "code",
   "execution_count": 38,
   "metadata": {
    "scrolled": true
   },
   "outputs": [
    {
     "data": {
      "text/plain": [
       "array([2, 2, 2, ..., 7, 2, 2])"
      ]
     },
     "execution_count": 38,
     "metadata": {},
     "output_type": "execute_result"
    }
   ],
   "source": [
    "# To return 10000 intergers, with a poisson distribution pf 3, using the poisson function.  \n",
    "x = np.random.poisson(3, 10000)\n",
    "x"
   ]
  },
  {
   "cell_type": "code",
   "execution_count": 39,
   "metadata": {},
   "outputs": [
    {
     "data": {
      "image/png": "[encoded data removed]",
      "text/plain": [
       "<matplotlib.figure.Figure at 0x13c3f2c24e0>"
      ]
     },
     "metadata": {
      "needs_background": "light"
     },
     "output_type": "display_data"
    }
   ],
   "source": [
    "plt.hist(x)\n",
    "plt.show()"
   ]
  },
  {
   "cell_type": "markdown",
   "metadata": {},
   "source": [
    "\n",
    "### numpy.random.power()\n",
    "\n",
    "The power function returns random positive floats between 0.0 and 1.0, but not including 1.0. These random numbers are selected from a positive exponential distribution - this means that there is an increase in the number of outputs or values the closer we get to 1.0. Exponential distribution can be described in relation to time - the probability that an event will occur increases or becomes more likely as the time increases, for example scoring a goal in a football match [12]. \n",
    "\n",
    "The purpose of this function is to generate random floats from 0.0 up to but not including 1.0, where the larger numbers (numbers closer to 1.0) have a higher probability of occuring - it is more likely that there will be a greater number of values closer to 1.0. "
   ]
  },
  {
   "cell_type": "code",
   "execution_count": 40,
   "metadata": {},
   "outputs": [
    {
     "data": {
      "text/plain": [
       "array([ 0.89064804,  0.58765254,  0.9206665 , ...,  0.82954745,\n",
       "        0.62515619,  0.95209551])"
      ]
     },
     "execution_count": 40,
     "metadata": {},
     "output_type": "execute_result"
    }
   ],
   "source": [
    "# To return 10000 random floats from 0.0 up to but not including 1.0, with a scale of 3 using the power function. \n",
    "x = np.random.power(3, 10000)\n",
    "x"
   ]
  },
  {
   "cell_type": "code",
   "execution_count": 41,
   "metadata": {},
   "outputs": [
    {
     "data": {
      "image/png": "[encoded data removed]",
      "text/plain": [
       "<matplotlib.figure.Figure at 0x13c3f2f2ba8>"
      ]
     },
     "metadata": {
      "needs_background": "light"
     },
     "output_type": "display_data"
    }
   ],
   "source": [
    "plt.hist(x)\n",
    "plt.show()"
   ]
  },
  {
   "cell_type": "markdown",
   "metadata": {},
   "source": [
    "The a parameter (or first parameter) within the parentheses influences the values closer to 1.0. A higher a parameter results in a larger number of outputs that are closer to 1.0, in keeping with positive exponential distribution. This is demonstrated in the above and below histograms where a = 3 and a = 11."
   ]
  },
  {
   "cell_type": "code",
   "execution_count": 42,
   "metadata": {},
   "outputs": [
    {
     "data": {
      "text/plain": [
       "array([ 0.95250415,  0.81022076,  0.86573177, ...,  0.78293773,\n",
       "        0.93601261,  0.94821084])"
      ]
     },
     "execution_count": 42,
     "metadata": {},
     "output_type": "execute_result"
    }
   ],
   "source": [
    "# To return 10000 random floats from 0.0 up to but not including 1.0, with a scale of 11 using the power function. \n",
    "x = np.random.power( 11, 10000)\n",
    "x"
   ]
  },
  {
   "cell_type": "code",
   "execution_count": 43,
   "metadata": {},
   "outputs": [
    {
     "data": {
      "image/png": "[encoded data removed]",
      "text/plain": [
       "<matplotlib.figure.Figure at 0x13c3efb8ef0>"
      ]
     },
     "metadata": {
      "needs_background": "light"
     },
     "output_type": "display_data"
    }
   ],
   "source": [
    "plt.hist(x)\n",
    "plt.show()"
   ]
  },
  {
   "cell_type": "markdown",
   "metadata": {},
   "source": [
    "\n",
    "### numpy.random.exponential()\n",
    "\n",
    "The exponential function returns random positive floats from a negative exponential distribution. A parameter can be passed in to set the scale of the distribution. The smaller the scale, the closer together the values will be (smaller intervals along the x axis when plotted). A further parameter can be pased in to set the size or number of floats returned. Most of the values returned are close to 0. The larger the numbers become, the lower probability there is of them occuring, therefore this is the opposite of positive exponential distribution described in relation to the power function. \n",
    "\n",
    "Negative exponential distribution can be used to describe the time between events in a Poisson process. \n",
    "The Poisson process offers a way to find probabilities for random points in time for a process. This process could be anything, for example customers arriving in a shop [13]. "
   ]
  },
  {
   "cell_type": "code",
   "execution_count": 44,
   "metadata": {},
   "outputs": [
    {
     "data": {
      "text/plain": [
       "array([  3.97259512,   8.9014306 ,   2.92067037, ...,   0.58098053,\n",
       "        15.38181153,   2.67957981])"
      ]
     },
     "execution_count": 44,
     "metadata": {},
     "output_type": "execute_result"
    }
   ],
   "source": [
    "# To return 10000 random floats with a scale of 7 using the exponential function \n",
    "x = np.random.exponential(7, 10000)\n",
    "x"
   ]
  },
  {
   "cell_type": "code",
   "execution_count": 45,
   "metadata": {},
   "outputs": [
    {
     "data": {
      "image/png": "[encoded data removed]",
      "text/plain": [
       "<matplotlib.figure.Figure at 0x13c3efa8be0>"
      ]
     },
     "metadata": {
      "needs_background": "light"
     },
     "output_type": "display_data"
    }
   ],
   "source": [
    "plt.hist(x)\n",
    "plt.show()"
   ]
  },
  {
   "cell_type": "markdown",
   "metadata": {},
   "source": [
    "\n",
    "### numpy.random.standard_exponential()\n",
    "\n",
    "The standard_exponential function is the same as the exponential function however the standard_exponential function always has a scale of 1. A parameter can be passed in to return a specified number of floats. "
   ]
  },
  {
   "cell_type": "code",
   "execution_count": 46,
   "metadata": {},
   "outputs": [
    {
     "data": {
      "text/plain": [
       "array([ 1.36020632,  2.53437694,  1.130841  , ...,  0.16858679,\n",
       "        1.26734805,  2.1091831 ])"
      ]
     },
     "execution_count": 46,
     "metadata": {},
     "output_type": "execute_result"
    }
   ],
   "source": [
    "# To return 10000 random floats with a set scale of 1 using the standard_exponential function \n",
    "x = np.random.standard_exponential(10000)\n",
    "x"
   ]
  },
  {
   "cell_type": "code",
   "execution_count": 47,
   "metadata": {},
   "outputs": [
    {
     "data": {
      "image/png": "[encoded data removed]",
      "text/plain": [
       "<matplotlib.figure.Figure at 0x13c3e7755c0>"
      ]
     },
     "metadata": {
      "needs_background": "light"
     },
     "output_type": "display_data"
    }
   ],
   "source": [
    "plt.hist(x)\n",
    "plt.show()"
   ]
  },
  {
   "cell_type": "markdown",
   "metadata": {},
   "source": [
    "---\n",
    "## The Use of Seeds in Pseudo-Random Number Generation\n",
    "\n",
    "\n",
    "Throughout this document reference to generating random numbers is made however it is important to note that computers are unable to truly generate random numbers, due to  the fact that computers are deterministic - every time you ask the same question, you’ll get the same answer [14]. \n",
    "\n",
    "Instead, pseudo-random numbers are generated using an algorithm or mathematical function. The Mersenne Twister [15] is a widely used pseudo-random number generator (PRNG). A PRGN requires a parameter to start the process of generating pseudo-random numbers. This is known as the seed [16].\n",
    "\n",
    "Setting the seed can make generating pseudo-random numbers predictable, ensuring that the code produces the same result each time, which is useful when testing code.  "
   ]
  },
  {
   "cell_type": "markdown",
   "metadata": {},
   "source": [
    "## References "
   ]
  },
  {
   "cell_type": "markdown",
   "metadata": {},
   "source": [
    "[1] SciPy. Quickstart Tutorial. [ONLINE]. Available at: https://docs.scipy.org/doc/numpy/user/quickstart.html [Accessed 03 November 2018]. \n",
    "\n",
    "[2] Data Camp. Python Numpy Array Tutorial. [ONLINE] Available at: https://www.datacamp.com/community/tutorials/python-numpy-tutorial [Accessed 03 November 2018]. \n",
    "\n",
    "[3] SciPy. Array Creation. [ONLINE]. Available at: https://docs.scipy.org/doc/numpy/user/basics.creation.html [Accessed 03 November 2018]. \n",
    "\n",
    "[4] Investopedia. Uniform Distribution. [ONLINE] Available at: https://www.investopedia.com/terms/u/uniform-distribution.asp [Accessed 04 November 2018]. \n",
    "\n",
    "[5] IPython. Built in Magic Commands. [ONLINE] Available at: https://ipython.readthedocs.io/en/stable/interactive/magics.html [Accessed 11 November 2018]. \n",
    "\n",
    "[6] Statistics How To. Normal Distributions: Definition, Word Problems. [ONLINE] Available at: https://www.statisticshowto.datasciencecentral.com/probability-and-statistics/normal-distributions/ [Accessed 04 November 2018]. \n",
    "\n",
    "[7] Chegg Study. Discrete Uniform. [ONLINE] Available at: https://www.chegg.com/homework-help/definitions/discrete-uniform-31 [Accessed 04 November 2018]. \n",
    "\n",
    "[8] Socratic. What is the Difference Between a Discrete Uniform Distribution and a Continuous Uniform Distribution? [ONLINE] Available at: https://socratic.org/questions/what-is-the-difference-between-a-discrete-uniform-distribution-and-a-continuous- [Accessed 04 November 2018]. \n",
    "\n",
    "[9] Stack Overflow. Difference Between Various Numpy Random Functions. [ONLINE] Available at: https://stackoverflow.com/questions/18829185/difference-between-various-numpy-random-functions [Accessed 04 November 2018]. \n",
    "\n",
    "[10] Sudy. Uniform Distribution in Statistics: Definition & Examples. [ONLINE] Available at: https://study.com/academy/lesson/uniform-distribution-in-statistics-definition-examples.html [Accessed 11 November 2018]. \n",
    "\n",
    "[11] Stat Trek. Poisson Distribution. [ONLINE] Available at: https://stattrek.com/probability-distributions/poisson.aspx [Accessed 06 November 2018]. \n",
    "\n",
    "[12] Statlect. Exponential Distribution. [ONLINE] Available at: https://www.statlect.com/probability-distributions/exponential-distribution [Accessed 06 November 2018]. \n",
    "\n",
    "[13] Statistics How To. Exponential Distribution / Negative Exponential: Definition, Examples. [ONLINE] Available at: [https://www.statisticshowto.datasciencecentral.com/exponential-distribution/ {Accessed 11 November 2018]. \n",
    "\n",
    "[14] School of Engineering. Can a Computer Generate a Truly Random Number? [ONLINE] Available at: https://engineering.mit.edu/engage/ask-an-engineer/can-a-computer-generate-a-truly-random-number/ [Accessed 09 November 2018].  \n",
    "\n",
    "[15] Wikipedia. Mersenne Twister. [ONLINE]. Available at: https://en.wikipedia.org/wiki/Mersenne_Twister [Accessed 09 November 2018]. \n",
    "\n",
    "[16] Machine Learning Mastery. How to Generate Random Numbers in Python. [ONLINE] Available at: https://machinelearningmastery.com/how-to-generate-random-numbers-in-python/ [Accessed 09 November 2018]. \n"
   ]
  },
  {
   "cell_type": "markdown",
   "metadata": {},
   "source": [
    "## Bibliography and Acknowledgements "
   ]
  },
  {
   "cell_type": "markdown",
   "metadata": {},
   "source": [
    "- SciPy. What is NumPy. [ONLINE] Available at: https://docs.scipy.org/doc/numpy-1.15.1/user/whatisnumpy.html [Accessed 20 October 2018]. \n",
    "\n",
    "\n",
    "- SciPy. Ramdom Sampling. [ONLINE]. Available at: https://docs.scipy.org/doc/numpy-1.15.1/reference/routines.random.html [Accessed 27 October 2018]. \n",
    "\n",
    "\n",
    "- Jupyter Nbviewer. Numpy performance tricks. [ONLINE]. Available at: http://nbviewer.jupyter.org/gist/rossant/4645217 [Accessed 03 November 2018]. \n",
    "\n",
    "\n",
    "- Wikipedia. NumPy. [ONLINE] Available at: https://en.wikipedia.org/wiki/NumPy [Accessed 03 November 2018]. \n",
    "\n",
    "\n",
    "- Mapt. NumPy Random Numbers. [ONLINE] Available at:  https://www.packtpub.com/mapt/book/big_data_and_business_intelligence/9781785285110/2/ch02lvl1sec16/numpy-random-numbers [03 November 2018]. \n",
    "\n",
    "\n",
    "- Wolfram Math World. Discrete Uniform Distribution. [ONLINE] Available at: http://mathworld.wolfram.com/DiscreteUniformDistribution.html [Accessed 04 November 2018]. \n",
    "\n",
    "\n",
    "- Stack Overflow. What Does numpy.random.seed(0) Do? [ONLINE] Available at: https://stackoverflow.com/questions/21494489/what-does-numpy-random-seed0-do [Accessed 09 November 2018]. \n",
    "\n",
    "\n",
    "- Matplotlib. Pyplot Tutorial. [ONLINE] Available at: https://matplotlib.org/tutorials/introductory/pyplot.html#sphx-glr-tutorials-introductory-pyplot-py [Accessed 11 November 2018]. "
   ]
  },
  {
   "cell_type": "markdown",
   "metadata": {},
   "source": [
    "**Author:** Emma Patton"
   ]
  }
 ],
 "metadata": {
  "kernelspec": {
   "display_name": "Python 3",
   "language": "python",
   "name": "python3"
  },
  "language_info": {
   "codemirror_mode": {
    "name": "ipython",
    "version": 3
   },
   "file_extension": ".py",
   "mimetype": "text/x-python",
   "name": "python",
   "nbconvert_exporter": "python",
   "pygments_lexer": "ipython3",
   "version": "3.6.7"
  }
 },
 "nbformat": 4,
 "nbformat_minor": 2
}
