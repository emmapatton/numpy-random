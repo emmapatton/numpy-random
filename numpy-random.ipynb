{
 "cells": [
  {
   "attachments": {
    "numpy-logo-small.png": {
     "image/png": "[encoded data removed]"
    }
   },
   "cell_type": "markdown",
   "metadata": {},
   "source": [
    "![numpy-logo-small.png](attachment:numpy-logo-small.png)"
   ]
  },
  {
   "cell_type": "markdown",
   "metadata": {},
   "source": [
    "# An Overview of NumPy's Random Package\n",
    "---"
   ]
  },
  {
   "cell_type": "markdown",
   "metadata": {},
   "source": [
    "## Purpose of the numpy.random Package\n",
    "\n",
    "NumPy is a Python library used for scientific and mathematical computing in the Python programming language [1]. It contains a number of tools that can be used to solve mathematical models of problems using a computer [2]. \n",
    "\n",
    "Numpy.random is a collection of special library functions within NumPy to generate random numbers. These functions can also be used to organise random numbers into arrays of different shapes and sizes [3]. \n",
    " \n",
    "Functions within the numpy.random library are organised into four main categories: \n",
    "\n",
    "- Simple random data\n",
    "- Permutations\n",
    "- Distributions\n",
    "- Random generator\n",
    "\n",
    "The full numpy.random documentation can be accessed [here.](https://docs.scipy.org/doc/numpy/reference/routines.random.html)\n",
    "\n",
    "\n",
    "This notebook will discuss \"simple random data,\" \"permutations\" and \"distributions\" functions. The use of seeds in generating psuedorandom numbers will also be discussed.\n",
    "\n",
    "---"
   ]
  },
  {
   "cell_type": "markdown",
   "metadata": {},
   "source": [
    "\n",
    "## Simple random data functions in numpy.random\n",
    "\n",
    "There are 10 functions within the numpy.random \"simple random data\" family of functions: \n",
    "\n",
    "- rand()\n",
    "- randn()\n",
    "- randint()\n",
    "- random_integers()\n",
    "- random_sample()\n",
    "- random()\n",
    "- ranf()\n",
    "- sample()\n",
    "- choice()\n",
    "- bytes()\n",
    "\n",
    "Each of these are discussed below.\n"
   ]
  },
  {
   "cell_type": "code",
   "execution_count": 1,
   "metadata": {},
   "outputs": [],
   "source": [
    "# To import the python libraries required \n",
    "import numpy as np\n",
    "import matplotlib.pyplot as plt"
   ]
  },
  {
   "cell_type": "markdown",
   "metadata": {},
   "source": [
    "\n",
    "### numpy.random.rand()\n",
    "\n",
    "The rand function creates a random array of positive floating point numbers with a continuous uniform distribution from 0, up to but not including 1. An argument or parameter can be passed in, telling the function how many floats to return. If no argument is provided, the function will return a single float. \n",
    "\n",
    "In other words, this function creates random numbers that are uniformly distributed between 0 and 1, but not including the number 1.Uniform distribution is where each variable, or number in this case, has the same (uniform) probability or likelihood of occuring [4]."
   ]
  },
  {
   "cell_type": "code",
   "execution_count": 2,
   "metadata": {
    "scrolled": true
   },
   "outputs": [
    {
     "data": {
      "text/plain": [
       "array([ 0.06686568,  0.22715666,  0.73612377, ...,  0.6081401 ,\n",
       "        0.58957243,  0.44334553])"
      ]
     },
     "execution_count": 2,
     "metadata": {},
     "output_type": "execute_result"
    }
   ],
   "source": [
    "# To obtain an array of 10000 numbers using the rand function\n",
    "x = np.random.rand(10000)\n",
    "x"
   ]
  },
  {
   "cell_type": "code",
   "execution_count": 3,
   "metadata": {},
   "outputs": [
    {
     "data": {
      "image/png": "[encoded data removed]",
      "text/plain": [
       "<matplotlib.figure.Figure at 0x19f2bd381d0>"
      ]
     },
     "metadata": {
      "needs_background": "light"
     },
     "output_type": "display_data"
    }
   ],
   "source": [
    "# Magic command to display histograms [5]. \n",
    "%matplotlib inline\n",
    "\n",
    "# To plot  this data on a histogram\n",
    "plt.hist(x)\n",
    "plt.show()"
   ]
  },
  {
   "cell_type": "markdown",
   "metadata": {},
   "source": [
    "Further parameters can be passed to request that more than one array of random data is returned, for example:"
   ]
  },
  {
   "cell_type": "code",
   "execution_count": 4,
   "metadata": {
    "scrolled": true
   },
   "outputs": [
    {
     "data": {
      "text/plain": [
       "array([[[ 0.0854202 ,  0.76732305,  0.24936155,  0.74209041],\n",
       "        [ 0.1848522 ,  0.04761787,  0.36486717,  0.82931424]],\n",
       "\n",
       "       [[ 0.12967948,  0.87723342,  0.21046074,  0.30832688],\n",
       "        [ 0.44520329,  0.43932827,  0.79224383,  0.99403474]],\n",
       "\n",
       "       [[ 0.2204305 ,  0.30797408,  0.93787605,  0.00327117],\n",
       "        [ 0.11857364,  0.83616141,  0.75535502,  0.30435361]],\n",
       "\n",
       "       [[ 0.43767501,  0.53809344,  0.86704077,  0.62370213],\n",
       "        [ 0.29308761,  0.89677925,  0.4138413 ,  0.32166255]],\n",
       "\n",
       "       [[ 0.35497118,  0.32713605,  0.75818619,  0.49368611],\n",
       "        [ 0.01671392,  0.55815703,  0.69053981,  0.23632259]],\n",
       "\n",
       "       [[ 0.54840934,  0.28748666,  0.98087195,  0.42054721],\n",
       "        [ 0.4553358 ,  0.79249908,  0.365439  ,  0.15424638]],\n",
       "\n",
       "       [[ 0.70719972,  0.57000758,  0.99895477,  0.98837228],\n",
       "        [ 0.99243224,  0.46182501,  0.40464194,  0.33331203]],\n",
       "\n",
       "       [[ 0.10335113,  0.254743  ,  0.45764046,  0.14281269],\n",
       "        [ 0.78369828,  0.36991326,  0.55039393,  0.44545224]],\n",
       "\n",
       "       [[ 0.85668948,  0.88552485,  0.73506184,  0.63582826],\n",
       "        [ 0.75726641,  0.0797035 ,  0.21208183,  0.33005169]],\n",
       "\n",
       "       [[ 0.12580446,  0.31915402,  0.06201181,  0.87813998],\n",
       "        [ 0.48529133,  0.7212529 ,  0.39183158,  0.40080242]]])"
      ]
     },
     "execution_count": 4,
     "metadata": {},
     "output_type": "execute_result"
    }
   ],
   "source": [
    "# To obtain 10 2x4 arrays of random numbers \n",
    "x = np.random.rand(10, 2, 4)\n",
    "x"
   ]
  },
  {
   "cell_type": "code",
   "execution_count": 5,
   "metadata": {},
   "outputs": [
    {
     "data": {
      "text/plain": [
       "array([[ 0.55179446,  0.71695906],\n",
       "       [ 0.75649717,  0.08920575],\n",
       "       [ 0.65430644,  0.96400075],\n",
       "       ..., \n",
       "       [ 0.15604607,  0.96779814],\n",
       "       [ 0.54866854,  0.44672463],\n",
       "       [ 0.89447405,  0.94167329]])"
      ]
     },
     "execution_count": 5,
     "metadata": {},
     "output_type": "execute_result"
    }
   ],
   "source": [
    "# To obtain two sets of arrays 10000 numbers using the rand function\n",
    "x = np.random.rand(10000, 2)\n",
    "x"
   ]
  },
  {
   "cell_type": "code",
   "execution_count": 6,
   "metadata": {},
   "outputs": [
    {
     "data": {
      "image/png": "[encoded data removed]",
      "text/plain": [
       "<matplotlib.figure.Figure at 0x19f2c1e08d0>"
      ]
     },
     "metadata": {
      "needs_background": "light"
     },
     "output_type": "display_data"
    }
   ],
   "source": [
    "plt.hist(x)\n",
    "plt.show()"
   ]
  },
  {
   "cell_type": "markdown",
   "metadata": {},
   "source": [
    "\n",
    "### numpy.random.randn\n",
    "\n",
    "The randn function also creates a random array of floating point numbers however it differs from the rand function above in that floats can be positive or negative. It also differs in that the randn function is based on normal (Gaussian) distribution. A parameter can be passed in, telling the function how many floats to return. If no argument is provided, the function will return a single float. \n",
    "\n",
    "Within this function, the mean is 0 and the standard deviation is 1.\n",
    "\n",
    "Normal distribution [6] can be visually represented by a bell curve and is distribution that occurs naturally when there is no bias. Most of the data falls within one point or standard deviation on either side of the mean. Examples of normal distribution can be seen throughout the general population, for example in a collection of IQ test scores, blood pressure results, heights, weights etc. "
   ]
  },
  {
   "cell_type": "code",
   "execution_count": 7,
   "metadata": {
    "scrolled": true
   },
   "outputs": [
    {
     "data": {
      "text/plain": [
       "array([ 0.44265163,  2.54961546, -1.28826352, ...,  2.99918951,\n",
       "       -0.74956988, -0.80249417])"
      ]
     },
     "execution_count": 7,
     "metadata": {},
     "output_type": "execute_result"
    }
   ],
   "source": [
    "# To obtain an array of 10000 numbers using the randn function\n",
    "x = np.random.randn(10000)\n",
    "x"
   ]
  },
  {
   "cell_type": "code",
   "execution_count": 8,
   "metadata": {},
   "outputs": [
    {
     "data": {
      "image/png": "[encoded data removed]",
      "text/plain": [
       "<matplotlib.figure.Figure at 0x19f2c3f5780>"
      ]
     },
     "metadata": {
      "needs_background": "light"
     },
     "output_type": "display_data"
    }
   ],
   "source": [
    "plt.hist(x)\n",
    "plt.show()"
   ]
  },
  {
   "cell_type": "markdown",
   "metadata": {},
   "source": [
    "More parameters can also be passed into the randn function and it will return more than one set of data, for example:"
   ]
  },
  {
   "cell_type": "code",
   "execution_count": 9,
   "metadata": {},
   "outputs": [
    {
     "data": {
      "text/plain": [
       "array([[ 0.2550114 , -0.66254288, -0.56730503],\n",
       "       [-0.38404941, -0.78013479, -1.5376957 ],\n",
       "       [ 0.83039089, -0.60650263,  0.65791977],\n",
       "       ..., \n",
       "       [-1.12843743, -1.62897424,  0.28051642],\n",
       "       [-0.76883389,  1.83578123,  0.68516849],\n",
       "       [ 1.32310922, -1.52126414, -0.37428648]])"
      ]
     },
     "execution_count": 9,
     "metadata": {},
     "output_type": "execute_result"
    }
   ],
   "source": [
    "# To obtain three sets of arrays 10000 numbers using the randn function\n",
    "x = np.random.randn(10000, 3)\n",
    "x"
   ]
  },
  {
   "cell_type": "code",
   "execution_count": 10,
   "metadata": {},
   "outputs": [
    {
     "data": {
      "image/png": "[encoded data removed]",
      "text/plain": [
       "<matplotlib.figure.Figure at 0x19f2c3f56d8>"
      ]
     },
     "metadata": {
      "needs_background": "light"
     },
     "output_type": "display_data"
    }
   ],
   "source": [
    "plt.hist(x)\n",
    "plt.show()"
   ]
  },
  {
   "cell_type": "markdown",
   "metadata": {},
   "source": [
    "\n",
    "### numpy.random.randint()\n",
    "\n",
    "The randint function returns random integers (whole numbers) that have discrete uniform distribution. Discrete uniform distribution is also known as equally likely outcomes distribution [7]. This is where the probability of evenly spaced values are equally likely to occur, for example when rolling a 6 sided dice, there are 6 evenly likely possibilties of rolling a certain number \n",
    "\n",
    "In probability, discrete uniform distribution differs from continuous uniform distribution in that disrcrete uniform distribution refers to whole numbers and continuous uniform distribution refers to numbers containing a decimal point (floats) [8].  \n",
    "\n",
    "The randint function requires parameters for the lowest and highest numbers you would like it to return. Lowest and highest numbers can be set as postive or negative. The lowest number is included in the output however the highest number is excluded. The example:\n",
    "\n",
    "*np.random.randint(1, 10)*\n",
    "\n",
    "will return a single random number between 1 and 9 inclusive. The size of the sample required can also be set, as outlined below. "
   ]
  },
  {
   "cell_type": "code",
   "execution_count": 11,
   "metadata": {},
   "outputs": [
    {
     "data": {
      "text/plain": [
       "array([ 8, 12, 12, ..., 15,  0, 19])"
      ]
     },
     "execution_count": 11,
     "metadata": {},
     "output_type": "execute_result"
    }
   ],
   "source": [
    "# To return 10000 random floats between -5 and 19 using the randint function\n",
    "x = np.random.randint(-5, 20, size=10000)\n",
    "x"
   ]
  },
  {
   "cell_type": "code",
   "execution_count": 12,
   "metadata": {},
   "outputs": [
    {
     "data": {
      "image/png": "[encoded data removed]",
      "text/plain": [
       "<matplotlib.figure.Figure at 0x19f2c7301d0>"
      ]
     },
     "metadata": {
      "needs_background": "light"
     },
     "output_type": "display_data"
    }
   ],
   "source": [
    "plt.hist(x)\n",
    "plt.show()"
   ]
  },
  {
   "cell_type": "markdown",
   "metadata": {},
   "source": [
    "\n",
    "### numpy.random.random_integers()\n",
    "\n",
    "This function has been deprecated since version 1.11.0.\n"
   ]
  },
  {
   "cell_type": "markdown",
   "metadata": {},
   "source": [
    "\n",
    "### numpy.random.random_sample()\n",
    "\n",
    "The random_sample() function returns floats between 0.0 and 1.0, not including 1.0 using continuous uniform distribution. A single argument passed in will return that number of floats. If no argument is passed, a single float will be returned. "
   ]
  },
  {
   "cell_type": "code",
   "execution_count": 13,
   "metadata": {},
   "outputs": [
    {
     "data": {
      "text/plain": [
       "array([ 0.45986796,  0.063633  ,  0.11452374, ...,  0.60195854,\n",
       "        0.54202758,  0.33204658])"
      ]
     },
     "execution_count": 13,
     "metadata": {},
     "output_type": "execute_result"
    }
   ],
   "source": [
    "# To return 10000 random numbers using the random_sample function \n",
    "x = np.random.random_sample(10000)\n",
    "x"
   ]
  },
  {
   "cell_type": "code",
   "execution_count": 14,
   "metadata": {},
   "outputs": [
    {
     "data": {
      "image/png": "[encoded data removed]",
      "text/plain": [
       "<matplotlib.figure.Figure at 0x19f2c7ce128>"
      ]
     },
     "metadata": {
      "needs_background": "light"
     },
     "output_type": "display_data"
    }
   ],
   "source": [
    "plt.hist(x)\n",
    "plt.show()"
   ]
  },
  {
   "cell_type": "markdown",
   "metadata": {},
   "source": [
    "Similarly to the previous functions discussed, the random_sample function can also output more than one set of data if multiple arguments are passed in, for example:"
   ]
  },
  {
   "cell_type": "code",
   "execution_count": 15,
   "metadata": {
    "scrolled": true
   },
   "outputs": [
    {
     "data": {
      "text/plain": [
       "array([[[  7.81386707e-01,   5.98860346e-01,   4.72252068e-01,\n",
       "           7.29473353e-01,   4.34695844e-01],\n",
       "        [  7.23766338e-01,   9.13087741e-01,   6.60577590e-02,\n",
       "           6.10875472e-01,   6.57007305e-01],\n",
       "        [  9.59039208e-01,   8.83577298e-01,   2.99939594e-01,\n",
       "           4.52612278e-01,   4.05055061e-01]],\n",
       "\n",
       "       [[  5.37254029e-01,   6.29954826e-02,   9.29252301e-01,\n",
       "           1.28072948e-01,   4.25019226e-01],\n",
       "        [  5.28979651e-01,   7.79329589e-01,   2.09961309e-02,\n",
       "           8.69806778e-02,   4.46585061e-01],\n",
       "        [  6.66663824e-03,   6.31964173e-01,   5.75250125e-01,\n",
       "           4.47886981e-01,   4.56757919e-01]],\n",
       "\n",
       "       [[  7.67758714e-01,   1.04919531e-01,   6.21289956e-01,\n",
       "           7.39581636e-01,   3.81667650e-01],\n",
       "        [  3.54825519e-01,   7.97122765e-01,   3.23119194e-01,\n",
       "           2.82866032e-01,   4.06497787e-01],\n",
       "        [  3.25044606e-01,   8.44399259e-01,   5.77721350e-01,\n",
       "           3.73649589e-02,   1.13584089e-01]],\n",
       "\n",
       "       [[  7.66960037e-04,   2.40429762e-02,   2.30046398e-01,\n",
       "           9.09705863e-01,   7.23240627e-01],\n",
       "        [  5.38267265e-01,   9.91954266e-01,   7.42462337e-01,\n",
       "           1.13086858e-02,   9.94250269e-01],\n",
       "        [  2.29486084e-01,   6.59573712e-01,   9.72810370e-01,\n",
       "           7.65013767e-03,   9.19250486e-01]],\n",
       "\n",
       "       [[  5.08162383e-01,   4.57699876e-01,   8.28142017e-01,\n",
       "           3.97903038e-01,   5.82970001e-01],\n",
       "        [  7.12213344e-01,   6.88456945e-01,   7.85553889e-01,\n",
       "           6.88709516e-01,   9.58236985e-01],\n",
       "        [  1.51491603e-01,   2.42599239e-02,   3.97353992e-02,\n",
       "           2.48267320e-01,   9.13646879e-01]],\n",
       "\n",
       "       [[  3.84277962e-01,   5.22951516e-01,   8.27416967e-02,\n",
       "           9.40933219e-01,   9.20171705e-01],\n",
       "        [  4.63412437e-01,   5.34191879e-01,   8.47397337e-01,\n",
       "           6.43312474e-01,   5.20765390e-01],\n",
       "        [  7.26366190e-01,   1.88662408e-02,   3.08307040e-01,\n",
       "           8.87938144e-01,   4.00465138e-01]],\n",
       "\n",
       "       [[  9.69942579e-01,   7.39629437e-01,   8.36559428e-01,\n",
       "           9.32591837e-01,   3.00181784e-01],\n",
       "        [  1.38357989e-01,   8.58608746e-01,   6.60008431e-01,\n",
       "           2.40716201e-01,   4.01296200e-03],\n",
       "        [  2.75874647e-01,   2.71216055e-03,   3.14228261e-01,\n",
       "           7.07392279e-01,   6.77421956e-01]],\n",
       "\n",
       "       [[  7.34166464e-01,   4.69433118e-01,   9.84327921e-01,\n",
       "           8.86459309e-01,   9.44591264e-01],\n",
       "        [  4.77314688e-01,   3.96202786e-01,   6.01016379e-02,\n",
       "           2.15397597e-01,   1.37258285e-01],\n",
       "        [  2.56476695e-01,   3.56381205e-01,   7.02784165e-01,\n",
       "           4.39586210e-01,   8.10659968e-01]],\n",
       "\n",
       "       [[  1.65499669e-01,   9.20558287e-01,   9.34080941e-01,\n",
       "           6.92623385e-01,   6.38106562e-01],\n",
       "        [  6.36337122e-01,   8.56391758e-01,   5.75884529e-01,\n",
       "           8.22099178e-01,   9.15023715e-02],\n",
       "        [  6.63433251e-01,   2.76788806e-01,   5.99420573e-01,\n",
       "           9.72809833e-01,   6.46639626e-01]],\n",
       "\n",
       "       [[  5.59492696e-01,   1.51683984e-02,   8.29832744e-01,\n",
       "           5.34467677e-01,   6.68989550e-01],\n",
       "        [  4.04402839e-01,   3.71819838e-01,   5.49157091e-01,\n",
       "           2.15262591e-01,   5.38462827e-01],\n",
       "        [  9.36880235e-01,   8.13631003e-01,   7.05985845e-01,\n",
       "           2.01638522e-01,   9.32803354e-01]]])"
      ]
     },
     "execution_count": 15,
     "metadata": {},
     "output_type": "execute_result"
    }
   ],
   "source": [
    "# To reutn ten 3x5 arrays of random numbers using the random_sample function\n",
    "x = np.random.random_sample((10, 3, 5))\n",
    "x"
   ]
  },
  {
   "cell_type": "code",
   "execution_count": 16,
   "metadata": {},
   "outputs": [
    {
     "data": {
      "text/plain": [
       "array([[  6.31917479e-02,   4.65826640e-01,   5.59940021e-04,\n",
       "          5.77292219e-01],\n",
       "       [  1.44747406e-01,   7.85580923e-01,   9.39514081e-01,\n",
       "          5.71060285e-01],\n",
       "       [  9.25478594e-01,   8.06533656e-01,   2.65858526e-01,\n",
       "          5.29426032e-02],\n",
       "       [  1.15513337e-01,   9.73762445e-01,   3.52529884e-01,\n",
       "          4.81336347e-02],\n",
       "       [  2.61237405e-01,   3.10857230e-01,   1.17495736e-01,\n",
       "          7.72491023e-01],\n",
       "       [  9.88730452e-01,   9.50858412e-01,   6.50705719e-01,\n",
       "          9.82487953e-02],\n",
       "       [  4.88805933e-01,   8.31286856e-01,   7.10451468e-02,\n",
       "          4.78157288e-01],\n",
       "       [  1.78535776e-01,   9.53284158e-01,   2.53638541e-01,\n",
       "          8.27793573e-01],\n",
       "       [  2.48203783e-01,   2.03539463e-02,   7.48449186e-01,\n",
       "          3.54972042e-01],\n",
       "       [  8.36615618e-01,   5.86256036e-01,   4.12999537e-01,\n",
       "          8.92837197e-01],\n",
       "       [  4.37015171e-01,   4.48866521e-01,   8.99597977e-01,\n",
       "          8.48739064e-01],\n",
       "       [  6.06367459e-01,   6.91520350e-01,   3.67676913e-01,\n",
       "          2.91067734e-01],\n",
       "       [  1.13557352e-01,   4.24540417e-01,   2.23886208e-01,\n",
       "          2.76248304e-01],\n",
       "       [  1.90186599e-01,   3.87783761e-01,   2.15195659e-01,\n",
       "          8.70891887e-01],\n",
       "       [  3.63722491e-01,   1.71932391e-01,   3.35820189e-02,\n",
       "          5.08597581e-01],\n",
       "       [  8.34627062e-01,   2.99768818e-01,   4.65852157e-03,\n",
       "          4.04132404e-01],\n",
       "       [  2.70079230e-01,   5.21809817e-02,   3.74229273e-01,\n",
       "          1.50303858e-01],\n",
       "       [  6.87996587e-01,   6.07493178e-01,   3.46641458e-01,\n",
       "          8.42796170e-01],\n",
       "       [  9.53298551e-01,   3.69261818e-01,   7.95758286e-01,\n",
       "          2.01693847e-01],\n",
       "       [  8.25274866e-01,   1.59580829e-01,   3.97094015e-01,\n",
       "          5.99663532e-01]])"
      ]
     },
     "execution_count": 16,
     "metadata": {},
     "output_type": "execute_result"
    }
   ],
   "source": [
    "# To return twenty sets of 4 arrays using the random_sample function \n",
    "x = np.random.random_sample((20, 4))\n",
    "x"
   ]
  },
  {
   "cell_type": "code",
   "execution_count": 17,
   "metadata": {},
   "outputs": [
    {
     "data": {
      "image/png": "[encoded data removed]",
      "text/plain": [
       "<matplotlib.figure.Figure at 0x19f2c7ce780>"
      ]
     },
     "metadata": {
      "needs_background": "light"
     },
     "output_type": "display_data"
    }
   ],
   "source": [
    "plt.hist(x)\n",
    "plt.show()"
   ]
  },
  {
   "cell_type": "markdown",
   "metadata": {},
   "source": [
    "To use the random_sample function across a larger range of numbers (rather than between 0.0 and 1.0), the following code can be used: \n",
    "\n",
    "   *(b - a) * random_sample() + a*\n"
   ]
  },
  {
   "cell_type": "code",
   "execution_count": 18,
   "metadata": {},
   "outputs": [
    {
     "data": {
      "text/plain": [
       "array([ 4.53339814,  3.89536865,  4.8209804 ,  4.80885432,  2.45675723,\n",
       "        0.15185386,  3.56061251,  5.92203357,  4.06013631,  4.93206406])"
      ]
     },
     "execution_count": 18,
     "metadata": {},
     "output_type": "execute_result"
    }
   ],
   "source": [
    "# To obtain an array of ten random numbers (uniformly distributed) between 0 and 6\n",
    "x = -6 * np.random.random_sample(10) +6\n",
    "x"
   ]
  },
  {
   "cell_type": "markdown",
   "metadata": {},
   "source": [
    "\n",
    "### numpy.random.random(), numpy.random.ranf() and numpy.random.sample() functions\n",
    "\n",
    "The random, ranf and sample functions are the same as the random_sample function and they return the same output as described above [9]. "
   ]
  },
  {
   "cell_type": "code",
   "execution_count": 19,
   "metadata": {
    "scrolled": true
   },
   "outputs": [
    {
     "data": {
      "text/plain": [
       "array([ 0.04042071,  0.9642046 ,  0.48156481, ...,  0.50411734,\n",
       "        0.22273841,  0.00667333])"
      ]
     },
     "execution_count": 19,
     "metadata": {},
     "output_type": "execute_result"
    }
   ],
   "source": [
    "# To return 10000 floats using the random function and to demonstrate that this function is the \n",
    "# same as the random_sample function \n",
    "x = np.random.random(10000)\n",
    "x"
   ]
  },
  {
   "cell_type": "code",
   "execution_count": 20,
   "metadata": {},
   "outputs": [
    {
     "data": {
      "image/png": "[encoded data removed]",
      "text/plain": [
       "<matplotlib.figure.Figure at 0x19f2c7fc8d0>"
      ]
     },
     "metadata": {
      "needs_background": "light"
     },
     "output_type": "display_data"
    }
   ],
   "source": [
    "plt.hist(x)\n",
    "plt.show()"
   ]
  },
  {
   "cell_type": "code",
   "execution_count": 21,
   "metadata": {},
   "outputs": [
    {
     "data": {
      "text/plain": [
       "array([ 0.1041979 ,  0.81545444,  0.89923216, ...,  0.49474549,\n",
       "        0.47321961,  0.50490768])"
      ]
     },
     "execution_count": 21,
     "metadata": {},
     "output_type": "execute_result"
    }
   ],
   "source": [
    "# To return 10000 floats using the ranf function and to demonstrate that this function is the \n",
    "# same as the random_sample function \n",
    "x = np.random.ranf(10000)\n",
    "x"
   ]
  },
  {
   "cell_type": "code",
   "execution_count": 22,
   "metadata": {},
   "outputs": [
    {
     "data": {
      "image/png": "[encoded data removed]",
      "text/plain": [
       "<matplotlib.figure.Figure at 0x19f2c990278>"
      ]
     },
     "metadata": {
      "needs_background": "light"
     },
     "output_type": "display_data"
    }
   ],
   "source": [
    "plt.hist(x)\n",
    "plt.show()"
   ]
  },
  {
   "cell_type": "code",
   "execution_count": 23,
   "metadata": {},
   "outputs": [
    {
     "data": {
      "text/plain": [
       "array([ 0.23181922,  0.57765921,  0.57464766, ...,  0.96179625,\n",
       "        0.82689473,  0.61515145])"
      ]
     },
     "execution_count": 23,
     "metadata": {},
     "output_type": "execute_result"
    }
   ],
   "source": [
    "# To return 10000 floats using the sample function and to demonstrate that this function is the \n",
    "# same as the random_sample function \n",
    "x = np.random.sample(10000)\n",
    "x"
   ]
  },
  {
   "cell_type": "code",
   "execution_count": 24,
   "metadata": {},
   "outputs": [
    {
     "data": {
      "image/png": "[encoded data removed]",
      "text/plain": [
       "<matplotlib.figure.Figure at 0x19f2c9ff3c8>"
      ]
     },
     "metadata": {
      "needs_background": "light"
     },
     "output_type": "display_data"
    }
   ],
   "source": [
    "plt.hist(x)\n",
    "plt.show()"
   ]
  },
  {
   "cell_type": "markdown",
   "metadata": {},
   "source": [
    "\n",
    "### numpy.random.choice()\n",
    "\n",
    "At it's most basic, the choice function returns one positive integer when a single argument is passed in. The single argument that is passed in provides the range (automatically starting from 0) that the interger is randomly selected from. Using *np.random.choice(10)* is the same as selecting a single random integer from *np.arange(10).*\n"
   ]
  },
  {
   "cell_type": "code",
   "execution_count": 25,
   "metadata": {},
   "outputs": [
    {
     "data": {
      "text/plain": [
       "49"
      ]
     },
     "execution_count": 25,
     "metadata": {},
     "output_type": "execute_result"
    }
   ],
   "source": [
    "# To return a single integer between 0 and 99 using the choice function\n",
    "x = np.random.choice(100)\n",
    "x"
   ]
  },
  {
   "cell_type": "markdown",
   "metadata": {},
   "source": [
    "Further arguments can be passed in to the choice funtion. When a second parameter is passed, this relates to the size of the output, for example *np.random.choice(10, 3)* will return 3 random intergers from the range 0 to 9:"
   ]
  },
  {
   "cell_type": "code",
   "execution_count": 26,
   "metadata": {},
   "outputs": [
    {
     "data": {
      "text/plain": [
       "array([1, 4, 8])"
      ]
     },
     "execution_count": 26,
     "metadata": {},
     "output_type": "execute_result"
    }
   ],
   "source": [
    "# To return 3 integers between 0 and 9 using the choice function\n",
    "x = np.random.choice(10, 3)\n",
    "x"
   ]
  },
  {
   "cell_type": "markdown",
   "metadata": {},
   "source": [
    "When a third parameter - a boolean (True or False) is passed in, this will either allow or stop numbers from reccuring. For example True allows numbers to repeat and False stops numbers repeating: "
   ]
  },
  {
   "cell_type": "code",
   "execution_count": 27,
   "metadata": {},
   "outputs": [
    {
     "data": {
      "text/plain": [
       "array([6, 9, 0, 5, 2])"
      ]
     },
     "execution_count": 27,
     "metadata": {},
     "output_type": "execute_result"
    }
   ],
   "source": [
    "# To return 5 integers between 0 and 9 with repetition using the choice function\n",
    "x = np.random.choice(10, 5, True)\n",
    "x"
   ]
  },
  {
   "cell_type": "code",
   "execution_count": 28,
   "metadata": {},
   "outputs": [
    {
     "data": {
      "text/plain": [
       "array([5, 9, 7, 0, 1])"
      ]
     },
     "execution_count": 28,
     "metadata": {},
     "output_type": "execute_result"
    }
   ],
   "source": [
    "# To return 5 integers between 0 and 9 without repetition using the choice function\n",
    "x = np.random.choice(10, 5, False)\n",
    "x"
   ]
  },
  {
   "cell_type": "markdown",
   "metadata": {},
   "source": [
    "Finally, the choice function also allows for the type of distribution or probabilities assocaited with each entry to be set. If this parameter is not passed in, the choice function assumes uniform distribution."
   ]
  },
  {
   "cell_type": "markdown",
   "metadata": {},
   "source": [
    "\n",
    "### numpy.random.bytes()\n",
    "\n",
    "The bytes function returns a string of bytes when a parameter, which is an integer, is passed in."
   ]
  },
  {
   "cell_type": "code",
   "execution_count": 29,
   "metadata": {},
   "outputs": [
    {
     "data": {
      "text/plain": [
       "b'\\xfcx\\xbf\\n\\xcc\\\\\\xa6\\xf3\\xdbf'"
      ]
     },
     "execution_count": 29,
     "metadata": {},
     "output_type": "execute_result"
    }
   ],
   "source": [
    "# To return 10 bytes using the bytes function\n",
    "x = np.random.bytes(10)\n",
    "x"
   ]
  },
  {
   "cell_type": "markdown",
   "metadata": {},
   "source": [
    "---\n",
    "## Permutations functions in numpy.random\n",
    "\n",
    "There are 2 functions within the numpy.random \"permutations\" family of functions: \n",
    "\n",
    "- shuffle()\n",
    "- permutation()\n",
    "\n",
    "These are discussed below."
   ]
  },
  {
   "cell_type": "markdown",
   "metadata": {},
   "source": [
    "\n",
    "### numpy.random.shuffle()"
   ]
  },
  {
   "cell_type": "markdown",
   "metadata": {},
   "source": [
    "The shuffle function shuffles a sequence of set integers. It changes the sequence or order of integers while the integers remain the same. Shuffle permanently changes the array in place therefore the output remains changed. The single parameter passed in indicates the range of numbers returned, for example *(20)* indicates an array from *0 to 19.* "
   ]
  },
  {
   "cell_type": "code",
   "execution_count": 30,
   "metadata": {},
   "outputs": [
    {
     "data": {
      "text/plain": [
       "(None, array([0, 1, 2, 4, 7, 3, 9, 5, 8, 6]))"
      ]
     },
     "execution_count": 30,
     "metadata": {},
     "output_type": "execute_result"
    }
   ],
   "source": [
    "# Create an ordered array of numbers 0-9. \n",
    "arr = np.arange(10)\n",
    "\n",
    "# The shuffle function will change the sequence of these numbers and this will become the new sequence of numbers \n",
    "# for further code\n",
    "\n",
    "shuffled = np.random.shuffle(arr)\n",
    "shuffled, arr"
   ]
  },
  {
   "cell_type": "markdown",
   "metadata": {},
   "source": [
    "\n",
    "### numpy.random.permutation()"
   ]
  },
  {
   "cell_type": "markdown",
   "metadata": {},
   "source": [
    "The permutation function works similarly to the shuffle function but returns a new array, leaving the original array untouched, as demonstrated below."
   ]
  },
  {
   "cell_type": "code",
   "execution_count": 31,
   "metadata": {},
   "outputs": [
    {
     "data": {
      "text/plain": [
       "(array([7, 1, 3, 6, 8, 0, 5, 9, 2, 4]), array([0, 1, 2, 3, 4, 5, 6, 7, 8, 9]))"
      ]
     },
     "execution_count": 31,
     "metadata": {},
     "output_type": "execute_result"
    }
   ],
   "source": [
    "# Create an ordered array of numbers 0-9. \n",
    "arr = np.arange(10)\n",
    "\n",
    "# The \"arr\" array remains the same while the permutation function shuffles the integers \n",
    "shuffled = np.random.permutation(arr)\n",
    "shuffled, arr"
   ]
  },
  {
   "cell_type": "markdown",
   "metadata": {
    "collapsed": true
   },
   "source": [
    "---\n",
    "## Distributions functions in numpy.random\n",
    "\n",
    "There are 35 functions within the numpy.random \"distributions\" family of functions. Seven of these functions are described below, including:\n",
    "\n",
    "- uniform()\n",
    "- standard_normal()\n",
    "- normal()\n",
    "- poisson()\n",
    "- power()\n",
    "- exponential()\n",
    "- standard_exponential()"
   ]
  },
  {
   "cell_type": "markdown",
   "metadata": {},
   "source": [
    "\n",
    "### numpy.random.uniform()"
   ]
  },
  {
   "cell_type": "markdown",
   "metadata": {},
   "source": [
    "The uniform function is similar to the rand function described above in that it is utilises uniform distribution. Uniform distribution is where each outcome is equally as likely, for example when choosing a random card from a deck of cards [10]. \n",
    "\n",
    "The uniform function differs in that low and high parameters can be set. The \"low\" parameter is included as a value however the \"high\" parameter is not included. The below example demonstrates that values of 0 can occur however only values up to and including 9 can occur. This function returns floats which indicates continuous uniform distribution. \n",
    "\n",
    "The purpose of this function is to generate random floats within a set range where all numbers are euqally likely to occur.  "
   ]
  },
  {
   "cell_type": "code",
   "execution_count": 32,
   "metadata": {},
   "outputs": [
    {
     "data": {
      "text/plain": [
       "array([ 5.24785053,  3.46872734,  3.73475598, ...,  3.89444442,\n",
       "        1.88005698,  2.05853187])"
      ]
     },
     "execution_count": 32,
     "metadata": {},
     "output_type": "execute_result"
    }
   ],
   "source": [
    "# To return an array of 10000 random integers between the values of 0 and 9 using the uniform function. \n",
    "x = np.random.uniform(0, 10,10000)\n",
    "x"
   ]
  },
  {
   "cell_type": "code",
   "execution_count": 33,
   "metadata": {},
   "outputs": [
    {
     "data": {
      "image/png": "[encoded data removed]",
      "text/plain": [
       "<matplotlib.figure.Figure at 0x19f2cabf518>"
      ]
     },
     "metadata": {
      "needs_background": "light"
     },
     "output_type": "display_data"
    }
   ],
   "source": [
    "plt.hist(x)\n",
    "plt.show()"
   ]
  },
  {
   "cell_type": "markdown",
   "metadata": {},
   "source": [
    "\n",
    "### numpy.random.normal()\n",
    "\n",
    "The normal function runs similarly to the randn function described above.It is based on normal (Gaussian) distribution and visually displays a typical bell curve.  \n",
    "\n",
    "The normal function differs from the randn function in that the randn function always has a set mean of 0 and a standard deviation of 1, whereas any mean and standard deviation can be passed in to the normal function. \n",
    "\n",
    "The purpose of this function is to generate random floats, with a set mean, where approximately 50% of the floats will be within a set standard deviation of the mean. \n",
    "\n",
    "In the example below, the mean is 10 and the standard deviation is 5. You can see that approximately 50% of the values occur within -1 and +1 standard deviation of the mean, from 5 to 15. "
   ]
  },
  {
   "cell_type": "code",
   "execution_count": 34,
   "metadata": {},
   "outputs": [
    {
     "data": {
      "text/plain": [
       "array([  1.65172204,  11.51120199,  15.34512795, ...,   7.47867483,\n",
       "        16.35244245,  -1.92650032])"
      ]
     },
     "execution_count": 34,
     "metadata": {},
     "output_type": "execute_result"
    }
   ],
   "source": [
    "# To return an array of 10000 random integers, with a mean of 10 and a standard deviation of 5\n",
    "# using the normal function. \n",
    "x = np.random.normal(10, 5, 10000)\n",
    "x"
   ]
  },
  {
   "cell_type": "code",
   "execution_count": 35,
   "metadata": {},
   "outputs": [
    {
     "data": {
      "image/png": "[encoded data removed]",
      "text/plain": [
       "<matplotlib.figure.Figure at 0x19f2caedc50>"
      ]
     },
     "metadata": {
      "needs_background": "light"
     },
     "output_type": "display_data"
    }
   ],
   "source": [
    "plt.hist(x)\n",
    "plt.show()"
   ]
  },
  {
   "cell_type": "markdown",
   "metadata": {},
   "source": [
    "\n",
    "### numpy.random.standard_normal()\n",
    "\n",
    "The standard_normal function is the same as the randn function. It uses normal distribution, it always has a mean of 0 and standard deviation of 1.\n",
    "\n",
    "The purpose of this function is to return a set number of random floats, where approximately 50% of the floats will be within -1 and 1 standard deviation of the mean. In other words, half of the outputs will be closer to 0 and there will be less floats (both positive and negative) as the values move further away from 0."
   ]
  },
  {
   "cell_type": "code",
   "execution_count": 36,
   "metadata": {},
   "outputs": [
    {
     "data": {
      "text/plain": [
       "array([-0.995772  , -0.23233341,  1.26693635, ...,  0.5084677 ,\n",
       "       -0.12500772, -0.51265787])"
      ]
     },
     "execution_count": 36,
     "metadata": {},
     "output_type": "execute_result"
    }
   ],
   "source": [
    "# To return an array of 10000 random floats using the standard_normal function. \n",
    "x = np.random.standard_normal(10000)\n",
    "x"
   ]
  },
  {
   "cell_type": "code",
   "execution_count": 37,
   "metadata": {},
   "outputs": [
    {
     "data": {
      "image/png": "[encoded data removed]",
      "text/plain": [
       "<matplotlib.figure.Figure at 0x19f2cb125c0>"
      ]
     },
     "metadata": {
      "needs_background": "light"
     },
     "output_type": "display_data"
    }
   ],
   "source": [
    "plt.hist(x)\n",
    "plt.show()"
   ]
  },
  {
   "cell_type": "markdown",
   "metadata": {},
   "source": [
    "\n",
    "### numpy.random.poisson()\n",
    "\n",
    "The poisson function returns an array of positive integers based on the Poisson distribution. In statistics, the Poisson distribution demonstrates the probability that a given number of events will occur over a fixed time, distance, area or volume with a known constant rate. These events are discrete in that the occurence of one does not influence the occurence of the next thus occuring independently [11].\n",
    "\n",
    "Parameters for the poisson function can influence the size of the interval and the number of integers returned. If an interval is not indicated, the default integer is 1. The below example depicts an array of 10000 random integers from the Poisson distribution where lambda is 3. It is observed that the greater the number of random outputs, the greater the number of values between 0 and 3."
   ]
  },
  {
   "cell_type": "code",
   "execution_count": 38,
   "metadata": {
    "scrolled": true
   },
   "outputs": [
    {
     "data": {
      "text/plain": [
       "array([3, 7, 3, ..., 2, 1, 5])"
      ]
     },
     "execution_count": 38,
     "metadata": {},
     "output_type": "execute_result"
    }
   ],
   "source": [
    "# To return 10000 intergers, with a poisson distribution pf 3, using the poisson function.  \n",
    "x = np.random.poisson(3, 10000)\n",
    "x"
   ]
  },
  {
   "cell_type": "code",
   "execution_count": 39,
   "metadata": {},
   "outputs": [
    {
     "data": {
      "image/png": "[encoded data removed]",
      "text/plain": [
       "<matplotlib.figure.Figure at 0x19f2caab5f8>"
      ]
     },
     "metadata": {
      "needs_background": "light"
     },
     "output_type": "display_data"
    }
   ],
   "source": [
    "plt.hist(x)\n",
    "plt.show()"
   ]
  },
  {
   "cell_type": "markdown",
   "metadata": {},
   "source": [
    "\n",
    "### numpy.random.power()\n",
    "\n",
    "The power function returns random positive floats between 0.0 and 1.0, but not including 1.0. These random numbers are selected from a positive exponential distribution - this means that there is an increase in the number of outputs or values the closer we get to 1.0. Exponential distribution can be described in relation to time - the probability that an event will occur increases or becomes more likely as the time increases, for example scoring a goal in a football match [12]. \n",
    "\n",
    "The purpose of this function is to generate random floats from 0.0 up to but not including 1.0, where the larger numbers (numbers closer to 1.0) have a higher probability of occuring - it is more likely that there will be a greater number of values closer to 1.0. "
   ]
  },
  {
   "cell_type": "code",
   "execution_count": 40,
   "metadata": {},
   "outputs": [
    {
     "data": {
      "text/plain": [
       "array([ 0.85580486,  0.81076942,  0.64572386, ...,  0.8474337 ,\n",
       "        0.63679168,  0.48202171])"
      ]
     },
     "execution_count": 40,
     "metadata": {},
     "output_type": "execute_result"
    }
   ],
   "source": [
    "# To return 10000 random floats from 0.0 up to but not including 1.0, with a scale of 3 using the power function. \n",
    "x = np.random.power(3, 10000)\n",
    "x"
   ]
  },
  {
   "cell_type": "code",
   "execution_count": 41,
   "metadata": {},
   "outputs": [
    {
     "data": {
      "image/png": "[encoded data removed]",
      "text/plain": [
       "<matplotlib.figure.Figure at 0x19f2c9d7128>"
      ]
     },
     "metadata": {
      "needs_background": "light"
     },
     "output_type": "display_data"
    }
   ],
   "source": [
    "plt.hist(x)\n",
    "plt.show()"
   ]
  },
  {
   "cell_type": "markdown",
   "metadata": {},
   "source": [
    "The a parameter (or first parameter) within the parentheses influences the values closer to 1.0. A higher a parameter results in a larger number of outputs that are closer to 1.0, in keeping with positive exponential distribution. This is demonstrated in the above and below histograms where a = 3 and a = 11."
   ]
  },
  {
   "cell_type": "code",
   "execution_count": 42,
   "metadata": {},
   "outputs": [
    {
     "data": {
      "text/plain": [
       "array([ 0.92663373,  0.95910765,  0.96434359, ...,  0.95168704,\n",
       "        0.99764241,  0.99400814])"
      ]
     },
     "execution_count": 42,
     "metadata": {},
     "output_type": "execute_result"
    }
   ],
   "source": [
    "# To return 10000 random floats from 0.0 up to but not including 1.0, with a scale of 11 using the power function. \n",
    "x = np.random.power( 11, 10000)\n",
    "x"
   ]
  },
  {
   "cell_type": "code",
   "execution_count": 43,
   "metadata": {},
   "outputs": [
    {
     "data": {
      "image/png": "[encoded data removed]",
      "text/plain": [
       "<matplotlib.figure.Figure at 0x19f2c7e36a0>"
      ]
     },
     "metadata": {
      "needs_background": "light"
     },
     "output_type": "display_data"
    }
   ],
   "source": [
    "plt.hist(x)\n",
    "plt.show()"
   ]
  },
  {
   "cell_type": "markdown",
   "metadata": {},
   "source": [
    "\n",
    "### numpy.random.exponential()\n",
    "\n",
    "The exponential function returns random positive floats from a negative exponential distribution. A parameter can be passed in to set the scale of the distribution. The smaller the scale, the closer together the values will be (smaller intervals along the x axis when plotted). A further parameter can be pased in to set the size or number of floats returned. Most of the values returned are close to 0. The larger the numbers become, the lower probability there is of them occuring, therefore this is the opposite of positive exponential distribution described in relation to the power function. \n",
    "\n",
    "Negative exponential distribution can be used to describe the time between events in a Poisson process. \n",
    "The Poisson process offers a way to find probabilities for random points in time for a process. This process could be anything, for example customers arriving in a shop [13]. "
   ]
  },
  {
   "cell_type": "code",
   "execution_count": 44,
   "metadata": {},
   "outputs": [
    {
     "data": {
      "text/plain": [
       "array([  9.56943665e-01,   2.78719908e-03,   1.73948035e-02, ...,\n",
       "         2.71859692e+00,   7.37542556e+00,   2.07838606e+00])"
      ]
     },
     "execution_count": 44,
     "metadata": {},
     "output_type": "execute_result"
    }
   ],
   "source": [
    "# To return 10000 random floats with a scale of 7 using the exponential function \n",
    "x = np.random.exponential(7, 10000)\n",
    "x"
   ]
  },
  {
   "cell_type": "code",
   "execution_count": 45,
   "metadata": {},
   "outputs": [
    {
     "data": {
      "image/png": "[encoded data removed]",
      "text/plain": [
       "<matplotlib.figure.Figure at 0x19f2c56f358>"
      ]
     },
     "metadata": {
      "needs_background": "light"
     },
     "output_type": "display_data"
    }
   ],
   "source": [
    "plt.hist(x)\n",
    "plt.show()"
   ]
  },
  {
   "cell_type": "markdown",
   "metadata": {},
   "source": [
    "\n",
    "### numpy.random.standard_exponential()\n",
    "\n",
    "The standard_exponential function is the same as the exponential function however the standard_exponential function always has a scale of 1. A parameter can be passed in to return a specified number of floats. "
   ]
  },
  {
   "cell_type": "code",
   "execution_count": 46,
   "metadata": {},
   "outputs": [
    {
     "data": {
      "text/plain": [
       "array([ 0.47029251,  2.94472319,  0.78476176, ...,  0.18912123,\n",
       "        1.36099455,  0.86729022])"
      ]
     },
     "execution_count": 46,
     "metadata": {},
     "output_type": "execute_result"
    }
   ],
   "source": [
    "# To return 10000 random floats with a set scale of 1 using the standard_exponential function \n",
    "x = np.random.standard_exponential(10000)\n",
    "x"
   ]
  },
  {
   "cell_type": "code",
   "execution_count": 47,
   "metadata": {},
   "outputs": [
    {
     "data": {
      "image/png": "[encoded data removed]",
      "text/plain": [
       "<matplotlib.figure.Figure at 0x19f2caeda20>"
      ]
     },
     "metadata": {
      "needs_background": "light"
     },
     "output_type": "display_data"
    }
   ],
   "source": [
    "plt.hist(x)\n",
    "plt.show()"
   ]
  },
  {
   "cell_type": "markdown",
   "metadata": {},
   "source": [
    "---\n",
    "## The Use of Seeds in Pseudo-Random Number Generation\n",
    "\n",
    "\n",
    "Throughout this document reference to generating random numbers is made however it is important to note that computers are unable to truly generate random numbers, due to  the fact that computers are deterministic - every time you ask the same question, you’ll get the same answer [14]. \n",
    "\n",
    "Instead, pseudo-random numbers are generated using an algorithm or mathematical function. The Mersenne Twister [15] is a widely used pseudo-random number generator (PRNG). A PRGN requires a parameter to start the process of generating pseudo-random numbers. This is known as the seed [16].\n",
    "\n",
    "Setting the seed can make generating pseudo-random numbers predictable, ensuring that the code produces the same result each time, which is useful when testing code.  "
   ]
  },
  {
   "cell_type": "markdown",
   "metadata": {},
   "source": [
    "## References "
   ]
  },
  {
   "cell_type": "markdown",
   "metadata": {},
   "source": [
    "[1] SciPy. Quickstart Tutorial. [ONLINE]. Available at: https://docs.scipy.org/doc/numpy/user/quickstart.html [Accessed 03 November 2018]. \n",
    "\n",
    "[2] Data Cam. Python Numpy Array Tutorial. [ONLINE] Available at: https://www.datacamp.com/community/tutorials/python-numpy-tutorial [Accessed 03 November 2018]. \n",
    "\n",
    "[3] SciPy. Array Creation. [ONLINE]. Available at: https://docs.scipy.org/doc/numpy/user/basics.creation.html [Accessed 03 November 2018]. \n",
    "\n",
    "[4] Investopedia. Uniform Distribution. [ONLINE] Available at: https://www.investopedia.com/terms/u/uniform-distribution.asp [Accessed 04 November 2018]. \n",
    "\n",
    "[5] IPython. Built in Magic Commands. [ONLINE] Available at: https://ipython.readthedocs.io/en/stable/interactive/magics.html [Accessed 11 November 2018]. \n",
    "\n",
    "[6] Statistics How To. Normal Distributions: Definition, Word Problems. [ONLINE] Available at: https://www.statisticshowto.datasciencecentral.com/probability-and-statistics/normal-distributions/ [Accessed 04 November 2018]. \n",
    "\n",
    "[7] Chegg Study. Discrete Uniform. [ONLINE] Available at: https://www.chegg.com/homework-help/definitions/discrete-uniform-31 [Accessed 04 November 2018]. \n",
    "\n",
    "[8] Socratic. What is the Difference Between a Discrete Uniform Distribution and a Continuous Uniform Distribution? [ONLINE] Available at: https://socratic.org/questions/what-is-the-difference-between-a-discrete-uniform-distribution-and-a-continuous- [Accessed 04 November 2018]. \n",
    "\n",
    "[9] Stack Overflow. Difference Between Various Numpy Random Functions. [ONLINE] Available at: https://stackoverflow.com/questions/18829185/difference-between-various-numpy-random-functions [Accessed 04 November 2018]. \n",
    "\n",
    "[10] Sudy. Uniform Distribution in Statistics: Definition & Examples. [ONLINE] Available at: https://study.com/academy/lesson/uniform-distribution-in-statistics-definition-examples.html [Accessed 11 November 2018]. \n",
    "\n",
    "[11] Stat Trek. Poisson Distribution. [ONLINE] Available at: https://stattrek.com/probability-distributions/poisson.aspx [Accessed 06 November 2018]. \n",
    "\n",
    "[12] Statlect. Exponential Distribution. [ONLINE] Available at: https://www.statlect.com/probability-distributions/exponential-distribution [Accessed 06 November 2018]. \n",
    "\n",
    "[13] Statistics How To. Exponential Distribution / Negative Exponential: Definition, Examples. [ONLINE] Available at: [https://www.statisticshowto.datasciencecentral.com/exponential-distribution/ {Accessed 11 November 2018]. \n",
    "\n",
    "[14] School of Engineering. Can a Computer Generate a Truly Random Number? [ONLINE] Available at: https://engineering.mit.edu/engage/ask-an-engineer/can-a-computer-generate-a-truly-random-number/ [Accessed 09 November 2018].  \n",
    "\n",
    "[15] Wikipedia. Mersenne Twister. [ONLINE]. Available at: https://en.wikipedia.org/wiki/Mersenne_Twister [Accessed 09 November 2018]. \n",
    "\n",
    "[16] Machine Learning Mastery. How to Generate Random Numbers in Python. [ONLINE] Available at: https://machinelearningmastery.com/how-to-generate-random-numbers-in-python/ [Accessed 09 November 2018]. \n"
   ]
  },
  {
   "cell_type": "markdown",
   "metadata": {},
   "source": [
    "## Bibliography and Acknowledgements "
   ]
  },
  {
   "cell_type": "markdown",
   "metadata": {},
   "source": [
    "- https://docs.scipy.org/doc/numpy-1.15.1/user/whatisnumpy.html date: 20/10/2018\n",
    "\n",
    "\n",
    "- https://docs.scipy.org/doc/numpy-1.15.1/reference/routines.random.html date:27/10/2018\n",
    "\n",
    "\n",
    "- http://nbviewer.jupyter.org/gist/rossant/4645217 date: 03/11/2018\n",
    "\n",
    "\n",
    "- https://en.wikipedia.org/wiki/NumPy date: 03/11/2018\n",
    "\n",
    "\n",
    "- https://www.packtpub.com/mapt/book/big_data_and_business_intelligence/9781785285110/2/ch02lvl1sec16/numpy-random-numbers date: 03/11/2018\n",
    "\n",
    "\n",
    "- https://www.datacamp.com/community/tutorials/python-numpy-tutorial date: 03/11/2018 \n",
    "\n",
    "\n",
    "- http://mathworld.wolfram.com/DiscreteUniformDistribution.html date: 04/11/2018 \n",
    "\n",
    "\n",
    "- https://machinelearningmastery.com/how-to-generate-random-numbers-in-python/ - good for seeds and pseudo random number info 04/11/2018\n",
    "\n",
    "\n",
    "- https://stackoverflow.com/questions/21494489/what-does-numpy-random-seed0-do dated: 09/11/2018\n",
    "\n",
    "\n",
    "- https://matplotlib.org/contents.html dated:11/11/2018"
   ]
  },
  {
   "cell_type": "markdown",
   "metadata": {},
   "source": [
    "**Author:** Emma Patton"
   ]
  }
 ],
 "metadata": {
  "kernelspec": {
   "display_name": "Python 3",
   "language": "python",
   "name": "python3"
  },
  "language_info": {
   "codemirror_mode": {
    "name": "ipython",
    "version": 3
   },
   "file_extension": ".py",
   "mimetype": "text/x-python",
   "name": "python",
   "nbconvert_exporter": "python",
   "pygments_lexer": "ipython3",
   "version": "3.6.7"
  }
 },
 "nbformat": 4,
 "nbformat_minor": 2
}
