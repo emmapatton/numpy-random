{
 "cells": [
  {
   "cell_type": "markdown",
   "metadata": {},
   "source": [
    "# An Overview of the numpy.random Package"
   ]
  },
  {
   "cell_type": "markdown",
   "metadata": {},
   "source": [
    "## Purpose of the numpy.random Package"
   ]
  },
  {
   "cell_type": "markdown",
   "metadata": {},
   "source": [
    "NumPy is a Python library used for scientific and mathematical computing in the Python programming language [1]. It contains a number of tools that can be used to solve mathematical models of problems using a computer [2]. \n",
    "\n",
    "Numpy.random is a collection of special library functions within NumPy to generate random numbers. These functions can also be used to organise random numbers into arrays of different shapes and sizes [3]. \n",
    "\n",
    "\n",
    "Functions within the numpy.random library are organised into four main categories: \n",
    "\n",
    "- Simple random data\n",
    "- Permutations\n",
    "- Distributions\n",
    "- Random generator\n",
    "\n",
    "The full numpy.random documentation can be accessed [here.](https://docs.scipy.org/doc/numpy/reference/routines.random.html)"
   ]
  },
  {
   "cell_type": "markdown",
   "metadata": {},
   "source": [
    "## Simple random data functions in numpy.random"
   ]
  },
  {
   "cell_type": "markdown",
   "metadata": {},
   "source": [
    "There are 10 functions within the numpy.random \"Simple random data\" family of functions: \n",
    "\n",
    "- rand()\n",
    "- randn()\n",
    "- randint()\n",
    "- random_integers()\n",
    "- random_sample()\n",
    "- random()\n",
    "- ranf()\n",
    "- sample()\n",
    "- choice()\n",
    "- bytes()\n",
    "\n",
    "Each of these are discussed below.\n",
    "\n"
   ]
  },
  {
   "cell_type": "code",
   "execution_count": 3,
   "metadata": {},
   "outputs": [],
   "source": [
    "import numpy as np\n",
    "import matplotlib.pyplot as plt"
   ]
  },
  {
   "cell_type": "markdown",
   "metadata": {},
   "source": [
    "### numpy.random.rand()\n",
    "\n",
    "The rand function creates a random array of positive floating point numbers with a uniform distribution from 0, up to but not including 1. An argument can be fed in, telling the function how many numbers to return. If no argument is provided, the function will return a single float. \n",
    "\n",
    "In other words, this function creates random numbers that are uniformly distributed between 0 and 1, but not including the number 1.Uniform distribution is where each variable, or number in this case, has the same (uniform) probability [4]."
   ]
  },
  {
   "cell_type": "code",
   "execution_count": 13,
   "metadata": {
    "scrolled": true
   },
   "outputs": [
    {
     "data": {
      "text/plain": [
       "array([ 0.30433167,  0.42490276,  0.95475582, ...,  0.30398222,\n",
       "        0.19670903,  0.82490132])"
      ]
     },
     "execution_count": 13,
     "metadata": {},
     "output_type": "execute_result"
    }
   ],
   "source": [
    "# To obtain an array of 100 numbers \n",
    "x = np.random.rand(10000)\n",
    "x"
   ]
  },
  {
   "cell_type": "code",
   "execution_count": 14,
   "metadata": {},
   "outputs": [
    {
     "data": {
      "image/png": "[encoded data removed]",
      "text/plain": [
       "<matplotlib.figure.Figure at 0x25f4e3205c0>"
      ]
     },
     "metadata": {
      "needs_background": "light"
     },
     "output_type": "display_data"
    }
   ],
   "source": [
    "%matplotlib inline\n",
    "\n",
    "# To plot these numbers on a histogram\n",
    "plt.hist(x)\n",
    "plt.show()"
   ]
  },
  {
   "cell_type": "markdown",
   "metadata": {},
   "source": [
    "Further information can be added to request that more than one array of random data is returned, for example:"
   ]
  },
  {
   "cell_type": "code",
   "execution_count": 33,
   "metadata": {},
   "outputs": [
    {
     "data": {
      "text/plain": [
       "array([[ 0.66056044,  0.54390765],\n",
       "       [ 0.52357518,  0.03308008],\n",
       "       [ 0.97203912,  0.69732412],\n",
       "       ..., \n",
       "       [ 0.06050454,  0.02505118],\n",
       "       [ 0.99345262,  0.40812638],\n",
       "       [ 0.18086176,  0.54315676]])"
      ]
     },
     "execution_count": 33,
     "metadata": {},
     "output_type": "execute_result"
    }
   ],
   "source": [
    "x = np.random.rand(10000, 2)\n",
    "x"
   ]
  },
  {
   "cell_type": "code",
   "execution_count": 34,
   "metadata": {},
   "outputs": [
    {
     "data": {
      "image/png": "[encoded data removed]",
      "text/plain": [
       "<matplotlib.figure.Figure at 0x25f5080d6d8>"
      ]
     },
     "metadata": {
      "needs_background": "light"
     },
     "output_type": "display_data"
    }
   ],
   "source": [
    "plt.hist(x)\n",
    "plt.show()"
   ]
  },
  {
   "cell_type": "markdown",
   "metadata": {},
   "source": [
    "### numpy.random.randn"
   ]
  },
  {
   "cell_type": "markdown",
   "metadata": {},
   "source": [
    "The randn function also creates a random array of floating point numbers however it differs from the rand function above in that floats can be positive or negative and the distribution is normal (Gaussian). \n",
    "\n",
    "Normal distribution [5] can be visually represented by a bell curve and is ditrubtion that occurs naturally when there is no bias. Most of the data falls within one point or standard deviation on either side of the mean. Exmaples of normal distribution can be seen throughout the general population, for example in a collection of IQ test scores, blood pressure results, heights and weights etc. "
   ]
  },
  {
   "cell_type": "code",
   "execution_count": 39,
   "metadata": {
    "scrolled": true
   },
   "outputs": [
    {
     "data": {
      "text/plain": [
       "array([-0.58345736,  2.35543822, -1.31407013, ...,  0.2155614 ,\n",
       "        0.3542112 , -0.01783349])"
      ]
     },
     "execution_count": 39,
     "metadata": {},
     "output_type": "execute_result"
    }
   ],
   "source": [
    "x = np.random.randn(10000)\n",
    "x"
   ]
  },
  {
   "cell_type": "code",
   "execution_count": 40,
   "metadata": {},
   "outputs": [
    {
     "data": {
      "image/png": "[encoded data removed]",
      "text/plain": [
       "<matplotlib.figure.Figure at 0x25f507d9ba8>"
      ]
     },
     "metadata": {
      "needs_background": "light"
     },
     "output_type": "display_data"
    }
   ],
   "source": [
    "plt.hist(x)\n",
    "plt.show()"
   ]
  },
  {
   "cell_type": "markdown",
   "metadata": {},
   "source": [
    "This function can also provide more than one set of data, for example:"
   ]
  },
  {
   "cell_type": "code",
   "execution_count": 42,
   "metadata": {},
   "outputs": [
    {
     "data": {
      "text/plain": [
       "array([[ 0.83957   , -0.99722271,  1.23183195],\n",
       "       [-0.10642432, -0.31538104,  0.43166274],\n",
       "       [ 2.03197635, -0.9246714 ,  0.43144204],\n",
       "       ..., \n",
       "       [-0.57973726,  1.10873455, -0.22873039],\n",
       "       [-0.16943497,  0.55807071,  0.11355613],\n",
       "       [-1.16150427,  0.30954389, -0.51069824]])"
      ]
     },
     "execution_count": 42,
     "metadata": {},
     "output_type": "execute_result"
    }
   ],
   "source": [
    "x = np.random.randn(10000, 3)\n",
    "x"
   ]
  },
  {
   "cell_type": "code",
   "execution_count": 43,
   "metadata": {},
   "outputs": [
    {
     "data": {
      "image/png": "[encoded data removed]",
      "text/plain": [
       "<matplotlib.figure.Figure at 0x25f5084d550>"
      ]
     },
     "metadata": {
      "needs_background": "light"
     },
     "output_type": "display_data"
    }
   ],
   "source": [
    "plt.hist(x)\n",
    "plt.show()"
   ]
  },
  {
   "cell_type": "markdown",
   "metadata": {},
   "source": [
    "### numpy.random.randint()"
   ]
  },
  {
   "cell_type": "code",
   "execution_count": 6,
   "metadata": {},
   "outputs": [
    {
     "data": {
      "text/plain": [
       "array([14, 18, 16, 13, 19, 11, 19, 16, 12, 12, 12, 20, 19, 11, 16, 13, 11,\n",
       "       18, 19, 10, 15, 15, 16, 12, 19, 10, 17, 18, 16, 17, 20, 12, 20, 12,\n",
       "       16, 20, 17, 13, 16, 10, 14, 17, 14, 16, 18, 14, 14, 16, 19, 19, 10,\n",
       "       17, 13, 20, 15, 11, 18, 12, 17, 12, 17, 19, 11, 18, 10, 15, 14, 10,\n",
       "       17, 15, 18, 20, 15, 15, 16, 18, 10, 11, 13, 20, 10, 16, 16, 10, 13,\n",
       "       19, 20, 12, 19, 15, 18, 16, 14, 17, 11, 19, 13, 13, 18, 20])"
      ]
     },
     "execution_count": 6,
     "metadata": {},
     "output_type": "execute_result"
    }
   ],
   "source": [
    "x = np.random.randint(10, 21,size=100)\n",
    "x"
   ]
  },
  {
   "cell_type": "code",
   "execution_count": 7,
   "metadata": {},
   "outputs": [
    {
     "data": {
      "image/png": "[encoded data removed]",
      "text/plain": [
       "<matplotlib.figure.Figure at 0x26e21e98b70>"
      ]
     },
     "metadata": {
      "needs_background": "light"
     },
     "output_type": "display_data"
    }
   ],
   "source": [
    "plt.hist(x)\n",
    "plt.show()"
   ]
  },
  {
   "cell_type": "markdown",
   "metadata": {},
   "source": [
    "### numpy.random.random_integers()"
   ]
  },
  {
   "cell_type": "code",
   "execution_count": 8,
   "metadata": {},
   "outputs": [
    {
     "name": "stderr",
     "output_type": "stream",
     "text": [
      "C:\\ProgramData\\Anaconda3\\lib\\site-packages\\ipykernel_launcher.py:1: DeprecationWarning: This function is deprecated. Please call randint(1, 100 + 1) instead\n",
      "  \"\"\"Entry point for launching an IPython kernel.\n"
     ]
    },
    {
     "data": {
      "text/plain": [
       "45"
      ]
     },
     "execution_count": 8,
     "metadata": {},
     "output_type": "execute_result"
    }
   ],
   "source": [
    "x = np.random.random_integers(100)\n",
    "x"
   ]
  },
  {
   "cell_type": "code",
   "execution_count": 9,
   "metadata": {},
   "outputs": [
    {
     "data": {
      "image/png": "[encoded data removed]",
      "text/plain": [
       "<matplotlib.figure.Figure at 0x26e21f03518>"
      ]
     },
     "metadata": {
      "needs_background": "light"
     },
     "output_type": "display_data"
    }
   ],
   "source": [
    "plt.hist(x)\n",
    "plt.show()"
   ]
  },
  {
   "cell_type": "markdown",
   "metadata": {},
   "source": [
    "### numpy.random.random_sample()"
   ]
  },
  {
   "cell_type": "code",
   "execution_count": 20,
   "metadata": {},
   "outputs": [
    {
     "data": {
      "text/plain": [
       "array([ 0.22385652,  0.46920405,  0.27673611,  0.6256919 ,  0.81081792,\n",
       "        0.81108617,  0.94846259,  0.65969015,  0.92722854,  0.99456689,\n",
       "        0.64309398,  0.53976007,  0.06078688,  0.56791065,  0.50368825,\n",
       "        0.92897547,  0.60779379,  0.04118306,  0.60244165,  0.86522143,\n",
       "        0.71159216,  0.90074143,  0.71897222,  0.91718915,  0.10987527,\n",
       "        0.94131063,  0.7066008 ,  0.60772022,  0.39392483,  0.08430092,\n",
       "        0.68185682,  0.08119136,  0.18728645,  0.094115  ,  0.09056255,\n",
       "        0.67716001,  0.93701548,  0.78846405,  0.15618135,  0.37543471,\n",
       "        0.79844218,  0.77570762,  0.06692123,  0.36383642,  0.30412943,\n",
       "        0.67859286,  0.74983166,  0.43341606,  0.53655657,  0.76087636,\n",
       "        0.7700711 ,  0.59611   ,  0.64190155,  0.92986183,  0.43543834,\n",
       "        0.70049449,  0.34688583,  0.40331147,  0.93429311,  0.037251  ,\n",
       "        0.45986803,  0.16927528,  0.61900833,  0.72696989,  0.75803381,\n",
       "        0.02457861,  0.94419375,  0.7750725 ,  0.14876414,  0.87856944,\n",
       "        0.59322666,  0.15949763,  0.47435475,  0.49797218,  0.94349282,\n",
       "        0.03510651,  0.50750526,  0.16696941,  0.88296544,  0.72747395,\n",
       "        0.16605616,  0.48675751,  0.58419042,  0.09061785,  0.16772355,\n",
       "        0.68509968,  0.33148639,  0.03718841,  0.46867458,  0.24896884,\n",
       "        0.62292228,  0.18990665,  0.72661842,  0.55206881,  0.65563178,\n",
       "        0.76414893,  0.04605377,  0.80740049,  0.99274166,  0.17031881])"
      ]
     },
     "execution_count": 20,
     "metadata": {},
     "output_type": "execute_result"
    }
   ],
   "source": [
    "x = np.random.random_sample(100)\n",
    "x"
   ]
  },
  {
   "cell_type": "code",
   "execution_count": 21,
   "metadata": {},
   "outputs": [
    {
     "data": {
      "image/png": "[encoded data removed]",
      "text/plain": [
       "<matplotlib.figure.Figure at 0x26e222727b8>"
      ]
     },
     "metadata": {
      "needs_background": "light"
     },
     "output_type": "display_data"
    }
   ],
   "source": [
    "plt.hist(x)\n",
    "plt.show()"
   ]
  },
  {
   "cell_type": "markdown",
   "metadata": {},
   "source": [
    "### numpy.random.random()"
   ]
  },
  {
   "cell_type": "code",
   "execution_count": 24,
   "metadata": {
    "scrolled": true
   },
   "outputs": [
    {
     "data": {
      "text/plain": [
       "array([ 0.94042038,  0.13197189,  0.84446717,  0.57843937,  0.70228289,\n",
       "        0.32219989,  0.87534153,  0.55648219,  0.56182043,  0.92783739,\n",
       "        0.89489314,  0.98449214,  0.38399081,  0.56250571,  0.84724891,\n",
       "        0.44824528,  0.27129037,  0.136502  ,  0.98726084,  0.40989276,\n",
       "        0.62569371,  0.45544609,  0.14183968,  0.93285874,  0.00302516,\n",
       "        0.8147248 ,  0.51556152,  0.17832053,  0.90690913,  0.16150076,\n",
       "        0.11730555,  0.51381037,  0.78090225,  0.17422027,  0.20853906,\n",
       "        0.34410149,  0.2555759 ,  0.40764384,  0.80477485,  0.820685  ,\n",
       "        0.55152278,  0.88358781,  0.73641649,  0.62877545,  0.89628699,\n",
       "        0.49743915,  0.65060055,  0.8739401 ,  0.0864492 ,  0.91310407,\n",
       "        0.09483653,  0.09499024,  0.23092944,  0.96937179,  0.56593502,\n",
       "        0.60240986,  0.38890556,  0.26485796,  0.88897287,  0.65555623,\n",
       "        0.08515296,  0.85645604,  0.9825274 ,  0.82811291,  0.30552148,\n",
       "        0.56593384,  0.33520072,  0.83569164,  0.55912561,  0.34448061,\n",
       "        0.26000008,  0.97479249,  0.39706382,  0.23185235,  0.75749893,\n",
       "        0.40796595,  0.10779304,  0.81149474,  0.84212031,  0.62715141,\n",
       "        0.37947842,  0.643005  ,  0.72464016,  0.26631957,  0.62552252,\n",
       "        0.82346945,  0.57451281,  0.99738353,  0.64234585,  0.1578847 ,\n",
       "        0.30105926,  0.84039543,  0.94153221,  0.96302209,  0.53801651,\n",
       "        0.25087013,  0.71678482,  0.70212417,  0.75100339,  0.60062667])"
      ]
     },
     "execution_count": 24,
     "metadata": {},
     "output_type": "execute_result"
    }
   ],
   "source": [
    "x = np.random.random(100)\n",
    "x"
   ]
  },
  {
   "cell_type": "code",
   "execution_count": 25,
   "metadata": {},
   "outputs": [
    {
     "data": {
      "image/png": "[encoded data removed]",
      "text/plain": [
       "<matplotlib.figure.Figure at 0x26e24219f98>"
      ]
     },
     "metadata": {
      "needs_background": "light"
     },
     "output_type": "display_data"
    }
   ],
   "source": [
    "plt.hist(x)\n",
    "plt.show()"
   ]
  },
  {
   "cell_type": "markdown",
   "metadata": {},
   "source": [
    "### numpy.random.ranf()"
   ]
  },
  {
   "cell_type": "code",
   "execution_count": 26,
   "metadata": {},
   "outputs": [
    {
     "data": {
      "text/plain": [
       "array([ 0.10301228,  0.3128146 ,  0.65343102,  0.90527083,  0.55744539,\n",
       "        0.43203059,  0.87043893,  0.17411011,  0.25354168,  0.27872868,\n",
       "        0.56573244,  0.152396  ,  0.72921581,  0.22737748,  0.90195712,\n",
       "        0.0735236 ,  0.90656143,  0.49718348,  0.67382478,  0.53142325,\n",
       "        0.18244972,  0.21206384,  0.33905325,  0.52096838,  0.3948609 ,\n",
       "        0.03912048,  0.86174294,  0.20451847,  0.80552437,  0.38356032,\n",
       "        0.13739041,  0.51825993,  0.22396031,  0.66696936,  0.98911204,\n",
       "        0.46564382,  0.08936746,  0.00944255,  0.33622065,  0.06237006,\n",
       "        0.92038369,  0.4420724 ,  0.24478523,  0.27001567,  0.70771841,\n",
       "        0.46892293,  0.38860586,  0.94343376,  0.03460922,  0.35737259,\n",
       "        0.25154175,  0.44336737,  0.03403906,  0.71373233,  0.16998734,\n",
       "        0.21822049,  0.31985058,  0.69617687,  0.02732191,  0.60585182,\n",
       "        0.58730187,  0.8188159 ,  0.35391931,  0.92883052,  0.81126589,\n",
       "        0.32245414,  0.51210268,  0.77209966,  0.56956355,  0.90383536,\n",
       "        0.41964705,  0.64190438,  0.25470979,  0.91253916,  0.49741502,\n",
       "        0.56394393,  0.74495409,  0.6841523 ,  0.12176013,  0.69107591,\n",
       "        0.16158345,  0.81616717,  0.69444131,  0.62266173,  0.79962497,\n",
       "        0.8512637 ,  0.27275731,  0.72073866,  0.8915059 ,  0.70046108,\n",
       "        0.92581374,  0.18954086,  0.18478479,  0.53567125,  0.89970119,\n",
       "        0.739136  ,  0.1989132 ,  0.41756337,  0.19479272,  0.60322499])"
      ]
     },
     "execution_count": 26,
     "metadata": {},
     "output_type": "execute_result"
    }
   ],
   "source": [
    "x = np.random.ranf(100)\n",
    "x"
   ]
  },
  {
   "cell_type": "code",
   "execution_count": 27,
   "metadata": {},
   "outputs": [
    {
     "data": {
      "image/png": "[encoded data removed]",
      "text/plain": [
       "<matplotlib.figure.Figure at 0x26e2428fcc0>"
      ]
     },
     "metadata": {
      "needs_background": "light"
     },
     "output_type": "display_data"
    }
   ],
   "source": [
    "plt.hist(x)\n",
    "plt.show()"
   ]
  },
  {
   "cell_type": "markdown",
   "metadata": {},
   "source": [
    "### numpy.random.sample()"
   ]
  },
  {
   "cell_type": "code",
   "execution_count": 28,
   "metadata": {},
   "outputs": [
    {
     "data": {
      "text/plain": [
       "array([  7.04662042e-01,   5.75031860e-01,   9.82647045e-01,\n",
       "         8.65607427e-02,   9.37986817e-01,   1.99105409e-01,\n",
       "         4.04589261e-01,   3.21219244e-01,   2.32414347e-02,\n",
       "         8.90770515e-01,   8.50148400e-01,   7.84137818e-01,\n",
       "         6.24015504e-01,   8.81122463e-01,   3.82970340e-01,\n",
       "         4.41119295e-01,   3.79634221e-01,   8.91882298e-01,\n",
       "         1.36586291e-01,   3.50335003e-02,   2.82512587e-01,\n",
       "         5.36114732e-01,   3.68312287e-01,   6.63936417e-01,\n",
       "         7.22935963e-01,   1.48220032e-01,   5.61774763e-01,\n",
       "         1.76562088e-01,   6.28265164e-01,   9.64836376e-01,\n",
       "         8.52347001e-01,   9.43489509e-01,   4.36403801e-02,\n",
       "         3.38442295e-01,   3.22744805e-01,   7.29229261e-01,\n",
       "         2.02823688e-01,   4.97836544e-01,   3.04679769e-01,\n",
       "         7.49418324e-01,   7.12918624e-01,   6.61996015e-01,\n",
       "         5.27957827e-01,   5.82088440e-04,   6.39622098e-01,\n",
       "         7.63524000e-01,   9.16016512e-01,   1.63869533e-01,\n",
       "         4.14545299e-02,   3.77716266e-01,   2.58388034e-01,\n",
       "         7.55112289e-01,   9.16200439e-01,   1.04718362e-02,\n",
       "         5.46902892e-01,   6.02997610e-01,   6.41015852e-02,\n",
       "         8.87991235e-01,   7.46266633e-01,   2.00730356e-01,\n",
       "         9.44969640e-01,   7.42388524e-01,   6.02453191e-01,\n",
       "         3.21022773e-01,   3.10360699e-01,   8.91384964e-01,\n",
       "         8.32359793e-01,   4.74584179e-01,   1.12247171e-01,\n",
       "         4.55927317e-01,   5.14788644e-01,   7.16049482e-01,\n",
       "         1.34274623e-01,   4.03223941e-01,   8.35219131e-01,\n",
       "         6.14872011e-01,   6.22068159e-01,   3.57749135e-01,\n",
       "         5.32259015e-01,   7.07505887e-01,   7.49159702e-01,\n",
       "         1.15807643e-01,   3.45495371e-01,   8.06020386e-01,\n",
       "         3.38376761e-01,   1.31131374e-01,   5.94245364e-01,\n",
       "         5.78029595e-01,   6.82436972e-01,   3.67858237e-01,\n",
       "         7.32344027e-01,   6.34543352e-01,   5.06555372e-01,\n",
       "         2.12519713e-01,   3.25544982e-02,   4.58389425e-03,\n",
       "         9.27379894e-01,   5.80577428e-01,   3.73919633e-02,\n",
       "         7.51291949e-01])"
      ]
     },
     "execution_count": 28,
     "metadata": {},
     "output_type": "execute_result"
    }
   ],
   "source": [
    "x = np.random.sample(100)\n",
    "x"
   ]
  },
  {
   "cell_type": "code",
   "execution_count": 29,
   "metadata": {},
   "outputs": [
    {
     "data": {
      "image/png": "[encoded data removed]",
      "text/plain": [
       "<matplotlib.figure.Figure at 0x26e24303940>"
      ]
     },
     "metadata": {
      "needs_background": "light"
     },
     "output_type": "display_data"
    }
   ],
   "source": [
    "plt.hist(x)\n",
    "plt.show()"
   ]
  },
  {
   "cell_type": "markdown",
   "metadata": {},
   "source": [
    "### numpy.random.choice()"
   ]
  },
  {
   "cell_type": "code",
   "execution_count": 30,
   "metadata": {},
   "outputs": [
    {
     "data": {
      "text/plain": [
       "97"
      ]
     },
     "execution_count": 30,
     "metadata": {},
     "output_type": "execute_result"
    }
   ],
   "source": [
    "x = np.random.choice(100)\n",
    "x"
   ]
  },
  {
   "cell_type": "code",
   "execution_count": 31,
   "metadata": {},
   "outputs": [
    {
     "data": {
      "image/png": "[encoded data removed]",
      "text/plain": [
       "<matplotlib.figure.Figure at 0x26e243340f0>"
      ]
     },
     "metadata": {
      "needs_background": "light"
     },
     "output_type": "display_data"
    }
   ],
   "source": [
    "plt.hist(x)\n",
    "plt.show()"
   ]
  },
  {
   "cell_type": "markdown",
   "metadata": {},
   "source": [
    "### numpy.random.bytes()"
   ]
  },
  {
   "cell_type": "code",
   "execution_count": 36,
   "metadata": {},
   "outputs": [
    {
     "data": {
      "text/plain": [
       "b\"`\\x97\\x9f\\x04\\x19\\x88\\x02h4'\""
      ]
     },
     "execution_count": 36,
     "metadata": {},
     "output_type": "execute_result"
    }
   ],
   "source": [
    "x = np.random.bytes(10)\n",
    "x"
   ]
  },
  {
   "cell_type": "code",
   "execution_count": null,
   "metadata": {},
   "outputs": [],
   "source": []
  },
  {
   "cell_type": "code",
   "execution_count": null,
   "metadata": {},
   "outputs": [],
   "source": []
  },
  {
   "cell_type": "code",
   "execution_count": null,
   "metadata": {},
   "outputs": [],
   "source": []
  },
  {
   "cell_type": "code",
   "execution_count": null,
   "metadata": {},
   "outputs": [],
   "source": []
  },
  {
   "cell_type": "markdown",
   "metadata": {},
   "source": [
    "### Permutations functions in numpy.random"
   ]
  },
  {
   "cell_type": "markdown",
   "metadata": {},
   "source": [
    "The numpy.random.shuffle function shuffles a sequence of set numbers. It changes the sequence or order of numbers while the numbers remain the same. Shuffle permanently changes the array in place. "
   ]
  },
  {
   "cell_type": "code",
   "execution_count": 10,
   "metadata": {},
   "outputs": [],
   "source": [
    "import numpy as np"
   ]
  },
  {
   "cell_type": "code",
   "execution_count": 11,
   "metadata": {},
   "outputs": [
    {
     "name": "stdout",
     "output_type": "stream",
     "text": [
      "None [0 9 1 7 8 3 4 2 5 6]\n"
     ]
    }
   ],
   "source": [
    "# I have created an ordered array of numbers 0-9. \n",
    "arr = np.arange(10)\n",
    "shuffled = np.random.shuffle(arr)\n",
    "print (shuffled, arr)"
   ]
  },
  {
   "cell_type": "markdown",
   "metadata": {},
   "source": [
    "The numpy.random.permutation function works similarly but returns a new array, leaving the original array untouched, as demonstrated below."
   ]
  },
  {
   "cell_type": "code",
   "execution_count": 12,
   "metadata": {},
   "outputs": [
    {
     "name": "stdout",
     "output_type": "stream",
     "text": [
      "[9 0 2 4 5 3 6 8 1 7] [0 1 2 3 4 5 6 7 8 9]\n"
     ]
    }
   ],
   "source": [
    "arr = np.arange(10)\n",
    "shuffled = np.random.permutation(arr)\n",
    "print(shuffled, arr)"
   ]
  },
  {
   "cell_type": "code",
   "execution_count": null,
   "metadata": {},
   "outputs": [],
   "source": []
  },
  {
   "cell_type": "code",
   "execution_count": null,
   "metadata": {},
   "outputs": [],
   "source": []
  },
  {
   "cell_type": "code",
   "execution_count": null,
   "metadata": {},
   "outputs": [],
   "source": []
  },
  {
   "cell_type": "code",
   "execution_count": null,
   "metadata": {},
   "outputs": [],
   "source": []
  },
  {
   "cell_type": "code",
   "execution_count": null,
   "metadata": {},
   "outputs": [],
   "source": []
  },
  {
   "cell_type": "code",
   "execution_count": null,
   "metadata": {},
   "outputs": [],
   "source": []
  },
  {
   "cell_type": "markdown",
   "metadata": {},
   "source": [
    "The numpy.random.permutations function "
   ]
  },
  {
   "cell_type": "code",
   "execution_count": null,
   "metadata": {},
   "outputs": [],
   "source": []
  },
  {
   "cell_type": "code",
   "execution_count": null,
   "metadata": {},
   "outputs": [],
   "source": []
  },
  {
   "cell_type": "markdown",
   "metadata": {
    "collapsed": true
   },
   "source": [
    "### Explain the use and purpose of at least five \"Distributions\" functions"
   ]
  },
  {
   "cell_type": "markdown",
   "metadata": {},
   "source": [
    "### Explain the use of seeds in generating pseudorandom numbers"
   ]
  },
  {
   "cell_type": "code",
   "execution_count": null,
   "metadata": {},
   "outputs": [],
   "source": []
  },
  {
   "cell_type": "code",
   "execution_count": null,
   "metadata": {},
   "outputs": [],
   "source": []
  },
  {
   "cell_type": "code",
   "execution_count": null,
   "metadata": {},
   "outputs": [],
   "source": []
  },
  {
   "cell_type": "code",
   "execution_count": 13,
   "metadata": {},
   "outputs": [],
   "source": [
    "x = np.random.uniform(0, 1000,10000)"
   ]
  },
  {
   "cell_type": "code",
   "execution_count": 14,
   "metadata": {},
   "outputs": [
    {
     "data": {
      "image/png": "[encoded data removed]",
      "text/plain": [
       "<matplotlib.figure.Figure at 0x26e220b1358>"
      ]
     },
     "metadata": {
      "needs_background": "light"
     },
     "output_type": "display_data"
    }
   ],
   "source": [
    "plt.hist(x)\n",
    "plt.show()"
   ]
  },
  {
   "cell_type": "code",
   "execution_count": 15,
   "metadata": {},
   "outputs": [],
   "source": [
    "x = np.random.normal(10, 100, 10000)"
   ]
  },
  {
   "cell_type": "code",
   "execution_count": 16,
   "metadata": {},
   "outputs": [
    {
     "data": {
      "image/png": "[encoded data removed]",
      "text/plain": [
       "<matplotlib.figure.Figure at 0x26e220c6588>"
      ]
     },
     "metadata": {
      "needs_background": "light"
     },
     "output_type": "display_data"
    }
   ],
   "source": [
    "plt.hist(x)\n",
    "plt.show()"
   ]
  },
  {
   "cell_type": "code",
   "execution_count": null,
   "metadata": {},
   "outputs": [],
   "source": []
  },
  {
   "cell_type": "code",
   "execution_count": null,
   "metadata": {},
   "outputs": [],
   "source": []
  },
  {
   "cell_type": "code",
   "execution_count": null,
   "metadata": {},
   "outputs": [],
   "source": []
  },
  {
   "cell_type": "code",
   "execution_count": null,
   "metadata": {},
   "outputs": [],
   "source": []
  },
  {
   "cell_type": "code",
   "execution_count": null,
   "metadata": {},
   "outputs": [],
   "source": []
  },
  {
   "cell_type": "code",
   "execution_count": null,
   "metadata": {},
   "outputs": [],
   "source": []
  },
  {
   "cell_type": "code",
   "execution_count": null,
   "metadata": {},
   "outputs": [],
   "source": []
  },
  {
   "cell_type": "code",
   "execution_count": null,
   "metadata": {},
   "outputs": [],
   "source": []
  },
  {
   "cell_type": "code",
   "execution_count": null,
   "metadata": {},
   "outputs": [],
   "source": []
  },
  {
   "cell_type": "code",
   "execution_count": null,
   "metadata": {},
   "outputs": [],
   "source": []
  },
  {
   "cell_type": "code",
   "execution_count": null,
   "metadata": {},
   "outputs": [],
   "source": []
  },
  {
   "cell_type": "markdown",
   "metadata": {},
   "source": [
    "## References "
   ]
  },
  {
   "cell_type": "markdown",
   "metadata": {},
   "source": [
    "[1] www.numpy.org/ date: 03/11/2018 \n",
    "\n",
    "[2] https://www.datacamp.com/community/tutorials/python-numpy-tutorial date: 03/11/2018 \n",
    "\n",
    "[3] https://docs.scipy.org/doc/numpy/user/basics.creation.html date: 03/11/2018 \n",
    "\n",
    "[4] https://www.investopedia.com/terms/u/uniform-distribution.asp date: 04/11/2018\n",
    "\n",
    "[5] https://www.statisticshowto.datasciencecentral.com/probability-and-statistics/normal-distributions/ date: 04/11/2018\n"
   ]
  },
  {
   "cell_type": "markdown",
   "metadata": {},
   "source": [
    "## Bibliography and Acknowledgements "
   ]
  },
  {
   "cell_type": "markdown",
   "metadata": {},
   "source": [
    "- https://docs.scipy.org/doc/numpy-1.15.1/user/whatisnumpy.html date: 20/10/2018\n",
    "- https://docs.scipy.org/doc/numpy-1.15.1/reference/routines.random.html date:27/10/2018\n",
    "- http://nbviewer.jupyter.org/gist/rossant/4645217 date: 03/11/2018\n",
    "- https://en.wikipedia.org/wiki/NumPy date: 03/11/2018\n",
    "- https://www.packtpub.com/mapt/book/big_data_and_business_intelligence/9781785285110/2/ch02lvl1sec16/numpy-random-numbers date: 03/11/2018\n",
    "- https://www.datacamp.com/community/tutorials/python-numpy-tutorial date: 03/11/2018 "
   ]
  },
  {
   "cell_type": "code",
   "execution_count": null,
   "metadata": {},
   "outputs": [],
   "source": []
  }
 ],
 "metadata": {
  "kernelspec": {
   "display_name": "Python 3",
   "language": "python",
   "name": "python3"
  },
  "language_info": {
   "codemirror_mode": {
    "name": "ipython",
    "version": 3
   },
   "file_extension": ".py",
   "mimetype": "text/x-python",
   "name": "python",
   "nbconvert_exporter": "python",
   "pygments_lexer": "ipython3",
   "version": "3.6.7"
  }
 },
 "nbformat": 4,
 "nbformat_minor": 2
}
