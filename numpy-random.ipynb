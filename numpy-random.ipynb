{
 "cells": [
  {
   "cell_type": "markdown",
   "metadata": {},
   "source": [
    "# An Overview of the numpy.random Package"
   ]
  },
  {
   "cell_type": "markdown",
   "metadata": {},
   "source": [
    "## Purpose of the numpy.random Package\n",
    "\n",
    "NumPy is a Python library used for scientific and mathematical computing in the Python programming language [1]. It contains a number of tools that can be used to solve mathematical models of problems using a computer [2]. \n",
    "\n",
    "Numpy.random is a collection of special library functions within NumPy to generate random numbers. These functions can also be used to organise random numbers into arrays of different shapes and sizes [3]. \n",
    "\n",
    "**COMMENT RE PSEUDO RANDOM NUMBERS HERE?**\n",
    "\n",
    "\n",
    "Functions within the numpy.random library are organised into four main categories: \n",
    "\n",
    "- Simple random data\n",
    "- Permutations\n",
    "- Distributions\n",
    "- Random generator\n",
    "\n",
    "The full numpy.random documentation can be accessed [here.](https://docs.scipy.org/doc/numpy/reference/routines.random.html)\n",
    "\n",
    "\n",
    "This notebook will discuss \"simple random data,\" \"permutations\" and \"distributions\" functions. The use of seeds in generating psuedorandom numbers will also be discussed."
   ]
  },
  {
   "cell_type": "markdown",
   "metadata": {},
   "source": [
    "## Simple random data functions in numpy.random\n",
    "\n",
    "There are 10 functions within the numpy.random \"simple random data\" family of functions: \n",
    "\n",
    "- rand()\n",
    "- randn()\n",
    "- randint()\n",
    "- random_integers()\n",
    "- random_sample()\n",
    "- random()\n",
    "- ranf()\n",
    "- sample()\n",
    "- choice()\n",
    "- bytes()\n",
    "\n",
    "Each of these are discussed below.\n"
   ]
  },
  {
   "cell_type": "code",
   "execution_count": 1,
   "metadata": {},
   "outputs": [],
   "source": [
    "import numpy as np\n",
    "import matplotlib.pyplot as plt"
   ]
  },
  {
   "cell_type": "markdown",
   "metadata": {},
   "source": [
    "### numpy.random.rand()\n",
    "\n",
    "The rand function creates a random array of positive floating point numbers with a continuous uniform distribution from 0, up to but not including 1. An argument can be passed in, telling the function how many numbers to return. If no argument is provided, the function will return a single float. \n",
    "\n",
    "In other words, this function creates random numbers that are uniformly distributed between 0 and 1, but not including the number 1.Uniform distribution is where each variable, or number in this case, has the same (uniform) probability [4]."
   ]
  },
  {
   "cell_type": "code",
   "execution_count": 2,
   "metadata": {
    "scrolled": true
   },
   "outputs": [
    {
     "data": {
      "text/plain": [
       "array([ 0.82799012,  0.15746592,  0.24885987, ...,  0.71730941,\n",
       "        0.81087565,  0.57508078])"
      ]
     },
     "execution_count": 2,
     "metadata": {},
     "output_type": "execute_result"
    }
   ],
   "source": [
    "# To obtain an array of 100 numbers \n",
    "x = np.random.rand(10000)\n",
    "x"
   ]
  },
  {
   "cell_type": "code",
   "execution_count": 3,
   "metadata": {},
   "outputs": [
    {
     "data": {
      "image/png": "[encoded data removed]",
      "text/plain": [
       "<matplotlib.figure.Figure at 0x1fc66182240>"
      ]
     },
     "metadata": {
      "needs_background": "light"
     },
     "output_type": "display_data"
    }
   ],
   "source": [
    "%matplotlib inline\n",
    "\n",
    "# To plot these numbers on a histogram\n",
    "plt.hist(x)\n",
    "plt.show()"
   ]
  },
  {
   "cell_type": "markdown",
   "metadata": {},
   "source": [
    "Further arguments can be passed to request that more than one array of random data is returned, for example:"
   ]
  },
  {
   "cell_type": "code",
   "execution_count": 4,
   "metadata": {},
   "outputs": [
    {
     "data": {
      "text/plain": [
       "array([[[ 0.64553397,  0.5835632 ,  0.52328815,  0.5982073 ],\n",
       "        [ 0.19626792,  0.18997978,  0.82931422,  0.70941586]],\n",
       "\n",
       "       [[ 0.52131093,  0.34225185,  0.84701248,  0.41975772],\n",
       "        [ 0.23557314,  0.69286419,  0.14187521,  0.15760994]],\n",
       "\n",
       "       [[ 0.34286786,  0.63622079,  0.34207314,  0.18630638],\n",
       "        [ 0.04231315,  0.65125044,  0.29541622,  0.88129212]],\n",
       "\n",
       "       [[ 0.40700225,  0.35829901,  0.47042157,  0.57736354],\n",
       "        [ 0.30274816,  0.04739642,  0.94659557,  0.85635468]],\n",
       "\n",
       "       [[ 0.43447489,  0.84245728,  0.17990485,  0.44540657],\n",
       "        [ 0.38862968,  0.08864863,  0.62311239,  0.56916774]],\n",
       "\n",
       "       [[ 0.40730672,  0.00274264,  0.0780899 ,  0.49472933],\n",
       "        [ 0.7010746 ,  0.04461028,  0.08689206,  0.03509667]],\n",
       "\n",
       "       [[ 0.00650508,  0.53136268,  0.20729224,  0.10414206],\n",
       "        [ 0.54990734,  0.38432895,  0.84582531,  0.30080139]],\n",
       "\n",
       "       [[ 0.86849783,  0.35438462,  0.45685962,  0.40042118],\n",
       "        [ 0.07356755,  0.84469295,  0.73935341,  0.18338022]],\n",
       "\n",
       "       [[ 0.69678741,  0.58835638,  0.67656724,  0.2893436 ],\n",
       "        [ 0.32444599,  0.75910217,  0.95408467,  0.16032741]],\n",
       "\n",
       "       [[ 0.68561169,  0.51434716,  0.16901393,  0.82434802],\n",
       "        [ 0.26780067,  0.41212393,  0.59072208,  0.94857576]]])"
      ]
     },
     "execution_count": 4,
     "metadata": {},
     "output_type": "execute_result"
    }
   ],
   "source": [
    "# 10 2x4 arrays of random numbers\n",
    "x = np.random.rand(10, 2, 4)\n",
    "x"
   ]
  },
  {
   "cell_type": "code",
   "execution_count": 5,
   "metadata": {},
   "outputs": [
    {
     "data": {
      "text/plain": [
       "array([[ 0.35065004,  0.04412696],\n",
       "       [ 0.68997393,  0.98747503],\n",
       "       [ 0.62866123,  0.40856423],\n",
       "       ..., \n",
       "       [ 0.94783674,  0.17589123],\n",
       "       [ 0.44204033,  0.45568107],\n",
       "       [ 0.83779334,  0.76705014]])"
      ]
     },
     "execution_count": 5,
     "metadata": {},
     "output_type": "execute_result"
    }
   ],
   "source": [
    "x = np.random.rand(10000, 2)\n",
    "x"
   ]
  },
  {
   "cell_type": "code",
   "execution_count": 6,
   "metadata": {},
   "outputs": [
    {
     "data": {
      "image/png": "[encoded data removed]",
      "text/plain": [
       "<matplotlib.figure.Figure at 0x1fc6652b8d0>"
      ]
     },
     "metadata": {
      "needs_background": "light"
     },
     "output_type": "display_data"
    }
   ],
   "source": [
    "plt.hist(x)\n",
    "plt.show()"
   ]
  },
  {
   "cell_type": "markdown",
   "metadata": {},
   "source": [
    "### numpy.random.randn"
   ]
  },
  {
   "cell_type": "markdown",
   "metadata": {},
   "source": [
    "The randn function also creates a random array of floating point numbers however it differs from the rand function above in that floats can be positive or negative and the distribution is normal (Gaussian). \n",
    "\n",
    "Normal distribution [5] can be visually represented by a bell curve and is distribution that occurs naturally when there is no bias. Most of the data falls within one point or standard deviation on either side of the mean. Examples of normal distribution can be seen throughout the general population, for example in a collection of IQ test scores, blood pressure results, heights, weights etc. "
   ]
  },
  {
   "cell_type": "code",
   "execution_count": 7,
   "metadata": {
    "scrolled": true
   },
   "outputs": [
    {
     "data": {
      "text/plain": [
       "array([-0.53554417, -0.56785092,  0.14628964, ..., -0.64395097,\n",
       "        0.31521511, -1.69261211])"
      ]
     },
     "execution_count": 7,
     "metadata": {},
     "output_type": "execute_result"
    }
   ],
   "source": [
    "x = np.random.randn(10000)\n",
    "x"
   ]
  },
  {
   "cell_type": "code",
   "execution_count": 8,
   "metadata": {},
   "outputs": [
    {
     "data": {
      "image/png": "[encoded data removed]",
      "text/plain": [
       "<matplotlib.figure.Figure at 0x1fc66536320>"
      ]
     },
     "metadata": {
      "needs_background": "light"
     },
     "output_type": "display_data"
    }
   ],
   "source": [
    "plt.hist(x)\n",
    "plt.show()"
   ]
  },
  {
   "cell_type": "markdown",
   "metadata": {},
   "source": [
    "This function can also provide more than one set of data, for example:"
   ]
  },
  {
   "cell_type": "code",
   "execution_count": 9,
   "metadata": {},
   "outputs": [
    {
     "data": {
      "text/plain": [
       "array([[-0.45912517,  0.59858483,  0.18123312],\n",
       "       [-0.83505586,  0.63011695, -0.120051  ],\n",
       "       [ 1.03358618, -1.31440976,  0.2601123 ],\n",
       "       ..., \n",
       "       [ 0.17142166, -1.11847126, -0.61663847],\n",
       "       [ 1.40965637,  0.31692087, -2.89428475],\n",
       "       [-0.5773538 , -0.01341722, -0.02668551]])"
      ]
     },
     "execution_count": 9,
     "metadata": {},
     "output_type": "execute_result"
    }
   ],
   "source": [
    "x = np.random.randn(10000, 3)\n",
    "x"
   ]
  },
  {
   "cell_type": "code",
   "execution_count": 10,
   "metadata": {},
   "outputs": [
    {
     "data": {
      "image/png": "[encoded data removed]",
      "text/plain": [
       "<matplotlib.figure.Figure at 0x1fc66940cc0>"
      ]
     },
     "metadata": {
      "needs_background": "light"
     },
     "output_type": "display_data"
    }
   ],
   "source": [
    "plt.hist(x)\n",
    "plt.show()"
   ]
  },
  {
   "cell_type": "markdown",
   "metadata": {},
   "source": [
    "### numpy.random.randint()\n",
    "\n",
    "The randint function returns random integers (whole numbers) that have discrete uniform distribution. Discrete uniform distribution is also known as equally likely outcomes distribution [6]. This is where the probability of evenly spaced values are equally likely to occur, for example when rolling a 6 sided dice, there are 6 evenly likely possibilties of rolling a certain number \n",
    "\n",
    "In probability, discrete uniform distribution differs from continuous uniform distribution in that disrcrete uniform distribution refers to whole numbers and continuous uniform distribution refers to numbers containing a decimal point (floats) [7].  \n",
    "\n",
    "The randint function requires parameters for the lowest and highest numbers you would like it to return. Lowest and highest numbers can be set as postive or negative. The lowest number is included in the output however the highest number is excluded. For example:\n",
    "\n",
    "*np.random.randint(1, 10)*\n",
    "\n",
    "will return a single random number between 1 and 9 inclusive. The size of the sample required can also be set, as outlined below. "
   ]
  },
  {
   "cell_type": "code",
   "execution_count": 11,
   "metadata": {},
   "outputs": [
    {
     "data": {
      "text/plain": [
       "array([-5,  8, -4, ..., 19,  8, -2])"
      ]
     },
     "execution_count": 11,
     "metadata": {},
     "output_type": "execute_result"
    }
   ],
   "source": [
    "x = np.random.randint(-5, 20, size=10000)\n",
    "x"
   ]
  },
  {
   "cell_type": "code",
   "execution_count": 12,
   "metadata": {},
   "outputs": [
    {
     "data": {
      "image/png": "[encoded data removed]",
      "text/plain": [
       "<matplotlib.figure.Figure at 0x1fc66a4b470>"
      ]
     },
     "metadata": {
      "needs_background": "light"
     },
     "output_type": "display_data"
    }
   ],
   "source": [
    "plt.hist(x)\n",
    "plt.show()"
   ]
  },
  {
   "cell_type": "markdown",
   "metadata": {},
   "source": [
    "### numpy.random.random_integers()\n",
    "\n",
    "This function has been deprecated since version 1.11.0.\n"
   ]
  },
  {
   "cell_type": "markdown",
   "metadata": {},
   "source": [
    "### numpy.random.random_sample()\n",
    "\n",
    "The random_sample() function returns floats between 0.0 and 1.0, not including 1.0 using continuous uniform distribution. "
   ]
  },
  {
   "cell_type": "code",
   "execution_count": 13,
   "metadata": {},
   "outputs": [
    {
     "data": {
      "text/plain": [
       "array([ 0.69691658,  0.79455004,  0.69799767, ...,  0.68721402,\n",
       "        0.27807915,  0.91639842])"
      ]
     },
     "execution_count": 13,
     "metadata": {},
     "output_type": "execute_result"
    }
   ],
   "source": [
    "x = np.random.random_sample(10000)\n",
    "x"
   ]
  },
  {
   "cell_type": "code",
   "execution_count": 14,
   "metadata": {},
   "outputs": [
    {
     "data": {
      "image/png": "[encoded data removed]",
      "text/plain": [
       "<matplotlib.figure.Figure at 0x1fc668ff0b8>"
      ]
     },
     "metadata": {
      "needs_background": "light"
     },
     "output_type": "display_data"
    }
   ],
   "source": [
    "plt.hist(x)\n",
    "plt.show()"
   ]
  },
  {
   "cell_type": "markdown",
   "metadata": {},
   "source": [
    "Similarly to the previous functions discussed, the random_sample function can also output more than one set of data:"
   ]
  },
  {
   "cell_type": "code",
   "execution_count": 15,
   "metadata": {
    "scrolled": true
   },
   "outputs": [
    {
     "data": {
      "text/plain": [
       "array([[[ 0.06063837,  0.73322016,  0.49745451,  0.32529885,  0.74499707],\n",
       "        [ 0.55819366,  0.25713893,  0.10301281,  0.4210624 ,  0.65195159],\n",
       "        [ 0.44246043,  0.5543786 ,  0.99872473,  0.46227468,  0.78015904],\n",
       "        [ 0.69789924,  0.20704941,  0.49092243,  0.77393374,  0.02999776]],\n",
       "\n",
       "       [[ 0.31551245,  0.46423975,  0.73245297,  0.21460688,  0.64692116],\n",
       "        [ 0.14727014,  0.07568452,  0.40929089,  0.45214533,  0.4077927 ],\n",
       "        [ 0.58081133,  0.74586054,  0.84782655,  0.45672547,  0.717248  ],\n",
       "        [ 0.56805381,  0.25971567,  0.20107422,  0.43949162,  0.02139731]],\n",
       "\n",
       "       [[ 0.42079182,  0.71011492,  0.12169097,  0.77923899,  0.23926467],\n",
       "        [ 0.08751806,  0.18438372,  0.45534065,  0.89744436,  0.98774004],\n",
       "        [ 0.35472716,  0.12210513,  0.92169243,  0.24595951,  0.38923692],\n",
       "        [ 0.97555718,  0.28727123,  0.78484719,  0.06997733,  0.73411185]],\n",
       "\n",
       "       [[ 0.87456499,  0.79550514,  0.65612707,  0.71024817,  0.19297582],\n",
       "        [ 0.15035506,  0.03276956,  0.8950119 ,  0.40330707,  0.91854484],\n",
       "        [ 0.93270477,  0.97068024,  0.66183481,  0.04732369,  0.02148421],\n",
       "        [ 0.62203514,  0.65571251,  0.74939191,  0.50938845,  0.86214527]],\n",
       "\n",
       "       [[ 0.39130143,  0.48683894,  0.23886683,  0.42529119,  0.21233152],\n",
       "        [ 0.88925801,  0.79226488,  0.56128728,  0.96206569,  0.0357341 ],\n",
       "        [ 0.29745237,  0.17750681,  0.17461229,  0.99720277,  0.57210034],\n",
       "        [ 0.02391179,  0.27317382,  0.12212718,  0.48559111,  0.24397444]],\n",
       "\n",
       "       [[ 0.48021563,  0.124779  ,  0.48660079,  0.98044423,  0.0459052 ],\n",
       "        [ 0.66191375,  0.18980157,  0.9580747 ,  0.26736551,  0.27627293],\n",
       "        [ 0.35655911,  0.36320843,  0.37770563,  0.06267133,  0.53940497],\n",
       "        [ 0.12337327,  0.3784377 ,  0.5391922 ,  0.49281365,  0.01628732]],\n",
       "\n",
       "       [[ 0.61759523,  0.80621358,  0.78819489,  0.29195252,  0.48794466],\n",
       "        [ 0.2895057 ,  0.27488766,  0.42221214,  0.06456438,  0.44351569],\n",
       "        [ 0.39604083,  0.76829257,  0.24793225,  0.21771099,  0.01558035],\n",
       "        [ 0.85201755,  0.99666143,  0.29418975,  0.8423429 ,  0.31242364]],\n",
       "\n",
       "       [[ 0.22506727,  0.55391794,  0.04293518,  0.12783574,  0.10545936],\n",
       "        [ 0.04198826,  0.20919137,  0.73853369,  0.5273843 ,  0.37768108],\n",
       "        [ 0.023045  ,  0.71770635,  0.74333154,  0.74494741,  0.2701851 ],\n",
       "        [ 0.97989642,  0.50053735,  0.63988882,  0.67264873,  0.25290105]],\n",
       "\n",
       "       [[ 0.80620029,  0.01364153,  0.51297519,  0.65652186,  0.58956567],\n",
       "        [ 0.44868411,  0.97108692,  0.43191096,  0.32348201,  0.16937724],\n",
       "        [ 0.945335  ,  0.0521218 ,  0.08116125,  0.43858171,  0.43318984],\n",
       "        [ 0.18003742,  0.84218251,  0.07722348,  0.304474  ,  0.93156697]],\n",
       "\n",
       "       [[ 0.96836703,  0.75193734,  0.86320337,  0.64621635,  0.62121681],\n",
       "        [ 0.58560628,  0.73297653,  0.04082039,  0.81973646,  0.44807241],\n",
       "        [ 0.02573346,  0.99279317,  0.04899068,  0.55194662,  0.29525539],\n",
       "        [ 0.04906631,  0.23217466,  0.61001982,  0.37557387,  0.72739468]],\n",
       "\n",
       "       [[ 0.43988526,  0.58727502,  0.46135229,  0.61698072,  0.65600809],\n",
       "        [ 0.12254208,  0.25048769,  0.16333388,  0.97577287,  0.31025184],\n",
       "        [ 0.73316915,  0.85164839,  0.38861871,  0.51094757,  0.23056859],\n",
       "        [ 0.63674581,  0.09671647,  0.52275177,  0.91174153,  0.54222844]],\n",
       "\n",
       "       [[ 0.1981213 ,  0.23304332,  0.42563721,  0.29945371,  0.39643927],\n",
       "        [ 0.97204524,  0.36678327,  0.70691471,  0.46899144,  0.97489406],\n",
       "        [ 0.86630303,  0.55724755,  0.02383878,  0.56975175,  0.73596055],\n",
       "        [ 0.91881395,  0.21924017,  0.52350702,  0.04346121,  0.21338766]],\n",
       "\n",
       "       [[ 0.1696473 ,  0.30670911,  0.28150897,  0.20680582,  0.45654178],\n",
       "        [ 0.68094826,  0.57634195,  0.93303602,  0.02276014,  0.55722835],\n",
       "        [ 0.79765287,  0.91078828,  0.95386217,  0.61749258,  0.2258677 ],\n",
       "        [ 0.1608814 ,  0.55069329,  0.03460949,  0.75702808,  0.63141759]],\n",
       "\n",
       "       [[ 0.823479  ,  0.42329655,  0.17931597,  0.97654235,  0.42754163],\n",
       "        [ 0.56379577,  0.09982793,  0.73621343,  0.76927099,  0.97151428],\n",
       "        [ 0.92887586,  0.23769173,  0.42176307,  0.21075795,  0.05053342],\n",
       "        [ 0.028878  ,  0.52205176,  0.55977867,  0.49531023,  0.18734365]],\n",
       "\n",
       "       [[ 0.99981365,  0.52267461,  0.47513644,  0.32819914,  0.51988182],\n",
       "        [ 0.91198106,  0.66438863,  0.85650005,  0.71985703,  0.85970761],\n",
       "        [ 0.55387698,  0.58219297,  0.20537929,  0.17516484,  0.03657841],\n",
       "        [ 0.8250468 ,  0.85434063,  0.21271004,  0.46320365,  0.97227701]],\n",
       "\n",
       "       [[ 0.84690548,  0.52926323,  0.28022682,  0.82739265,  0.72976278],\n",
       "        [ 0.43100045,  0.22332273,  0.65347405,  0.11583509,  0.42727784],\n",
       "        [ 0.19127501,  0.63594722,  0.37482814,  0.41167989,  0.66734229],\n",
       "        [ 0.7091443 ,  0.14133591,  0.35813314,  0.91652522,  0.47047298]],\n",
       "\n",
       "       [[ 0.58270966,  0.07057158,  0.79507205,  0.78046518,  0.73360123],\n",
       "        [ 0.5651079 ,  0.56998411,  0.0462165 ,  0.76300468,  0.947817  ],\n",
       "        [ 0.19289548,  0.50655473,  0.6161516 ,  0.34459493,  0.30704349],\n",
       "        [ 0.7077855 ,  0.68650982,  0.71784988,  0.24392649,  0.76307906]],\n",
       "\n",
       "       [[ 0.12494367,  0.41609123,  0.2514197 ,  0.35363486,  0.40946574],\n",
       "        [ 0.33776841,  0.69868801,  0.9234248 ,  0.04091588,  0.98949536],\n",
       "        [ 0.27392529,  0.20377588,  0.60526104,  0.82248776,  0.82082206],\n",
       "        [ 0.07123871,  0.33710856,  0.26583821,  0.35599861,  0.93878075]],\n",
       "\n",
       "       [[ 0.23661449,  0.74788048,  0.25919727,  0.86418802,  0.34510155],\n",
       "        [ 0.66458494,  0.76987675,  0.05892221,  0.97143675,  0.88940021],\n",
       "        [ 0.71899733,  0.13316951,  0.08854537,  0.64501926,  0.53480985],\n",
       "        [ 0.47925532,  0.20881182,  0.58150994,  0.84120871,  0.38704225]],\n",
       "\n",
       "       [[ 0.26296474,  0.88949609,  0.94557651,  0.43531761,  0.84339965],\n",
       "        [ 0.10642053,  0.19455995,  0.74986131,  0.8783224 ,  0.89087361],\n",
       "        [ 0.94550461,  0.78511847,  0.12381813,  0.012409  ,  0.6522487 ],\n",
       "        [ 0.11830101,  0.14872953,  0.24792172,  0.69292033,  0.96885735]]])"
      ]
     },
     "execution_count": 15,
     "metadata": {},
     "output_type": "execute_result"
    }
   ],
   "source": [
    "# 20 4x5 arrays of random numbers \n",
    "x = np.random.random_sample((20, 4, 5))\n",
    "x"
   ]
  },
  {
   "cell_type": "code",
   "execution_count": 16,
   "metadata": {},
   "outputs": [
    {
     "data": {
      "text/plain": [
       "array([[ 0.13191906,  0.43663853,  0.16079469,  0.11588229],\n",
       "       [ 0.46931723,  0.65843334,  0.35534066,  0.64649964],\n",
       "       [ 0.96679584,  0.56429809,  0.40085946,  0.71328269],\n",
       "       [ 0.99344328,  0.72986628,  0.73756377,  0.0106118 ],\n",
       "       [ 0.66396478,  0.70671183,  0.45955491,  0.84026923],\n",
       "       [ 0.3207392 ,  0.8152352 ,  0.80058431,  0.15889101],\n",
       "       [ 0.09075301,  0.13114145,  0.78434162,  0.01185898],\n",
       "       [ 0.26592724,  0.17653329,  0.40689679,  0.26206862],\n",
       "       [ 0.60636494,  0.5451532 ,  0.08505221,  0.48302538],\n",
       "       [ 0.180299  ,  0.46094474,  0.46542991,  0.77481638],\n",
       "       [ 0.48673615,  0.97287424,  0.9948035 ,  0.08273581],\n",
       "       [ 0.55609833,  0.11896353,  0.19307742,  0.66937302],\n",
       "       [ 0.08291081,  0.75953573,  0.86717577,  0.13874558],\n",
       "       [ 0.23772496,  0.01810147,  0.99176686,  0.30585102],\n",
       "       [ 0.28841715,  0.12128006,  0.64700897,  0.860854  ],\n",
       "       [ 0.49775308,  0.97182354,  0.87882659,  0.94181469],\n",
       "       [ 0.00255239,  0.9451289 ,  0.32717985,  0.82961853],\n",
       "       [ 0.24561658,  0.20364142,  0.69629292,  0.89109281],\n",
       "       [ 0.58910602,  0.49274198,  0.46339349,  0.30267397],\n",
       "       [ 0.52743102,  0.70985169,  0.0307956 ,  0.3335923 ]])"
      ]
     },
     "execution_count": 16,
     "metadata": {},
     "output_type": "execute_result"
    }
   ],
   "source": [
    "# To represent data using a histogram\n",
    "x = np.random.random_sample((20, 4))\n",
    "x"
   ]
  },
  {
   "cell_type": "code",
   "execution_count": 17,
   "metadata": {},
   "outputs": [
    {
     "data": {
      "image/png": "[encoded data removed]",
      "text/plain": [
       "<matplotlib.figure.Figure at 0x1fc66b479e8>"
      ]
     },
     "metadata": {
      "needs_background": "light"
     },
     "output_type": "display_data"
    }
   ],
   "source": [
    "plt.hist(x)\n",
    "plt.show()"
   ]
  },
  {
   "cell_type": "markdown",
   "metadata": {},
   "source": [
    "To use the random_sample function across a larger range of numbers (rather than between 0.0 and 1.0), the following code can be used: \n",
    "\n",
    "   *(b - a) * random_sample() + a*\n"
   ]
  },
  {
   "cell_type": "code",
   "execution_count": 18,
   "metadata": {},
   "outputs": [
    {
     "data": {
      "text/plain": [
       "array([ 4.00571253,  1.33258837,  4.81860812,  0.85368074,  1.02238419,\n",
       "        4.08073324,  2.96422221,  5.13985285,  0.12992662,  1.19416913])"
      ]
     },
     "execution_count": 18,
     "metadata": {},
     "output_type": "execute_result"
    }
   ],
   "source": [
    "#To obtain an array of random numbers (uniformly distributed) between 0 and 6\n",
    "x = -6 * np.random.random_sample(10) +6\n",
    "x"
   ]
  },
  {
   "cell_type": "markdown",
   "metadata": {},
   "source": [
    "### numpy.random.random(), numpy.random.ranf() and numpy.random.sample() functions\n",
    "\n",
    "The random, ranf and sample functions are the same as the random_sample function and they return the same output as described above [8]. "
   ]
  },
  {
   "cell_type": "code",
   "execution_count": 19,
   "metadata": {
    "scrolled": true
   },
   "outputs": [
    {
     "data": {
      "text/plain": [
       "array([ 0.95906954,  0.36346975,  0.63782182, ...,  0.5720991 ,\n",
       "        0.66447328,  0.58801924])"
      ]
     },
     "execution_count": 19,
     "metadata": {},
     "output_type": "execute_result"
    }
   ],
   "source": [
    "x = np.random.random(10000)\n",
    "x"
   ]
  },
  {
   "cell_type": "code",
   "execution_count": 20,
   "metadata": {},
   "outputs": [
    {
     "data": {
      "image/png": "[encoded data removed]",
      "text/plain": [
       "<matplotlib.figure.Figure at 0x1fc6499aeb8>"
      ]
     },
     "metadata": {
      "needs_background": "light"
     },
     "output_type": "display_data"
    }
   ],
   "source": [
    "plt.hist(x)\n",
    "plt.show()"
   ]
  },
  {
   "cell_type": "code",
   "execution_count": 21,
   "metadata": {},
   "outputs": [
    {
     "data": {
      "text/plain": [
       "array([ 0.51753636,  0.90649807,  0.97819206, ...,  0.52707565,\n",
       "        0.3458223 ,  0.6900536 ])"
      ]
     },
     "execution_count": 21,
     "metadata": {},
     "output_type": "execute_result"
    }
   ],
   "source": [
    "x = np.random.ranf(10000)\n",
    "x"
   ]
  },
  {
   "cell_type": "code",
   "execution_count": 22,
   "metadata": {},
   "outputs": [
    {
     "data": {
      "image/png": "[encoded data removed]",
      "text/plain": [
       "<matplotlib.figure.Figure at 0x1fc6b02d4a8>"
      ]
     },
     "metadata": {
      "needs_background": "light"
     },
     "output_type": "display_data"
    }
   ],
   "source": [
    "plt.hist(x)\n",
    "plt.show()"
   ]
  },
  {
   "cell_type": "code",
   "execution_count": 23,
   "metadata": {},
   "outputs": [
    {
     "data": {
      "text/plain": [
       "array([ 0.13998302,  0.16887397,  0.54147234, ...,  0.1554783 ,\n",
       "        0.30169029,  0.49394611])"
      ]
     },
     "execution_count": 23,
     "metadata": {},
     "output_type": "execute_result"
    }
   ],
   "source": [
    "x = np.random.sample(10000)\n",
    "x"
   ]
  },
  {
   "cell_type": "code",
   "execution_count": 24,
   "metadata": {},
   "outputs": [
    {
     "data": {
      "image/png": "[encoded data removed]",
      "text/plain": [
       "<matplotlib.figure.Figure at 0x1fc6b0b49b0>"
      ]
     },
     "metadata": {
      "needs_background": "light"
     },
     "output_type": "display_data"
    }
   ],
   "source": [
    "plt.hist(x)\n",
    "plt.show()"
   ]
  },
  {
   "cell_type": "markdown",
   "metadata": {},
   "source": [
    "### numpy.random.choice()\n",
    "\n",
    "The choice function provides one positive integer when a single argument is passed. "
   ]
  },
  {
   "cell_type": "code",
   "execution_count": 25,
   "metadata": {},
   "outputs": [
    {
     "data": {
      "text/plain": [
       "0"
      ]
     },
     "execution_count": 25,
     "metadata": {},
     "output_type": "execute_result"
    }
   ],
   "source": [
    "x = np.random.choice(10)\n",
    "x"
   ]
  },
  {
   "cell_type": "markdown",
   "metadata": {},
   "source": [
    "If a second argument is passed, the choice function creates a list of a specified length."
   ]
  },
  {
   "cell_type": "code",
   "execution_count": 26,
   "metadata": {},
   "outputs": [
    {
     "data": {
      "text/plain": [
       "array([4, 2, 8, 1, 3])"
      ]
     },
     "execution_count": 26,
     "metadata": {},
     "output_type": "execute_result"
    }
   ],
   "source": [
    "x = np.random.choice(10, 5)\n",
    "x"
   ]
  },
  {
   "cell_type": "markdown",
   "metadata": {},
   "source": [
    "### numpy.random.bytes()"
   ]
  },
  {
   "cell_type": "code",
   "execution_count": 27,
   "metadata": {},
   "outputs": [
    {
     "data": {
      "text/plain": [
       "b'f\\x9bbb\\x9c\\xed\\xeb\\xbc\\x95*'"
      ]
     },
     "execution_count": 27,
     "metadata": {},
     "output_type": "execute_result"
    }
   ],
   "source": [
    "x = np.random.bytes(10)\n",
    "x"
   ]
  },
  {
   "cell_type": "code",
   "execution_count": null,
   "metadata": {},
   "outputs": [],
   "source": []
  },
  {
   "cell_type": "markdown",
   "metadata": {},
   "source": [
    "## Permutations functions in numpy.random\n",
    "\n",
    "There are 2 functions within the numpy.random \"permutations\" family of functions: \n",
    "\n",
    "- shuffle()\n",
    "- permutation()\n",
    "\n",
    "These are discussed below."
   ]
  },
  {
   "cell_type": "markdown",
   "metadata": {},
   "source": [
    "### numpy.random.shuffle()"
   ]
  },
  {
   "cell_type": "markdown",
   "metadata": {},
   "source": [
    "The shuffle function shuffles a sequence of set integers. It changes the sequence or order of integers while the integers remain the same. Shuffle permanently changes the array in place therefore the output remains changed. "
   ]
  },
  {
   "cell_type": "code",
   "execution_count": 28,
   "metadata": {},
   "outputs": [
    {
     "data": {
      "text/plain": [
       "(None, array([1, 9, 8, 7, 5, 0, 4, 6, 3, 2]))"
      ]
     },
     "execution_count": 28,
     "metadata": {},
     "output_type": "execute_result"
    }
   ],
   "source": [
    "# I have created an ordered array of numbers 0-9. \n",
    "\n",
    "arr = np.arange(10)\n",
    "\n",
    "# The shuffle function will change the sequence of these numbers and this will become the new sequence of numbers \n",
    "# for further code\n",
    "\n",
    "shuffled = np.random.shuffle(arr)\n",
    "shuffled, arr"
   ]
  },
  {
   "cell_type": "markdown",
   "metadata": {},
   "source": [
    "### numpy.random.permutation()"
   ]
  },
  {
   "cell_type": "markdown",
   "metadata": {},
   "source": [
    "The permutation function works similarly to the shuffle function but returns a new array, leaving the original array untouched, as demonstrated below."
   ]
  },
  {
   "cell_type": "code",
   "execution_count": 29,
   "metadata": {},
   "outputs": [
    {
     "data": {
      "text/plain": [
       "(array([2, 0, 3, 6, 8, 7, 5, 4, 9, 1]), array([0, 1, 2, 3, 4, 5, 6, 7, 8, 9]))"
      ]
     },
     "execution_count": 29,
     "metadata": {},
     "output_type": "execute_result"
    }
   ],
   "source": [
    "arr = np.arange(10)\n",
    "shuffled = np.random.permutation(arr)\n",
    "shuffled, arr"
   ]
  },
  {
   "cell_type": "code",
   "execution_count": null,
   "metadata": {},
   "outputs": [],
   "source": []
  },
  {
   "cell_type": "markdown",
   "metadata": {
    "collapsed": true
   },
   "source": [
    "## Distributions functions in numpy.random\n",
    "\n",
    "There are 35 functions within the numpy.random \"distributions\" family of functions. Six of these functions are described below, including:\n",
    "\n",
    "- uniform()\n",
    "- normal()\n",
    "-\n",
    "-\n",
    "-\n",
    "-"
   ]
  },
  {
   "cell_type": "markdown",
   "metadata": {},
   "source": [
    "### numpy.random.uniform()"
   ]
  },
  {
   "cell_type": "code",
   "execution_count": null,
   "metadata": {},
   "outputs": [],
   "source": []
  },
  {
   "cell_type": "code",
   "execution_count": 34,
   "metadata": {},
   "outputs": [],
   "source": [
    "x = np.random.uniform(0, 10,100)\n"
   ]
  },
  {
   "cell_type": "code",
   "execution_count": 35,
   "metadata": {},
   "outputs": [
    {
     "data": {
      "image/png": "[encoded data removed]",
      "text/plain": [
       "<matplotlib.figure.Figure at 0x1fc6c3ae160>"
      ]
     },
     "metadata": {
      "needs_background": "light"
     },
     "output_type": "display_data"
    }
   ],
   "source": [
    "plt.hist(x)\n",
    "plt.show()"
   ]
  },
  {
   "cell_type": "markdown",
   "metadata": {},
   "source": [
    "### numpy.random.normal()"
   ]
  },
  {
   "cell_type": "code",
   "execution_count": null,
   "metadata": {},
   "outputs": [],
   "source": []
  },
  {
   "cell_type": "code",
   "execution_count": null,
   "metadata": {},
   "outputs": [],
   "source": [
    "x = np.random.normal(10, 100, 10000)\n",
    "x"
   ]
  },
  {
   "cell_type": "code",
   "execution_count": null,
   "metadata": {},
   "outputs": [],
   "source": [
    "plt.hist(x)\n",
    "plt.show()"
   ]
  },
  {
   "cell_type": "code",
   "execution_count": null,
   "metadata": {},
   "outputs": [],
   "source": []
  },
  {
   "cell_type": "code",
   "execution_count": 52,
   "metadata": {},
   "outputs": [
    {
     "data": {
      "text/plain": [
       "array([110,  97,  98, ...,  99,  93,  89])"
      ]
     },
     "execution_count": 52,
     "metadata": {},
     "output_type": "execute_result"
    }
   ],
   "source": [
    "x = np.random.poisson(100, 50000)\n",
    "x"
   ]
  },
  {
   "cell_type": "code",
   "execution_count": 53,
   "metadata": {},
   "outputs": [
    {
     "data": {
      "image/png": "[encoded data removed]",
      "text/plain": [
       "<matplotlib.figure.Figure at 0x1fc66c10b38>"
      ]
     },
     "metadata": {
      "needs_background": "light"
     },
     "output_type": "display_data"
    }
   ],
   "source": [
    "plt.hist(x)\n",
    "plt.show()"
   ]
  },
  {
   "cell_type": "code",
   "execution_count": null,
   "metadata": {},
   "outputs": [],
   "source": []
  },
  {
   "cell_type": "code",
   "execution_count": null,
   "metadata": {},
   "outputs": [],
   "source": [
    "x = np.random.rayleigh(1000, 20)\n",
    "x"
   ]
  },
  {
   "cell_type": "code",
   "execution_count": null,
   "metadata": {},
   "outputs": [],
   "source": [
    "plt.hist(x)\n",
    "plt.show()"
   ]
  },
  {
   "cell_type": "code",
   "execution_count": null,
   "metadata": {},
   "outputs": [],
   "source": []
  },
  {
   "cell_type": "code",
   "execution_count": null,
   "metadata": {},
   "outputs": [],
   "source": [
    "x = np.random.triangular(8, 0, 100,  1000)"
   ]
  },
  {
   "cell_type": "markdown",
   "metadata": {},
   "source": []
  },
  {
   "cell_type": "markdown",
   "metadata": {},
   "source": [
    "### numpy.random.power()\n",
    "\n",
    "The power function returns random positive floats between 0.0 and 1.0, but not including 1.0. These random numbers are selected from a positive exponential distribution - this means that there is an increase in the number of outputs or values the closer we get to 1.0. Exponential distribution can be described in relation to time - the probability that an event will occur increases or becomes more likely as the time increases, for exmaple scoring a goal in a football match [9]. "
   ]
  },
  {
   "cell_type": "code",
   "execution_count": 50,
   "metadata": {},
   "outputs": [
    {
     "data": {
      "text/plain": [
       "array([ 0.5481818 ,  0.75312111,  0.98763404, ...,  0.79419231,\n",
       "        0.62549325,  0.69090431])"
      ]
     },
     "execution_count": 50,
     "metadata": {},
     "output_type": "execute_result"
    }
   ],
   "source": [
    "x = np.random.power( 3, 10000)\n",
    "x"
   ]
  },
  {
   "cell_type": "code",
   "execution_count": 51,
   "metadata": {},
   "outputs": [
    {
     "data": {
      "image/png": "[encoded data removed]",
      "text/plain": [
       "<matplotlib.figure.Figure at 0x1fc6c3db438>"
      ]
     },
     "metadata": {
      "needs_background": "light"
     },
     "output_type": "display_data"
    }
   ],
   "source": [
    "plt.hist(x)\n",
    "plt.show()"
   ]
  },
  {
   "cell_type": "markdown",
   "metadata": {},
   "source": [
    "The *a* parameter (or first parameter) within the parentheses influences the values closer to 1.0. A higher *a* parameter results in a larger number of outputs that are closer to 1.0, in keeping with positive exponential distribution. This is demonstrated in the above and below histograms where *a* = 3 and *a* = 11."
   ]
  },
  {
   "cell_type": "code",
   "execution_count": 48,
   "metadata": {},
   "outputs": [
    {
     "data": {
      "text/plain": [
       "array([ 0.82630957,  0.75842359,  0.96019833, ...,  0.88564579,\n",
       "        0.90938055,  0.94245503])"
      ]
     },
     "execution_count": 48,
     "metadata": {},
     "output_type": "execute_result"
    }
   ],
   "source": [
    "x = np.random.power( 11, 10000)\n",
    "x"
   ]
  },
  {
   "cell_type": "code",
   "execution_count": 49,
   "metadata": {},
   "outputs": [
    {
     "data": {
      "image/png": "[encoded data removed]",
      "text/plain": [
       "<matplotlib.figure.Figure at 0x1fc6b034780>"
      ]
     },
     "metadata": {
      "needs_background": "light"
     },
     "output_type": "display_data"
    }
   ],
   "source": [
    "plt.hist(x)\n",
    "plt.show()"
   ]
  },
  {
   "cell_type": "markdown",
   "metadata": {},
   "source": [
    "### Explain the use of seeds in generating pseudorandom numbers"
   ]
  },
  {
   "cell_type": "code",
   "execution_count": null,
   "metadata": {},
   "outputs": [],
   "source": []
  },
  {
   "cell_type": "code",
   "execution_count": null,
   "metadata": {},
   "outputs": [],
   "source": []
  },
  {
   "cell_type": "code",
   "execution_count": null,
   "metadata": {},
   "outputs": [],
   "source": []
  },
  {
   "cell_type": "markdown",
   "metadata": {},
   "source": [
    "## References "
   ]
  },
  {
   "cell_type": "markdown",
   "metadata": {},
   "source": [
    "[1] www.numpy.org/ date: 03/11/2018 \n",
    "\n",
    "[2] https://www.datacamp.com/community/tutorials/python-numpy-tutorial date: 03/11/2018 \n",
    "\n",
    "[3] https://docs.scipy.org/doc/numpy/user/basics.creation.html date: 03/11/2018 \n",
    "\n",
    "[4] https://www.investopedia.com/terms/u/uniform-distribution.asp date: 04/11/2018\n",
    "\n",
    "[5] https://www.statisticshowto.datasciencecentral.com/probability-and-statistics/normal-distributions/ date: 04/11/2018\n",
    "\n",
    "[6] https://www.chegg.com/homework-help/definitions/discrete-uniform-31 date: 04/11/2018 \n",
    "\n",
    "[7] https://socratic.org/questions/what-is-the-difference-between-a-discrete-uniform-distribution-and-a-continuous- dated: 04/11/2018\n",
    "\n",
    "[8] https://stackoverflow.com/questions/18829185/difference-between-various-numpy-random-functions dated: 04/11/2018\n",
    "\n",
    "[9] https://www.statlect.com/probability-distributions/exponential-distribution dated: 06/11/2018 "
   ]
  },
  {
   "cell_type": "markdown",
   "metadata": {},
   "source": [
    "## Bibliography and Acknowledgements "
   ]
  },
  {
   "cell_type": "markdown",
   "metadata": {},
   "source": [
    "- https://docs.scipy.org/doc/numpy-1.15.1/user/whatisnumpy.html date: 20/10/2018\n",
    "- https://docs.scipy.org/doc/numpy-1.15.1/reference/routines.random.html date:27/10/2018\n",
    "- http://nbviewer.jupyter.org/gist/rossant/4645217 date: 03/11/2018\n",
    "- https://en.wikipedia.org/wiki/NumPy date: 03/11/2018\n",
    "- https://www.packtpub.com/mapt/book/big_data_and_business_intelligence/9781785285110/2/ch02lvl1sec16/numpy-random-numbers date: 03/11/2018\n",
    "- https://www.datacamp.com/community/tutorials/python-numpy-tutorial date: 03/11/2018 \n",
    "- http://mathworld.wolfram.com/DiscreteUniformDistribution.html date: 04/11/2018 \n",
    "- https://machinelearningmastery.com/how-to-generate-random-numbers-in-python/ - good for seeds and pseudo random number info 04/11/2018"
   ]
  },
  {
   "cell_type": "code",
   "execution_count": null,
   "metadata": {},
   "outputs": [],
   "source": []
  }
 ],
 "metadata": {
  "kernelspec": {
   "display_name": "Python 3",
   "language": "python",
   "name": "python3"
  },
  "language_info": {
   "codemirror_mode": {
    "name": "ipython",
    "version": 3
   },
   "file_extension": ".py",
   "mimetype": "text/x-python",
   "name": "python",
   "nbconvert_exporter": "python",
   "pygments_lexer": "ipython3",
   "version": "3.6.7"
  }
 },
 "nbformat": 4,
 "nbformat_minor": 2
}
