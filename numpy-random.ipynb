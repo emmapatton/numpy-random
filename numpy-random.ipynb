{
 "cells": [
  {
   "cell_type": "markdown",
   "metadata": {},
   "source": [
    "# An Overview of the numpy.random Package"
   ]
  },
  {
   "cell_type": "markdown",
   "metadata": {},
   "source": [
    "## Purpose of the numpy.random Package\n",
    "\n",
    "NumPy is a Python library used for scientific and mathematical computing in the Python programming language [1]. It contains a number of tools that can be used to solve mathematical models of problems using a computer [2]. \n",
    "\n",
    "Numpy.random is a collection of special library functions within NumPy to generate random numbers. These functions can also be used to organise random numbers into arrays of different shapes and sizes [3]. \n",
    "\n",
    "\n",
    "Functions within the numpy.random library are organised into four main categories: \n",
    "\n",
    "- Simple random data\n",
    "- Permutations\n",
    "- Distributions\n",
    "- Random generator\n",
    "\n",
    "The full numpy.random documentation can be accessed [here.](https://docs.scipy.org/doc/numpy/reference/routines.random.html)\n",
    "\n",
    "\n",
    "This notebook will discuss \"simple random data,\" \"permutations\" and \"distributions\" functions. The use of seeds in generating psuedorandom numbers will also be discussed."
   ]
  },
  {
   "cell_type": "markdown",
   "metadata": {},
   "source": [
    "## Simple random data functions in numpy.random\n",
    "\n",
    "There are 10 functions within the numpy.random \"Simple random data\" family of functions: \n",
    "\n",
    "- rand()\n",
    "- randn()\n",
    "- randint()\n",
    "- random_integers()\n",
    "- random_sample()\n",
    "- random()\n",
    "- ranf()\n",
    "- sample()\n",
    "- choice()\n",
    "- bytes()\n",
    "\n",
    "Each of these are discussed below.\n"
   ]
  },
  {
   "cell_type": "code",
   "execution_count": 1,
   "metadata": {},
   "outputs": [],
   "source": [
    "import numpy as np\n",
    "import matplotlib.pyplot as plt"
   ]
  },
  {
   "cell_type": "markdown",
   "metadata": {},
   "source": [
    "### numpy.random.rand()\n",
    "\n",
    "The rand function creates a random array of positive floating point numbers with a continuous uniform distribution from 0, up to but not including 1. An argument can be passed in, telling the function how many numbers to return. If no argument is provided, the function will return a single float. \n",
    "\n",
    "In other words, this function creates random numbers that are uniformly distributed between 0 and 1, but not including the number 1.Uniform distribution is where each variable, or number in this case, has the same (uniform) probability [4]."
   ]
  },
  {
   "cell_type": "code",
   "execution_count": 2,
   "metadata": {
    "scrolled": true
   },
   "outputs": [
    {
     "data": {
      "text/plain": [
       "array([ 0.30563573,  0.5685586 ,  0.30165704, ...,  0.86128236,\n",
       "        0.36297877,  0.82351264])"
      ]
     },
     "execution_count": 2,
     "metadata": {},
     "output_type": "execute_result"
    }
   ],
   "source": [
    "# To obtain an array of 100 numbers \n",
    "x = np.random.rand(10000)\n",
    "x"
   ]
  },
  {
   "cell_type": "code",
   "execution_count": 3,
   "metadata": {},
   "outputs": [
    {
     "data": {
      "image/png": "[encoded data removed]",
      "text/plain": [
       "<matplotlib.figure.Figure at 0x2917ad061d0>"
      ]
     },
     "metadata": {
      "needs_background": "light"
     },
     "output_type": "display_data"
    }
   ],
   "source": [
    "%matplotlib inline\n",
    "\n",
    "# To plot these numbers on a histogram\n",
    "plt.hist(x)\n",
    "plt.show()"
   ]
  },
  {
   "cell_type": "markdown",
   "metadata": {},
   "source": [
    "Further arguments can be passed to request that more than one array of random data is returned, for example:"
   ]
  },
  {
   "cell_type": "code",
   "execution_count": 4,
   "metadata": {},
   "outputs": [
    {
     "data": {
      "text/plain": [
       "array([[[  9.77217341e-01,   2.29624885e-01,   9.13303544e-02,\n",
       "           9.86305989e-01],\n",
       "        [  4.50643473e-01,   7.33053698e-01,   6.80685830e-01,\n",
       "           9.35618103e-01]],\n",
       "\n",
       "       [[  7.31103988e-01,   4.28942912e-01,   4.50877112e-01,\n",
       "           3.24145244e-01],\n",
       "        [  5.76737542e-01,   1.72974071e-01,   5.89531516e-01,\n",
       "           6.11713317e-01]],\n",
       "\n",
       "       [[  3.29588310e-02,   9.26897095e-01,   7.36174589e-01,\n",
       "           4.96981550e-01],\n",
       "        [  3.99811762e-01,   2.47818602e-01,   6.38750107e-01,\n",
       "           5.63588184e-01]],\n",
       "\n",
       "       [[  1.86842697e-01,   4.59786056e-01,   9.53309761e-01,\n",
       "           7.24328593e-02],\n",
       "        [  7.84908417e-01,   8.93801582e-01,   8.78305496e-01,\n",
       "           2.34952746e-01]],\n",
       "\n",
       "       [[  6.83639583e-01,   5.66824017e-01,   2.72851753e-01,\n",
       "           5.57548097e-01],\n",
       "        [  7.69424381e-01,   2.35730769e-01,   8.79539693e-01,\n",
       "           2.15518404e-01]],\n",
       "\n",
       "       [[  8.00982857e-01,   5.49813593e-01,   3.75529674e-01,\n",
       "           1.27243245e-01],\n",
       "        [  7.17185114e-01,   5.38261108e-01,   2.73473525e-01,\n",
       "           5.66987863e-01]],\n",
       "\n",
       "       [[  8.67428341e-01,   5.84527609e-01,   2.59137289e-01,\n",
       "           1.86411513e-01],\n",
       "        [  8.91289242e-01,   1.44363401e-01,   6.05097850e-01,\n",
       "           2.17568019e-01]],\n",
       "\n",
       "       [[  3.37420500e-01,   5.23233525e-01,   6.48443169e-01,\n",
       "           7.10801637e-01],\n",
       "        [  1.68152459e-01,   4.06754426e-01,   5.34106382e-01,\n",
       "           9.60992020e-01]],\n",
       "\n",
       "       [[  6.35467142e-01,   7.96586233e-02,   9.91323238e-01,\n",
       "           3.99342543e-01],\n",
       "        [  4.01340633e-02,   7.06359694e-01,   3.01749290e-01,\n",
       "           5.24522794e-01]],\n",
       "\n",
       "       [[  9.61958222e-03,   3.29282807e-04,   1.59480166e-01,\n",
       "           9.08011888e-01],\n",
       "        [  1.17185155e-01,   9.06483504e-01,   8.28974521e-01,\n",
       "           2.36808721e-01]]])"
      ]
     },
     "execution_count": 4,
     "metadata": {},
     "output_type": "execute_result"
    }
   ],
   "source": [
    "# 10 2x4 arrays of random numbers\n",
    "x = np.random.rand(10, 2, 4)\n",
    "x"
   ]
  },
  {
   "cell_type": "code",
   "execution_count": 5,
   "metadata": {},
   "outputs": [
    {
     "data": {
      "text/plain": [
       "array([[ 0.38865823,  0.81411053],\n",
       "       [ 0.3160593 ,  0.61581321],\n",
       "       [ 0.42323184,  0.17286661],\n",
       "       ..., \n",
       "       [ 0.49207281,  0.58158361],\n",
       "       [ 0.07859545,  0.38025001],\n",
       "       [ 0.87359146,  0.97843934]])"
      ]
     },
     "execution_count": 5,
     "metadata": {},
     "output_type": "execute_result"
    }
   ],
   "source": [
    "x = np.random.rand(10000, 2)\n",
    "x"
   ]
  },
  {
   "cell_type": "code",
   "execution_count": 6,
   "metadata": {},
   "outputs": [
    {
     "data": {
      "image/png": "[encoded data removed]",
      "text/plain": [
       "<matplotlib.figure.Figure at 0x2917af2abe0>"
      ]
     },
     "metadata": {
      "needs_background": "light"
     },
     "output_type": "display_data"
    }
   ],
   "source": [
    "plt.hist(x)\n",
    "plt.show()"
   ]
  },
  {
   "cell_type": "markdown",
   "metadata": {},
   "source": [
    "### numpy.random.randn"
   ]
  },
  {
   "cell_type": "markdown",
   "metadata": {},
   "source": [
    "The randn function also creates a random array of floating point numbers however it differs from the rand function above in that floats can be positive or negative and the distribution is normal (Gaussian). \n",
    "\n",
    "Normal distribution [5] can be visually represented by a bell curve and is distribution that occurs naturally when there is no bias. Most of the data falls within one point or standard deviation on either side of the mean. Examples of normal distribution can be seen throughout the general population, for example in a collection of IQ test scores, blood pressure results, heights, weights etc. "
   ]
  },
  {
   "cell_type": "code",
   "execution_count": 7,
   "metadata": {
    "scrolled": true
   },
   "outputs": [
    {
     "data": {
      "text/plain": [
       "array([-1.61388309,  0.09407979, -0.129118  , ..., -2.0483123 ,\n",
       "        1.29342341,  0.33202102])"
      ]
     },
     "execution_count": 7,
     "metadata": {},
     "output_type": "execute_result"
    }
   ],
   "source": [
    "x = np.random.randn(10000)\n",
    "x"
   ]
  },
  {
   "cell_type": "code",
   "execution_count": 8,
   "metadata": {},
   "outputs": [
    {
     "data": {
      "image/png": "[encoded data removed]",
      "text/plain": [
       "<matplotlib.figure.Figure at 0x2917b01b5f8>"
      ]
     },
     "metadata": {
      "needs_background": "light"
     },
     "output_type": "display_data"
    }
   ],
   "source": [
    "plt.hist(x)\n",
    "plt.show()"
   ]
  },
  {
   "cell_type": "markdown",
   "metadata": {},
   "source": [
    "This function can also provide more than one set of data, for example:"
   ]
  },
  {
   "cell_type": "code",
   "execution_count": 9,
   "metadata": {},
   "outputs": [
    {
     "data": {
      "text/plain": [
       "array([[ 1.72183855, -0.8327649 , -0.96166806],\n",
       "       [ 0.97132064, -0.4974058 , -0.9054906 ],\n",
       "       [ 0.20032124,  2.12465455,  0.12269842],\n",
       "       ..., \n",
       "       [-0.79354938, -0.25678193, -1.47545312],\n",
       "       [-0.7991696 ,  0.58459502,  1.36111936],\n",
       "       [-0.94963453,  1.38246361,  0.11464607]])"
      ]
     },
     "execution_count": 9,
     "metadata": {},
     "output_type": "execute_result"
    }
   ],
   "source": [
    "x = np.random.randn(10000, 3)\n",
    "x"
   ]
  },
  {
   "cell_type": "code",
   "execution_count": 10,
   "metadata": {},
   "outputs": [
    {
     "data": {
      "image/png": "[encoded data removed]",
      "text/plain": [
       "<matplotlib.figure.Figure at 0x2917b1bd710>"
      ]
     },
     "metadata": {
      "needs_background": "light"
     },
     "output_type": "display_data"
    }
   ],
   "source": [
    "plt.hist(x)\n",
    "plt.show()"
   ]
  },
  {
   "cell_type": "markdown",
   "metadata": {},
   "source": [
    "### numpy.random.randint()\n",
    "\n",
    "The randint function returns random integers (whole numbers) that have discrete uniform distribution. Discrete uniform distribution is also known as equally likely outcomes distribution [6]. This is where the probability of evenly spaced values are equally likely to occur, for example when rolling a 6 sided dice, there are 6 evenly likely possibilties of rolling a certain number \n",
    "\n",
    "In probability, discrete uniform distribution differs from continuous uniform distribution in that disrcrete uniform distribution refers to whole numbers and continuous uniform distribution refers to numbers containing a decimal point (floats) [7].  \n",
    "\n",
    "The randint function requires parameters for the lowest and highest numbers you would like it to return. Lowest and highest numbers can be et as postive or negative. The lowest number is included in the output however the highest number is excluded. For example:\n",
    "\n",
    "*np.random.randint(1, 10)*\n",
    "\n",
    "will return a single random number between 1 and 9 inclusive. The size of the sample required can also be set, as outlined below. "
   ]
  },
  {
   "cell_type": "code",
   "execution_count": 11,
   "metadata": {},
   "outputs": [
    {
     "data": {
      "text/plain": [
       "array([ 9, -4, 14, ...,  4,  0, -4])"
      ]
     },
     "execution_count": 11,
     "metadata": {},
     "output_type": "execute_result"
    }
   ],
   "source": [
    "x = np.random.randint(-5, 20, size=10000)\n",
    "x"
   ]
  },
  {
   "cell_type": "code",
   "execution_count": 12,
   "metadata": {},
   "outputs": [
    {
     "data": {
      "image/png": "[encoded data removed]",
      "text/plain": [
       "<matplotlib.figure.Figure at 0x2917b3ba668>"
      ]
     },
     "metadata": {
      "needs_background": "light"
     },
     "output_type": "display_data"
    }
   ],
   "source": [
    "plt.hist(x)\n",
    "plt.show()"
   ]
  },
  {
   "cell_type": "markdown",
   "metadata": {},
   "source": [
    "### numpy.random.random_integers()\n",
    "\n",
    "This function has been deprecated since version 1.11.0.\n"
   ]
  },
  {
   "cell_type": "markdown",
   "metadata": {},
   "source": [
    "### numpy.random.random_sample()\n",
    "\n",
    "The random_sample() function returns floats between 0.0 and 1.0, not including 1.0 using continuous uniform distribution. "
   ]
  },
  {
   "cell_type": "code",
   "execution_count": 13,
   "metadata": {},
   "outputs": [
    {
     "data": {
      "text/plain": [
       "array([ 0.10506786,  0.5689443 ,  0.28153907, ...,  0.96498112,\n",
       "        0.64063272,  0.26968128])"
      ]
     },
     "execution_count": 13,
     "metadata": {},
     "output_type": "execute_result"
    }
   ],
   "source": [
    "x = np.random.random_sample(10000)\n",
    "x"
   ]
  },
  {
   "cell_type": "code",
   "execution_count": 14,
   "metadata": {},
   "outputs": [
    {
     "data": {
      "image/png": "[encoded data removed]",
      "text/plain": [
       "<matplotlib.figure.Figure at 0x2917b39f358>"
      ]
     },
     "metadata": {
      "needs_background": "light"
     },
     "output_type": "display_data"
    }
   ],
   "source": [
    "plt.hist(x)\n",
    "plt.show()"
   ]
  },
  {
   "cell_type": "markdown",
   "metadata": {},
   "source": [
    "Similarly to the previous functions discussed, the random_sample function can also output more than one set of data:"
   ]
  },
  {
   "cell_type": "code",
   "execution_count": 15,
   "metadata": {
    "scrolled": true
   },
   "outputs": [
    {
     "data": {
      "text/plain": [
       "array([[[ 0.94799934,  0.84788867,  0.88974049,  0.09142343,  0.31053721],\n",
       "        [ 0.39346774,  0.26478384,  0.94592726,  0.26364003,  0.34146449],\n",
       "        [ 0.44398119,  0.08493432,  0.4150055 ,  0.52511446,  0.7328506 ],\n",
       "        [ 0.86553408,  0.02125667,  0.16193067,  0.87938759,  0.10318608]],\n",
       "\n",
       "       [[ 0.09821375,  0.90931033,  0.16191208,  0.83464711,  0.81416042],\n",
       "        [ 0.08308073,  0.2027635 ,  0.63628749,  0.84812907,  0.16175531],\n",
       "        [ 0.11042904,  0.54932754,  0.02245204,  0.25936471,  0.37319014],\n",
       "        [ 0.83103571,  0.07012418,  0.35648063,  0.21009645,  0.04686897]],\n",
       "\n",
       "       [[ 0.98214098,  0.98428847,  0.86404244,  0.08401313,  0.10210163],\n",
       "        [ 0.9787909 ,  0.81415184,  0.30800501,  0.51395611,  0.88312407],\n",
       "        [ 0.1477785 ,  0.43529334,  0.35927559,  0.1678953 ,  0.73442099],\n",
       "        [ 0.92755185,  0.54011506,  0.29596905,  0.23481315,  0.48640393]],\n",
       "\n",
       "       [[ 0.41286961,  0.298625  ,  0.73231101,  0.49705438,  0.02973451],\n",
       "        [ 0.0715447 ,  0.04112984,  0.89023439,  0.32777815,  0.72450358],\n",
       "        [ 0.77325301,  0.24712591,  0.23320185,  0.17691314,  0.45733668],\n",
       "        [ 0.10664568,  0.58734149,  0.22765616,  0.54580802,  0.48920685]],\n",
       "\n",
       "       [[ 0.57078959,  0.06296976,  0.17437913,  0.90536887,  0.40939343],\n",
       "        [ 0.92476885,  0.50699201,  0.2538202 ,  0.97516205,  0.94433893],\n",
       "        [ 0.59921731,  0.22909077,  0.51278674,  0.77704491,  0.67256379],\n",
       "        [ 0.33641866,  0.56628719,  0.14453117,  0.83806391,  0.99566695]],\n",
       "\n",
       "       [[ 0.07134184,  0.04716231,  0.37634732,  0.90738474,  0.90451795],\n",
       "        [ 0.87911511,  0.07008996,  0.30426427,  0.52323812,  0.99231843],\n",
       "        [ 0.32217625,  0.41422286,  0.19928228,  0.05804551,  0.73604646],\n",
       "        [ 0.16766869,  0.49507649,  0.7969514 ,  0.70265085,  0.14001544]],\n",
       "\n",
       "       [[ 0.5683984 ,  0.60400064,  0.93752415,  0.4043676 ,  0.0511557 ],\n",
       "        [ 0.25428211,  0.90337059,  0.27769022,  0.56444534,  0.31172278],\n",
       "        [ 0.03078745,  0.37037757,  0.46064131,  0.56483645,  0.90384873],\n",
       "        [ 0.02209242,  0.81143115,  0.18214308,  0.69904772,  0.97552337]],\n",
       "\n",
       "       [[ 0.04028811,  0.20828514,  0.64017368,  0.28867099,  0.99574542],\n",
       "        [ 0.12976197,  0.82784771,  0.59703902,  0.28368659,  0.8327308 ],\n",
       "        [ 0.75987076,  0.56162884,  0.92734425,  0.17307005,  0.51789336],\n",
       "        [ 0.93778453,  0.22624019,  0.20630443,  0.1424502 ,  0.68089041]],\n",
       "\n",
       "       [[ 0.96551757,  0.64704276,  0.30006269,  0.36953447,  0.86981354],\n",
       "        [ 0.46556025,  0.13495329,  0.08273678,  0.1896253 ,  0.08554634],\n",
       "        [ 0.32251525,  0.96133738,  0.36894768,  0.77228427,  0.08428048],\n",
       "        [ 0.46933089,  0.89549891,  0.99270999,  0.32748957,  0.41582833]],\n",
       "\n",
       "       [[ 0.31028626,  0.79009656,  0.18092993,  0.78994719,  0.44982153],\n",
       "        [ 0.42333908,  0.60990177,  0.04233247,  0.51248698,  0.05970695],\n",
       "        [ 0.56334662,  0.31460023,  0.15365639,  0.73088996,  0.0699098 ],\n",
       "        [ 0.20995825,  0.30856287,  0.54558163,  0.50193109,  0.01460686]],\n",
       "\n",
       "       [[ 0.35517762,  0.46199154,  0.36853055,  0.90213866,  0.21388088],\n",
       "        [ 0.86156594,  0.79692356,  0.91778184,  0.63639225,  0.30103968],\n",
       "        [ 0.02829505,  0.47995546,  0.62381683,  0.65450837,  0.72380253],\n",
       "        [ 0.89320655,  0.71828879,  0.49274209,  0.42085937,  0.83178312]],\n",
       "\n",
       "       [[ 0.56267919,  0.94792008,  0.50781839,  0.4660924 ,  0.78572187],\n",
       "        [ 0.29088205,  0.29646805,  0.26226438,  0.1183171 ,  0.71835275],\n",
       "        [ 0.35445508,  0.17344265,  0.7603204 ,  0.39032654,  0.15428944],\n",
       "        [ 0.45898527,  0.42252792,  0.9763521 ,  0.08884935,  0.17269582]],\n",
       "\n",
       "       [[ 0.78891829,  0.23448034,  0.96220724,  0.64442777,  0.79895033],\n",
       "        [ 0.79660799,  0.77121229,  0.41584085,  0.57282049,  0.89772114],\n",
       "        [ 0.08745902,  0.13389871,  0.47102026,  0.365038  ,  0.0638064 ],\n",
       "        [ 0.92275729,  0.44095492,  0.83462094,  0.23128001,  0.27368089]],\n",
       "\n",
       "       [[ 0.81030398,  0.91801678,  0.47273554,  0.63167056,  0.91783295],\n",
       "        [ 0.21285377,  0.03925916,  0.3266824 ,  0.69452429,  0.44085665],\n",
       "        [ 0.22960323,  0.61815117,  0.28820185,  0.22160754,  0.94777593],\n",
       "        [ 0.48843214,  0.56901963,  0.21229879,  0.1955558 ,  0.57487322]],\n",
       "\n",
       "       [[ 0.46754799,  0.42909973,  0.46295447,  0.11841561,  0.7357152 ],\n",
       "        [ 0.22752646,  0.78392791,  0.71096189,  0.92315096,  0.09317362],\n",
       "        [ 0.29641037,  0.43970871,  0.42004071,  0.64533114,  0.50620986],\n",
       "        [ 0.35852241,  0.21533753,  0.74145873,  0.17823537,  0.52509036]],\n",
       "\n",
       "       [[ 0.15803148,  0.43355488,  0.34641217,  0.39396573,  0.87795245],\n",
       "        [ 0.81186694,  0.60981531,  0.96141316,  0.2671049 ,  0.56053954],\n",
       "        [ 0.54433149,  0.95291016,  0.14969024,  0.76158499,  0.23766322],\n",
       "        [ 0.51406551,  0.72252902,  0.41025345,  0.73498769,  0.6936866 ]],\n",
       "\n",
       "       [[ 0.0340405 ,  0.08067839,  0.2188427 ,  0.19798504,  0.62827429],\n",
       "        [ 0.78152018,  0.25746116,  0.19374388,  0.59606539,  0.92741908],\n",
       "        [ 0.34890796,  0.91547787,  0.92898793,  0.91649477,  0.13997378],\n",
       "        [ 0.13471806,  0.54790612,  0.4305712 ,  0.75343499,  0.79173522]],\n",
       "\n",
       "       [[ 0.99111269,  0.5050538 ,  0.2113268 ,  0.50556663,  0.15391516],\n",
       "        [ 0.28073339,  0.27736687,  0.5657678 ,  0.67068636,  0.7772025 ],\n",
       "        [ 0.04213001,  0.71053424,  0.1867898 ,  0.27287383,  0.3256428 ],\n",
       "        [ 0.6175868 ,  0.76436784,  0.95044461,  0.52125136,  0.27786057]],\n",
       "\n",
       "       [[ 0.12640988,  0.7093931 ,  0.2718109 ,  0.55246964,  0.23539231],\n",
       "        [ 0.31567176,  0.29687055,  0.83518809,  0.60903086,  0.87799618],\n",
       "        [ 0.57422271,  0.73640917,  0.85909789,  0.74573947,  0.76795174],\n",
       "        [ 0.26705744,  0.01567253,  0.58627932,  0.79848631,  0.34072067]],\n",
       "\n",
       "       [[ 0.89036735,  0.74662423,  0.90928197,  0.01190768,  0.18696532],\n",
       "        [ 0.24096755,  0.46903158,  0.84552956,  0.91146331,  0.96900582],\n",
       "        [ 0.5453053 ,  0.88117491,  0.3623266 ,  0.74786293,  0.7376258 ],\n",
       "        [ 0.67609725,  0.76309994,  0.75658086,  0.9979293 ,  0.00251138]]])"
      ]
     },
     "execution_count": 15,
     "metadata": {},
     "output_type": "execute_result"
    }
   ],
   "source": [
    "# 20 4x5 arrays of random numbers \n",
    "x = np.random.random_sample((20, 4, 5))\n",
    "x"
   ]
  },
  {
   "cell_type": "code",
   "execution_count": 16,
   "metadata": {},
   "outputs": [
    {
     "data": {
      "text/plain": [
       "array([[ 0.76955897,  0.24567115,  0.33572977,  0.93168023],\n",
       "       [ 0.1100554 ,  0.10068284,  0.51427002,  0.87659721],\n",
       "       [ 0.75180183,  0.88606139,  0.41389329,  0.30169814],\n",
       "       [ 0.46848101,  0.29181618,  0.73207224,  0.49926987],\n",
       "       [ 0.64453508,  0.19880671,  0.97934805,  0.79653373],\n",
       "       [ 0.31005635,  0.86673373,  0.20730743,  0.12302168],\n",
       "       [ 0.96671008,  0.8130083 ,  0.53914928,  0.3177251 ],\n",
       "       [ 0.05754908,  0.95419011,  0.67276422,  0.8822025 ],\n",
       "       [ 0.97111401,  0.4387418 ,  0.77562153,  0.36652035],\n",
       "       [ 0.4346534 ,  0.40510899,  0.36957987,  0.60306976],\n",
       "       [ 0.24762288,  0.57677645,  0.32351548,  0.7157233 ],\n",
       "       [ 0.43148647,  0.85513192,  0.69982003,  0.84464667],\n",
       "       [ 0.61866197,  0.02919977,  0.68797861,  0.53283288],\n",
       "       [ 0.25390379,  0.64552578,  0.0144113 ,  0.0458236 ],\n",
       "       [ 0.15325794,  0.58042448,  0.93951582,  0.08788614],\n",
       "       [ 0.93017755,  0.37103379,  0.8587046 ,  0.9795558 ],\n",
       "       [ 0.09090666,  0.87188176,  0.04107684,  0.29072811],\n",
       "       [ 0.86347231,  0.65030118,  0.49607901,  0.96016294],\n",
       "       [ 0.50736137,  0.58374059,  0.0105781 ,  0.9726861 ],\n",
       "       [ 0.08921465,  0.23554722,  0.88669372,  0.37218507]])"
      ]
     },
     "execution_count": 16,
     "metadata": {},
     "output_type": "execute_result"
    }
   ],
   "source": [
    "# To represent data using a histogram\n",
    "x = np.random.random_sample((20, 4))\n",
    "x"
   ]
  },
  {
   "cell_type": "code",
   "execution_count": 17,
   "metadata": {},
   "outputs": [
    {
     "data": {
      "image/png": "[encoded data removed]",
      "text/plain": [
       "<matplotlib.figure.Figure at 0x2917b45ff60>"
      ]
     },
     "metadata": {
      "needs_background": "light"
     },
     "output_type": "display_data"
    }
   ],
   "source": [
    "plt.hist(x)\n",
    "plt.show()"
   ]
  },
  {
   "cell_type": "markdown",
   "metadata": {},
   "source": [
    "To use the random_sample function across a larger range of numbers (rather than between 0.0 and 1.0), the following code can be used: \n",
    "\n",
    "   *(b - a) * random_sample() + a*\n"
   ]
  },
  {
   "cell_type": "code",
   "execution_count": 18,
   "metadata": {},
   "outputs": [
    {
     "data": {
      "text/plain": [
       "array([ 1.28318139,  4.48789135,  1.83044523,  3.58118401,  3.17437332,\n",
       "        3.58893936,  0.33177797,  5.7683161 ,  5.68879508,  3.46920461])"
      ]
     },
     "execution_count": 18,
     "metadata": {},
     "output_type": "execute_result"
    }
   ],
   "source": [
    "#To obtain an array of random numbers (uniformly distributed) between 0 and 6\n",
    "x = -6 * np.random.random_sample(10) +6\n",
    "x"
   ]
  },
  {
   "cell_type": "markdown",
   "metadata": {},
   "source": [
    "### numpy.random.random(), numpy.random.ranf() and numpy.random.sample() functions\n",
    "\n",
    "The random, ranf and sample functions are the same as the random_sample function and they return the same output as described above [8]. "
   ]
  },
  {
   "cell_type": "code",
   "execution_count": 19,
   "metadata": {
    "scrolled": true
   },
   "outputs": [
    {
     "data": {
      "text/plain": [
       "array([ 0.64459294,  0.8768184 ,  0.9121436 , ...,  0.0659492 ,\n",
       "        0.45745473,  0.72515882])"
      ]
     },
     "execution_count": 19,
     "metadata": {},
     "output_type": "execute_result"
    }
   ],
   "source": [
    "x = np.random.random(10000)\n",
    "x"
   ]
  },
  {
   "cell_type": "code",
   "execution_count": 20,
   "metadata": {},
   "outputs": [
    {
     "data": {
      "image/png": "[encoded data removed]",
      "text/plain": [
       "<matplotlib.figure.Figure at 0x2917b46ae10>"
      ]
     },
     "metadata": {
      "needs_background": "light"
     },
     "output_type": "display_data"
    }
   ],
   "source": [
    "plt.hist(x)\n",
    "plt.show()"
   ]
  },
  {
   "cell_type": "code",
   "execution_count": 21,
   "metadata": {},
   "outputs": [
    {
     "data": {
      "text/plain": [
       "array([ 0.08935713,  0.02735128,  0.1424809 , ...,  0.39830168,\n",
       "        0.18559618,  0.09431938])"
      ]
     },
     "execution_count": 21,
     "metadata": {},
     "output_type": "execute_result"
    }
   ],
   "source": [
    "x = np.random.ranf(10000)\n",
    "x"
   ]
  },
  {
   "cell_type": "code",
   "execution_count": 22,
   "metadata": {},
   "outputs": [
    {
     "data": {
      "image/png": "[encoded data removed]",
      "text/plain": [
       "<matplotlib.figure.Figure at 0x2917d4b1518>"
      ]
     },
     "metadata": {
      "needs_background": "light"
     },
     "output_type": "display_data"
    }
   ],
   "source": [
    "plt.hist(x)\n",
    "plt.show()"
   ]
  },
  {
   "cell_type": "code",
   "execution_count": 23,
   "metadata": {},
   "outputs": [
    {
     "data": {
      "text/plain": [
       "array([ 0.85340768,  0.01243676,  0.88075195, ...,  0.86352057,\n",
       "        0.68342129,  0.35803669])"
      ]
     },
     "execution_count": 23,
     "metadata": {},
     "output_type": "execute_result"
    }
   ],
   "source": [
    "x = np.random.sample(10000)\n",
    "x"
   ]
  },
  {
   "cell_type": "code",
   "execution_count": 24,
   "metadata": {},
   "outputs": [
    {
     "data": {
      "image/png": "[encoded data removed]",
      "text/plain": [
       "<matplotlib.figure.Figure at 0x2917d530550>"
      ]
     },
     "metadata": {
      "needs_background": "light"
     },
     "output_type": "display_data"
    }
   ],
   "source": [
    "plt.hist(x)\n",
    "plt.show()"
   ]
  },
  {
   "cell_type": "markdown",
   "metadata": {},
   "source": [
    "### numpy.random.choice()\n",
    "\n",
    "The choice function provides one positive integer when a single argument is passed. "
   ]
  },
  {
   "cell_type": "code",
   "execution_count": 46,
   "metadata": {},
   "outputs": [
    {
     "data": {
      "text/plain": [
       "4"
      ]
     },
     "execution_count": 46,
     "metadata": {},
     "output_type": "execute_result"
    }
   ],
   "source": [
    "x = np.random.choice(10)\n",
    "x"
   ]
  },
  {
   "cell_type": "markdown",
   "metadata": {},
   "source": [
    "If a second argument is passed, the choice function creates a list of a specified length."
   ]
  },
  {
   "cell_type": "code",
   "execution_count": 47,
   "metadata": {},
   "outputs": [
    {
     "data": {
      "text/plain": [
       "array([9, 2, 2, 9, 4])"
      ]
     },
     "execution_count": 47,
     "metadata": {},
     "output_type": "execute_result"
    }
   ],
   "source": [
    "x = np.random.choice(10, 5)\n",
    "x"
   ]
  },
  {
   "cell_type": "markdown",
   "metadata": {},
   "source": [
    "### numpy.random.bytes()"
   ]
  },
  {
   "cell_type": "code",
   "execution_count": 48,
   "metadata": {},
   "outputs": [
    {
     "data": {
      "text/plain": [
       "b'\\xddl\\x8b?\\t\\xe2\\xd5\\xc9\\xee\\xfc'"
      ]
     },
     "execution_count": 48,
     "metadata": {},
     "output_type": "execute_result"
    }
   ],
   "source": [
    "x = np.random.bytes(10)\n",
    "x"
   ]
  },
  {
   "cell_type": "code",
   "execution_count": null,
   "metadata": {},
   "outputs": [],
   "source": []
  },
  {
   "cell_type": "code",
   "execution_count": null,
   "metadata": {},
   "outputs": [],
   "source": []
  },
  {
   "cell_type": "code",
   "execution_count": null,
   "metadata": {},
   "outputs": [],
   "source": []
  },
  {
   "cell_type": "code",
   "execution_count": null,
   "metadata": {},
   "outputs": [],
   "source": []
  },
  {
   "cell_type": "markdown",
   "metadata": {},
   "source": [
    "## Permutations functions in numpy.random"
   ]
  },
  {
   "cell_type": "markdown",
   "metadata": {},
   "source": [
    "### numpy.random.shuffle()"
   ]
  },
  {
   "cell_type": "markdown",
   "metadata": {},
   "source": [
    "The numpy.random.shuffle function shuffles a sequence of set numbers. It changes the sequence or order of numbers while the numbers remain the same. Shuffle permanently changes the array in place. "
   ]
  },
  {
   "cell_type": "code",
   "execution_count": null,
   "metadata": {},
   "outputs": [],
   "source": []
  },
  {
   "cell_type": "code",
   "execution_count": 28,
   "metadata": {},
   "outputs": [],
   "source": [
    "import numpy as np"
   ]
  },
  {
   "cell_type": "code",
   "execution_count": 29,
   "metadata": {},
   "outputs": [
    {
     "name": "stdout",
     "output_type": "stream",
     "text": [
      "None [3 8 1 5 6 9 2 7 0 4]\n"
     ]
    }
   ],
   "source": [
    "# I have created an ordered array of numbers 0-9. \n",
    "arr = np.arange(10)\n",
    "shuffled = np.random.shuffle(arr)\n",
    "print (shuffled, arr)"
   ]
  },
  {
   "cell_type": "markdown",
   "metadata": {},
   "source": [
    "### numpy.random.permutation()"
   ]
  },
  {
   "cell_type": "markdown",
   "metadata": {},
   "source": [
    "The numpy.random.permutation function works similarly but returns a new array, leaving the original array untouched, as demonstrated below."
   ]
  },
  {
   "cell_type": "code",
   "execution_count": 30,
   "metadata": {},
   "outputs": [
    {
     "name": "stdout",
     "output_type": "stream",
     "text": [
      "[9 3 5 8 4 0 7 1 2 6] [0 1 2 3 4 5 6 7 8 9]\n"
     ]
    }
   ],
   "source": [
    "arr = np.arange(10)\n",
    "shuffled = np.random.permutation(arr)\n",
    "print(shuffled, arr)"
   ]
  },
  {
   "cell_type": "code",
   "execution_count": null,
   "metadata": {},
   "outputs": [],
   "source": []
  },
  {
   "cell_type": "code",
   "execution_count": null,
   "metadata": {},
   "outputs": [],
   "source": []
  },
  {
   "cell_type": "code",
   "execution_count": null,
   "metadata": {},
   "outputs": [],
   "source": []
  },
  {
   "cell_type": "code",
   "execution_count": null,
   "metadata": {},
   "outputs": [],
   "source": []
  },
  {
   "cell_type": "code",
   "execution_count": null,
   "metadata": {},
   "outputs": [],
   "source": []
  },
  {
   "cell_type": "code",
   "execution_count": null,
   "metadata": {},
   "outputs": [],
   "source": []
  },
  {
   "cell_type": "markdown",
   "metadata": {},
   "source": []
  },
  {
   "cell_type": "code",
   "execution_count": null,
   "metadata": {},
   "outputs": [],
   "source": []
  },
  {
   "cell_type": "code",
   "execution_count": null,
   "metadata": {},
   "outputs": [],
   "source": []
  },
  {
   "cell_type": "markdown",
   "metadata": {
    "collapsed": true
   },
   "source": [
    "### Explain the use and purpose of at least five \"Distributions\" functions"
   ]
  },
  {
   "cell_type": "markdown",
   "metadata": {},
   "source": []
  },
  {
   "cell_type": "code",
   "execution_count": null,
   "metadata": {},
   "outputs": [],
   "source": []
  },
  {
   "cell_type": "code",
   "execution_count": null,
   "metadata": {},
   "outputs": [],
   "source": []
  },
  {
   "cell_type": "code",
   "execution_count": null,
   "metadata": {},
   "outputs": [],
   "source": []
  },
  {
   "cell_type": "code",
   "execution_count": 31,
   "metadata": {},
   "outputs": [],
   "source": [
    "x = np.random.uniform(0, 1000,10000)"
   ]
  },
  {
   "cell_type": "code",
   "execution_count": 32,
   "metadata": {},
   "outputs": [
    {
     "data": {
      "image/png": "[encoded data removed]",
      "text/plain": [
       "<matplotlib.figure.Figure at 0x2917d662710>"
      ]
     },
     "metadata": {
      "needs_background": "light"
     },
     "output_type": "display_data"
    }
   ],
   "source": [
    "plt.hist(x)\n",
    "plt.show()"
   ]
  },
  {
   "cell_type": "code",
   "execution_count": 33,
   "metadata": {},
   "outputs": [],
   "source": [
    "x = np.random.normal(10, 100, 10000)"
   ]
  },
  {
   "cell_type": "code",
   "execution_count": 34,
   "metadata": {},
   "outputs": [
    {
     "data": {
      "image/png": "[encoded data removed]",
      "text/plain": [
       "<matplotlib.figure.Figure at 0x2917d65a710>"
      ]
     },
     "metadata": {
      "needs_background": "light"
     },
     "output_type": "display_data"
    }
   ],
   "source": [
    "plt.hist(x)\n",
    "plt.show()"
   ]
  },
  {
   "cell_type": "code",
   "execution_count": null,
   "metadata": {},
   "outputs": [],
   "source": []
  },
  {
   "cell_type": "code",
   "execution_count": null,
   "metadata": {},
   "outputs": [],
   "source": []
  },
  {
   "cell_type": "code",
   "execution_count": null,
   "metadata": {},
   "outputs": [],
   "source": []
  },
  {
   "cell_type": "code",
   "execution_count": null,
   "metadata": {},
   "outputs": [],
   "source": []
  },
  {
   "cell_type": "code",
   "execution_count": null,
   "metadata": {},
   "outputs": [],
   "source": []
  },
  {
   "cell_type": "code",
   "execution_count": null,
   "metadata": {},
   "outputs": [],
   "source": []
  },
  {
   "cell_type": "code",
   "execution_count": null,
   "metadata": {},
   "outputs": [],
   "source": []
  },
  {
   "cell_type": "markdown",
   "metadata": {},
   "source": [
    "### Explain the use of seeds in generating pseudorandom numbers"
   ]
  },
  {
   "cell_type": "code",
   "execution_count": null,
   "metadata": {},
   "outputs": [],
   "source": []
  },
  {
   "cell_type": "code",
   "execution_count": null,
   "metadata": {},
   "outputs": [],
   "source": []
  },
  {
   "cell_type": "code",
   "execution_count": null,
   "metadata": {},
   "outputs": [],
   "source": []
  },
  {
   "cell_type": "markdown",
   "metadata": {},
   "source": [
    "## References "
   ]
  },
  {
   "cell_type": "markdown",
   "metadata": {},
   "source": [
    "[1] www.numpy.org/ date: 03/11/2018 \n",
    "\n",
    "[2] https://www.datacamp.com/community/tutorials/python-numpy-tutorial date: 03/11/2018 \n",
    "\n",
    "[3] https://docs.scipy.org/doc/numpy/user/basics.creation.html date: 03/11/2018 \n",
    "\n",
    "[4] https://www.investopedia.com/terms/u/uniform-distribution.asp date: 04/11/2018\n",
    "\n",
    "[5] https://www.statisticshowto.datasciencecentral.com/probability-and-statistics/normal-distributions/ date: 04/11/2018\n",
    "\n",
    "[6] https://www.chegg.com/homework-help/definitions/discrete-uniform-31 date: 04/11/2018 \n",
    "\n",
    "[7] https://socratic.org/questions/what-is-the-difference-between-a-discrete-uniform-distribution-and-a-continuous- dated: 04/11/2018\n",
    "\n",
    "[8] https://stackoverflow.com/questions/18829185/difference-between-various-numpy-random-functions dated: 04/11/2018"
   ]
  },
  {
   "cell_type": "markdown",
   "metadata": {},
   "source": [
    "## Bibliography and Acknowledgements "
   ]
  },
  {
   "cell_type": "markdown",
   "metadata": {},
   "source": [
    "- https://docs.scipy.org/doc/numpy-1.15.1/user/whatisnumpy.html date: 20/10/2018\n",
    "- https://docs.scipy.org/doc/numpy-1.15.1/reference/routines.random.html date:27/10/2018\n",
    "- http://nbviewer.jupyter.org/gist/rossant/4645217 date: 03/11/2018\n",
    "- https://en.wikipedia.org/wiki/NumPy date: 03/11/2018\n",
    "- https://www.packtpub.com/mapt/book/big_data_and_business_intelligence/9781785285110/2/ch02lvl1sec16/numpy-random-numbers date: 03/11/2018\n",
    "- https://www.datacamp.com/community/tutorials/python-numpy-tutorial date: 03/11/2018 \n",
    "- http://mathworld.wolfram.com/DiscreteUniformDistribution.html date: 04/11/2018 \n",
    "- "
   ]
  },
  {
   "cell_type": "code",
   "execution_count": null,
   "metadata": {},
   "outputs": [],
   "source": []
  }
 ],
 "metadata": {
  "kernelspec": {
   "display_name": "Python 3",
   "language": "python",
   "name": "python3"
  },
  "language_info": {
   "codemirror_mode": {
    "name": "ipython",
    "version": 3
   },
   "file_extension": ".py",
   "mimetype": "text/x-python",
   "name": "python",
   "nbconvert_exporter": "python",
   "pygments_lexer": "ipython3",
   "version": "3.6.7"
  }
 },
 "nbformat": 4,
 "nbformat_minor": 2
}
