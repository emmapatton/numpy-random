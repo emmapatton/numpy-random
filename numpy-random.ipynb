{
 "cells": [
  {
   "cell_type": "markdown",
   "metadata": {},
   "source": [
    "# An Overview of the numpy.random Package"
   ]
  },
  {
   "cell_type": "markdown",
   "metadata": {},
   "source": [
    "## Purpose of the numpy.random Package\n",
    "\n",
    "NumPy is a Python library used for scientific and mathematical computing in the Python programming language [1]. It contains a number of tools that can be used to solve mathematical models of problems using a computer [2]. \n",
    "\n",
    "Numpy.random is a collection of special library functions within NumPy to generate random numbers. These functions can also be used to organise random numbers into arrays of different shapes and sizes [3]. \n",
    "\n",
    "**COMMENT RE PSEUDO RANDOM NUMBERS HERE?**\n",
    "\n",
    "\n",
    "Functions within the numpy.random library are organised into four main categories: \n",
    "\n",
    "- Simple random data\n",
    "- Permutations\n",
    "- Distributions\n",
    "- Random generator\n",
    "\n",
    "The full numpy.random documentation can be accessed [here.](https://docs.scipy.org/doc/numpy/reference/routines.random.html)\n",
    "\n",
    "\n",
    "This notebook will discuss \"simple random data,\" \"permutations\" and \"distributions\" functions. The use of seeds in generating psuedorandom numbers will also be discussed."
   ]
  },
  {
   "cell_type": "markdown",
   "metadata": {},
   "source": [
    "## Simple random data functions in numpy.random\n",
    "\n",
    "There are 10 functions within the numpy.random \"simple random data\" family of functions: \n",
    "\n",
    "- rand()\n",
    "- randn()\n",
    "- randint()\n",
    "- random_integers()\n",
    "- random_sample()\n",
    "- random()\n",
    "- ranf()\n",
    "- sample()\n",
    "- choice()\n",
    "- bytes()\n",
    "\n",
    "Each of these are discussed below.\n"
   ]
  },
  {
   "cell_type": "code",
   "execution_count": 1,
   "metadata": {},
   "outputs": [],
   "source": [
    "import numpy as np\n",
    "import matplotlib.pyplot as plt"
   ]
  },
  {
   "cell_type": "markdown",
   "metadata": {},
   "source": [
    "### numpy.random.rand()\n",
    "\n",
    "The rand function creates a random array of positive floating point numbers with a continuous uniform distribution from 0, up to but not including 1. An argument can be passed in, telling the function how many numbers to return. If no argument is provided, the function will return a single float. \n",
    "\n",
    "In other words, this function creates random numbers that are uniformly distributed between 0 and 1, but not including the number 1.Uniform distribution is where each variable, or number in this case, has the same (uniform) probability or likelihood of occuring [4]."
   ]
  },
  {
   "cell_type": "code",
   "execution_count": 2,
   "metadata": {
    "scrolled": true
   },
   "outputs": [
    {
     "data": {
      "text/plain": [
       "array([ 0.69617205,  0.93447771,  0.71879045, ...,  0.93619278,\n",
       "        0.12389153,  0.98784031])"
      ]
     },
     "execution_count": 2,
     "metadata": {},
     "output_type": "execute_result"
    }
   ],
   "source": [
    "# To obtain an array of 100 numbers \n",
    "x = np.random.rand(10000)\n",
    "x"
   ]
  },
  {
   "cell_type": "code",
   "execution_count": 3,
   "metadata": {},
   "outputs": [
    {
     "data": {
      "image/png": "[encoded data removed]",
      "text/plain": [
       "<matplotlib.figure.Figure at 0x1cac7d65240>"
      ]
     },
     "metadata": {
      "needs_background": "light"
     },
     "output_type": "display_data"
    }
   ],
   "source": [
    "%matplotlib inline\n",
    "\n",
    "# To plot these numbers on a histogram\n",
    "plt.hist(x)\n",
    "plt.show()"
   ]
  },
  {
   "cell_type": "markdown",
   "metadata": {},
   "source": [
    "Further arguments can be passed to request that more than one array of random data is returned, for example:"
   ]
  },
  {
   "cell_type": "code",
   "execution_count": 4,
   "metadata": {},
   "outputs": [
    {
     "data": {
      "text/plain": [
       "array([[[ 0.59087836,  0.74011931,  0.55872555,  0.00337159],\n",
       "        [ 0.24474959,  0.64212969,  0.27863801,  0.92088214]],\n",
       "\n",
       "       [[ 0.88481142,  0.72129602,  0.50271962,  0.30875753],\n",
       "        [ 0.47019809,  0.20893171,  0.91258456,  0.76606465]],\n",
       "\n",
       "       [[ 0.39393275,  0.37197901,  0.92246674,  0.44804035],\n",
       "        [ 0.05361705,  0.97078527,  0.70037165,  0.53870273]],\n",
       "\n",
       "       [[ 0.83481837,  0.25335258,  0.27919038,  0.37871746],\n",
       "        [ 0.96185973,  0.96542348,  0.02506632,  0.58399095]],\n",
       "\n",
       "       [[ 0.83095981,  0.81231369,  0.61185593,  0.19078678],\n",
       "        [ 0.70872722,  0.76746166,  0.54417598,  0.25693734]],\n",
       "\n",
       "       [[ 0.8853188 ,  0.47403145,  0.17659399,  0.53272798],\n",
       "        [ 0.81482159,  0.08753269,  0.22026428,  0.02207626]],\n",
       "\n",
       "       [[ 0.96394728,  0.1098132 ,  0.64088905,  0.28888631],\n",
       "        [ 0.5269211 ,  0.49807767,  0.60823294,  0.33312473]],\n",
       "\n",
       "       [[ 0.21693894,  0.43091924,  0.12563279,  0.62571117],\n",
       "        [ 0.4051213 ,  0.52408217,  0.38435859,  0.334688  ]],\n",
       "\n",
       "       [[ 0.07908009,  0.78214175,  0.17225568,  0.0184803 ],\n",
       "        [ 0.5722576 ,  0.8151029 ,  0.77408362,  0.84723415]],\n",
       "\n",
       "       [[ 0.81133453,  0.45192452,  0.22065333,  0.75187081],\n",
       "        [ 0.63002376,  0.8927128 ,  0.14693357,  0.37198562]]])"
      ]
     },
     "execution_count": 4,
     "metadata": {},
     "output_type": "execute_result"
    }
   ],
   "source": [
    "# 10 2x4 arrays of random numbers\n",
    "x = np.random.rand(10, 2, 4)\n",
    "x"
   ]
  },
  {
   "cell_type": "code",
   "execution_count": 5,
   "metadata": {},
   "outputs": [
    {
     "data": {
      "text/plain": [
       "array([[ 0.96333642,  0.55869794],\n",
       "       [ 0.06749137,  0.12518467],\n",
       "       [ 0.0699725 ,  0.50720493],\n",
       "       ..., \n",
       "       [ 0.82883177,  0.29580503],\n",
       "       [ 0.77771749,  0.57661072],\n",
       "       [ 0.48077412,  0.38832401]])"
      ]
     },
     "execution_count": 5,
     "metadata": {},
     "output_type": "execute_result"
    }
   ],
   "source": [
    "x = np.random.rand(10000, 2)\n",
    "x"
   ]
  },
  {
   "cell_type": "code",
   "execution_count": 6,
   "metadata": {},
   "outputs": [
    {
     "data": {
      "image/png": "[encoded data removed]",
      "text/plain": [
       "<matplotlib.figure.Figure at 0x1cac7cce780>"
      ]
     },
     "metadata": {
      "needs_background": "light"
     },
     "output_type": "display_data"
    }
   ],
   "source": [
    "plt.hist(x)\n",
    "plt.show()"
   ]
  },
  {
   "cell_type": "markdown",
   "metadata": {},
   "source": [
    "### numpy.random.randn"
   ]
  },
  {
   "cell_type": "markdown",
   "metadata": {},
   "source": [
    "The randn function also creates a random array of floating point numbers however it differs from the rand function above in that floats can be positive or negative and the distribution is normal (Gaussian). \n",
    "\n",
    "Normal distribution [5] can be visually represented by a bell curve and is distribution that occurs naturally when there is no bias. Most of the data falls within one point or standard deviation on either side of the mean. Examples of normal distribution can be seen throughout the general population, for example in a collection of IQ test scores, blood pressure results, heights, weights etc. "
   ]
  },
  {
   "cell_type": "code",
   "execution_count": 7,
   "metadata": {
    "scrolled": true
   },
   "outputs": [
    {
     "data": {
      "text/plain": [
       "array([ 0.39643797,  0.49359589, -1.24819142, ...,  2.9831049 ,\n",
       "        0.16006726, -0.30173856])"
      ]
     },
     "execution_count": 7,
     "metadata": {},
     "output_type": "execute_result"
    }
   ],
   "source": [
    "x = np.random.randn(10000)\n",
    "x"
   ]
  },
  {
   "cell_type": "code",
   "execution_count": 8,
   "metadata": {},
   "outputs": [
    {
     "data": {
      "image/png": "[encoded data removed]",
      "text/plain": [
       "<matplotlib.figure.Figure at 0x1cac7ebde80>"
      ]
     },
     "metadata": {
      "needs_background": "light"
     },
     "output_type": "display_data"
    }
   ],
   "source": [
    "plt.hist(x)\n",
    "plt.show()"
   ]
  },
  {
   "cell_type": "markdown",
   "metadata": {},
   "source": [
    "This function can also provide more than one set of data, for example:"
   ]
  },
  {
   "cell_type": "code",
   "execution_count": 9,
   "metadata": {},
   "outputs": [
    {
     "data": {
      "text/plain": [
       "array([[-0.27760631, -0.30850411,  0.48516868],\n",
       "       [ 1.11805573, -0.07237735,  0.79264339],\n",
       "       [-1.49542868,  1.46773108, -0.83145782],\n",
       "       ..., \n",
       "       [-0.04188932,  0.65092613, -0.13417574],\n",
       "       [-0.28483703, -1.22848576,  1.07808344],\n",
       "       [-0.34822285,  0.98205465, -0.14907454]])"
      ]
     },
     "execution_count": 9,
     "metadata": {},
     "output_type": "execute_result"
    }
   ],
   "source": [
    "x = np.random.randn(10000, 3)\n",
    "x"
   ]
  },
  {
   "cell_type": "code",
   "execution_count": 10,
   "metadata": {},
   "outputs": [
    {
     "data": {
      "image/png": "[encoded data removed]",
      "text/plain": [
       "<matplotlib.figure.Figure at 0x1cac81794a8>"
      ]
     },
     "metadata": {
      "needs_background": "light"
     },
     "output_type": "display_data"
    }
   ],
   "source": [
    "plt.hist(x)\n",
    "plt.show()"
   ]
  },
  {
   "cell_type": "markdown",
   "metadata": {},
   "source": [
    "### numpy.random.randint()\n",
    "\n",
    "The randint function returns random integers (whole numbers) that have discrete uniform distribution. Discrete uniform distribution is also known as equally likely outcomes distribution [6]. This is where the probability of evenly spaced values are equally likely to occur, for example when rolling a 6 sided dice, there are 6 evenly likely possibilties of rolling a certain number \n",
    "\n",
    "In probability, discrete uniform distribution differs from continuous uniform distribution in that disrcrete uniform distribution refers to whole numbers and continuous uniform distribution refers to numbers containing a decimal point (floats) [7].  \n",
    "\n",
    "The randint function requires parameters for the lowest and highest numbers you would like it to return. Lowest and highest numbers can be set as postive or negative. The lowest number is included in the output however the highest number is excluded. For example:\n",
    "\n",
    "*np.random.randint(1, 10)*\n",
    "\n",
    "will return a single random number between 1 and 9 inclusive. The size of the sample required can also be set, as outlined below. "
   ]
  },
  {
   "cell_type": "code",
   "execution_count": 11,
   "metadata": {},
   "outputs": [
    {
     "data": {
      "text/plain": [
       "array([15, 17, -1, ..., 12, -5, 16])"
      ]
     },
     "execution_count": 11,
     "metadata": {},
     "output_type": "execute_result"
    }
   ],
   "source": [
    "x = np.random.randint(-5, 20, size=10000)\n",
    "x"
   ]
  },
  {
   "cell_type": "code",
   "execution_count": 12,
   "metadata": {},
   "outputs": [
    {
     "data": {
      "image/png": "[encoded data removed]",
      "text/plain": [
       "<matplotlib.figure.Figure at 0x1cac81b85f8>"
      ]
     },
     "metadata": {
      "needs_background": "light"
     },
     "output_type": "display_data"
    }
   ],
   "source": [
    "plt.hist(x)\n",
    "plt.show()"
   ]
  },
  {
   "cell_type": "markdown",
   "metadata": {},
   "source": [
    "### numpy.random.random_integers()\n",
    "\n",
    "This function has been deprecated since version 1.11.0.\n"
   ]
  },
  {
   "cell_type": "markdown",
   "metadata": {},
   "source": [
    "### numpy.random.random_sample()\n",
    "\n",
    "The random_sample() function returns floats between 0.0 and 1.0, not including 1.0 using continuous uniform distribution. "
   ]
  },
  {
   "cell_type": "code",
   "execution_count": 13,
   "metadata": {},
   "outputs": [
    {
     "data": {
      "text/plain": [
       "array([ 0.8139955 ,  0.83662707,  0.12552622, ...,  0.83986682,\n",
       "        0.83374344,  0.28693085])"
      ]
     },
     "execution_count": 13,
     "metadata": {},
     "output_type": "execute_result"
    }
   ],
   "source": [
    "x = np.random.random_sample(10000)\n",
    "x"
   ]
  },
  {
   "cell_type": "code",
   "execution_count": 14,
   "metadata": {},
   "outputs": [
    {
     "data": {
      "image/png": "[encoded data removed]",
      "text/plain": [
       "<matplotlib.figure.Figure at 0x1cac8289320>"
      ]
     },
     "metadata": {
      "needs_background": "light"
     },
     "output_type": "display_data"
    }
   ],
   "source": [
    "plt.hist(x)\n",
    "plt.show()"
   ]
  },
  {
   "cell_type": "markdown",
   "metadata": {},
   "source": [
    "Similarly to the previous functions discussed, the random_sample function can also output more than one set of data:"
   ]
  },
  {
   "cell_type": "code",
   "execution_count": 15,
   "metadata": {
    "scrolled": true
   },
   "outputs": [
    {
     "data": {
      "text/plain": [
       "array([[[  9.15566389e-01,   5.02078583e-01,   9.54232846e-01,\n",
       "           4.88269268e-02,   7.83845122e-01],\n",
       "        [  3.30966690e-01,   9.35460933e-01,   8.60356265e-01,\n",
       "           1.91578391e-01,   8.15646028e-01],\n",
       "        [  2.51951796e-01,   1.89259265e-01,   7.36791892e-01,\n",
       "           3.02999813e-01,   7.19657975e-01],\n",
       "        [  3.25093518e-01,   4.63179472e-01,   3.23886568e-01,\n",
       "           4.09767199e-01,   4.03695801e-01]],\n",
       "\n",
       "       [[  1.62120311e-01,   1.47211938e-01,   3.36593685e-01,\n",
       "           5.38680990e-01,   2.16351968e-01],\n",
       "        [  3.94364554e-02,   3.26996648e-02,   5.00310261e-01,\n",
       "           8.85585806e-01,   8.43243848e-01],\n",
       "        [  2.33330811e-01,   9.77304955e-01,   8.29068182e-01,\n",
       "           5.84487834e-01,   9.82155860e-01],\n",
       "        [  6.56717217e-01,   8.45199831e-01,   2.48934652e-01,\n",
       "           8.02078345e-01,   6.47721034e-03]],\n",
       "\n",
       "       [[  1.56899376e-01,   6.34579722e-01,   6.50388485e-01,\n",
       "           2.34165304e-01,   2.29006803e-01],\n",
       "        [  2.55460413e-02,   3.55267637e-01,   8.97395145e-01,\n",
       "           1.63790183e-01,   5.81329147e-01],\n",
       "        [  8.93927350e-01,   3.24296978e-01,   3.69988566e-01,\n",
       "           3.74280964e-01,   6.41552350e-01],\n",
       "        [  6.25974697e-02,   7.41884242e-01,   4.58505998e-01,\n",
       "           2.16864550e-01,   3.67057538e-01]],\n",
       "\n",
       "       [[  3.55876458e-01,   3.24168024e-01,   7.56329170e-01,\n",
       "           3.45117312e-01,   6.84875058e-02],\n",
       "        [  2.38088478e-01,   3.04621107e-02,   3.36024922e-01,\n",
       "           6.98876882e-01,   6.97232342e-01],\n",
       "        [  1.06747689e-01,   8.45150851e-01,   1.63170856e-01,\n",
       "           2.52699637e-01,   4.43358466e-01],\n",
       "        [  8.88222640e-02,   3.95725819e-01,   1.49124660e-01,\n",
       "           7.31927310e-01,   7.49904071e-01]],\n",
       "\n",
       "       [[  7.19153992e-01,   3.07350943e-01,   2.74464392e-01,\n",
       "           2.70222383e-02,   5.81181844e-01],\n",
       "        [  1.09049750e-02,   5.47249855e-01,   2.85952885e-01,\n",
       "           9.42611293e-01,   4.97651460e-01],\n",
       "        [  1.78558427e-01,   9.78720777e-01,   2.95683335e-01,\n",
       "           3.18825980e-01,   8.64426168e-02],\n",
       "        [  9.58783820e-01,   1.16462678e-01,   6.51967211e-01,\n",
       "           8.46780827e-01,   7.93135753e-01]],\n",
       "\n",
       "       [[  9.58884210e-01,   9.86043564e-01,   4.21565468e-01,\n",
       "           4.07211549e-01,   7.08451414e-01],\n",
       "        [  9.24725417e-01,   8.53617120e-01,   3.28168437e-02,\n",
       "           5.76439497e-02,   2.11444800e-02],\n",
       "        [  1.95675402e-01,   7.07455710e-01,   1.19312691e-02,\n",
       "           4.99779538e-01,   6.54778613e-01],\n",
       "        [  6.61318159e-01,   8.44136153e-01,   1.22230657e-01,\n",
       "           8.49946224e-02,   6.69244672e-01]],\n",
       "\n",
       "       [[  8.61128715e-01,   5.44846673e-01,   2.34239511e-01,\n",
       "           5.53290619e-01,   7.70977701e-01],\n",
       "        [  1.30512772e-01,   9.64922040e-02,   9.63696181e-01,\n",
       "           8.57244814e-01,   8.08517455e-01],\n",
       "        [  7.81183617e-01,   1.80211587e-01,   3.33244545e-01,\n",
       "           2.22437776e-02,   7.16043550e-01],\n",
       "        [  1.89706216e-01,   1.23919994e-01,   7.50405218e-01,\n",
       "           3.06154762e-02,   8.74162833e-01]],\n",
       "\n",
       "       [[  2.58135178e-01,   1.81963690e-01,   3.68684190e-01,\n",
       "           2.13588071e-01,   9.73091848e-01],\n",
       "        [  4.35292469e-01,   3.88413076e-03,   3.59006529e-01,\n",
       "           6.61492578e-01,   9.44871529e-01],\n",
       "        [  1.52575442e-01,   8.77039882e-01,   8.84772606e-01,\n",
       "           5.62466070e-01,   1.21812832e-01],\n",
       "        [  6.72961827e-01,   1.34719986e-01,   7.77222627e-01,\n",
       "           7.94503179e-01,   4.30609652e-01]],\n",
       "\n",
       "       [[  8.90130801e-01,   4.25565176e-01,   2.99887080e-01,\n",
       "           7.19387954e-01,   6.10530528e-01],\n",
       "        [  9.89509668e-01,   7.04828996e-02,   5.79722324e-01,\n",
       "           9.57839233e-01,   4.40669022e-02],\n",
       "        [  3.47562841e-01,   9.70947508e-01,   4.99318216e-01,\n",
       "           5.66542624e-01,   8.82700770e-01],\n",
       "        [  5.95518641e-01,   7.66649018e-02,   9.50055350e-01,\n",
       "           6.57286121e-01,   4.05829989e-02]],\n",
       "\n",
       "       [[  4.41757426e-01,   9.63663524e-01,   1.68079769e-01,\n",
       "           7.03806416e-01,   5.45702899e-01],\n",
       "        [  4.39708055e-01,   3.63773266e-02,   6.21988646e-01,\n",
       "           3.88589641e-02,   2.30829592e-02],\n",
       "        [  6.52644920e-01,   3.64574503e-01,   6.34352099e-01,\n",
       "           8.05267614e-01,   5.83365366e-01],\n",
       "        [  2.45655950e-01,   9.14834844e-01,   9.89796894e-01,\n",
       "           4.35446490e-01,   5.63363551e-01]],\n",
       "\n",
       "       [[  2.48048287e-01,   9.87224713e-02,   2.96496417e-01,\n",
       "           4.71687487e-02,   7.67218148e-01],\n",
       "        [  7.98342964e-02,   9.13756909e-02,   4.52395221e-01,\n",
       "           1.23768508e-01,   6.74786718e-01],\n",
       "        [  9.99275796e-02,   6.96067392e-01,   5.17613483e-04,\n",
       "           9.82526605e-01,   5.94608894e-01],\n",
       "        [  5.64049975e-01,   1.19158803e-01,   6.10836632e-01,\n",
       "           1.84118682e-01,   6.80819081e-01]],\n",
       "\n",
       "       [[  5.41553624e-01,   9.86766240e-01,   1.96923519e-02,\n",
       "           4.03865706e-01,   9.95630896e-02],\n",
       "        [  4.96913479e-01,   4.76578359e-01,   2.93952870e-01,\n",
       "           3.53355383e-01,   4.31830695e-01],\n",
       "        [  3.56581749e-02,   3.10830341e-01,   9.50477116e-01,\n",
       "           5.36429706e-01,   3.05212295e-01],\n",
       "        [  7.49523701e-01,   8.30750530e-01,   6.88959904e-01,\n",
       "           3.59907261e-01,   8.54509378e-01]],\n",
       "\n",
       "       [[  7.29343436e-01,   5.49181358e-01,   2.64577763e-01,\n",
       "           5.74799195e-01,   3.04025365e-01],\n",
       "        [  6.39353009e-01,   2.71093698e-01,   3.98163620e-01,\n",
       "           5.64629698e-01,   3.20814247e-01],\n",
       "        [  6.33538114e-01,   6.54448788e-01,   6.71745016e-01,\n",
       "           4.86893609e-01,   8.26639476e-01],\n",
       "        [  2.56106595e-02,   2.07495195e-01,   1.98879748e-01,\n",
       "           1.13970242e-01,   7.68832241e-01]],\n",
       "\n",
       "       [[  6.56904360e-01,   6.10076548e-01,   7.59052178e-01,\n",
       "           8.41027820e-01,   4.87566089e-01],\n",
       "        [  1.41627260e-01,   5.66778807e-01,   3.36162801e-01,\n",
       "           6.65909331e-01,   3.21902429e-01],\n",
       "        [  4.15400655e-01,   4.16063360e-01,   8.76420458e-01,\n",
       "           4.36459831e-01,   5.36741964e-02],\n",
       "        [  9.33089630e-01,   1.78448530e-01,   6.05861017e-01,\n",
       "           2.61753997e-02,   9.22678524e-01]],\n",
       "\n",
       "       [[  9.42715697e-01,   2.94053404e-01,   4.33523748e-01,\n",
       "           9.72117302e-02,   9.57766199e-01],\n",
       "        [  6.53022186e-01,   1.02897961e-02,   6.29273011e-01,\n",
       "           3.99225582e-01,   8.17017820e-01],\n",
       "        [  3.11128718e-01,   4.69247714e-01,   7.10980026e-01,\n",
       "           1.10515149e-01,   6.97786753e-01],\n",
       "        [  8.08598065e-01,   2.16352181e-01,   8.25591520e-01,\n",
       "           1.17864869e-02,   8.75030140e-01]],\n",
       "\n",
       "       [[  3.22332316e-01,   2.66353908e-01,   5.75100107e-01,\n",
       "           5.21552313e-01,   3.60889154e-01],\n",
       "        [  2.82037028e-01,   5.51055175e-01,   3.30473250e-01,\n",
       "           8.07581471e-01,   4.52206731e-02],\n",
       "        [  3.64024842e-01,   6.87342390e-01,   9.12647694e-01,\n",
       "           9.23617801e-01,   9.53534938e-01],\n",
       "        [  7.75133040e-01,   7.69550096e-01,   2.42992842e-01,\n",
       "           3.59673664e-01,   7.76619366e-02]],\n",
       "\n",
       "       [[  1.62432862e-01,   7.21710514e-01,   1.27788706e-01,\n",
       "           6.94215233e-01,   9.72811388e-01],\n",
       "        [  7.65629401e-01,   3.42188469e-01,   8.63240152e-01,\n",
       "           1.34671995e-01,   1.20101779e-01],\n",
       "        [  1.03973897e-01,   1.61791044e-01,   2.77957416e-01,\n",
       "           9.82938864e-01,   2.54063862e-01],\n",
       "        [  5.58114011e-01,   9.19808595e-01,   2.36558815e-01,\n",
       "           4.48531393e-01,   4.84519263e-01]],\n",
       "\n",
       "       [[  4.52080740e-01,   9.76622569e-01,   1.36403529e-01,\n",
       "           2.28495912e-01,   3.04858876e-01],\n",
       "        [  7.31151651e-01,   5.49843356e-01,   5.32577802e-01,\n",
       "           3.95602488e-01,   8.82958988e-01],\n",
       "        [  6.20897568e-01,   6.30131544e-01,   7.33151988e-01,\n",
       "           7.32217926e-01,   3.28483928e-01],\n",
       "        [  8.00798492e-02,   5.90607440e-01,   1.17234090e-01,\n",
       "           5.41836174e-01,   2.64127285e-01]],\n",
       "\n",
       "       [[  9.23858169e-01,   7.69701030e-01,   7.18616323e-01,\n",
       "           1.15791401e-01,   1.87171820e-01],\n",
       "        [  3.20324562e-01,   8.53355903e-01,   9.28560910e-01,\n",
       "           1.96491459e-01,   6.47915979e-01],\n",
       "        [  5.04907857e-01,   4.65022967e-01,   5.27919967e-01,\n",
       "           9.78990876e-01,   8.56509150e-01],\n",
       "        [  1.77954734e-01,   5.64725057e-02,   6.37767191e-01,\n",
       "           2.96475914e-01,   1.32907914e-01]],\n",
       "\n",
       "       [[  7.54290698e-02,   3.87023381e-01,   9.64082530e-01,\n",
       "           6.80735863e-01,   7.11967344e-01],\n",
       "        [  6.47239714e-01,   3.34538860e-01,   1.05549765e-01,\n",
       "           5.60890884e-01,   2.31658847e-01],\n",
       "        [  7.64356389e-01,   3.21401773e-01,   7.79689093e-01,\n",
       "           6.29387322e-01,   3.77792716e-03],\n",
       "        [  4.73035271e-01,   1.24199914e-01,   2.68343868e-01,\n",
       "           3.85461413e-01,   3.77867172e-01]]])"
      ]
     },
     "execution_count": 15,
     "metadata": {},
     "output_type": "execute_result"
    }
   ],
   "source": [
    "# 20 4x5 arrays of random numbers \n",
    "x = np.random.random_sample((20, 4, 5))\n",
    "x"
   ]
  },
  {
   "cell_type": "code",
   "execution_count": 16,
   "metadata": {},
   "outputs": [
    {
     "data": {
      "text/plain": [
       "array([[ 0.25399892,  0.82014777,  0.33401613,  0.88432113],\n",
       "       [ 0.75907735,  0.040322  ,  0.04395794,  0.5855059 ],\n",
       "       [ 0.73089981,  0.16075527,  0.61442398,  0.07683056],\n",
       "       [ 0.50016675,  0.21471053,  0.89051484,  0.37853289],\n",
       "       [ 0.42993407,  0.23969982,  0.18214543,  0.90862665],\n",
       "       [ 0.25823989,  0.93147232,  0.37681411,  0.92672007],\n",
       "       [ 0.08333646,  0.09424604,  0.90797508,  0.39787275],\n",
       "       [ 0.38296416,  0.69770228,  0.4406705 ,  0.08071832],\n",
       "       [ 0.5536858 ,  0.22716723,  0.3456898 ,  0.37061313],\n",
       "       [ 0.12900504,  0.96638926,  0.36416572,  0.2692639 ],\n",
       "       [ 0.97671317,  0.42159075,  0.62827864,  0.5862512 ],\n",
       "       [ 0.58285045,  0.5776843 ,  0.76828445,  0.82866583],\n",
       "       [ 0.32703433,  0.35924774,  0.71404492,  0.02275941],\n",
       "       [ 0.28079741,  0.40807908,  0.9699929 ,  0.63033642],\n",
       "       [ 0.13617243,  0.17053107,  0.61722383,  0.07631591],\n",
       "       [ 0.21088951,  0.63876569,  0.5815549 ,  0.49788012],\n",
       "       [ 0.70000675,  0.63992402,  0.40354755,  0.09005968],\n",
       "       [ 0.32070165,  0.38985797,  0.06178792,  0.64374031],\n",
       "       [ 0.9927803 ,  0.04316229,  0.99284237,  0.40632257],\n",
       "       [ 0.96171494,  0.23350373,  0.21423743,  0.0752823 ]])"
      ]
     },
     "execution_count": 16,
     "metadata": {},
     "output_type": "execute_result"
    }
   ],
   "source": [
    "# To represent data using a histogram\n",
    "x = np.random.random_sample((20, 4))\n",
    "x"
   ]
  },
  {
   "cell_type": "code",
   "execution_count": 17,
   "metadata": {},
   "outputs": [
    {
     "data": {
      "image/png": "[encoded data removed]",
      "text/plain": [
       "<matplotlib.figure.Figure at 0x1cac83089b0>"
      ]
     },
     "metadata": {
      "needs_background": "light"
     },
     "output_type": "display_data"
    }
   ],
   "source": [
    "plt.hist(x)\n",
    "plt.show()"
   ]
  },
  {
   "cell_type": "markdown",
   "metadata": {},
   "source": [
    "To use the random_sample function across a larger range of numbers (rather than between 0.0 and 1.0), the following code can be used: \n",
    "\n",
    "   *(b - a) * random_sample() + a*\n"
   ]
  },
  {
   "cell_type": "code",
   "execution_count": 18,
   "metadata": {},
   "outputs": [
    {
     "data": {
      "text/plain": [
       "array([ 4.80593224,  5.29425206,  5.71622319,  3.8339926 ,  4.75460381,\n",
       "        0.51886883,  1.04547104,  3.02428136,  1.54795502,  5.94038284])"
      ]
     },
     "execution_count": 18,
     "metadata": {},
     "output_type": "execute_result"
    }
   ],
   "source": [
    "#To obtain an array of random numbers (uniformly distributed) between 0 and 6\n",
    "x = -6 * np.random.random_sample(10) +6\n",
    "x"
   ]
  },
  {
   "cell_type": "markdown",
   "metadata": {},
   "source": [
    "### numpy.random.random(), numpy.random.ranf() and numpy.random.sample() functions\n",
    "\n",
    "The random, ranf and sample functions are the same as the random_sample function and they return the same output as described above [8]. "
   ]
  },
  {
   "cell_type": "code",
   "execution_count": 19,
   "metadata": {
    "scrolled": true
   },
   "outputs": [
    {
     "data": {
      "text/plain": [
       "array([ 0.78572854,  0.02645888,  0.64256464, ...,  0.55456635,\n",
       "        0.21300542,  0.77390915])"
      ]
     },
     "execution_count": 19,
     "metadata": {},
     "output_type": "execute_result"
    }
   ],
   "source": [
    "x = np.random.random(10000)\n",
    "x"
   ]
  },
  {
   "cell_type": "code",
   "execution_count": 20,
   "metadata": {},
   "outputs": [
    {
     "data": {
      "image/png": "[encoded data removed]",
      "text/plain": [
       "<matplotlib.figure.Figure at 0x1cac82195c0>"
      ]
     },
     "metadata": {
      "needs_background": "light"
     },
     "output_type": "display_data"
    }
   ],
   "source": [
    "plt.hist(x)\n",
    "plt.show()"
   ]
  },
  {
   "cell_type": "code",
   "execution_count": 21,
   "metadata": {},
   "outputs": [
    {
     "data": {
      "text/plain": [
       "array([ 0.66230559,  0.83258299,  0.18638791, ...,  0.63785369,\n",
       "        0.32002669,  0.04107001])"
      ]
     },
     "execution_count": 21,
     "metadata": {},
     "output_type": "execute_result"
    }
   ],
   "source": [
    "x = np.random.ranf(10000)\n",
    "x"
   ]
  },
  {
   "cell_type": "code",
   "execution_count": 22,
   "metadata": {},
   "outputs": [
    {
     "data": {
      "image/png": "[encoded data removed]",
      "text/plain": [
       "<matplotlib.figure.Figure at 0x1cacc7b47f0>"
      ]
     },
     "metadata": {
      "needs_background": "light"
     },
     "output_type": "display_data"
    }
   ],
   "source": [
    "plt.hist(x)\n",
    "plt.show()"
   ]
  },
  {
   "cell_type": "code",
   "execution_count": 23,
   "metadata": {},
   "outputs": [
    {
     "data": {
      "text/plain": [
       "array([ 0.88031935,  0.1370726 ,  0.033362  , ...,  0.78116559,\n",
       "        0.3380229 ,  0.64279817])"
      ]
     },
     "execution_count": 23,
     "metadata": {},
     "output_type": "execute_result"
    }
   ],
   "source": [
    "x = np.random.sample(10000)\n",
    "x"
   ]
  },
  {
   "cell_type": "code",
   "execution_count": 24,
   "metadata": {},
   "outputs": [
    {
     "data": {
      "image/png": "[encoded data removed]",
      "text/plain": [
       "<matplotlib.figure.Figure at 0x1cacc7b4860>"
      ]
     },
     "metadata": {
      "needs_background": "light"
     },
     "output_type": "display_data"
    }
   ],
   "source": [
    "plt.hist(x)\n",
    "plt.show()"
   ]
  },
  {
   "cell_type": "markdown",
   "metadata": {},
   "source": [
    "### numpy.random.choice()\n",
    "\n",
    "The choice function provides one positive integer when a single argument is passed. "
   ]
  },
  {
   "cell_type": "code",
   "execution_count": 25,
   "metadata": {},
   "outputs": [
    {
     "data": {
      "text/plain": [
       "9"
      ]
     },
     "execution_count": 25,
     "metadata": {},
     "output_type": "execute_result"
    }
   ],
   "source": [
    "x = np.random.choice(10)\n",
    "x"
   ]
  },
  {
   "cell_type": "markdown",
   "metadata": {},
   "source": [
    "If a second argument is passed, the choice function creates a list of a specified length."
   ]
  },
  {
   "cell_type": "code",
   "execution_count": 26,
   "metadata": {},
   "outputs": [
    {
     "data": {
      "text/plain": [
       "array([9, 7, 2, 8, 4])"
      ]
     },
     "execution_count": 26,
     "metadata": {},
     "output_type": "execute_result"
    }
   ],
   "source": [
    "x = np.random.choice(10, 5)\n",
    "x"
   ]
  },
  {
   "cell_type": "markdown",
   "metadata": {},
   "source": [
    "### numpy.random.bytes()"
   ]
  },
  {
   "cell_type": "code",
   "execution_count": 27,
   "metadata": {},
   "outputs": [
    {
     "data": {
      "text/plain": [
       "b'\"I\\xfb\\xb5G\\xe3\\xb8[@v'"
      ]
     },
     "execution_count": 27,
     "metadata": {},
     "output_type": "execute_result"
    }
   ],
   "source": [
    "x = np.random.bytes(10)\n",
    "x"
   ]
  },
  {
   "cell_type": "code",
   "execution_count": null,
   "metadata": {},
   "outputs": [],
   "source": []
  },
  {
   "cell_type": "markdown",
   "metadata": {},
   "source": [
    "## Permutations functions in numpy.random\n",
    "\n",
    "There are 2 functions within the numpy.random \"permutations\" family of functions: \n",
    "\n",
    "- shuffle()\n",
    "- permutation()\n",
    "\n",
    "These are discussed below."
   ]
  },
  {
   "cell_type": "markdown",
   "metadata": {},
   "source": [
    "### numpy.random.shuffle()"
   ]
  },
  {
   "cell_type": "markdown",
   "metadata": {},
   "source": [
    "The shuffle function shuffles a sequence of set integers. It changes the sequence or order of integers while the integers remain the same. Shuffle permanently changes the array in place therefore the output remains changed. "
   ]
  },
  {
   "cell_type": "code",
   "execution_count": 28,
   "metadata": {},
   "outputs": [
    {
     "data": {
      "text/plain": [
       "(None, array([3, 9, 5, 2, 1, 0, 8, 4, 6, 7]))"
      ]
     },
     "execution_count": 28,
     "metadata": {},
     "output_type": "execute_result"
    }
   ],
   "source": [
    "# I have created an ordered array of numbers 0-9. \n",
    "\n",
    "arr = np.arange(10)\n",
    "\n",
    "# The shuffle function will change the sequence of these numbers and this will become the new sequence of numbers \n",
    "# for further code\n",
    "\n",
    "shuffled = np.random.shuffle(arr)\n",
    "shuffled, arr"
   ]
  },
  {
   "cell_type": "markdown",
   "metadata": {},
   "source": [
    "### numpy.random.permutation()"
   ]
  },
  {
   "cell_type": "markdown",
   "metadata": {},
   "source": [
    "The permutation function works similarly to the shuffle function but returns a new array, leaving the original array untouched, as demonstrated below."
   ]
  },
  {
   "cell_type": "code",
   "execution_count": 29,
   "metadata": {},
   "outputs": [
    {
     "data": {
      "text/plain": [
       "(array([5, 7, 8, 2, 3, 0, 6, 1, 9, 4]), array([0, 1, 2, 3, 4, 5, 6, 7, 8, 9]))"
      ]
     },
     "execution_count": 29,
     "metadata": {},
     "output_type": "execute_result"
    }
   ],
   "source": [
    "arr = np.arange(10)\n",
    "shuffled = np.random.permutation(arr)\n",
    "shuffled, arr"
   ]
  },
  {
   "cell_type": "code",
   "execution_count": null,
   "metadata": {},
   "outputs": [],
   "source": []
  },
  {
   "cell_type": "markdown",
   "metadata": {
    "collapsed": true
   },
   "source": [
    "## Distributions functions in numpy.random\n",
    "\n",
    "There are 35 functions within the numpy.random \"distributions\" family of functions. Six of these functions are described below, including:\n",
    "\n",
    "- uniform()\n",
    "- normal()\n",
    "- poisson()\n",
    "- power()\n",
    "-\n",
    "-"
   ]
  },
  {
   "cell_type": "markdown",
   "metadata": {},
   "source": [
    "### numpy.random.uniform()"
   ]
  },
  {
   "cell_type": "markdown",
   "metadata": {},
   "source": [
    "The uniform function is similar to the rand function described above in that it is utilises uniform distribution. The uniform function differs in that low and high parameters can be set. The \"low\" integer is included as a value however the \"high\" value is not included. The below example demonstrates that values of 0 can occur however only values up to and including 9 can occur. "
   ]
  },
  {
   "cell_type": "code",
   "execution_count": 44,
   "metadata": {},
   "outputs": [],
   "source": [
    "x = np.random.uniform(0, 10,10000)\n"
   ]
  },
  {
   "cell_type": "code",
   "execution_count": 45,
   "metadata": {},
   "outputs": [
    {
     "data": {
      "image/png": "[encoded data removed]",
      "text/plain": [
       "<matplotlib.figure.Figure at 0x1cac82d8390>"
      ]
     },
     "metadata": {
      "needs_background": "light"
     },
     "output_type": "display_data"
    }
   ],
   "source": [
    "plt.hist(x)\n",
    "plt.show()"
   ]
  },
  {
   "cell_type": "markdown",
   "metadata": {},
   "source": [
    "### numpy.random.normal()\n",
    "\n",
    "The normal function runs similarly to the randn function described above.It is based on normal (Gaussian) distribution and visually displays a typical bell curve. \n",
    "\n",
    "The normal function differs from the randn function in that the randn function always has a mean of 0, whereas the mean and standard devaition can be passed in to the normal function. In the example below, the mean is 10 and the standard deviation is 5. You can see that approximately 50% of the values occur within -1 and +1 standard deviation of the mean, from 5 to 15. "
   ]
  },
  {
   "cell_type": "code",
   "execution_count": 53,
   "metadata": {},
   "outputs": [
    {
     "data": {
      "text/plain": [
       "array([ 12.6424711 ,   3.17381429,  12.28996845, ...,  11.1912301 ,\n",
       "        11.09517426,  12.84165187])"
      ]
     },
     "execution_count": 53,
     "metadata": {},
     "output_type": "execute_result"
    }
   ],
   "source": [
    "x = np.random.normal(10, 5, 10000)\n",
    "x"
   ]
  },
  {
   "cell_type": "code",
   "execution_count": 54,
   "metadata": {},
   "outputs": [
    {
     "data": {
      "image/png": "[encoded data removed]",
      "text/plain": [
       "<matplotlib.figure.Figure at 0x1cacc79b5c0>"
      ]
     },
     "metadata": {
      "needs_background": "light"
     },
     "output_type": "display_data"
    }
   ],
   "source": [
    "plt.hist(x)\n",
    "plt.show()"
   ]
  },
  {
   "cell_type": "markdown",
   "metadata": {},
   "source": [
    "### numpy.random.poisson()\n",
    "\n",
    "The poisson function returns an array of positive integers based on the Poisson distribution. In statistics, the Poisson distribution [9] demonstrates the probability that a given number of events will occur over a fixed time, distance, area or volume with a known constant rate. These events are discrete in that the occurence of one does not influence the occurence of the next thus occuring independently.  \n",
    "\n",
    "Parameters for the poisson function can influence the size of the interval and the number of integers returned. If an interval is not indicated, the default integer is 1. The below example depicts an array of 100 random integers from the Poisson distribution where lambda is 3.     "
   ]
  },
  {
   "cell_type": "code",
   "execution_count": 34,
   "metadata": {
    "scrolled": true
   },
   "outputs": [
    {
     "data": {
      "text/plain": [
       "array([4, 3, 5, 4, 2, 3, 1, 2, 5, 2, 1, 1, 1, 2, 1, 2, 6, 5, 3, 3, 2, 5, 3,\n",
       "       4, 0, 4, 4, 3, 4, 6, 5, 2, 6, 2, 3, 2, 3, 3, 5, 0, 2, 6, 3, 2, 3, 2,\n",
       "       4, 5, 1, 2, 2, 2, 2, 4, 5, 3, 1, 6, 5, 1, 3, 3, 2, 4, 2, 2, 3, 4, 3,\n",
       "       3, 3, 7, 5, 4, 3, 6, 3, 3, 2, 3, 2, 4, 6, 3, 6, 0, 2, 2, 2, 4, 3, 4,\n",
       "       1, 2, 6, 1, 2, 1, 4, 2])"
      ]
     },
     "execution_count": 34,
     "metadata": {},
     "output_type": "execute_result"
    }
   ],
   "source": [
    "x = np.random.poisson(3, 100)\n",
    "x"
   ]
  },
  {
   "cell_type": "code",
   "execution_count": 35,
   "metadata": {},
   "outputs": [
    {
     "data": {
      "image/png": "[encoded data removed]",
      "text/plain": [
       "<matplotlib.figure.Figure at 0x1cacc84d898>"
      ]
     },
     "metadata": {
      "needs_background": "light"
     },
     "output_type": "display_data"
    }
   ],
   "source": [
    "plt.hist(x)\n",
    "plt.show()"
   ]
  },
  {
   "cell_type": "code",
   "execution_count": 36,
   "metadata": {},
   "outputs": [
    {
     "data": {
      "text/plain": [
       "array([  695.81994674,   425.92372359,   646.90308084,  1317.27178142,\n",
       "         967.57784833,  1432.61018398,  1966.04070524,  1260.33155602,\n",
       "         989.73803226,  1097.86412843,   673.50206018,  1320.45803881,\n",
       "         900.42392699,   960.8944632 ,  1083.7603867 ,  1532.05071965,\n",
       "         947.63390551,  2440.95166038,   372.15081274,   537.20903941])"
      ]
     },
     "execution_count": 36,
     "metadata": {},
     "output_type": "execute_result"
    }
   ],
   "source": [
    "x = np.random.rayleigh(1000, 20)\n",
    "x"
   ]
  },
  {
   "cell_type": "code",
   "execution_count": 37,
   "metadata": {},
   "outputs": [
    {
     "data": {
      "image/png": "[encoded data removed]",
      "text/plain": [
       "<matplotlib.figure.Figure at 0x1cacc8a8860>"
      ]
     },
     "metadata": {
      "needs_background": "light"
     },
     "output_type": "display_data"
    }
   ],
   "source": [
    "plt.hist(x)\n",
    "plt.show()"
   ]
  },
  {
   "cell_type": "code",
   "execution_count": null,
   "metadata": {},
   "outputs": [],
   "source": []
  },
  {
   "cell_type": "code",
   "execution_count": null,
   "metadata": {},
   "outputs": [],
   "source": []
  },
  {
   "cell_type": "markdown",
   "metadata": {},
   "source": []
  },
  {
   "cell_type": "markdown",
   "metadata": {},
   "source": [
    "### numpy.random.power()\n",
    "\n",
    "The power function returns random positive floats between 0.0 and 1.0, but not including 1.0. These random numbers are selected from a positive exponential distribution - this means that there is an increase in the number of outputs or values the closer we get to 1.0. Exponential distribution can be described in relation to time - the probability that an event will occur increases or becomes more likely as the time increases, for exmaple scoring a goal in a football match [10]. "
   ]
  },
  {
   "cell_type": "code",
   "execution_count": 38,
   "metadata": {},
   "outputs": [
    {
     "data": {
      "text/plain": [
       "array([ 0.34479076,  0.66403992,  0.60625255, ...,  0.49191743,\n",
       "        0.62441339,  0.91494791])"
      ]
     },
     "execution_count": 38,
     "metadata": {},
     "output_type": "execute_result"
    }
   ],
   "source": [
    "x = np.random.power( 3, 10000)\n",
    "x"
   ]
  },
  {
   "cell_type": "code",
   "execution_count": 39,
   "metadata": {},
   "outputs": [
    {
     "data": {
      "image/png": "[encoded data removed]",
      "text/plain": [
       "<matplotlib.figure.Figure at 0x1cac82fb588>"
      ]
     },
     "metadata": {
      "needs_background": "light"
     },
     "output_type": "display_data"
    }
   ],
   "source": [
    "plt.hist(x)\n",
    "plt.show()"
   ]
  },
  {
   "cell_type": "markdown",
   "metadata": {},
   "source": [
    "The *a* parameter (or first parameter) within the parentheses influences the values closer to 1.0. A higher *a* parameter results in a larger number of outputs that are closer to 1.0, in keeping with positive exponential distribution. This is demonstrated in the above and below histograms where *a* = 3 and *a* = 11."
   ]
  },
  {
   "cell_type": "code",
   "execution_count": 40,
   "metadata": {},
   "outputs": [
    {
     "data": {
      "text/plain": [
       "array([ 0.88808779,  0.89944522,  0.89431275, ...,  0.89837421,\n",
       "        0.97707144,  0.84072163])"
      ]
     },
     "execution_count": 40,
     "metadata": {},
     "output_type": "execute_result"
    }
   ],
   "source": [
    "x = np.random.power( 11, 10000)\n",
    "x"
   ]
  },
  {
   "cell_type": "code",
   "execution_count": 41,
   "metadata": {},
   "outputs": [
    {
     "data": {
      "image/png": "[encoded data removed]",
      "text/plain": [
       "<matplotlib.figure.Figure at 0x1cac831f048>"
      ]
     },
     "metadata": {
      "needs_background": "light"
     },
     "output_type": "display_data"
    }
   ],
   "source": [
    "plt.hist(x)\n",
    "plt.show()"
   ]
  },
  {
   "cell_type": "markdown",
   "metadata": {},
   "source": [
    "### Explain the use of seeds in generating pseudorandom numbers"
   ]
  },
  {
   "cell_type": "code",
   "execution_count": null,
   "metadata": {},
   "outputs": [],
   "source": []
  },
  {
   "cell_type": "code",
   "execution_count": null,
   "metadata": {},
   "outputs": [],
   "source": []
  },
  {
   "cell_type": "code",
   "execution_count": null,
   "metadata": {},
   "outputs": [],
   "source": []
  },
  {
   "cell_type": "markdown",
   "metadata": {},
   "source": [
    "## References "
   ]
  },
  {
   "cell_type": "markdown",
   "metadata": {},
   "source": [
    "[1] www.numpy.org/ date: 03/11/2018 \n",
    "\n",
    "[2] https://www.datacamp.com/community/tutorials/python-numpy-tutorial date: 03/11/2018 \n",
    "\n",
    "[3] https://docs.scipy.org/doc/numpy/user/basics.creation.html date: 03/11/2018 \n",
    "\n",
    "[4] https://www.investopedia.com/terms/u/uniform-distribution.asp date: 04/11/2018\n",
    "\n",
    "[5] https://www.statisticshowto.datasciencecentral.com/probability-and-statistics/normal-distributions/ date: 04/11/2018\n",
    "\n",
    "[6] https://www.chegg.com/homework-help/definitions/discrete-uniform-31 date: 04/11/2018 \n",
    "\n",
    "[7] https://socratic.org/questions/what-is-the-difference-between-a-discrete-uniform-distribution-and-a-continuous- dated: 04/11/2018\n",
    "\n",
    "[8] https://stackoverflow.com/questions/18829185/difference-between-various-numpy-random-functions dated: 04/11/2018\n",
    "\n",
    "[9] https://stattrek.com/probability-distributions/poisson.aspx dated: 06/11/2018\n",
    "\n",
    "[10] https://www.statlect.com/probability-distributions/exponential-distribution dated: 06/11/2018 "
   ]
  },
  {
   "cell_type": "markdown",
   "metadata": {},
   "source": [
    "## Bibliography and Acknowledgements "
   ]
  },
  {
   "cell_type": "markdown",
   "metadata": {},
   "source": [
    "- https://docs.scipy.org/doc/numpy-1.15.1/user/whatisnumpy.html date: 20/10/2018\n",
    "- https://docs.scipy.org/doc/numpy-1.15.1/reference/routines.random.html date:27/10/2018\n",
    "- http://nbviewer.jupyter.org/gist/rossant/4645217 date: 03/11/2018\n",
    "- https://en.wikipedia.org/wiki/NumPy date: 03/11/2018\n",
    "- https://www.packtpub.com/mapt/book/big_data_and_business_intelligence/9781785285110/2/ch02lvl1sec16/numpy-random-numbers date: 03/11/2018\n",
    "- https://www.datacamp.com/community/tutorials/python-numpy-tutorial date: 03/11/2018 \n",
    "- http://mathworld.wolfram.com/DiscreteUniformDistribution.html date: 04/11/2018 \n",
    "- https://machinelearningmastery.com/how-to-generate-random-numbers-in-python/ - good for seeds and pseudo random number info 04/11/2018"
   ]
  },
  {
   "cell_type": "code",
   "execution_count": null,
   "metadata": {},
   "outputs": [],
   "source": []
  }
 ],
 "metadata": {
  "kernelspec": {
   "display_name": "Python 3",
   "language": "python",
   "name": "python3"
  },
  "language_info": {
   "codemirror_mode": {
    "name": "ipython",
    "version": 3
   },
   "file_extension": ".py",
   "mimetype": "text/x-python",
   "name": "python",
   "nbconvert_exporter": "python",
   "pygments_lexer": "ipython3",
   "version": "3.6.7"
  }
 },
 "nbformat": 4,
 "nbformat_minor": 2
}
