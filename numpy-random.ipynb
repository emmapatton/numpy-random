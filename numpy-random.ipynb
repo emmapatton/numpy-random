{
 "cells": [
  {
   "attachments": {
    "numpy-logo-small.png": {
     "image/png": "[encoded data removed]"
    }
   },
   "cell_type": "markdown",
   "metadata": {},
   "source": [
    "![numpy-logo-small.png](attachment:numpy-logo-small.png)"
   ]
  },
  {
   "cell_type": "markdown",
   "metadata": {},
   "source": [
    "# An Overview of NumPy's Random Package\n",
    "---"
   ]
  },
  {
   "cell_type": "markdown",
   "metadata": {},
   "source": [
    "## Purpose of the numpy.random Package\n",
    "\n",
    "NumPy is a Python library used for scientific and mathematical computing in the Python programming language [1]. It contains a number of tools that can be used to solve mathematical models of problems using a computer [2]. \n",
    "\n",
    "Numpy.random is a collection of special library functions within NumPy to generate random numbers. These functions can also be used to organise random numbers into arrays of different shapes and sizes [3]. \n",
    " \n",
    "Functions within the numpy.random library are organised into four main categories: \n",
    "\n",
    "- Simple random data\n",
    "- Permutations\n",
    "- Distributions\n",
    "- Random generator\n",
    "\n",
    "The full numpy.random documentation can be accessed [here.](https://docs.scipy.org/doc/numpy/reference/routines.random.html)\n",
    "\n",
    "\n",
    "This notebook will discuss \"simple random data,\" \"permutations\" and \"distributions\" functions. The use of seeds in generating psuedorandom numbers will also be discussed.\n",
    "\n",
    "---"
   ]
  },
  {
   "cell_type": "markdown",
   "metadata": {},
   "source": [
    "### A note on \"random\" numbers\n",
    "\n",
    "\n",
    "---"
   ]
  },
  {
   "cell_type": "markdown",
   "metadata": {},
   "source": [
    "\n",
    "## Simple random data functions in numpy.random\n",
    "\n",
    "There are 10 functions within the numpy.random \"simple random data\" family of functions: \n",
    "\n",
    "- rand()\n",
    "- randn()\n",
    "- randint()\n",
    "- random_integers()\n",
    "- random_sample()\n",
    "- random()\n",
    "- ranf()\n",
    "- sample()\n",
    "- choice()\n",
    "- bytes()\n",
    "\n",
    "Each of these are discussed below.\n"
   ]
  },
  {
   "cell_type": "code",
   "execution_count": 1,
   "metadata": {},
   "outputs": [],
   "source": [
    "import numpy as np\n",
    "import matplotlib.pyplot as plt"
   ]
  },
  {
   "cell_type": "markdown",
   "metadata": {},
   "source": [
    "\n",
    "### numpy.random.rand()\n",
    "\n",
    "The rand function creates a random array of positive floating point numbers with a continuous uniform distribution from 0, up to but not including 1. An argument or parameter can be passed in, telling the function how many floats to return. If no argument is provided, the function will return a single float. \n",
    "\n",
    "In other words, this function creates random numbers that are uniformly distributed between 0 and 1, but not including the number 1.Uniform distribution is where each variable, or number in this case, has the same (uniform) probability or likelihood of occuring [4]."
   ]
  },
  {
   "cell_type": "code",
   "execution_count": 2,
   "metadata": {
    "scrolled": true
   },
   "outputs": [
    {
     "data": {
      "text/plain": [
       "array([ 0.39780143,  0.97303682,  0.95622851, ...,  0.69812443,\n",
       "        0.42130104,  0.00481668])"
      ]
     },
     "execution_count": 2,
     "metadata": {},
     "output_type": "execute_result"
    }
   ],
   "source": [
    "# To obtain an array of 100 numbers \n",
    "x = np.random.rand(10000)\n",
    "x"
   ]
  },
  {
   "cell_type": "code",
   "execution_count": 3,
   "metadata": {},
   "outputs": [
    {
     "data": {
      "image/png": "[encoded data removed]",
      "text/plain": [
       "<matplotlib.figure.Figure at 0x1a2fc6711d0>"
      ]
     },
     "metadata": {
      "needs_background": "light"
     },
     "output_type": "display_data"
    }
   ],
   "source": [
    "%matplotlib inline\n",
    "\n",
    "# To plot these numbers on a histogram\n",
    "plt.hist(x)\n",
    "plt.show()"
   ]
  },
  {
   "cell_type": "markdown",
   "metadata": {},
   "source": [
    "Further parameters can be passed to request that more than one array of random data is returned, for example:"
   ]
  },
  {
   "cell_type": "code",
   "execution_count": 4,
   "metadata": {
    "scrolled": true
   },
   "outputs": [
    {
     "data": {
      "text/plain": [
       "array([[[ 0.6172546 ,  0.55581066,  0.44197373,  0.71260953],\n",
       "        [ 0.82122021,  0.66099245,  0.96665301,  0.49083205]],\n",
       "\n",
       "       [[ 0.51112514,  0.94630755,  0.53710366,  0.92190516],\n",
       "        [ 0.59599199,  0.08020695,  0.52018509,  0.15067826]],\n",
       "\n",
       "       [[ 0.36322602,  0.31549304,  0.8363398 ,  0.10075826],\n",
       "        [ 0.85710753,  0.91931933,  0.12966971,  0.42142486]],\n",
       "\n",
       "       [[ 0.35678907,  0.57228881,  0.28061912,  0.15330817],\n",
       "        [ 0.40944081,  0.82891164,  0.07613178,  0.53568109]],\n",
       "\n",
       "       [[ 0.53097106,  0.26122463,  0.9636364 ,  0.04797858],\n",
       "        [ 0.33728162,  0.66869851,  0.3747425 ,  0.02950604]],\n",
       "\n",
       "       [[ 0.3556155 ,  0.59248685,  0.26590648,  0.92630415],\n",
       "        [ 0.79007674,  0.31075775,  0.57913083,  0.7442683 ]],\n",
       "\n",
       "       [[ 0.21538991,  0.30854406,  0.14632205,  0.38271497],\n",
       "        [ 0.99131726,  0.10917966,  0.35306987,  0.42295274]],\n",
       "\n",
       "       [[ 0.64252567,  0.4364997 ,  0.89065482,  0.98877831],\n",
       "        [ 0.45789372,  0.04032278,  0.59668131,  0.28234133]],\n",
       "\n",
       "       [[ 0.21126681,  0.31409569,  0.12142558,  0.64589876],\n",
       "        [ 0.31860638,  0.09611282,  0.65645735,  0.5947721 ]],\n",
       "\n",
       "       [[ 0.1289773 ,  0.67439562,  0.79110086,  0.34380244],\n",
       "        [ 0.08208913,  0.17463576,  0.37736606,  0.17897038]]])"
      ]
     },
     "execution_count": 4,
     "metadata": {},
     "output_type": "execute_result"
    }
   ],
   "source": [
    "# 10 2x4 arrays of random numbers is: \n",
    "x = np.random.rand(10, 2, 4)\n",
    "x"
   ]
  },
  {
   "cell_type": "code",
   "execution_count": 5,
   "metadata": {},
   "outputs": [
    {
     "data": {
      "text/plain": [
       "array([[ 0.54664599,  0.18729949],\n",
       "       [ 0.18818126,  0.47737598],\n",
       "       [ 0.07091591,  0.17397497],\n",
       "       ..., \n",
       "       [ 0.78895637,  0.15004006],\n",
       "       [ 0.35023152,  0.40359367],\n",
       "       [ 0.22331383,  0.66485912]])"
      ]
     },
     "execution_count": 5,
     "metadata": {},
     "output_type": "execute_result"
    }
   ],
   "source": [
    "x = np.random.rand(10000, 2)\n",
    "x"
   ]
  },
  {
   "cell_type": "code",
   "execution_count": 6,
   "metadata": {},
   "outputs": [
    {
     "data": {
      "image/png": "[encoded data removed]",
      "text/plain": [
       "<matplotlib.figure.Figure at 0x1a2fc5dff60>"
      ]
     },
     "metadata": {
      "needs_background": "light"
     },
     "output_type": "display_data"
    }
   ],
   "source": [
    "plt.hist(x)\n",
    "plt.show()"
   ]
  },
  {
   "cell_type": "markdown",
   "metadata": {},
   "source": [
    "\n",
    "### numpy.random.randn\n",
    "\n",
    "The randn function also creates a random array of floating point numbers however it differs from the rand function above in that floats can be positive or negative. It also differs in that the randn function is based on normal (Gaussian) distribution. A parameter can be passed in, telling the function how many floats to return. If no argument is provided, the function will return a single float. \n",
    "\n",
    "Within this function, the mean is 0 and the standard deviation is 1.\n",
    "\n",
    "Normal distribution [5] can be visually represented by a bell curve and is distribution that occurs naturally when there is no bias. Most of the data falls within one point or standard deviation on either side of the mean. Examples of normal distribution can be seen throughout the general population, for example in a collection of IQ test scores, blood pressure results, heights, weights etc. "
   ]
  },
  {
   "cell_type": "code",
   "execution_count": 7,
   "metadata": {
    "scrolled": true
   },
   "outputs": [
    {
     "data": {
      "text/plain": [
       "array([ 1.57425613, -0.60677987, -0.83118031, ...,  0.67202554,\n",
       "        0.2471517 , -0.23336204])"
      ]
     },
     "execution_count": 7,
     "metadata": {},
     "output_type": "execute_result"
    }
   ],
   "source": [
    "x = np.random.randn(10000)\n",
    "x"
   ]
  },
  {
   "cell_type": "code",
   "execution_count": 8,
   "metadata": {},
   "outputs": [
    {
     "data": {
      "image/png": "[encoded data removed]",
      "text/plain": [
       "<matplotlib.figure.Figure at 0x1a2fc75d978>"
      ]
     },
     "metadata": {
      "needs_background": "light"
     },
     "output_type": "display_data"
    }
   ],
   "source": [
    "plt.hist(x)\n",
    "plt.show()"
   ]
  },
  {
   "cell_type": "markdown",
   "metadata": {},
   "source": [
    "More parameters can also be passed into the randn function and it will return more than one set of data, for example:"
   ]
  },
  {
   "cell_type": "code",
   "execution_count": 9,
   "metadata": {},
   "outputs": [
    {
     "data": {
      "text/plain": [
       "array([[-0.35960757,  0.7942575 , -0.32667794],\n",
       "       [ 1.08792145, -0.63247722, -0.10168701],\n",
       "       [-0.16866913,  0.12637839,  2.0812828 ],\n",
       "       ..., \n",
       "       [-0.99423064,  1.50393261,  0.27505609],\n",
       "       [-1.05765142, -1.26374601, -0.20594441],\n",
       "       [-0.59156113,  0.19524383, -0.12995784]])"
      ]
     },
     "execution_count": 9,
     "metadata": {},
     "output_type": "execute_result"
    }
   ],
   "source": [
    "x = np.random.randn(10000, 3)\n",
    "x"
   ]
  },
  {
   "cell_type": "code",
   "execution_count": 10,
   "metadata": {},
   "outputs": [
    {
     "data": {
      "image/png": "[encoded data removed]",
      "text/plain": [
       "<matplotlib.figure.Figure at 0x1a2fc7746d8>"
      ]
     },
     "metadata": {
      "needs_background": "light"
     },
     "output_type": "display_data"
    }
   ],
   "source": [
    "plt.hist(x)\n",
    "plt.show()"
   ]
  },
  {
   "cell_type": "markdown",
   "metadata": {},
   "source": [
    "\n",
    "### numpy.random.randint()\n",
    "\n",
    "The randint function returns random integers (whole numbers) that have discrete uniform distribution. Discrete uniform distribution is also known as equally likely outcomes distribution [6]. This is where the probability of evenly spaced values are equally likely to occur, for example when rolling a 6 sided dice, there are 6 evenly likely possibilties of rolling a certain number \n",
    "\n",
    "In probability, discrete uniform distribution differs from continuous uniform distribution in that disrcrete uniform distribution refers to whole numbers and continuous uniform distribution refers to numbers containing a decimal point (floats) [7].  \n",
    "\n",
    "The randint function requires parameters for the lowest and highest numbers you would like it to return. Lowest and highest numbers can be set as postive or negative. The lowest number is included in the output however the highest number is excluded. The example:\n",
    "\n",
    "*np.random.randint(1, 10)*\n",
    "\n",
    "will return a single random number between 1 and 9 inclusive. The size of the sample required can also be set, as outlined below. "
   ]
  },
  {
   "cell_type": "code",
   "execution_count": 11,
   "metadata": {},
   "outputs": [
    {
     "data": {
      "text/plain": [
       "array([ 6,  5, 10, ...,  1,  3, 12])"
      ]
     },
     "execution_count": 11,
     "metadata": {},
     "output_type": "execute_result"
    }
   ],
   "source": [
    "x = np.random.randint(-5, 20, size=10000)\n",
    "x"
   ]
  },
  {
   "cell_type": "code",
   "execution_count": 12,
   "metadata": {},
   "outputs": [
    {
     "data": {
      "image/png": "[encoded data removed]",
      "text/plain": [
       "<matplotlib.figure.Figure at 0x1a2fcaae2b0>"
      ]
     },
     "metadata": {
      "needs_background": "light"
     },
     "output_type": "display_data"
    }
   ],
   "source": [
    "plt.hist(x)\n",
    "plt.show()"
   ]
  },
  {
   "cell_type": "markdown",
   "metadata": {},
   "source": [
    "\n",
    "### numpy.random.random_integers()\n",
    "\n",
    "This function has been deprecated since version 1.11.0.\n"
   ]
  },
  {
   "cell_type": "markdown",
   "metadata": {},
   "source": [
    "\n",
    "### numpy.random.random_sample()\n",
    "\n",
    "The random_sample() function returns floats between 0.0 and 1.0, not including 1.0 using continuous uniform distribution. A single argument passed in will return that number of floats. If no argument is passed, a single float will be returned. "
   ]
  },
  {
   "cell_type": "code",
   "execution_count": 13,
   "metadata": {},
   "outputs": [
    {
     "data": {
      "text/plain": [
       "array([ 0.19237726,  0.37891177,  0.97769197, ...,  0.26535251,\n",
       "        0.18074053,  0.38375081])"
      ]
     },
     "execution_count": 13,
     "metadata": {},
     "output_type": "execute_result"
    }
   ],
   "source": [
    "x = np.random.random_sample(10000)\n",
    "x"
   ]
  },
  {
   "cell_type": "code",
   "execution_count": 14,
   "metadata": {},
   "outputs": [
    {
     "data": {
      "image/png": "[encoded data removed]",
      "text/plain": [
       "<matplotlib.figure.Figure at 0x1a2fcadecc0>"
      ]
     },
     "metadata": {
      "needs_background": "light"
     },
     "output_type": "display_data"
    }
   ],
   "source": [
    "plt.hist(x)\n",
    "plt.show()"
   ]
  },
  {
   "cell_type": "markdown",
   "metadata": {},
   "source": [
    "Similarly to the previous functions discussed, the random_sample function can also output more than one set of data if multiple arguments are passed in, for example:"
   ]
  },
  {
   "cell_type": "code",
   "execution_count": 15,
   "metadata": {
    "scrolled": true
   },
   "outputs": [
    {
     "data": {
      "text/plain": [
       "array([[[ 0.9901741 ,  0.60781695,  0.72042409,  0.29952286,  0.92249065],\n",
       "        [ 0.23146045,  0.36547529,  0.14455425,  0.88547775,  0.31530695],\n",
       "        [ 0.79837968,  0.99838444,  0.8345055 ,  0.83140147,  0.16797043]],\n",
       "\n",
       "       [[ 0.628061  ,  0.71613524,  0.43689236,  0.27224211,  0.61690934],\n",
       "        [ 0.3351479 ,  0.816189  ,  0.1303049 ,  0.11573734,  0.83454759],\n",
       "        [ 0.45553521,  0.36971102,  0.60511717,  0.32510338,  0.71674751]],\n",
       "\n",
       "       [[ 0.60589291,  0.93290755,  0.58943729,  0.57759749,  0.70856691],\n",
       "        [ 0.00640088,  0.62775117,  0.27148029,  0.79280472,  0.30273548],\n",
       "        [ 0.22018898,  0.1925015 ,  0.05279922,  0.77200041,  0.65651967]],\n",
       "\n",
       "       [[ 0.40138634,  0.64344852,  0.44841534,  0.81002611,  0.5597022 ],\n",
       "        [ 0.69783294,  0.57216649,  0.82757278,  0.25716336,  0.49972514],\n",
       "        [ 0.04844331,  0.40045759,  0.00108351,  0.21836048,  0.34578281]],\n",
       "\n",
       "       [[ 0.37304736,  0.24204094,  0.09670893,  0.80982963,  0.45108202],\n",
       "        [ 0.1645287 ,  0.23435522,  0.5090387 ,  0.95975056,  0.63717664],\n",
       "        [ 0.37373782,  0.93339219,  0.74347142,  0.12111093,  0.84259142]],\n",
       "\n",
       "       [[ 0.81957312,  0.95770325,  0.24716872,  0.2888659 ,  0.57595703],\n",
       "        [ 0.85728754,  0.31052995,  0.26898856,  0.70302809,  0.65736637],\n",
       "        [ 0.46050653,  0.46970418,  0.84359874,  0.07765826,  0.05659181]],\n",
       "\n",
       "       [[ 0.08737146,  0.50676605,  0.34247503,  0.97626688,  0.35198843],\n",
       "        [ 0.85105195,  0.31231869,  0.44334098,  0.60023798,  0.73592627],\n",
       "        [ 0.91635905,  0.52418983,  0.40566044,  0.33582215,  0.42814389]],\n",
       "\n",
       "       [[ 0.86273431,  0.19392327,  0.99639018,  0.35355247,  0.60913785],\n",
       "        [ 0.92050773,  0.22817258,  0.44558157,  0.93211856,  0.53381835],\n",
       "        [ 0.62454162,  0.70511369,  0.54056514,  0.8199745 ,  0.72725766]],\n",
       "\n",
       "       [[ 0.4370609 ,  0.83436097,  0.61174097,  0.31218384,  0.18865758],\n",
       "        [ 0.88979174,  0.93788582,  0.16838615,  0.94630811,  0.29300319],\n",
       "        [ 0.00872866,  0.67596664,  0.19912356,  0.94460313,  0.43611351]],\n",
       "\n",
       "       [[ 0.44495165,  0.00107656,  0.24381741,  0.34197666,  0.08235285],\n",
       "        [ 0.80703998,  0.82587964,  0.37926802,  0.58391888,  0.5350338 ],\n",
       "        [ 0.92367591,  0.48143614,  0.77869928,  0.66620464,  0.95130708]]])"
      ]
     },
     "execution_count": 15,
     "metadata": {},
     "output_type": "execute_result"
    }
   ],
   "source": [
    "# 10 3x5 arrays of random numbers \n",
    "x = np.random.random_sample((10, 3, 5))\n",
    "x"
   ]
  },
  {
   "cell_type": "code",
   "execution_count": 16,
   "metadata": {},
   "outputs": [
    {
     "data": {
      "text/plain": [
       "array([[ 0.98520545,  0.35764392,  0.97116424,  0.81587786],\n",
       "       [ 0.20711078,  0.37412092,  0.96329765,  0.58436927],\n",
       "       [ 0.12591902,  0.68337102,  0.31414965,  0.15692253],\n",
       "       [ 0.78976931,  0.27201634,  0.21218542,  0.80234873],\n",
       "       [ 0.91956588,  0.80227765,  0.07879214,  0.78433463],\n",
       "       [ 0.90371404,  0.67893898,  0.48320224,  0.82998021],\n",
       "       [ 0.48497072,  0.49013728,  0.47420944,  0.47298253],\n",
       "       [ 0.54768535,  0.98067934,  0.55032029,  0.36806566],\n",
       "       [ 0.0590318 ,  0.07725127,  0.24887478,  0.42672032],\n",
       "       [ 0.93474507,  0.97542386,  0.68516283,  0.35296407],\n",
       "       [ 0.53985167,  0.43380697,  0.26002381,  0.72303574],\n",
       "       [ 0.02810944,  0.79560657,  0.40238491,  0.07198544],\n",
       "       [ 0.24145966,  0.74114827,  0.03232537,  0.42189097],\n",
       "       [ 0.72559702,  0.30420232,  0.65384736,  0.61706179],\n",
       "       [ 0.4129762 ,  0.1669684 ,  0.51108718,  0.2929473 ],\n",
       "       [ 0.32510071,  0.99394017,  0.68629788,  0.38880165],\n",
       "       [ 0.46675719,  0.75307581,  0.51089564,  0.30582577],\n",
       "       [ 0.18104107,  0.7468119 ,  0.88900389,  0.6392297 ],\n",
       "       [ 0.91066723,  0.75790787,  0.05292109,  0.10213091],\n",
       "       [ 0.72776457,  0.7171292 ,  0.99534197,  0.69643183]])"
      ]
     },
     "execution_count": 16,
     "metadata": {},
     "output_type": "execute_result"
    }
   ],
   "source": [
    "# To represent the data using a histogram\n",
    "x = np.random.random_sample((20, 4))\n",
    "x"
   ]
  },
  {
   "cell_type": "code",
   "execution_count": 17,
   "metadata": {},
   "outputs": [
    {
     "data": {
      "image/png": "[encoded data removed]",
      "text/plain": [
       "<matplotlib.figure.Figure at 0x1a2fcbaf518>"
      ]
     },
     "metadata": {
      "needs_background": "light"
     },
     "output_type": "display_data"
    }
   ],
   "source": [
    "plt.hist(x)\n",
    "plt.show()"
   ]
  },
  {
   "cell_type": "markdown",
   "metadata": {},
   "source": [
    "To use the random_sample function across a larger range of numbers (rather than between 0.0 and 1.0), the following code can be used: \n",
    "\n",
    "   *(b - a) * random_sample() + a*\n"
   ]
  },
  {
   "cell_type": "code",
   "execution_count": 18,
   "metadata": {},
   "outputs": [
    {
     "data": {
      "text/plain": [
       "array([ 1.19419437,  1.46334176,  0.51932398,  2.85035064,  5.55123219,\n",
       "        0.33263871,  4.95149594,  2.21087993,  1.80379788,  1.86544697])"
      ]
     },
     "execution_count": 18,
     "metadata": {},
     "output_type": "execute_result"
    }
   ],
   "source": [
    "#To obtain an array of random numbers (uniformly distributed) between 0 and 6\n",
    "x = -6 * np.random.random_sample(10) +6\n",
    "x"
   ]
  },
  {
   "cell_type": "markdown",
   "metadata": {},
   "source": [
    "\n",
    "### numpy.random.random(), numpy.random.ranf() and numpy.random.sample() functions\n",
    "\n",
    "The random, ranf and sample functions are the same as the random_sample function and they return the same output as described above [8]. "
   ]
  },
  {
   "cell_type": "code",
   "execution_count": 19,
   "metadata": {
    "scrolled": true
   },
   "outputs": [
    {
     "data": {
      "text/plain": [
       "array([ 0.34841077,  0.79612386,  0.48927575, ...,  0.22073229,\n",
       "        0.51684373,  0.65904872])"
      ]
     },
     "execution_count": 19,
     "metadata": {},
     "output_type": "execute_result"
    }
   ],
   "source": [
    "x = np.random.random(10000)\n",
    "x"
   ]
  },
  {
   "cell_type": "code",
   "execution_count": 20,
   "metadata": {},
   "outputs": [
    {
     "data": {
      "image/png": "[encoded data removed]",
      "text/plain": [
       "<matplotlib.figure.Figure at 0x1a2fcae86d8>"
      ]
     },
     "metadata": {
      "needs_background": "light"
     },
     "output_type": "display_data"
    }
   ],
   "source": [
    "plt.hist(x)\n",
    "plt.show()"
   ]
  },
  {
   "cell_type": "code",
   "execution_count": 21,
   "metadata": {},
   "outputs": [
    {
     "data": {
      "text/plain": [
       "array([ 0.11713766,  0.04974246,  0.69512985, ...,  0.26333923,\n",
       "        0.01522128,  0.27010859])"
      ]
     },
     "execution_count": 21,
     "metadata": {},
     "output_type": "execute_result"
    }
   ],
   "source": [
    "x = np.random.ranf(10000)\n",
    "x"
   ]
  },
  {
   "cell_type": "code",
   "execution_count": 22,
   "metadata": {},
   "outputs": [
    {
     "data": {
      "image/png": "[encoded data removed]",
      "text/plain": [
       "<matplotlib.figure.Figure at 0x1a2fcce53c8>"
      ]
     },
     "metadata": {
      "needs_background": "light"
     },
     "output_type": "display_data"
    }
   ],
   "source": [
    "plt.hist(x)\n",
    "plt.show()"
   ]
  },
  {
   "cell_type": "code",
   "execution_count": 23,
   "metadata": {},
   "outputs": [
    {
     "data": {
      "text/plain": [
       "array([ 0.41618316,  0.57407169,  0.82422978, ...,  0.21448341,\n",
       "        0.52545407,  0.84821368])"
      ]
     },
     "execution_count": 23,
     "metadata": {},
     "output_type": "execute_result"
    }
   ],
   "source": [
    "x = np.random.sample(10000)\n",
    "x"
   ]
  },
  {
   "cell_type": "code",
   "execution_count": 24,
   "metadata": {},
   "outputs": [
    {
     "data": {
      "image/png": "[encoded data removed]",
      "text/plain": [
       "<matplotlib.figure.Figure at 0x1a2fcdbac50>"
      ]
     },
     "metadata": {
      "needs_background": "light"
     },
     "output_type": "display_data"
    }
   ],
   "source": [
    "plt.hist(x)\n",
    "plt.show()"
   ]
  },
  {
   "cell_type": "markdown",
   "metadata": {},
   "source": [
    "\n",
    "### numpy.random.choice()\n",
    "\n",
    "At it's most basic, the choice function returns one positive integer when a single argument is passed in. The single argument that is passed in provides the range (automatically starting from 0) that the interger is randomly selected from. Using *np.random.choice(10)* is the same as selecting a single random integer from *np.arange(10).*\n"
   ]
  },
  {
   "cell_type": "code",
   "execution_count": 25,
   "metadata": {},
   "outputs": [
    {
     "data": {
      "text/plain": [
       "61"
      ]
     },
     "execution_count": 25,
     "metadata": {},
     "output_type": "execute_result"
    }
   ],
   "source": [
    "x = np.random.choice(100)\n",
    "x"
   ]
  },
  {
   "cell_type": "markdown",
   "metadata": {},
   "source": [
    "Further arguments can be passed in to the choice funtion. When a second parameter is passed, this relates to the size of the output, for example *np.random.choice(10, 3)* will return 3 random intergers from the range 0 to 9:"
   ]
  },
  {
   "cell_type": "code",
   "execution_count": 26,
   "metadata": {},
   "outputs": [
    {
     "data": {
      "text/plain": [
       "array([6, 3, 2])"
      ]
     },
     "execution_count": 26,
     "metadata": {},
     "output_type": "execute_result"
    }
   ],
   "source": [
    "x = np.random.choice(10, 3)\n",
    "x"
   ]
  },
  {
   "cell_type": "markdown",
   "metadata": {},
   "source": [
    "When a third parameter - a boolean (True or False) is passed in, this will either allow or stop numbers from reccuring. For example True allows numbers to repeat and False stops numbers repeating: "
   ]
  },
  {
   "cell_type": "code",
   "execution_count": 27,
   "metadata": {},
   "outputs": [
    {
     "data": {
      "text/plain": [
       "array([6, 9, 9, 4, 4])"
      ]
     },
     "execution_count": 27,
     "metadata": {},
     "output_type": "execute_result"
    }
   ],
   "source": [
    "x = np.random.choice(10, 5, True)\n",
    "x"
   ]
  },
  {
   "cell_type": "code",
   "execution_count": 28,
   "metadata": {},
   "outputs": [
    {
     "data": {
      "text/plain": [
       "array([9, 4, 1, 8, 6])"
      ]
     },
     "execution_count": 28,
     "metadata": {},
     "output_type": "execute_result"
    }
   ],
   "source": [
    "x = np.random.choice(10, 5, False)\n",
    "x"
   ]
  },
  {
   "cell_type": "markdown",
   "metadata": {},
   "source": [
    "Finally, the choice function also allows for the type of distribution or probabilities assocaited with each entry to be set. If this parameter is not passed in, the choice function assumes uniform distribution."
   ]
  },
  {
   "cell_type": "markdown",
   "metadata": {},
   "source": [
    "\n",
    "### numpy.random.bytes()\n",
    "\n",
    "The bytes function returns a string when an integer is passed in. "
   ]
  },
  {
   "cell_type": "code",
   "execution_count": 29,
   "metadata": {},
   "outputs": [
    {
     "data": {
      "text/plain": [
       "b'7{\\xae\\xa2S\\xa7\\xb8p\\xf6\\xfa'"
      ]
     },
     "execution_count": 29,
     "metadata": {},
     "output_type": "execute_result"
    }
   ],
   "source": [
    "x = np.random.bytes(10)\n",
    "x"
   ]
  },
  {
   "cell_type": "markdown",
   "metadata": {},
   "source": [
    "---\n",
    "## Permutations functions in numpy.random\n",
    "\n",
    "There are 2 functions within the numpy.random \"permutations\" family of functions: \n",
    "\n",
    "- shuffle()\n",
    "- permutation()\n",
    "\n",
    "These are discussed below."
   ]
  },
  {
   "cell_type": "markdown",
   "metadata": {},
   "source": [
    "\n",
    "### numpy.random.shuffle()"
   ]
  },
  {
   "cell_type": "markdown",
   "metadata": {},
   "source": [
    "The shuffle function shuffles a sequence of set integers. It changes the sequence or order of integers while the integers remain the same. Shuffle permanently changes the array in place therefore the output remains changed. The single parameter passed in indicates the range of numbers returned, for example *(20)* indicates an array from *0 to 19.* "
   ]
  },
  {
   "cell_type": "code",
   "execution_count": 30,
   "metadata": {},
   "outputs": [
    {
     "data": {
      "text/plain": [
       "(None, array([5, 1, 0, 3, 8, 7, 9, 4, 2, 6]))"
      ]
     },
     "execution_count": 30,
     "metadata": {},
     "output_type": "execute_result"
    }
   ],
   "source": [
    "# I have created an ordered array of numbers 0-9. \n",
    "\n",
    "arr = np.arange(10)\n",
    "\n",
    "# The shuffle function will change the sequence of these numbers and this will become the new sequence of numbers \n",
    "# for further code\n",
    "\n",
    "shuffled = np.random.shuffle(arr)\n",
    "shuffled, arr"
   ]
  },
  {
   "cell_type": "markdown",
   "metadata": {},
   "source": [
    "\n",
    "### numpy.random.permutation()"
   ]
  },
  {
   "cell_type": "markdown",
   "metadata": {},
   "source": [
    "The permutation function works similarly to the shuffle function but returns a new array, leaving the original array untouched, as demonstrated below."
   ]
  },
  {
   "cell_type": "code",
   "execution_count": 31,
   "metadata": {},
   "outputs": [
    {
     "data": {
      "text/plain": [
       "(array([4, 7, 2, 9, 8, 5, 6, 1, 0, 3]), array([0, 1, 2, 3, 4, 5, 6, 7, 8, 9]))"
      ]
     },
     "execution_count": 31,
     "metadata": {},
     "output_type": "execute_result"
    }
   ],
   "source": [
    "arr = np.arange(10)\n",
    "shuffled = np.random.permutation(arr)\n",
    "shuffled, arr"
   ]
  },
  {
   "cell_type": "markdown",
   "metadata": {
    "collapsed": true
   },
   "source": [
    "---\n",
    "## Distributions functions in numpy.random\n",
    "\n",
    "There are 35 functions within the numpy.random \"distributions\" family of functions. Seven of these functions are described below, including:\n",
    "\n",
    "- uniform()\n",
    "- standard_normal()\n",
    "- normal()\n",
    "- poisson()\n",
    "- power()\n",
    "- exponential()\n",
    "- standard_exponential()"
   ]
  },
  {
   "cell_type": "markdown",
   "metadata": {},
   "source": [
    "\n",
    "### numpy.random.uniform()"
   ]
  },
  {
   "cell_type": "markdown",
   "metadata": {},
   "source": [
    "The uniform function is similar to the rand function described above in that it is utilises uniform distribution. Uniform distribution is where each outcome is equally as likely, for example when choosing a random card from a deck of cards [9]. \n",
    "\n",
    "The uniform function differs in that low and high parameters can be set. The \"low\" parameter is included as a value however the \"high\" parameter is not included. The below example demonstrates that values of 0 can occur however only values up to and including 9 can occur. This function returns floats which indicates continuous uniform distribution. \n",
    "\n",
    "The purpose of this function is to generate random floats within a set range where all numbers are euqally likely to occur.  "
   ]
  },
  {
   "cell_type": "code",
   "execution_count": 32,
   "metadata": {},
   "outputs": [
    {
     "data": {
      "text/plain": [
       "array([ 5.37353343,  3.35857987,  1.64997593, ...,  1.04089075,\n",
       "        7.76268803,  3.92804231])"
      ]
     },
     "execution_count": 32,
     "metadata": {},
     "output_type": "execute_result"
    }
   ],
   "source": [
    "x = np.random.uniform(0, 10,10000)\n",
    "x"
   ]
  },
  {
   "cell_type": "code",
   "execution_count": 33,
   "metadata": {},
   "outputs": [
    {
     "data": {
      "image/png": "[encoded data removed]",
      "text/plain": [
       "<matplotlib.figure.Figure at 0x1a2fce42518>"
      ]
     },
     "metadata": {
      "needs_background": "light"
     },
     "output_type": "display_data"
    }
   ],
   "source": [
    "plt.hist(x)\n",
    "plt.show()"
   ]
  },
  {
   "cell_type": "markdown",
   "metadata": {},
   "source": [
    "\n",
    "### numpy.random.normal()\n",
    "\n",
    "The normal function runs similarly to the randn function described above.It is based on normal (Gaussian) distribution and visually displays a typical bell curve.  \n",
    "\n",
    "The normal function differs from the randn function in that the randn function always has a set mean of 0 and a standard deviation of 1, whereas any mean and standard deviation can be passed in to the normal function. \n",
    "\n",
    "The purpose of this function is to generate random floats, with a set mean, where approximately 50% of the floats will be within a set standard deviation of the mean. \n",
    "\n",
    "In the example below, the mean is 10 and the standard deviation is 5. You can see that approximately 50% of the values occur within -1 and +1 standard deviation of the mean, from 5 to 15. "
   ]
  },
  {
   "cell_type": "code",
   "execution_count": 34,
   "metadata": {},
   "outputs": [
    {
     "data": {
      "text/plain": [
       "array([  6.11911538,   7.07908704,   8.33280416, ...,  17.86817855,\n",
       "        20.77282939,   9.53374937])"
      ]
     },
     "execution_count": 34,
     "metadata": {},
     "output_type": "execute_result"
    }
   ],
   "source": [
    "x = np.random.normal(10, 5, 10000)\n",
    "x"
   ]
  },
  {
   "cell_type": "code",
   "execution_count": 35,
   "metadata": {},
   "outputs": [
    {
     "data": {
      "image/png": "[encoded data removed]",
      "text/plain": [
       "<matplotlib.figure.Figure at 0x1a2fce53780>"
      ]
     },
     "metadata": {
      "needs_background": "light"
     },
     "output_type": "display_data"
    }
   ],
   "source": [
    "plt.hist(x)\n",
    "plt.show()"
   ]
  },
  {
   "cell_type": "markdown",
   "metadata": {},
   "source": [
    "\n",
    "### numpy.random.standard_normal()\n",
    "\n",
    "The standard_normal function is the same as the randn function. It uses normal distribution, it always has a mean of 0 and standard deviation of 1.\n",
    "\n",
    "The purpose of this function is to return a set number of random floats, where approximately 50% of the floats will be within -1 and 1 standard deviation of the mean. In other words, half of the outputs will be closer to 0 and there will be less floats (both positive and negative) as the values move further away from 0."
   ]
  },
  {
   "cell_type": "code",
   "execution_count": 36,
   "metadata": {},
   "outputs": [
    {
     "data": {
      "text/plain": [
       "array([ 1.37219433,  1.41653851,  1.00146521, ...,  1.71610906,\n",
       "        1.21741235,  0.29506856])"
      ]
     },
     "execution_count": 36,
     "metadata": {},
     "output_type": "execute_result"
    }
   ],
   "source": [
    "x = np.random.standard_normal(10000)\n",
    "x"
   ]
  },
  {
   "cell_type": "code",
   "execution_count": 37,
   "metadata": {},
   "outputs": [
    {
     "data": {
      "image/png": "[encoded data removed]",
      "text/plain": [
       "<matplotlib.figure.Figure at 0x1a2fde77780>"
      ]
     },
     "metadata": {
      "needs_background": "light"
     },
     "output_type": "display_data"
    }
   ],
   "source": [
    "plt.hist(x)\n",
    "plt.show()"
   ]
  },
  {
   "cell_type": "markdown",
   "metadata": {},
   "source": [
    "\n",
    "### numpy.random.poisson()\n",
    "\n",
    "The poisson function returns an array of positive integers based on the Poisson distribution. In statistics, the Poisson distribution demonstrates the probability that a given number of events will occur over a fixed time, distance, area or volume with a known constant rate. These events are discrete in that the occurence of one does not influence the occurence of the next thus occuring independently [9].\n",
    "\n",
    "Parameters for the poisson function can influence the size of the interval and the number of integers returned. If an interval is not indicated, the default integer is 1. The below example depicts an array of 10000 random integers from the Poisson distribution where lambda is 3. It is observed that the greater the number of random outputs, the greater the number of values between 0 and 3."
   ]
  },
  {
   "cell_type": "code",
   "execution_count": 38,
   "metadata": {
    "scrolled": true
   },
   "outputs": [
    {
     "data": {
      "text/plain": [
       "array([7, 1, 1, ..., 1, 5, 6])"
      ]
     },
     "execution_count": 38,
     "metadata": {},
     "output_type": "execute_result"
    }
   ],
   "source": [
    "x = np.random.poisson(3, 10000)\n",
    "x"
   ]
  },
  {
   "cell_type": "code",
   "execution_count": 39,
   "metadata": {},
   "outputs": [
    {
     "data": {
      "image/png": "[encoded data removed]",
      "text/plain": [
       "<matplotlib.figure.Figure at 0x1a2fcde96a0>"
      ]
     },
     "metadata": {
      "needs_background": "light"
     },
     "output_type": "display_data"
    }
   ],
   "source": [
    "plt.hist(x)\n",
    "plt.show()"
   ]
  },
  {
   "cell_type": "markdown",
   "metadata": {},
   "source": [
    "\n",
    "### numpy.random.power()\n",
    "\n",
    "The power function returns random positive floats between 0.0 and 1.0, but not including 1.0. These random numbers are selected from a positive exponential distribution - this means that there is an increase in the number of outputs or values the closer we get to 1.0. Exponential distribution can be described in relation to time - the probability that an event will occur increases or becomes more likely as the time increases, for example scoring a goal in a football match [10]. \n",
    "\n",
    "The purpose of this function is to generate random floats from 0.0 up to but not including 1.0, where the larger numbers (numbers closer to 1.0) have a higher probability of occuring - it is more likely that there will be a greater number of values closer to 1.0. "
   ]
  },
  {
   "cell_type": "code",
   "execution_count": 40,
   "metadata": {},
   "outputs": [
    {
     "data": {
      "text/plain": [
       "array([ 0.58764253,  0.67443644,  0.52029712, ...,  0.94534736,\n",
       "        0.66145056,  0.70951805])"
      ]
     },
     "execution_count": 40,
     "metadata": {},
     "output_type": "execute_result"
    }
   ],
   "source": [
    "x = np.random.power(3, 10000)\n",
    "x"
   ]
  },
  {
   "cell_type": "code",
   "execution_count": 41,
   "metadata": {},
   "outputs": [
    {
     "data": {
      "image/png": "[encoded data removed]",
      "text/plain": [
       "<matplotlib.figure.Figure at 0x1a2fcd496d8>"
      ]
     },
     "metadata": {
      "needs_background": "light"
     },
     "output_type": "display_data"
    }
   ],
   "source": [
    "plt.hist(x)\n",
    "plt.show()"
   ]
  },
  {
   "cell_type": "markdown",
   "metadata": {},
   "source": [
    "The *a* parameter (or first parameter) within the parentheses influences the values closer to 1.0. A higher *a* parameter results in a larger number of outputs that are closer to 1.0, in keeping with positive exponential distribution. This is demonstrated in the above and below histograms where *a* = 3 and *a* = 11."
   ]
  },
  {
   "cell_type": "code",
   "execution_count": 42,
   "metadata": {},
   "outputs": [
    {
     "data": {
      "text/plain": [
       "array([ 0.99582543,  0.97598142,  0.95209133, ...,  0.92687366,\n",
       "        0.93610364,  0.93884691])"
      ]
     },
     "execution_count": 42,
     "metadata": {},
     "output_type": "execute_result"
    }
   ],
   "source": [
    "x = np.random.power( 11, 10000)\n",
    "x"
   ]
  },
  {
   "cell_type": "code",
   "execution_count": 43,
   "metadata": {},
   "outputs": [
    {
     "data": {
      "image/png": "[encoded data removed]",
      "text/plain": [
       "<matplotlib.figure.Figure at 0x1a2fcb86390>"
      ]
     },
     "metadata": {
      "needs_background": "light"
     },
     "output_type": "display_data"
    }
   ],
   "source": [
    "plt.hist(x)\n",
    "plt.show()"
   ]
  },
  {
   "cell_type": "markdown",
   "metadata": {},
   "source": [
    "\n",
    "### numpy.random.exponential()\n",
    "\n",
    "The exponential function returns random positive floats from a negative exponential distribution. A parameter can be passed in to set the scale of the distribution. The smaller the scale, the closer together the values will be (smaller intervals along the x axis when plotted). A further parameter can be pased in to set the size or number of floats returned. Most of the values returned are close to 0. The larger the numbers become, the lower probability there is of them occuring, therefore this is the opposite of positive exponential distribution described in relation to the power function. \n",
    "\n",
    "Negative exponential distribution can be used to describe the time between events in a Poisson process. \n",
    "The Poisson process offers a way to find probabilities for random points in time for a process. This process could be anything, for example customers arriving in a shop [14]. "
   ]
  },
  {
   "cell_type": "code",
   "execution_count": 69,
   "metadata": {},
   "outputs": [
    {
     "data": {
      "text/plain": [
       "array([ 2.99750375,  5.74153521,  4.85054515, ...,  1.79019169,\n",
       "        0.98371885,  0.73602555])"
      ]
     },
     "execution_count": 69,
     "metadata": {},
     "output_type": "execute_result"
    }
   ],
   "source": [
    "x = np.random.exponential(7, 10000)\n",
    "x"
   ]
  },
  {
   "cell_type": "code",
   "execution_count": 70,
   "metadata": {},
   "outputs": [
    {
     "data": {
      "image/png": "[encoded data removed]",
      "text/plain": [
       "<matplotlib.figure.Figure at 0x1a2fca24128>"
      ]
     },
     "metadata": {
      "needs_background": "light"
     },
     "output_type": "display_data"
    }
   ],
   "source": [
    "plt.hist(x)\n",
    "plt.show()"
   ]
  },
  {
   "cell_type": "markdown",
   "metadata": {},
   "source": [
    "\n",
    "### numpy.random.standard_exponential()\n",
    "\n",
    "The standard_exponential function is the same as the exponential function however the standard_exponential function always has a scale of 1. A parameter can be passed in to return a specified number of floats. "
   ]
  },
  {
   "cell_type": "code",
   "execution_count": 71,
   "metadata": {},
   "outputs": [
    {
     "data": {
      "text/plain": [
       "array([ 0.72225919,  0.25272509,  1.33183779, ...,  0.2821007 ,\n",
       "        0.64346421,  1.04576047])"
      ]
     },
     "execution_count": 71,
     "metadata": {},
     "output_type": "execute_result"
    }
   ],
   "source": [
    "x = np.random.standard_exponential(10000)\n",
    "x"
   ]
  },
  {
   "cell_type": "code",
   "execution_count": 72,
   "metadata": {},
   "outputs": [
    {
     "data": {
      "image/png": "[encoded data removed]",
      "text/plain": [
       "<matplotlib.figure.Figure at 0x1a2fc5daac8>"
      ]
     },
     "metadata": {
      "needs_background": "light"
     },
     "output_type": "display_data"
    }
   ],
   "source": [
    "plt.hist(x)\n",
    "plt.show()"
   ]
  },
  {
   "cell_type": "markdown",
   "metadata": {},
   "source": [
    "---\n",
    "## The Use of Seeds in Pseudo-Random Number Generation\n",
    "\n",
    "\n",
    "Throughout this document reference to generating random numbers is made however it is important to note that computers are unable to truly generate random numbers, due to  the fact that computers are deterministic - every time you ask the same question, you’ll get the same answer [11]. \n",
    "\n",
    "Instead, pseudo-random numbers are generated using an algorithm or mathematical function. The Mersenne Twister [12] is a widely used pseudo-random number generator (PRNG). A PRGN requires a parameter to start the process of generating pseudo-random numbers. This is known as the seed [13].\n",
    "\n",
    "Setting the seed can make generating pseudo-random numbers predictable, ensuring that the code produces the same result each time, which is useful when testing code.  "
   ]
  },
  {
   "cell_type": "markdown",
   "metadata": {},
   "source": [
    "## References "
   ]
  },
  {
   "cell_type": "markdown",
   "metadata": {},
   "source": [
    "[1] www.numpy.org/ date: 03/11/2018 \n",
    "\n",
    "[2] https://www.datacamp.com/community/tutorials/python-numpy-tutorial date: 03/11/2018 \n",
    "\n",
    "[3] https://docs.scipy.org/doc/numpy/user/basics.creation.html date: 03/11/2018\n",
    "\n",
    "[11] https://engineering.mit.edu/engage/ask-an-engineer/can-a-computer-generate-a-truly-random-number/ date: 09/11/2018 \n",
    "\n",
    "[4] https://www.investopedia.com/terms/u/uniform-distribution.asp date: 04/11/2018\n",
    "\n",
    "[5] https://www.statisticshowto.datasciencecentral.com/probability-and-statistics/normal-distributions/ date: 04/11/2018\n",
    "\n",
    "[6] https://www.chegg.com/homework-help/definitions/discrete-uniform-31 date: 04/11/2018 \n",
    "\n",
    "[7] https://socratic.org/questions/what-is-the-difference-between-a-discrete-uniform-distribution-and-a-continuous- dated: 04/11/2018\n",
    "\n",
    "[8] https://stackoverflow.com/questions/18829185/difference-between-various-numpy-random-functions dated: 04/11/2018\n",
    "\n",
    "[9] https://www.investopedia.com/terms/u/uniform-distribution.asp dated: 09/11/2018\n",
    "\n",
    "[9] https://stattrek.com/probability-distributions/poisson.aspx dated: 06/11/2018\n",
    "\n",
    "[10] https://www.statlect.com/probability-distributions/exponential-distribution dated: 06/11/2018 \n",
    "\n",
    "[12] https://en.wikipedia.org/wiki/Mersenne_Twister dated: 09/11/2018 \n",
    "\n",
    "[13] https://machinelearningmastery.com/how-to-generate-random-numbers-in-python/ dated: 09/11/2018\n",
    "\n",
    "[14] [https://www.statisticshowto.datasciencecentral.com/exponential-distribution/ date: 11/11/2018"
   ]
  },
  {
   "cell_type": "markdown",
   "metadata": {},
   "source": [
    "## Bibliography and Acknowledgements "
   ]
  },
  {
   "cell_type": "markdown",
   "metadata": {},
   "source": [
    "- https://docs.scipy.org/doc/numpy-1.15.1/user/whatisnumpy.html date: 20/10/2018\n",
    "- https://docs.scipy.org/doc/numpy-1.15.1/reference/routines.random.html date:27/10/2018\n",
    "- http://nbviewer.jupyter.org/gist/rossant/4645217 date: 03/11/2018\n",
    "- https://en.wikipedia.org/wiki/NumPy date: 03/11/2018\n",
    "- https://www.packtpub.com/mapt/book/big_data_and_business_intelligence/9781785285110/2/ch02lvl1sec16/numpy-random-numbers date: 03/11/2018\n",
    "- https://www.datacamp.com/community/tutorials/python-numpy-tutorial date: 03/11/2018 \n",
    "- http://mathworld.wolfram.com/DiscreteUniformDistribution.html date: 04/11/2018 \n",
    "- https://machinelearningmastery.com/how-to-generate-random-numbers-in-python/ - good for seeds and pseudo random number info 04/11/2018\n",
    "- https://stackoverflow.com/questions/21494489/what-does-numpy-random-seed0-do dated: 09/11/2018"
   ]
  }
 ],
 "metadata": {
  "kernelspec": {
   "display_name": "Python 3",
   "language": "python",
   "name": "python3"
  },
  "language_info": {
   "codemirror_mode": {
    "name": "ipython",
    "version": 3
   },
   "file_extension": ".py",
   "mimetype": "text/x-python",
   "name": "python",
   "nbconvert_exporter": "python",
   "pygments_lexer": "ipython3",
   "version": "3.6.7"
  }
 },
 "nbformat": 4,
 "nbformat_minor": 2
}
