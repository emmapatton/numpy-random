{
 "cells": [
  {
   "attachments": {
    "numpy-logo-small.png": {
     "image/png": "[encoded data removed]"
    }
   },
   "cell_type": "markdown",
   "metadata": {},
   "source": [
    "![numpy-logo-small.png](attachment:numpy-logo-small.png)"
   ]
  },
  {
   "cell_type": "markdown",
   "metadata": {},
   "source": [
    "# An Overview of NumPy's Random Package\n"
   ]
  },
  {
   "cell_type": "markdown",
   "metadata": {},
   "source": [
    "\n",
    "## Purpose of the numpy.random Package\n",
    "\n",
    "NumPy is a Python library used for scientific and mathematical computing in the Python programming language [1]. It contains a number of tools that can be used to solve mathematical models of problems using a computer [2]. \n",
    "\n",
    "Numpy.random is a collection of special library functions within NumPy to generate random numbers. These functions can also be used to organise random numbers into arrays of different shapes and sizes [3]. \n",
    "\n",
    "**COMMENT RE PSEUDO RANDOM NUMBERS HERE?**\n",
    "\n",
    "\n",
    "Functions within the numpy.random library are organised into four main categories: \n",
    "\n",
    "- Simple random data\n",
    "- Permutations\n",
    "- Distributions\n",
    "- Random generator\n",
    "\n",
    "The full numpy.random documentation can be accessed [here.](https://docs.scipy.org/doc/numpy/reference/routines.random.html)\n",
    "\n",
    "\n",
    "This notebook will discuss \"simple random data,\" \"permutations\" and \"distributions\" functions. The use of seeds in generating psuedorandom numbers will also be discussed.\n",
    "\n"
   ]
  },
  {
   "cell_type": "markdown",
   "metadata": {},
   "source": [
    "\n",
    "## Simple random data functions in numpy.random\n",
    "\n",
    "There are 10 functions within the numpy.random \"simple random data\" family of functions: \n",
    "\n",
    "- rand()\n",
    "- randn()\n",
    "- randint()\n",
    "- random_integers()\n",
    "- random_sample()\n",
    "- random()\n",
    "- ranf()\n",
    "- sample()\n",
    "- choice()\n",
    "- bytes()\n",
    "\n",
    "Each of these are discussed below.\n"
   ]
  },
  {
   "cell_type": "code",
   "execution_count": 76,
   "metadata": {},
   "outputs": [],
   "source": [
    "import numpy as np\n",
    "import matplotlib.pyplot as plt"
   ]
  },
  {
   "cell_type": "markdown",
   "metadata": {},
   "source": [
    "\n",
    "### numpy.random.rand()\n",
    "\n",
    "The rand function creates a random array of positive floating point numbers with a continuous uniform distribution from 0, up to but not including 1. An argument can be passed in, telling the function how many numbers to return. If no argument is provided, the function will return a single float. \n",
    "\n",
    "In other words, this function creates random numbers that are uniformly distributed between 0 and 1, but not including the number 1.Uniform distribution is where each variable, or number in this case, has the same (uniform) probability or likelihood of occuring [4]."
   ]
  },
  {
   "cell_type": "code",
   "execution_count": 2,
   "metadata": {
    "scrolled": true
   },
   "outputs": [
    {
     "data": {
      "text/plain": [
       "array([ 0.97167655,  0.70706966,  0.14766438, ...,  0.53530909,\n",
       "        0.65566468,  0.1184015 ])"
      ]
     },
     "execution_count": 2,
     "metadata": {},
     "output_type": "execute_result"
    }
   ],
   "source": [
    "# To obtain an array of 100 numbers \n",
    "x = np.random.rand(10000)\n",
    "x"
   ]
  },
  {
   "cell_type": "code",
   "execution_count": 3,
   "metadata": {},
   "outputs": [
    {
     "data": {
      "image/png": "[encoded data removed]",
      "text/plain": [
       "<matplotlib.figure.Figure at 0x1c8d4ad5208>"
      ]
     },
     "metadata": {
      "needs_background": "light"
     },
     "output_type": "display_data"
    }
   ],
   "source": [
    "%matplotlib inline\n",
    "\n",
    "# To plot these numbers on a histogram\n",
    "plt.hist(x)\n",
    "plt.show()"
   ]
  },
  {
   "cell_type": "markdown",
   "metadata": {},
   "source": [
    "Further arguments can be passed to request that more than one array of random data is returned, for example:"
   ]
  },
  {
   "cell_type": "code",
   "execution_count": 4,
   "metadata": {},
   "outputs": [
    {
     "data": {
      "text/plain": [
       "array([[[ 0.82556833,  0.4879937 ,  0.16069298,  0.630069  ],\n",
       "        [ 0.17423031,  0.39925798,  0.06759328,  0.15918458]],\n",
       "\n",
       "       [[ 0.34039552,  0.48540702,  0.63924104,  0.26443032],\n",
       "        [ 0.59817948,  0.39116607,  0.51115537,  0.88198298]],\n",
       "\n",
       "       [[ 0.49035269,  0.32649836,  0.95486324,  0.62586486],\n",
       "        [ 0.57143302,  0.29551056,  0.55711186,  0.01481368]],\n",
       "\n",
       "       [[ 0.70145449,  0.45701169,  0.78474196,  0.42700262],\n",
       "        [ 0.2844209 ,  0.53400175,  0.72883721,  0.94897079]],\n",
       "\n",
       "       [[ 0.47070228,  0.00372286,  0.57835581,  0.71353462],\n",
       "        [ 0.53665083,  0.48833234,  0.49038306,  0.35917313]],\n",
       "\n",
       "       [[ 0.57887971,  0.37201073,  0.74655509,  0.05653888],\n",
       "        [ 0.54648429,  0.04621118,  0.76517186,  0.9404123 ]],\n",
       "\n",
       "       [[ 0.0767834 ,  0.95336446,  0.01258072,  0.45275768],\n",
       "        [ 0.99206558,  0.45351881,  0.60621875,  0.6483694 ]],\n",
       "\n",
       "       [[ 0.97095731,  0.7505806 ,  0.16082921,  0.97196017],\n",
       "        [ 0.42650027,  0.12252047,  0.19802682,  0.52490888]],\n",
       "\n",
       "       [[ 0.69497563,  0.52141691,  0.61596347,  0.25380066],\n",
       "        [ 0.86609675,  0.10773949,  0.8426739 ,  0.88107213]],\n",
       "\n",
       "       [[ 0.31735306,  0.41108045,  0.81474392,  0.98360269],\n",
       "        [ 0.09996606,  0.45227955,  0.77892041,  0.10112315]]])"
      ]
     },
     "execution_count": 4,
     "metadata": {},
     "output_type": "execute_result"
    }
   ],
   "source": [
    "# 10 2x4 arrays of random numbers\n",
    "x = np.random.rand(10, 2, 4)\n",
    "x"
   ]
  },
  {
   "cell_type": "code",
   "execution_count": 5,
   "metadata": {},
   "outputs": [
    {
     "data": {
      "text/plain": [
       "array([[ 0.68470951,  0.5498722 ],\n",
       "       [ 0.31819577,  0.34325341],\n",
       "       [ 0.02055404,  0.47932176],\n",
       "       ..., \n",
       "       [ 0.92197811,  0.50400002],\n",
       "       [ 0.740945  ,  0.23476647],\n",
       "       [ 0.89110596,  0.86038424]])"
      ]
     },
     "execution_count": 5,
     "metadata": {},
     "output_type": "execute_result"
    }
   ],
   "source": [
    "x = np.random.rand(10000, 2)\n",
    "x"
   ]
  },
  {
   "cell_type": "code",
   "execution_count": 6,
   "metadata": {},
   "outputs": [
    {
     "data": {
      "image/png": "[encoded data removed]",
      "text/plain": [
       "<matplotlib.figure.Figure at 0x1c8d4efbe48>"
      ]
     },
     "metadata": {
      "needs_background": "light"
     },
     "output_type": "display_data"
    }
   ],
   "source": [
    "plt.hist(x)\n",
    "plt.show()"
   ]
  },
  {
   "cell_type": "markdown",
   "metadata": {},
   "source": [
    "\n",
    "### numpy.random.randn\n",
    "\n",
    "The randn function also creates a random array of floating point numbers however it differs from the rand function above in that floats can be positive or negative and the distribution is normal (Gaussian). \n",
    "\n",
    "Normal distribution [5] can be visually represented by a bell curve and is distribution that occurs naturally when there is no bias. Most of the data falls within one point or standard deviation on either side of the mean. Examples of normal distribution can be seen throughout the general population, for example in a collection of IQ test scores, blood pressure results, heights, weights etc. "
   ]
  },
  {
   "cell_type": "code",
   "execution_count": 7,
   "metadata": {
    "scrolled": true
   },
   "outputs": [
    {
     "data": {
      "text/plain": [
       "array([ 0.13731929,  1.38651437,  0.70596633, ..., -1.02657464,\n",
       "        0.62707633,  0.32241716])"
      ]
     },
     "execution_count": 7,
     "metadata": {},
     "output_type": "execute_result"
    }
   ],
   "source": [
    "x = np.random.randn(10000)\n",
    "x"
   ]
  },
  {
   "cell_type": "code",
   "execution_count": 8,
   "metadata": {},
   "outputs": [
    {
     "data": {
      "image/png": "[encoded data removed]",
      "text/plain": [
       "<matplotlib.figure.Figure at 0x1c8d5113780>"
      ]
     },
     "metadata": {
      "needs_background": "light"
     },
     "output_type": "display_data"
    }
   ],
   "source": [
    "plt.hist(x)\n",
    "plt.show()"
   ]
  },
  {
   "cell_type": "markdown",
   "metadata": {},
   "source": [
    "This function can also provide more than one set of data, for example:"
   ]
  },
  {
   "cell_type": "code",
   "execution_count": 9,
   "metadata": {},
   "outputs": [
    {
     "data": {
      "text/plain": [
       "array([[-0.35120487, -1.37289301, -0.18574267],\n",
       "       [-1.26735463, -0.22155695,  0.15193228],\n",
       "       [ 0.39438236, -0.09484124, -1.04024106],\n",
       "       ..., \n",
       "       [ 1.29119049,  1.53219231,  0.52848182],\n",
       "       [ 0.52785395,  1.28402241, -0.59291522],\n",
       "       [ 0.95385268,  0.43574789, -0.00916719]])"
      ]
     },
     "execution_count": 9,
     "metadata": {},
     "output_type": "execute_result"
    }
   ],
   "source": [
    "x = np.random.randn(10000, 3)\n",
    "x"
   ]
  },
  {
   "cell_type": "code",
   "execution_count": 10,
   "metadata": {},
   "outputs": [
    {
     "data": {
      "image/png": "[encoded data removed]",
      "text/plain": [
       "<matplotlib.figure.Figure at 0x1c8d52af128>"
      ]
     },
     "metadata": {
      "needs_background": "light"
     },
     "output_type": "display_data"
    }
   ],
   "source": [
    "plt.hist(x)\n",
    "plt.show()"
   ]
  },
  {
   "cell_type": "markdown",
   "metadata": {},
   "source": [
    "\n",
    "### numpy.random.randint()\n",
    "\n",
    "The randint function returns random integers (whole numbers) that have discrete uniform distribution. Discrete uniform distribution is also known as equally likely outcomes distribution [6]. This is where the probability of evenly spaced values are equally likely to occur, for example when rolling a 6 sided dice, there are 6 evenly likely possibilties of rolling a certain number \n",
    "\n",
    "In probability, discrete uniform distribution differs from continuous uniform distribution in that disrcrete uniform distribution refers to whole numbers and continuous uniform distribution refers to numbers containing a decimal point (floats) [7].  \n",
    "\n",
    "The randint function requires parameters for the lowest and highest numbers you would like it to return. Lowest and highest numbers can be set as postive or negative. The lowest number is included in the output however the highest number is excluded. For example:\n",
    "\n",
    "*np.random.randint(1, 10)*\n",
    "\n",
    "will return a single random number between 1 and 9 inclusive. The size of the sample required can also be set, as outlined below. "
   ]
  },
  {
   "cell_type": "code",
   "execution_count": 11,
   "metadata": {},
   "outputs": [
    {
     "data": {
      "text/plain": [
       "array([ 5, 13,  8, ..., 18, 11, -5])"
      ]
     },
     "execution_count": 11,
     "metadata": {},
     "output_type": "execute_result"
    }
   ],
   "source": [
    "x = np.random.randint(-5, 20, size=10000)\n",
    "x"
   ]
  },
  {
   "cell_type": "code",
   "execution_count": 12,
   "metadata": {},
   "outputs": [
    {
     "data": {
      "image/png": "[encoded data removed]",
      "text/plain": [
       "<matplotlib.figure.Figure at 0x1c8d5412940>"
      ]
     },
     "metadata": {
      "needs_background": "light"
     },
     "output_type": "display_data"
    }
   ],
   "source": [
    "plt.hist(x)\n",
    "plt.show()"
   ]
  },
  {
   "cell_type": "markdown",
   "metadata": {},
   "source": [
    "\n",
    "### numpy.random.random_integers()\n",
    "\n",
    "This function has been deprecated since version 1.11.0.\n"
   ]
  },
  {
   "cell_type": "markdown",
   "metadata": {},
   "source": [
    "\n",
    "### numpy.random.random_sample()\n",
    "\n",
    "The random_sample() function returns floats between 0.0 and 1.0, not including 1.0 using continuous uniform distribution. "
   ]
  },
  {
   "cell_type": "code",
   "execution_count": 13,
   "metadata": {},
   "outputs": [
    {
     "data": {
      "text/plain": [
       "array([ 0.05717524,  0.82184188,  0.16948476, ...,  0.8838157 ,\n",
       "        0.73933454,  0.71689861])"
      ]
     },
     "execution_count": 13,
     "metadata": {},
     "output_type": "execute_result"
    }
   ],
   "source": [
    "x = np.random.random_sample(10000)\n",
    "x"
   ]
  },
  {
   "cell_type": "code",
   "execution_count": 14,
   "metadata": {},
   "outputs": [
    {
     "data": {
      "image/png": "[encoded data removed]",
      "text/plain": [
       "<matplotlib.figure.Figure at 0x1c8d54d57f0>"
      ]
     },
     "metadata": {
      "needs_background": "light"
     },
     "output_type": "display_data"
    }
   ],
   "source": [
    "plt.hist(x)\n",
    "plt.show()"
   ]
  },
  {
   "cell_type": "markdown",
   "metadata": {},
   "source": [
    "Similarly to the previous functions discussed, the random_sample function can also output more than one set of data:"
   ]
  },
  {
   "cell_type": "code",
   "execution_count": 77,
   "metadata": {
    "scrolled": true
   },
   "outputs": [
    {
     "data": {
      "text/plain": [
       "array([[[ 0.33716374,  0.13053452,  0.87308091,  0.32822382,  0.09410451],\n",
       "        [ 0.02608056,  0.46879191,  0.05473516,  0.90786606,  0.26913699],\n",
       "        [ 0.58383369,  0.675995  ,  0.58420889,  0.26882158,  0.6788097 ]],\n",
       "\n",
       "       [[ 0.37204727,  0.54796467,  0.03198435,  0.94940439,  0.24801603],\n",
       "        [ 0.74139062,  0.36597226,  0.22943639,  0.03851639,  0.38657137],\n",
       "        [ 0.85785908,  0.55604681,  0.93608482,  0.99287789,  0.22829977]],\n",
       "\n",
       "       [[ 0.37962619,  0.97769949,  0.63325096,  0.88409741,  0.20926483],\n",
       "        [ 0.04020675,  0.86522636,  0.09685563,  0.08146433,  0.3438348 ],\n",
       "        [ 0.71250607,  0.62143117,  0.33232782,  0.83538148,  0.43983297]],\n",
       "\n",
       "       [[ 0.9830764 ,  0.39557038,  0.54234103,  0.89790589,  0.93493249],\n",
       "        [ 0.99662905,  0.4875254 ,  0.18058094,  0.28545773,  0.76294397],\n",
       "        [ 0.69754098,  0.0127358 ,  0.67193402,  0.77323015,  0.48121252]],\n",
       "\n",
       "       [[ 0.84477906,  0.73657333,  0.65342326,  0.96332505,  0.44516997],\n",
       "        [ 0.60587063,  0.10445967,  0.94517171,  0.46893928,  0.33337039],\n",
       "        [ 0.46528483,  0.81295296,  0.72835458,  0.69385128,  0.02343707]],\n",
       "\n",
       "       [[ 0.37347384,  0.57145359,  0.53949184,  0.76628282,  0.45626094],\n",
       "        [ 0.72973245,  0.06946474,  0.52068292,  0.94083161,  0.14882008],\n",
       "        [ 0.09538172,  0.6045433 ,  0.15744168,  0.01884202,  0.33170935]],\n",
       "\n",
       "       [[ 0.25987075,  0.57350467,  0.40360566,  0.02268866,  0.48413757],\n",
       "        [ 0.64814687,  0.02616974,  0.91614078,  0.16869242,  0.05631399],\n",
       "        [ 0.94723941,  0.48235546,  0.59813686,  0.32829932,  0.33403896]],\n",
       "\n",
       "       [[ 0.75004245,  0.04296676,  0.46678329,  0.90824007,  0.89229493],\n",
       "        [ 0.98034594,  0.52346209,  0.13514621,  0.14179721,  0.90810578],\n",
       "        [ 0.65513488,  0.5176744 ,  0.55189973,  0.88661503,  0.14996375]],\n",
       "\n",
       "       [[ 0.62189812,  0.74328328,  0.96968575,  0.06934224,  0.01001876],\n",
       "        [ 0.24608703,  0.06804448,  0.89908198,  0.14327981,  0.33991719],\n",
       "        [ 0.94946281,  0.1047815 ,  0.81912004,  0.53642496,  0.04227494]],\n",
       "\n",
       "       [[ 0.69158904,  0.02190601,  0.49116249,  0.15813246,  0.21956233],\n",
       "        [ 0.47548885,  0.35086617,  0.21837964,  0.4817163 ,  0.97630065],\n",
       "        [ 0.94184187,  0.47349043,  0.50969352,  0.54917182,  0.25772752]]])"
      ]
     },
     "execution_count": 77,
     "metadata": {},
     "output_type": "execute_result"
    }
   ],
   "source": [
    "# 20 4x5 arrays of random numbers \n",
    "x = np.random.random_sample((10, 3, 5))\n",
    "x"
   ]
  },
  {
   "cell_type": "code",
   "execution_count": 16,
   "metadata": {},
   "outputs": [
    {
     "data": {
      "text/plain": [
       "array([[ 0.40641677,  0.88056946,  0.20885902,  0.00438337],\n",
       "       [ 0.433864  ,  0.6883327 ,  0.79219871,  0.05357428],\n",
       "       [ 0.34086182,  0.95753831,  0.9103116 ,  0.78251422],\n",
       "       [ 0.85240562,  0.4742253 ,  0.91230219,  0.94741453],\n",
       "       [ 0.08894538,  0.06122267,  0.83017176,  0.96431116],\n",
       "       [ 0.21450995,  0.93001915,  0.22000274,  0.36298136],\n",
       "       [ 0.06311101,  0.02471847,  0.22087922,  0.2744059 ],\n",
       "       [ 0.43988959,  0.682862  ,  0.48527261,  0.95183232],\n",
       "       [ 0.96634708,  0.82859211,  0.61252639,  0.83620522],\n",
       "       [ 0.55631709,  0.1323273 ,  0.93191477,  0.98923945],\n",
       "       [ 0.71467976,  0.77819199,  0.35201156,  0.38458304],\n",
       "       [ 0.10738968,  0.42995332,  0.6949695 ,  0.63480659],\n",
       "       [ 0.27953588,  0.52955743,  0.3594129 ,  0.45505837],\n",
       "       [ 0.97987391,  0.6714611 ,  0.2632472 ,  0.44115932],\n",
       "       [ 0.76327307,  0.77114342,  0.68429058,  0.25983088],\n",
       "       [ 0.94331785,  0.26142457,  0.67247233,  0.98632856],\n",
       "       [ 0.15055877,  0.33825685,  0.86744213,  0.10297549],\n",
       "       [ 0.15023082,  0.88039452,  0.46932196,  0.3113346 ],\n",
       "       [ 0.32024283,  0.13673878,  0.99513884,  0.37665259],\n",
       "       [ 0.47294317,  0.60835038,  0.74160504,  0.68828993]])"
      ]
     },
     "execution_count": 16,
     "metadata": {},
     "output_type": "execute_result"
    }
   ],
   "source": [
    "# To represent data using a histogram\n",
    "x = np.random.random_sample((20, 4))\n",
    "x"
   ]
  },
  {
   "cell_type": "code",
   "execution_count": 17,
   "metadata": {},
   "outputs": [
    {
     "data": {
      "image/png": "[encoded data removed]",
      "text/plain": [
       "<matplotlib.figure.Figure at 0x1c8d550db38>"
      ]
     },
     "metadata": {
      "needs_background": "light"
     },
     "output_type": "display_data"
    }
   ],
   "source": [
    "plt.hist(x)\n",
    "plt.show()"
   ]
  },
  {
   "cell_type": "markdown",
   "metadata": {},
   "source": [
    "To use the random_sample function across a larger range of numbers (rather than between 0.0 and 1.0), the following code can be used: \n",
    "\n",
    "   *(b - a) * random_sample() + a*\n"
   ]
  },
  {
   "cell_type": "code",
   "execution_count": 18,
   "metadata": {},
   "outputs": [
    {
     "data": {
      "text/plain": [
       "array([ 2.42447459,  5.52119185,  2.79636968,  3.6348953 ,  2.28470127,\n",
       "        3.05211477,  1.39481392,  2.00993049,  3.7249744 ,  4.73085377])"
      ]
     },
     "execution_count": 18,
     "metadata": {},
     "output_type": "execute_result"
    }
   ],
   "source": [
    "#To obtain an array of random numbers (uniformly distributed) between 0 and 6\n",
    "x = -6 * np.random.random_sample(10) +6\n",
    "x"
   ]
  },
  {
   "cell_type": "markdown",
   "metadata": {},
   "source": [
    "\n",
    "### numpy.random.random(), numpy.random.ranf() and numpy.random.sample() functions\n",
    "\n",
    "The random, ranf and sample functions are the same as the random_sample function and they return the same output as described above [8]. "
   ]
  },
  {
   "cell_type": "code",
   "execution_count": 19,
   "metadata": {
    "scrolled": true
   },
   "outputs": [
    {
     "data": {
      "text/plain": [
       "array([ 0.5775471 ,  0.63418509,  0.93079887, ...,  0.27757419,\n",
       "        0.4944115 ,  0.12945647])"
      ]
     },
     "execution_count": 19,
     "metadata": {},
     "output_type": "execute_result"
    }
   ],
   "source": [
    "x = np.random.random(10000)\n",
    "x"
   ]
  },
  {
   "cell_type": "code",
   "execution_count": 20,
   "metadata": {},
   "outputs": [
    {
     "data": {
      "image/png": "[encoded data removed]",
      "text/plain": [
       "<matplotlib.figure.Figure at 0x1c8d4f7ed68>"
      ]
     },
     "metadata": {
      "needs_background": "light"
     },
     "output_type": "display_data"
    }
   ],
   "source": [
    "plt.hist(x)\n",
    "plt.show()"
   ]
  },
  {
   "cell_type": "code",
   "execution_count": 21,
   "metadata": {},
   "outputs": [
    {
     "data": {
      "text/plain": [
       "array([ 0.26241867,  0.57469086,  0.81656782, ...,  0.4347793 ,\n",
       "        0.9198064 ,  0.54587636])"
      ]
     },
     "execution_count": 21,
     "metadata": {},
     "output_type": "execute_result"
    }
   ],
   "source": [
    "x = np.random.ranf(10000)\n",
    "x"
   ]
  },
  {
   "cell_type": "code",
   "execution_count": 22,
   "metadata": {},
   "outputs": [
    {
     "data": {
      "image/png": "[encoded data removed]",
      "text/plain": [
       "<matplotlib.figure.Figure at 0x1c8d99ef080>"
      ]
     },
     "metadata": {
      "needs_background": "light"
     },
     "output_type": "display_data"
    }
   ],
   "source": [
    "plt.hist(x)\n",
    "plt.show()"
   ]
  },
  {
   "cell_type": "code",
   "execution_count": 23,
   "metadata": {},
   "outputs": [
    {
     "data": {
      "text/plain": [
       "array([ 0.99032826,  0.79146876,  0.35420628, ...,  0.40864932,\n",
       "        0.2578488 ,  0.63337352])"
      ]
     },
     "execution_count": 23,
     "metadata": {},
     "output_type": "execute_result"
    }
   ],
   "source": [
    "x = np.random.sample(10000)\n",
    "x"
   ]
  },
  {
   "cell_type": "code",
   "execution_count": 24,
   "metadata": {},
   "outputs": [
    {
     "data": {
      "image/png": "[encoded data removed]",
      "text/plain": [
       "<matplotlib.figure.Figure at 0x1c8d99ef588>"
      ]
     },
     "metadata": {
      "needs_background": "light"
     },
     "output_type": "display_data"
    }
   ],
   "source": [
    "plt.hist(x)\n",
    "plt.show()"
   ]
  },
  {
   "cell_type": "markdown",
   "metadata": {},
   "source": [
    "\n",
    "### numpy.random.choice()\n",
    "\n",
    "The choice function provides one positive integer when a single argument is passed. "
   ]
  },
  {
   "cell_type": "code",
   "execution_count": 25,
   "metadata": {},
   "outputs": [
    {
     "data": {
      "text/plain": [
       "7"
      ]
     },
     "execution_count": 25,
     "metadata": {},
     "output_type": "execute_result"
    }
   ],
   "source": [
    "x = np.random.choice(10)\n",
    "x"
   ]
  },
  {
   "cell_type": "markdown",
   "metadata": {},
   "source": [
    "If a second argument is passed, the choice function creates a list of a specified length."
   ]
  },
  {
   "cell_type": "code",
   "execution_count": 26,
   "metadata": {},
   "outputs": [
    {
     "data": {
      "text/plain": [
       "array([6, 3, 1, 8, 5])"
      ]
     },
     "execution_count": 26,
     "metadata": {},
     "output_type": "execute_result"
    }
   ],
   "source": [
    "x = np.random.choice(10, 5)\n",
    "x"
   ]
  },
  {
   "cell_type": "markdown",
   "metadata": {},
   "source": [
    "\n",
    "### numpy.random.bytes()"
   ]
  },
  {
   "cell_type": "code",
   "execution_count": 27,
   "metadata": {},
   "outputs": [
    {
     "data": {
      "text/plain": [
       "b'6\\xaf\\xa3\\x8d\\xe1\\x0c\\x9f\\xf2\\xb7\\x13'"
      ]
     },
     "execution_count": 27,
     "metadata": {},
     "output_type": "execute_result"
    }
   ],
   "source": [
    "x = np.random.bytes(10)\n",
    "x"
   ]
  },
  {
   "cell_type": "code",
   "execution_count": null,
   "metadata": {},
   "outputs": [],
   "source": []
  },
  {
   "cell_type": "markdown",
   "metadata": {},
   "source": [
    "\n",
    "## Permutations functions in numpy.random\n",
    "\n",
    "There are 2 functions within the numpy.random \"permutations\" family of functions: \n",
    "\n",
    "- shuffle()\n",
    "- permutation()\n",
    "\n",
    "These are discussed below."
   ]
  },
  {
   "cell_type": "markdown",
   "metadata": {},
   "source": [
    "\n",
    "### numpy.random.shuffle()"
   ]
  },
  {
   "cell_type": "markdown",
   "metadata": {},
   "source": [
    "The shuffle function shuffles a sequence of set integers. It changes the sequence or order of integers while the integers remain the same. Shuffle permanently changes the array in place therefore the output remains changed. "
   ]
  },
  {
   "cell_type": "code",
   "execution_count": 28,
   "metadata": {},
   "outputs": [
    {
     "data": {
      "text/plain": [
       "(None, array([4, 1, 7, 5, 2, 8, 0, 3, 6, 9]))"
      ]
     },
     "execution_count": 28,
     "metadata": {},
     "output_type": "execute_result"
    }
   ],
   "source": [
    "# I have created an ordered array of numbers 0-9. \n",
    "\n",
    "arr = np.arange(10)\n",
    "\n",
    "# The shuffle function will change the sequence of these numbers and this will become the new sequence of numbers \n",
    "# for further code\n",
    "\n",
    "shuffled = np.random.shuffle(arr)\n",
    "shuffled, arr"
   ]
  },
  {
   "cell_type": "markdown",
   "metadata": {},
   "source": [
    "\n",
    "### numpy.random.permutation()"
   ]
  },
  {
   "cell_type": "markdown",
   "metadata": {},
   "source": [
    "The permutation function works similarly to the shuffle function but returns a new array, leaving the original array untouched, as demonstrated below."
   ]
  },
  {
   "cell_type": "code",
   "execution_count": 29,
   "metadata": {},
   "outputs": [
    {
     "data": {
      "text/plain": [
       "(array([2, 3, 6, 9, 8, 0, 5, 4, 1, 7]), array([0, 1, 2, 3, 4, 5, 6, 7, 8, 9]))"
      ]
     },
     "execution_count": 29,
     "metadata": {},
     "output_type": "execute_result"
    }
   ],
   "source": [
    "arr = np.arange(10)\n",
    "shuffled = np.random.permutation(arr)\n",
    "shuffled, arr"
   ]
  },
  {
   "cell_type": "code",
   "execution_count": null,
   "metadata": {},
   "outputs": [],
   "source": []
  },
  {
   "cell_type": "markdown",
   "metadata": {
    "collapsed": true
   },
   "source": [
    "\n",
    "## Distributions functions in numpy.random\n",
    "\n",
    "There are 35 functions within the numpy.random \"distributions\" family of functions. Seven of these functions are described below, including:\n",
    "\n",
    "- uniform()\n",
    "- standard_normal()\n",
    "- normal()\n",
    "- poisson()\n",
    "- power()\n",
    "- exponential()\n",
    "- standard_exponential()"
   ]
  },
  {
   "cell_type": "markdown",
   "metadata": {},
   "source": [
    "\n",
    "### numpy.random.uniform()"
   ]
  },
  {
   "cell_type": "markdown",
   "metadata": {},
   "source": [
    "The uniform function is similar to the rand function described above in that it is utilises uniform distribution. The uniform function differs in that low and high parameters can be set. The \"low\" integer is included as a value however the \"high\" value is not included. The below example demonstrates that values of 0 can occur however only values up to and including 9 can occur. "
   ]
  },
  {
   "cell_type": "code",
   "execution_count": 30,
   "metadata": {},
   "outputs": [],
   "source": [
    "x = np.random.uniform(0, 10,10000)\n",
    "x"
   ]
  },
  {
   "cell_type": "code",
   "execution_count": 31,
   "metadata": {},
   "outputs": [
    {
     "data": {
      "image/png": "[encoded data removed]",
      "text/plain": [
       "<matplotlib.figure.Figure at 0x1c8d9a05cf8>"
      ]
     },
     "metadata": {
      "needs_background": "light"
     },
     "output_type": "display_data"
    }
   ],
   "source": [
    "plt.hist(x)\n",
    "plt.show()"
   ]
  },
  {
   "cell_type": "markdown",
   "metadata": {},
   "source": [
    "\n",
    "### numpy.random.normal()\n",
    "\n",
    "The normal function runs similarly to the randn function described above.It is based on normal (Gaussian) distribution and visually displays a typical bell curve. \n",
    "\n",
    "The normal function differs from the randn function in that the randn function always has a mean of 0, whereas the mean and standard devaition can be passed in to the normal function. In the example below, the mean is 10 and the standard deviation is 5. You can see that approximately 50% of the values occur within -1 and +1 standard deviation of the mean, from 5 to 15. "
   ]
  },
  {
   "cell_type": "code",
   "execution_count": 32,
   "metadata": {},
   "outputs": [
    {
     "data": {
      "text/plain": [
       "array([  6.4820996 ,   1.14729267,  19.4989647 , ...,  16.55846538,\n",
       "        11.89975254,   5.56520718])"
      ]
     },
     "execution_count": 32,
     "metadata": {},
     "output_type": "execute_result"
    }
   ],
   "source": [
    "x = np.random.normal(10, 5, 10000)\n",
    "x"
   ]
  },
  {
   "cell_type": "code",
   "execution_count": 33,
   "metadata": {},
   "outputs": [
    {
     "data": {
      "image/png": "[encoded data removed]",
      "text/plain": [
       "<matplotlib.figure.Figure at 0x1c8d9afd908>"
      ]
     },
     "metadata": {
      "needs_background": "light"
     },
     "output_type": "display_data"
    }
   ],
   "source": [
    "plt.hist(x)\n",
    "plt.show()"
   ]
  },
  {
   "cell_type": "markdown",
   "metadata": {},
   "source": [
    "\n",
    "### numpy.random.standard_normal()\n",
    "\n",
    "The standard_normal function is the same as the randn function. It uses normal distribution, it always has a mean of 0 and standard deviation of 1."
   ]
  },
  {
   "cell_type": "code",
   "execution_count": 59,
   "metadata": {},
   "outputs": [
    {
     "data": {
      "text/plain": [
       "array([-1.09674583,  0.72378548,  1.41052098, ..., -1.90434547,\n",
       "        1.4742405 , -0.04556824])"
      ]
     },
     "execution_count": 59,
     "metadata": {},
     "output_type": "execute_result"
    }
   ],
   "source": [
    "x = np.random.standard_normal(10000)\n",
    "x"
   ]
  },
  {
   "cell_type": "code",
   "execution_count": 60,
   "metadata": {},
   "outputs": [
    {
     "data": {
      "image/png": "[encoded data removed]",
      "text/plain": [
       "<matplotlib.figure.Figure at 0x1c8d55f6438>"
      ]
     },
     "metadata": {
      "needs_background": "light"
     },
     "output_type": "display_data"
    }
   ],
   "source": [
    "plt.hist(x)\n",
    "plt.show()"
   ]
  },
  {
   "cell_type": "markdown",
   "metadata": {},
   "source": [
    "\n",
    "### numpy.random.poisson()\n",
    "\n",
    "The poisson function returns an array of positive integers based on the Poisson distribution. In statistics, the Poisson distribution demonstrates the probability that a given number of events will occur over a fixed time, distance, area or volume with a known constant rate. These events are discrete in that the occurence of one does not influence the occurence of the next thus occuring independently [9].\n",
    "\n",
    "Parameters for the poisson function can influence the size of the interval and the number of integers returned. If an interval is not indicated, the default integer is 1. The below example depicts an array of 10000 random integers from the Poisson distribution where lambda is 3. It is observed that the greater the number of random outputs, the greater the number of values between 0 and 3."
   ]
  },
  {
   "cell_type": "code",
   "execution_count": 68,
   "metadata": {
    "scrolled": true
   },
   "outputs": [
    {
     "data": {
      "text/plain": [
       "array([2, 0, 4, ..., 1, 4, 2])"
      ]
     },
     "execution_count": 68,
     "metadata": {},
     "output_type": "execute_result"
    }
   ],
   "source": [
    "x = np.random.poisson(3, 10000)\n",
    "x"
   ]
  },
  {
   "cell_type": "code",
   "execution_count": 69,
   "metadata": {},
   "outputs": [
    {
     "data": {
      "image/png": "[encoded data removed]",
      "text/plain": [
       "<matplotlib.figure.Figure at 0x1c8d528eb00>"
      ]
     },
     "metadata": {
      "needs_background": "light"
     },
     "output_type": "display_data"
    }
   ],
   "source": [
    "plt.hist(x)\n",
    "plt.show()"
   ]
  },
  {
   "cell_type": "markdown",
   "metadata": {},
   "source": [
    "\n",
    "### numpy.random.power()\n",
    "\n",
    "The power function returns random positive floats between 0.0 and 1.0, but not including 1.0. These random numbers are selected from a positive exponential distribution - this means that there is an increase in the number of outputs or values the closer we get to 1.0. Exponential distribution can be described in relation to time - the probability that an event will occur increases or becomes more likely as the time increases, for example scoring a goal in a football match [10]. "
   ]
  },
  {
   "cell_type": "code",
   "execution_count": 38,
   "metadata": {},
   "outputs": [
    {
     "data": {
      "text/plain": [
       "array([ 0.97086125,  0.6370041 ,  0.71697713, ...,  0.93794777,\n",
       "        0.84561412,  0.90056997])"
      ]
     },
     "execution_count": 38,
     "metadata": {},
     "output_type": "execute_result"
    }
   ],
   "source": [
    "x = np.random.power( 3, 10000)\n",
    "x"
   ]
  },
  {
   "cell_type": "code",
   "execution_count": 39,
   "metadata": {},
   "outputs": [
    {
     "data": {
      "image/png": "[encoded data removed]",
      "text/plain": [
       "<matplotlib.figure.Figure at 0x1c8d9992400>"
      ]
     },
     "metadata": {
      "needs_background": "light"
     },
     "output_type": "display_data"
    }
   ],
   "source": [
    "plt.hist(x)\n",
    "plt.show()"
   ]
  },
  {
   "cell_type": "markdown",
   "metadata": {},
   "source": [
    "The *a* parameter (or first parameter) within the parentheses influences the values closer to 1.0. A higher *a* parameter results in a larger number of outputs that are closer to 1.0, in keeping with positive exponential distribution. This is demonstrated in the above and below histograms where *a* = 3 and *a* = 11."
   ]
  },
  {
   "cell_type": "code",
   "execution_count": 40,
   "metadata": {},
   "outputs": [
    {
     "data": {
      "text/plain": [
       "array([ 0.87064387,  0.91554047,  0.95262024, ...,  0.96366023,\n",
       "        0.95957701,  0.98053492])"
      ]
     },
     "execution_count": 40,
     "metadata": {},
     "output_type": "execute_result"
    }
   ],
   "source": [
    "x = np.random.power( 11, 10000)\n",
    "x"
   ]
  },
  {
   "cell_type": "code",
   "execution_count": 41,
   "metadata": {},
   "outputs": [
    {
     "data": {
      "image/png": "[encoded data removed]",
      "text/plain": [
       "<matplotlib.figure.Figure at 0x1c8d9992fd0>"
      ]
     },
     "metadata": {
      "needs_background": "light"
     },
     "output_type": "display_data"
    }
   ],
   "source": [
    "plt.hist(x)\n",
    "plt.show()"
   ]
  },
  {
   "cell_type": "code",
   "execution_count": null,
   "metadata": {},
   "outputs": [],
   "source": []
  },
  {
   "cell_type": "code",
   "execution_count": null,
   "metadata": {},
   "outputs": [],
   "source": []
  },
  {
   "cell_type": "code",
   "execution_count": null,
   "metadata": {},
   "outputs": [],
   "source": []
  },
  {
   "cell_type": "markdown",
   "metadata": {},
   "source": [
    "### Explain the use of seeds in generating pseudorandom numbers"
   ]
  },
  {
   "cell_type": "code",
   "execution_count": null,
   "metadata": {},
   "outputs": [],
   "source": []
  },
  {
   "cell_type": "code",
   "execution_count": null,
   "metadata": {},
   "outputs": [],
   "source": []
  },
  {
   "cell_type": "code",
   "execution_count": null,
   "metadata": {},
   "outputs": [],
   "source": []
  },
  {
   "cell_type": "markdown",
   "metadata": {},
   "source": [
    "## References "
   ]
  },
  {
   "cell_type": "markdown",
   "metadata": {},
   "source": [
    "[1] www.numpy.org/ date: 03/11/2018 \n",
    "\n",
    "[2] https://www.datacamp.com/community/tutorials/python-numpy-tutorial date: 03/11/2018 \n",
    "\n",
    "[3] https://docs.scipy.org/doc/numpy/user/basics.creation.html date: 03/11/2018 \n",
    "\n",
    "[4] https://www.investopedia.com/terms/u/uniform-distribution.asp date: 04/11/2018\n",
    "\n",
    "[5] https://www.statisticshowto.datasciencecentral.com/probability-and-statistics/normal-distributions/ date: 04/11/2018\n",
    "\n",
    "[6] https://www.chegg.com/homework-help/definitions/discrete-uniform-31 date: 04/11/2018 \n",
    "\n",
    "[7] https://socratic.org/questions/what-is-the-difference-between-a-discrete-uniform-distribution-and-a-continuous- dated: 04/11/2018\n",
    "\n",
    "[8] https://stackoverflow.com/questions/18829185/difference-between-various-numpy-random-functions dated: 04/11/2018\n",
    "\n",
    "[9] https://stattrek.com/probability-distributions/poisson.aspx dated: 06/11/2018\n",
    "\n",
    "[10] https://www.statlect.com/probability-distributions/exponential-distribution dated: 06/11/2018 "
   ]
  },
  {
   "cell_type": "markdown",
   "metadata": {},
   "source": [
    "## Bibliography and Acknowledgements "
   ]
  },
  {
   "cell_type": "markdown",
   "metadata": {},
   "source": [
    "- https://docs.scipy.org/doc/numpy-1.15.1/user/whatisnumpy.html date: 20/10/2018\n",
    "- https://docs.scipy.org/doc/numpy-1.15.1/reference/routines.random.html date:27/10/2018\n",
    "- http://nbviewer.jupyter.org/gist/rossant/4645217 date: 03/11/2018\n",
    "- https://en.wikipedia.org/wiki/NumPy date: 03/11/2018\n",
    "- https://www.packtpub.com/mapt/book/big_data_and_business_intelligence/9781785285110/2/ch02lvl1sec16/numpy-random-numbers date: 03/11/2018\n",
    "- https://www.datacamp.com/community/tutorials/python-numpy-tutorial date: 03/11/2018 \n",
    "- http://mathworld.wolfram.com/DiscreteUniformDistribution.html date: 04/11/2018 \n",
    "- https://machinelearningmastery.com/how-to-generate-random-numbers-in-python/ - good for seeds and pseudo random number info 04/11/2018"
   ]
  },
  {
   "cell_type": "code",
   "execution_count": null,
   "metadata": {},
   "outputs": [],
   "source": []
  }
 ],
 "metadata": {
  "kernelspec": {
   "display_name": "Python 3",
   "language": "python",
   "name": "python3"
  },
  "language_info": {
   "codemirror_mode": {
    "name": "ipython",
    "version": 3
   },
   "file_extension": ".py",
   "mimetype": "text/x-python",
   "name": "python",
   "nbconvert_exporter": "python",
   "pygments_lexer": "ipython3",
   "version": "3.6.7"
  }
 },
 "nbformat": 4,
 "nbformat_minor": 2
}
