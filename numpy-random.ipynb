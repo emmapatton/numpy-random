{
 "cells": [
  {
   "cell_type": "markdown",
   "metadata": {},
   "source": [
    "# An Overview of the numpy.random Package"
   ]
  },
  {
   "cell_type": "markdown",
   "metadata": {},
   "source": [
    "## Purpose of the numpy.random Package"
   ]
  },
  {
   "cell_type": "markdown",
   "metadata": {},
   "source": [
    "NumPy is a Python library used for scientific and mathematical computing in the Python programming language [1]. It contains a number of tools that can be used to solve mathematical models of problems using a computer [2]. \n",
    "\n",
    "Numpy.random is a collection of special library functions within NumPy to generate random numbers. These functions can also be used to organise random numbers into arrays of different shapes and sizes [3]. \n",
    "\n",
    "\n",
    "Functions within the numpy.random library are organised into four main categories: \n",
    "\n",
    "- Simple random data\n",
    "- Permutations\n",
    "- Distributions\n",
    "- Random generator\n",
    "\n",
    "The full numpy.random documentation can be accessed [here.](https://docs.scipy.org/doc/numpy/reference/routines.random.html)"
   ]
  },
  {
   "cell_type": "markdown",
   "metadata": {},
   "source": [
    "## Simple random data functions in numpy.random"
   ]
  },
  {
   "cell_type": "markdown",
   "metadata": {},
   "source": [
    "There are 10 functions within the numpy.random \"Simple random data\" family of functions: \n",
    "\n",
    "- rand()\n",
    "- randn()\n",
    "- randint()\n",
    "- random_integers()\n",
    "- random_sample()\n",
    "- random()\n",
    "- ranf()\n",
    "- sample()\n",
    "- choice()\n",
    "- bytes()\n",
    "\n",
    "Each of these are discussed below.\n",
    "\n"
   ]
  },
  {
   "cell_type": "code",
   "execution_count": 1,
   "metadata": {},
   "outputs": [],
   "source": [
    "import numpy as np\n",
    "import matplotlib.pyplot as plt"
   ]
  },
  {
   "cell_type": "markdown",
   "metadata": {},
   "source": [
    "### numpy.random.rand()\n",
    "\n",
    "The rand function creates a random array of positive floating point numbers with a continuous uniform distribution from 0, up to but not including 1. An argument can be passed in, telling the function how many numbers to return. If no argument is provided, the function will return a single float. \n",
    "\n",
    "In other words, this function creates random numbers that are uniformly distributed between 0 and 1, but not including the number 1.Uniform distribution is where each variable, or number in this case, has the same (uniform) probability [4]."
   ]
  },
  {
   "cell_type": "code",
   "execution_count": 2,
   "metadata": {
    "scrolled": true
   },
   "outputs": [
    {
     "data": {
      "text/plain": [
       "array([ 0.09799192,  0.64173898,  0.95460808, ...,  0.75359627,\n",
       "        0.4567267 ,  0.71062335])"
      ]
     },
     "execution_count": 2,
     "metadata": {},
     "output_type": "execute_result"
    }
   ],
   "source": [
    "# To obtain an array of 100 numbers \n",
    "x = np.random.rand(10000)\n",
    "x"
   ]
  },
  {
   "cell_type": "code",
   "execution_count": 3,
   "metadata": {},
   "outputs": [
    {
     "data": {
      "image/png": "[encoded data removed]",
      "text/plain": [
       "<matplotlib.figure.Figure at 0x1e404265278>"
      ]
     },
     "metadata": {
      "needs_background": "light"
     },
     "output_type": "display_data"
    }
   ],
   "source": [
    "%matplotlib inline\n",
    "\n",
    "# To plot these numbers on a histogram\n",
    "plt.hist(x)\n",
    "plt.show()"
   ]
  },
  {
   "cell_type": "markdown",
   "metadata": {},
   "source": [
    "Further arguments can be passed to request that more than one array of random data is returned, for example:"
   ]
  },
  {
   "cell_type": "code",
   "execution_count": 84,
   "metadata": {},
   "outputs": [
    {
     "data": {
      "text/plain": [
       "array([[[ 0.18109537,  0.80980505,  0.88994307,  0.87142949],\n",
       "        [ 0.00868807,  0.38702809,  0.8055429 ,  0.62196388]],\n",
       "\n",
       "       [[ 0.72488047,  0.22963874,  0.49430416,  0.16673257],\n",
       "        [ 0.50478541,  0.1576686 ,  0.15616768,  0.64530301]],\n",
       "\n",
       "       [[ 0.08439702,  0.05354039,  0.31411879,  0.64277723],\n",
       "        [ 0.15276941,  0.76196823,  0.44821276,  0.37671914]],\n",
       "\n",
       "       [[ 0.53104682,  0.63551896,  0.7592245 ,  0.8649438 ],\n",
       "        [ 0.86116102,  0.19810173,  0.92746899,  0.86932249]],\n",
       "\n",
       "       [[ 0.68832277,  0.10424529,  0.10345572,  0.49500512],\n",
       "        [ 0.82658761,  0.85086968,  0.7221864 ,  0.41017305]],\n",
       "\n",
       "       [[ 0.73785027,  0.9045906 ,  0.2397015 ,  0.26222076],\n",
       "        [ 0.06810965,  0.22863994,  0.10961408,  0.74769395]],\n",
       "\n",
       "       [[ 0.56758191,  0.22304703,  0.37338455,  0.9536024 ],\n",
       "        [ 0.60393741,  0.38900253,  0.22491284,  0.64490732]],\n",
       "\n",
       "       [[ 0.97772445,  0.1581507 ,  0.70859546,  0.45410344],\n",
       "        [ 0.21410911,  0.25436622,  0.20917482,  0.82587093]],\n",
       "\n",
       "       [[ 0.75408355,  0.90094426,  0.46511754,  0.86709686],\n",
       "        [ 0.09090049,  0.90367468,  0.19851062,  0.97787088]],\n",
       "\n",
       "       [[ 0.90762534,  0.0807995 ,  0.57643387,  0.2382658 ],\n",
       "        [ 0.37418957,  0.84855875,  0.61572084,  0.72088156]]])"
      ]
     },
     "execution_count": 84,
     "metadata": {},
     "output_type": "execute_result"
    }
   ],
   "source": [
    "# 10 2x4 arrays of random numbers\n",
    "x = np.random.rand(10, 2, 4)\n",
    "x"
   ]
  },
  {
   "cell_type": "code",
   "execution_count": 80,
   "metadata": {},
   "outputs": [
    {
     "data": {
      "text/plain": [
       "array([[ 0.14565499,  0.75576737],\n",
       "       [ 0.16489948,  0.15852289],\n",
       "       [ 0.18786612,  0.11620693],\n",
       "       ..., \n",
       "       [ 0.42092927,  0.25735571],\n",
       "       [ 0.99000044,  0.4479586 ],\n",
       "       [ 0.86926667,  0.76477346]])"
      ]
     },
     "execution_count": 80,
     "metadata": {},
     "output_type": "execute_result"
    }
   ],
   "source": [
    "x = np.random.rand(10000, 2)\n",
    "x"
   ]
  },
  {
   "cell_type": "code",
   "execution_count": 76,
   "metadata": {},
   "outputs": [
    {
     "data": {
      "image/png": "[encoded data removed]",
      "text/plain": [
       "<matplotlib.figure.Figure at 0x1e404722860>"
      ]
     },
     "metadata": {
      "needs_background": "light"
     },
     "output_type": "display_data"
    }
   ],
   "source": [
    "plt.hist(x)\n",
    "plt.show()"
   ]
  },
  {
   "cell_type": "markdown",
   "metadata": {},
   "source": [
    "### numpy.random.randn"
   ]
  },
  {
   "cell_type": "markdown",
   "metadata": {},
   "source": [
    "The randn function also creates a random array of floating point numbers however it differs from the rand function above in that floats can be positive or negative and the distribution is normal (Gaussian). \n",
    "\n",
    "Normal distribution [5] can be visually represented by a bell curve and is distribution that occurs naturally when there is no bias. Most of the data falls within one point or standard deviation on either side of the mean. Examples of normal distribution can be seen throughout the general population, for example in a collection of IQ test scores, blood pressure results, heights, weights etc. "
   ]
  },
  {
   "cell_type": "code",
   "execution_count": 6,
   "metadata": {
    "scrolled": true
   },
   "outputs": [
    {
     "data": {
      "text/plain": [
       "array([ 0.41947569, -1.40443534,  0.04550178, ...,  0.60973639,\n",
       "        1.456436  ,  0.01451949])"
      ]
     },
     "execution_count": 6,
     "metadata": {},
     "output_type": "execute_result"
    }
   ],
   "source": [
    "x = np.random.randn(10000)\n",
    "x"
   ]
  },
  {
   "cell_type": "code",
   "execution_count": 7,
   "metadata": {},
   "outputs": [
    {
     "data": {
      "image/png": "[encoded data removed]",
      "text/plain": [
       "<matplotlib.figure.Figure at 0x1e4043ec780>"
      ]
     },
     "metadata": {
      "needs_background": "light"
     },
     "output_type": "display_data"
    }
   ],
   "source": [
    "plt.hist(x)\n",
    "plt.show()"
   ]
  },
  {
   "cell_type": "markdown",
   "metadata": {},
   "source": [
    "This function can also provide more than one set of data, for example:"
   ]
  },
  {
   "cell_type": "code",
   "execution_count": 8,
   "metadata": {},
   "outputs": [
    {
     "data": {
      "text/plain": [
       "array([[-0.32565459, -0.5548343 ,  0.71868815],\n",
       "       [-0.74848368,  1.51850098, -0.777069  ],\n",
       "       [ 0.70119067, -1.11081702,  0.83554927],\n",
       "       ..., \n",
       "       [ 0.24594606,  1.03738389, -0.99075648],\n",
       "       [ 0.52818134,  1.70196124, -0.25159631],\n",
       "       [ 0.33922705,  1.44420399,  0.32279878]])"
      ]
     },
     "execution_count": 8,
     "metadata": {},
     "output_type": "execute_result"
    }
   ],
   "source": [
    "x = np.random.randn(10000, 3)\n",
    "x"
   ]
  },
  {
   "cell_type": "code",
   "execution_count": 9,
   "metadata": {},
   "outputs": [
    {
     "data": {
      "image/png": "[encoded data removed]",
      "text/plain": [
       "<matplotlib.figure.Figure at 0x1e404550be0>"
      ]
     },
     "metadata": {
      "needs_background": "light"
     },
     "output_type": "display_data"
    }
   ],
   "source": [
    "plt.hist(x)\n",
    "plt.show()"
   ]
  },
  {
   "cell_type": "markdown",
   "metadata": {},
   "source": [
    "### numpy.random.randint()\n",
    "\n",
    "The randint function returns random integers (whole numbers) that have discrete uniform distribution. Discrete uniform distribution is also known as equally likely outcomes distribution [6]. This is where the probability of evenly spaced values are equally likely to occur, for example when rolling a 6 sided dice, there are 6 evenly likely possibilties of rolling a certain number \n",
    "\n",
    "In probability, discrete uniform distribution differs from continuous uniform distribution in that disrcrete uniform distribution refers to whole numbers and continuous uniform distribution refers to numbers containing a decimal point (floats) [7].  \n",
    "\n",
    "The randint function requires parameters for the lowest and highest numbers you would like it to return. Lowest and highest numbers can be et as postive or negative. The lowest number is included in the output however the highest number is excluded. For example:\n",
    "\n",
    "*np.random.randint(1, 10)*\n",
    "\n",
    "will return a single random number between 1 and 9 inclusive. The size of the sample required can also be set, as outlined below. "
   ]
  },
  {
   "cell_type": "code",
   "execution_count": 10,
   "metadata": {},
   "outputs": [
    {
     "data": {
      "text/plain": [
       "array([ 4,  3,  3, ..., 10, 11, 16])"
      ]
     },
     "execution_count": 10,
     "metadata": {},
     "output_type": "execute_result"
    }
   ],
   "source": [
    "x = np.random.randint(-5, 20, size=10000)\n",
    "x"
   ]
  },
  {
   "cell_type": "code",
   "execution_count": 11,
   "metadata": {},
   "outputs": [
    {
     "data": {
      "image/png": "[encoded data removed]",
      "text/plain": [
       "<matplotlib.figure.Figure at 0x1e4046d9c18>"
      ]
     },
     "metadata": {
      "needs_background": "light"
     },
     "output_type": "display_data"
    }
   ],
   "source": [
    "plt.hist(x)\n",
    "plt.show()"
   ]
  },
  {
   "cell_type": "markdown",
   "metadata": {},
   "source": [
    "### numpy.random.random_integers()\n",
    "\n",
    "This function has been deprecated since version 1.11.0.\n"
   ]
  },
  {
   "cell_type": "markdown",
   "metadata": {},
   "source": [
    "### numpy.random.random_sample()\n",
    "\n",
    "The random_sample() function returns floats between 0.0 and 1.0, not including 1.0 using continuous uniform distribution. "
   ]
  },
  {
   "cell_type": "code",
   "execution_count": 81,
   "metadata": {},
   "outputs": [
    {
     "data": {
      "text/plain": [
       "array([ 0.12388021,  0.22611518,  0.74219104, ...,  0.80474331,\n",
       "        0.82177673,  0.15599683])"
      ]
     },
     "execution_count": 81,
     "metadata": {},
     "output_type": "execute_result"
    }
   ],
   "source": [
    "x = np.random.random_sample(10000)\n",
    "x"
   ]
  },
  {
   "cell_type": "code",
   "execution_count": 82,
   "metadata": {},
   "outputs": [
    {
     "data": {
      "image/png": "[encoded data removed]",
      "text/plain": [
       "<matplotlib.figure.Figure at 0x1e404748a58>"
      ]
     },
     "metadata": {
      "needs_background": "light"
     },
     "output_type": "display_data"
    }
   ],
   "source": [
    "plt.hist(x)\n",
    "plt.show()"
   ]
  },
  {
   "cell_type": "markdown",
   "metadata": {},
   "source": [
    "Similarly to the previous functions discussed, the random_sample function can also output more than one set of data:"
   ]
  },
  {
   "cell_type": "code",
   "execution_count": 83,
   "metadata": {
    "scrolled": true
   },
   "outputs": [
    {
     "data": {
      "text/plain": [
       "array([[[ 0.08382037,  0.88916293,  0.13023579,  0.21722654,  0.55470615],\n",
       "        [ 0.42330698,  0.62806962,  0.87949282,  0.56806041,  0.74766089],\n",
       "        [ 0.95352679,  0.67473327,  0.60634014,  0.41378007,  0.85852259],\n",
       "        [ 0.35644433,  0.7028606 ,  0.41201028,  0.28518756,  0.65501297]],\n",
       "\n",
       "       [[ 0.42973745,  0.63444056,  0.78655684,  0.86520976,  0.94390662],\n",
       "        [ 0.35487664,  0.37504096,  0.31478184,  0.26485459,  0.22774839],\n",
       "        [ 0.71595457,  0.87716958,  0.89080798,  0.30004516,  0.0450019 ],\n",
       "        [ 0.937399  ,  0.30312951,  0.41667246,  0.89630548,  0.29146632]],\n",
       "\n",
       "       [[ 0.1193346 ,  0.08378468,  0.96766093,  0.25898689,  0.52744194],\n",
       "        [ 0.93139586,  0.12243784,  0.06438914,  0.73035106,  0.14710277],\n",
       "        [ 0.79596571,  0.48652411,  0.01483895,  0.42552173,  0.88346851],\n",
       "        [ 0.74398322,  0.58173794,  0.09388873,  0.16727648,  0.58888372]],\n",
       "\n",
       "       [[ 0.71947134,  0.04614963,  0.01403878,  0.33666261,  0.73271462],\n",
       "        [ 0.14876881,  0.11073311,  0.6804338 ,  0.38143828,  0.90788339],\n",
       "        [ 0.77910453,  0.09809469,  0.42927308,  0.57066045,  0.60425882],\n",
       "        [ 0.82151443,  0.57171796,  0.23767191,  0.03356025,  0.25032856]],\n",
       "\n",
       "       [[ 0.01957007,  0.45133872,  0.69744456,  0.074118  ,  0.57529657],\n",
       "        [ 0.49570997,  0.21547779,  0.94964581,  0.23856332,  0.7435531 ],\n",
       "        [ 0.89601237,  0.08556666,  0.31482702,  0.99855519,  0.94367317],\n",
       "        [ 0.19827198,  0.80414829,  0.3687742 ,  0.99904538,  0.78020689]],\n",
       "\n",
       "       [[ 0.91852305,  0.2288513 ,  0.44192163,  0.99648217,  0.82314205],\n",
       "        [ 0.75246524,  0.92240838,  0.98609377,  0.05016125,  0.28891155],\n",
       "        [ 0.12749927,  0.02078074,  0.59385125,  0.97023388,  0.73831432],\n",
       "        [ 0.4576164 ,  0.9642294 ,  0.83166884,  0.72577695,  0.24570398]],\n",
       "\n",
       "       [[ 0.22075823,  0.23584835,  0.00344481,  0.02229621,  0.57427088],\n",
       "        [ 0.03549302,  0.08310404,  0.68982623,  0.24495697,  0.78530904],\n",
       "        [ 0.28425868,  0.40550065,  0.98042286,  0.90873434,  0.66868497],\n",
       "        [ 0.31261103,  0.47774342,  0.9395694 ,  0.65864082,  0.07508364]],\n",
       "\n",
       "       [[ 0.77627362,  0.77582193,  0.88035924,  0.33919755,  0.45757349],\n",
       "        [ 0.8095786 ,  0.47725199,  0.793997  ,  0.66845823,  0.37126448],\n",
       "        [ 0.97588611,  0.9449737 ,  0.76748715,  0.55983763,  0.12828617],\n",
       "        [ 0.02605323,  0.15309822,  0.2416937 ,  0.39059231,  0.14200846]],\n",
       "\n",
       "       [[ 0.14738657,  0.01962383,  0.46182158,  0.29410372,  0.01011131],\n",
       "        [ 0.9003973 ,  0.76006924,  0.28580737,  0.94455863,  0.42218406],\n",
       "        [ 0.16786742,  0.39209404,  0.04465687,  0.98825848,  0.63363922],\n",
       "        [ 0.93396871,  0.21618334,  0.49350797,  0.45375164,  0.0614359 ]],\n",
       "\n",
       "       [[ 0.12551281,  0.39620869,  0.19001695,  0.78115058,  0.92630131],\n",
       "        [ 0.47977924,  0.35990495,  0.71696219,  0.80569174,  0.04835456],\n",
       "        [ 0.18852019,  0.25440586,  0.77654679,  0.63065194,  0.50177578],\n",
       "        [ 0.41019214,  0.37866606,  0.77309457,  0.29603069,  0.40167809]],\n",
       "\n",
       "       [[ 0.01374847,  0.72730371,  0.84224865,  0.81410337,  0.87820727],\n",
       "        [ 0.7942646 ,  0.54526707,  0.25985019,  0.42878236,  0.91345417],\n",
       "        [ 0.84405726,  0.51631195,  0.95469782,  0.31610208,  0.2271259 ],\n",
       "        [ 0.03754947,  0.41316358,  0.1641246 ,  0.71629084,  0.1326181 ]],\n",
       "\n",
       "       [[ 0.68210115,  0.56246882,  0.3760102 ,  0.27723964,  0.95409803],\n",
       "        [ 0.35715492,  0.97847187,  0.82509482,  0.32681219,  0.96236997],\n",
       "        [ 0.69835966,  0.49536083,  0.7828607 ,  0.1565241 ,  0.92422819],\n",
       "        [ 0.54006299,  0.27937239,  0.53195623,  0.48501026,  0.38033563]],\n",
       "\n",
       "       [[ 0.08734632,  0.32625861,  0.17563926,  0.06020528,  0.14976971],\n",
       "        [ 0.77520696,  0.28472369,  0.11433367,  0.04965443,  0.61242262],\n",
       "        [ 0.10693549,  0.09809131,  0.95095376,  0.81010234,  0.79519575],\n",
       "        [ 0.38378478,  0.63775994,  0.35612459,  0.56329632,  0.20059438]],\n",
       "\n",
       "       [[ 0.39363411,  0.92146751,  0.59997857,  0.22016478,  0.76159644],\n",
       "        [ 0.88500246,  0.69541453,  0.50428028,  0.28631549,  0.9863688 ],\n",
       "        [ 0.92692833,  0.67979361,  0.69360234,  0.51353493,  0.49743359],\n",
       "        [ 0.92018955,  0.64040794,  0.79462193,  0.18264313,  0.39154502]],\n",
       "\n",
       "       [[ 0.23490505,  0.02382766,  0.21995388,  0.09495234,  0.48950566],\n",
       "        [ 0.81061275,  0.75666902,  0.84443309,  0.61732833,  0.77314042],\n",
       "        [ 0.12568051,  0.79956605,  0.34750401,  0.10987862,  0.89125327],\n",
       "        [ 0.68430306,  0.39426189,  0.36592541,  0.49285374,  0.68680356]],\n",
       "\n",
       "       [[ 0.77226724,  0.50314302,  0.38094576,  0.79876191,  0.34276122],\n",
       "        [ 0.10539415,  0.42976817,  0.24853879,  0.6712027 ,  0.67606541],\n",
       "        [ 0.08748404,  0.65184826,  0.6969878 ,  0.32022269,  0.45984936],\n",
       "        [ 0.23989037,  0.87545211,  0.18900114,  0.67124085,  0.9611429 ]],\n",
       "\n",
       "       [[ 0.64889649,  0.06909336,  0.6699616 ,  0.42963872,  0.54301762],\n",
       "        [ 0.47530957,  0.67413612,  0.14254489,  0.99919344,  0.23120088],\n",
       "        [ 0.91380026,  0.67287439,  0.57928478,  0.91452032,  0.38690606],\n",
       "        [ 0.65584932,  0.15824452,  0.63375717,  0.00368802,  0.69679603]],\n",
       "\n",
       "       [[ 0.22507346,  0.24153286,  0.11006712,  0.52420686,  0.82142646],\n",
       "        [ 0.61968526,  0.23029053,  0.47625673,  0.47153382,  0.21149413],\n",
       "        [ 0.69370658,  0.62287339,  0.67235776,  0.36901568,  0.28396228],\n",
       "        [ 0.36461517,  0.47489044,  0.99524852,  0.142737  ,  0.9632444 ]],\n",
       "\n",
       "       [[ 0.66864154,  0.80610462,  0.45189442,  0.40000465,  0.8683653 ],\n",
       "        [ 0.52571001,  0.75608017,  0.98687673,  0.7553351 ,  0.4600933 ],\n",
       "        [ 0.04550634,  0.82177709,  0.35863992,  0.30802109,  0.67936172],\n",
       "        [ 0.53580152,  0.64548102,  0.99513765,  0.9153541 ,  0.51765433]],\n",
       "\n",
       "       [[ 0.31444705,  0.7889806 ,  0.21582204,  0.2044163 ,  0.10423374],\n",
       "        [ 0.37727203,  0.3344032 ,  0.59944755,  0.10682638,  0.36811444],\n",
       "        [ 0.64753496,  0.32705922,  0.44716597,  0.65144371,  0.04406576],\n",
       "        [ 0.61007205,  0.52414398,  0.4806551 ,  0.60513249,  0.29190361]]])"
      ]
     },
     "execution_count": 83,
     "metadata": {},
     "output_type": "execute_result"
    }
   ],
   "source": [
    "# 20 4x5 arrays of random numbers \n",
    "x = np.random.random_sample((20, 4, 5))\n",
    "x"
   ]
  },
  {
   "cell_type": "code",
   "execution_count": 86,
   "metadata": {},
   "outputs": [
    {
     "data": {
      "text/plain": [
       "array([[ 0.57938421,  0.60170639,  0.06935501,  0.13420263],\n",
       "       [ 0.66530507,  0.64317645,  0.66317905,  0.41235047],\n",
       "       [ 0.11879228,  0.31685375,  0.89978199,  0.64294286],\n",
       "       [ 0.22216312,  0.42927908,  0.99867772,  0.46787166],\n",
       "       [ 0.24239774,  0.44579711,  0.71981411,  0.50559849],\n",
       "       [ 0.95295006,  0.57364581,  0.66671684,  0.81386121],\n",
       "       [ 0.25185405,  0.82731461,  0.42535251,  0.18767395],\n",
       "       [ 0.66709677,  0.61400767,  0.30137413,  0.01555492],\n",
       "       [ 0.0607609 ,  0.33254449,  0.62142502,  0.34611271],\n",
       "       [ 0.99626174,  0.91963277,  0.68531414,  0.31234941],\n",
       "       [ 0.74698612,  0.98856139,  0.0614084 ,  0.7050921 ],\n",
       "       [ 0.47945106,  0.40135171,  0.53459446,  0.39874086],\n",
       "       [ 0.47736675,  0.52962054,  0.89193794,  0.5853844 ],\n",
       "       [ 0.81479179,  0.89021801,  0.80141441,  0.43593762],\n",
       "       [ 0.04611878,  0.57711204,  0.05266   ,  0.42352999],\n",
       "       [ 0.25935099,  0.79399406,  0.78948523,  0.13399858],\n",
       "       [ 0.03756917,  0.64902113,  0.25775501,  0.59600337],\n",
       "       [ 0.40859117,  0.33452548,  0.91230893,  0.18311265],\n",
       "       [ 0.67423684,  0.57073331,  0.70434759,  0.5861296 ],\n",
       "       [ 0.00751209,  0.79206962,  0.85596063,  0.45273286]])"
      ]
     },
     "execution_count": 86,
     "metadata": {},
     "output_type": "execute_result"
    }
   ],
   "source": [
    "# To represent data using a histogram\n",
    "x = np.random.random_sample((20, 4))\n",
    "x"
   ]
  },
  {
   "cell_type": "code",
   "execution_count": 87,
   "metadata": {},
   "outputs": [
    {
     "data": {
      "image/png": "[encoded data removed]",
      "text/plain": [
       "<matplotlib.figure.Figure at 0x1e4046cc7b8>"
      ]
     },
     "metadata": {
      "needs_background": "light"
     },
     "output_type": "display_data"
    }
   ],
   "source": [
    "plt.hist(x)\n",
    "plt.show()"
   ]
  },
  {
   "cell_type": "markdown",
   "metadata": {},
   "source": [
    "To use the random_sample function across a larger range of numbers (rather than between 0.0 and 1.0), the following code can be used: \n",
    "\n",
    "   *(b - a) * random_sample() + a*\n"
   ]
  },
  {
   "cell_type": "code",
   "execution_count": 92,
   "metadata": {},
   "outputs": [
    {
     "data": {
      "text/plain": [
       "array([ 1.82474478,  5.77928932,  2.4948899 ,  5.96974688,  3.79561803,\n",
       "        3.37246151,  4.46997139,  0.53925598,  4.97497478,  0.27019429])"
      ]
     },
     "execution_count": 92,
     "metadata": {},
     "output_type": "execute_result"
    }
   ],
   "source": [
    "#To obtain an array of random numbers (uniformly distributed) between 0 and 6\n",
    "x = -6 * np.random.random_sample(10) +6\n",
    "x"
   ]
  },
  {
   "cell_type": "markdown",
   "metadata": {},
   "source": [
    "### numpy.random.random()"
   ]
  },
  {
   "cell_type": "code",
   "execution_count": 14,
   "metadata": {
    "scrolled": true
   },
   "outputs": [
    {
     "data": {
      "text/plain": [
       "array([  1.59790056e-01,   3.11746124e-01,   4.67460595e-02,\n",
       "         4.05865930e-01,   1.50018313e-01,   9.38047243e-01,\n",
       "         8.25580545e-01,   2.08433828e-01,   7.66788874e-01,\n",
       "         4.31363395e-01,   8.86489031e-01,   5.21196981e-01,\n",
       "         9.92959753e-04,   2.04135725e-01,   3.98822676e-01,\n",
       "         4.42703354e-01,   6.23493099e-01,   3.11848794e-01,\n",
       "         3.50215495e-01,   5.50829891e-01,   4.07917261e-01,\n",
       "         6.78141880e-01,   7.65256425e-01,   6.04067530e-01,\n",
       "         6.35689639e-01,   4.87821707e-01,   9.66934276e-01,\n",
       "         3.69315399e-01,   3.87396836e-01,   9.17405458e-01,\n",
       "         4.08327154e-01,   9.25301834e-01,   9.21809650e-01,\n",
       "         8.03702767e-01,   1.45527921e-01,   2.13485367e-01,\n",
       "         2.11272575e-01,   3.16710762e-01,   8.71681671e-02,\n",
       "         8.44028935e-01,   7.08901929e-01,   8.74760841e-01,\n",
       "         2.38146322e-01,   6.38402773e-01,   9.15401426e-02,\n",
       "         6.06592130e-01,   5.72771975e-01,   1.07652175e-01,\n",
       "         4.15648655e-01,   2.26866940e-01,   7.07954019e-01,\n",
       "         3.97247716e-01,   7.11994610e-01,   2.83399758e-01,\n",
       "         9.84408569e-01,   4.14943611e-01,   6.85562561e-01,\n",
       "         5.97514696e-02,   2.13801709e-01,   1.05403223e-01,\n",
       "         3.63150454e-01,   2.57501024e-01,   5.01794882e-01,\n",
       "         9.63835153e-01,   2.82767551e-01,   7.39304889e-01,\n",
       "         7.55728877e-01,   9.97458515e-01,   5.32122744e-01,\n",
       "         5.15810823e-01,   2.95035541e-01,   1.77590465e-01,\n",
       "         7.29098026e-01,   1.16473834e-01,   5.65198465e-01,\n",
       "         4.97489736e-01,   4.44173911e-02,   7.27382506e-01,\n",
       "         7.91770136e-01,   5.85073906e-01,   6.68478838e-01,\n",
       "         4.96296910e-01,   8.96806912e-01,   9.94581509e-01,\n",
       "         4.70204237e-01,   8.27428981e-01,   4.06628998e-01,\n",
       "         9.54387423e-02,   4.41695711e-01,   9.85509774e-02,\n",
       "         5.27404127e-01,   3.33252757e-01,   4.67275678e-01,\n",
       "         6.35708388e-01,   8.44410266e-01,   7.17185963e-01,\n",
       "         5.17070814e-01,   2.27061246e-01,   2.59460509e-01,\n",
       "         5.73135125e-02])"
      ]
     },
     "execution_count": 14,
     "metadata": {},
     "output_type": "execute_result"
    }
   ],
   "source": [
    "x = np.random.random(100)\n",
    "x"
   ]
  },
  {
   "cell_type": "code",
   "execution_count": 15,
   "metadata": {},
   "outputs": [
    {
     "data": {
      "image/png": "[encoded data removed]",
      "text/plain": [
       "<matplotlib.figure.Figure at 0x1e4043caef0>"
      ]
     },
     "metadata": {
      "needs_background": "light"
     },
     "output_type": "display_data"
    }
   ],
   "source": [
    "plt.hist(x)\n",
    "plt.show()"
   ]
  },
  {
   "cell_type": "markdown",
   "metadata": {},
   "source": [
    "### numpy.random.ranf()"
   ]
  },
  {
   "cell_type": "code",
   "execution_count": 16,
   "metadata": {},
   "outputs": [
    {
     "data": {
      "text/plain": [
       "array([ 0.63562247,  0.61471165,  0.04244299,  0.20287495,  0.08281249,\n",
       "        0.88743257,  0.61849491,  0.34276617,  0.76379929,  0.84899404,\n",
       "        0.92158414,  0.81172039,  0.52836069,  0.31804357,  0.59319694,\n",
       "        0.51368397,  0.75446073,  0.09362235,  0.01220532,  0.20563309,\n",
       "        0.80268947,  0.71290944,  0.06311251,  0.57333108,  0.43012858,\n",
       "        0.45600502,  0.91974398,  0.10334735,  0.40694186,  0.48339017,\n",
       "        0.82288344,  0.1350145 ,  0.96770419,  0.65775329,  0.09223117,\n",
       "        0.75898812,  0.41242249,  0.94229476,  0.64848366,  0.18423107,\n",
       "        0.57843568,  0.48101313,  0.30005177,  0.5826386 ,  0.66949076,\n",
       "        0.53500498,  0.25646362,  0.39582279,  0.04091522,  0.86311751,\n",
       "        0.6773054 ,  0.65067943,  0.34902106,  0.32581553,  0.68612706,\n",
       "        0.28689261,  0.09592054,  0.62309408,  0.49157665,  0.6392296 ,\n",
       "        0.13509769,  0.34112139,  0.9944359 ,  0.8934864 ,  0.77207086,\n",
       "        0.32127512,  0.84203322,  0.35569915,  0.31758711,  0.59316547,\n",
       "        0.9109196 ,  0.35810209,  0.68976042,  0.17452949,  0.72081386,\n",
       "        0.04660112,  0.43355575,  0.23124136,  0.82839331,  0.85379776,\n",
       "        0.21763448,  0.44106763,  0.91631483,  0.9778146 ,  0.71114477,\n",
       "        0.53275021,  0.22890687,  0.10440912,  0.6958205 ,  0.72973362,\n",
       "        0.14422963,  0.22726024,  0.33820925,  0.28301468,  0.32741209,\n",
       "        0.75255151,  0.34963864,  0.58494835,  0.12808752,  0.30241313])"
      ]
     },
     "execution_count": 16,
     "metadata": {},
     "output_type": "execute_result"
    }
   ],
   "source": [
    "x = np.random.ranf(100)\n",
    "x"
   ]
  },
  {
   "cell_type": "code",
   "execution_count": 17,
   "metadata": {},
   "outputs": [
    {
     "data": {
      "image/png": "[encoded data removed]",
      "text/plain": [
       "<matplotlib.figure.Figure at 0x1e4048510b8>"
      ]
     },
     "metadata": {
      "needs_background": "light"
     },
     "output_type": "display_data"
    }
   ],
   "source": [
    "plt.hist(x)\n",
    "plt.show()"
   ]
  },
  {
   "cell_type": "markdown",
   "metadata": {},
   "source": [
    "### numpy.random.sample()"
   ]
  },
  {
   "cell_type": "code",
   "execution_count": 18,
   "metadata": {},
   "outputs": [
    {
     "data": {
      "text/plain": [
       "array([ 0.06037398,  0.69107223,  0.34282149,  0.45089372,  0.3950638 ,\n",
       "        0.70969417,  0.8079528 ,  0.19638066,  0.64335875,  0.68037945,\n",
       "        0.53879017,  0.42702172,  0.10988672,  0.20513643,  0.47245084,\n",
       "        0.09091197,  0.36988699,  0.15562701,  0.42416306,  0.93766466,\n",
       "        0.96646294,  0.69283774,  0.17796949,  0.06993473,  0.3742308 ,\n",
       "        0.89499462,  0.52830076,  0.72844246,  0.35987076,  0.84602288,\n",
       "        0.91116517,  0.36644121,  0.55647352,  0.19732502,  0.312414  ,\n",
       "        0.61079599,  0.56557009,  0.71067598,  0.04846669,  0.01901136,\n",
       "        0.35934794,  0.96814996,  0.37594492,  0.19061744,  0.33149674,\n",
       "        0.28401374,  0.43750409,  0.44244907,  0.60238999,  0.20995373,\n",
       "        0.46560116,  0.5479811 ,  0.45510764,  0.11684821,  0.82028615,\n",
       "        0.36896556,  0.22172808,  0.08288808,  0.70254466,  0.61256446,\n",
       "        0.93787336,  0.85314563,  0.34217542,  0.82567735,  0.02180889,\n",
       "        0.04761161,  0.67606425,  0.26838081,  0.41671452,  0.15948862,\n",
       "        0.36502387,  0.38907094,  0.45060494,  0.08065003,  0.57529482,\n",
       "        0.55324352,  0.28023182,  0.09260713,  0.3264268 ,  0.19903732,\n",
       "        0.65069142,  0.83346624,  0.23531534,  0.9342331 ,  0.65606187,\n",
       "        0.59662828,  0.79148087,  0.5986013 ,  0.37632904,  0.15358312,\n",
       "        0.93576368,  0.99874018,  0.10729023,  0.80029283,  0.68697998,\n",
       "        0.40785071,  0.34170545,  0.81320626,  0.63731317,  0.69655356])"
      ]
     },
     "execution_count": 18,
     "metadata": {},
     "output_type": "execute_result"
    }
   ],
   "source": [
    "x = np.random.sample(100)\n",
    "x"
   ]
  },
  {
   "cell_type": "code",
   "execution_count": 19,
   "metadata": {},
   "outputs": [
    {
     "data": {
      "image/png": "[encoded data removed]",
      "text/plain": [
       "<matplotlib.figure.Figure at 0x1e4044cbc50>"
      ]
     },
     "metadata": {
      "needs_background": "light"
     },
     "output_type": "display_data"
    }
   ],
   "source": [
    "plt.hist(x)\n",
    "plt.show()"
   ]
  },
  {
   "cell_type": "markdown",
   "metadata": {},
   "source": [
    "### numpy.random.choice()"
   ]
  },
  {
   "cell_type": "code",
   "execution_count": 20,
   "metadata": {},
   "outputs": [
    {
     "data": {
      "text/plain": [
       "5"
      ]
     },
     "execution_count": 20,
     "metadata": {},
     "output_type": "execute_result"
    }
   ],
   "source": [
    "x = np.random.choice(100)\n",
    "x"
   ]
  },
  {
   "cell_type": "code",
   "execution_count": 21,
   "metadata": {},
   "outputs": [
    {
     "data": {
      "image/png": "[encoded data removed]",
      "text/plain": [
       "<matplotlib.figure.Figure at 0x1e4068d8c50>"
      ]
     },
     "metadata": {
      "needs_background": "light"
     },
     "output_type": "display_data"
    }
   ],
   "source": [
    "plt.hist(x)\n",
    "plt.show()"
   ]
  },
  {
   "cell_type": "markdown",
   "metadata": {},
   "source": [
    "### numpy.random.bytes()"
   ]
  },
  {
   "cell_type": "code",
   "execution_count": 33,
   "metadata": {},
   "outputs": [
    {
     "data": {
      "text/plain": [
       "b'\\xb5!\\x9fj\\xefF\\xcf\\xde\\x10T'"
      ]
     },
     "execution_count": 33,
     "metadata": {},
     "output_type": "execute_result"
    }
   ],
   "source": [
    "x = np.random.bytes(10)\n",
    "x"
   ]
  },
  {
   "cell_type": "code",
   "execution_count": null,
   "metadata": {},
   "outputs": [],
   "source": []
  },
  {
   "cell_type": "code",
   "execution_count": null,
   "metadata": {},
   "outputs": [],
   "source": []
  },
  {
   "cell_type": "code",
   "execution_count": null,
   "metadata": {},
   "outputs": [],
   "source": []
  },
  {
   "cell_type": "code",
   "execution_count": null,
   "metadata": {},
   "outputs": [],
   "source": []
  },
  {
   "cell_type": "markdown",
   "metadata": {},
   "source": [
    "### Permutations functions in numpy.random"
   ]
  },
  {
   "cell_type": "markdown",
   "metadata": {},
   "source": [
    "The numpy.random.shuffle function shuffles a sequence of set numbers. It changes the sequence or order of numbers while the numbers remain the same. Shuffle permanently changes the array in place. "
   ]
  },
  {
   "cell_type": "code",
   "execution_count": 23,
   "metadata": {},
   "outputs": [],
   "source": [
    "import numpy as np"
   ]
  },
  {
   "cell_type": "code",
   "execution_count": 24,
   "metadata": {},
   "outputs": [
    {
     "name": "stdout",
     "output_type": "stream",
     "text": [
      "None [0 8 1 2 7 9 4 3 5 6]\n"
     ]
    }
   ],
   "source": [
    "# I have created an ordered array of numbers 0-9. \n",
    "arr = np.arange(10)\n",
    "shuffled = np.random.shuffle(arr)\n",
    "print (shuffled, arr)"
   ]
  },
  {
   "cell_type": "markdown",
   "metadata": {},
   "source": [
    "The numpy.random.permutation function works similarly but returns a new array, leaving the original array untouched, as demonstrated below."
   ]
  },
  {
   "cell_type": "code",
   "execution_count": 25,
   "metadata": {},
   "outputs": [
    {
     "name": "stdout",
     "output_type": "stream",
     "text": [
      "[8 9 4 6 0 5 3 2 7 1] [0 1 2 3 4 5 6 7 8 9]\n"
     ]
    }
   ],
   "source": [
    "arr = np.arange(10)\n",
    "shuffled = np.random.permutation(arr)\n",
    "print(shuffled, arr)"
   ]
  },
  {
   "cell_type": "code",
   "execution_count": null,
   "metadata": {},
   "outputs": [],
   "source": []
  },
  {
   "cell_type": "code",
   "execution_count": null,
   "metadata": {},
   "outputs": [],
   "source": []
  },
  {
   "cell_type": "code",
   "execution_count": null,
   "metadata": {},
   "outputs": [],
   "source": []
  },
  {
   "cell_type": "code",
   "execution_count": null,
   "metadata": {},
   "outputs": [],
   "source": []
  },
  {
   "cell_type": "code",
   "execution_count": null,
   "metadata": {},
   "outputs": [],
   "source": []
  },
  {
   "cell_type": "code",
   "execution_count": null,
   "metadata": {},
   "outputs": [],
   "source": []
  },
  {
   "cell_type": "markdown",
   "metadata": {},
   "source": [
    "The numpy.random.permutations function "
   ]
  },
  {
   "cell_type": "code",
   "execution_count": null,
   "metadata": {},
   "outputs": [],
   "source": []
  },
  {
   "cell_type": "code",
   "execution_count": null,
   "metadata": {},
   "outputs": [],
   "source": []
  },
  {
   "cell_type": "markdown",
   "metadata": {
    "collapsed": true
   },
   "source": [
    "### Explain the use and purpose of at least five \"Distributions\" functions"
   ]
  },
  {
   "cell_type": "markdown",
   "metadata": {},
   "source": [
    "### Explain the use of seeds in generating pseudorandom numbers"
   ]
  },
  {
   "cell_type": "code",
   "execution_count": null,
   "metadata": {},
   "outputs": [],
   "source": []
  },
  {
   "cell_type": "code",
   "execution_count": null,
   "metadata": {},
   "outputs": [],
   "source": []
  },
  {
   "cell_type": "code",
   "execution_count": null,
   "metadata": {},
   "outputs": [],
   "source": []
  },
  {
   "cell_type": "code",
   "execution_count": 26,
   "metadata": {},
   "outputs": [],
   "source": [
    "x = np.random.uniform(0, 1000,10000)"
   ]
  },
  {
   "cell_type": "code",
   "execution_count": 27,
   "metadata": {},
   "outputs": [
    {
     "data": {
      "image/png": "[encoded data removed]",
      "text/plain": [
       "<matplotlib.figure.Figure at 0x1e406948b38>"
      ]
     },
     "metadata": {
      "needs_background": "light"
     },
     "output_type": "display_data"
    }
   ],
   "source": [
    "plt.hist(x)\n",
    "plt.show()"
   ]
  },
  {
   "cell_type": "code",
   "execution_count": 28,
   "metadata": {},
   "outputs": [],
   "source": [
    "x = np.random.normal(10, 100, 10000)"
   ]
  },
  {
   "cell_type": "code",
   "execution_count": 29,
   "metadata": {},
   "outputs": [
    {
     "data": {
      "image/png": "[encoded data removed]",
      "text/plain": [
       "<matplotlib.figure.Figure at 0x1e40698f5c0>"
      ]
     },
     "metadata": {
      "needs_background": "light"
     },
     "output_type": "display_data"
    }
   ],
   "source": [
    "plt.hist(x)\n",
    "plt.show()"
   ]
  },
  {
   "cell_type": "code",
   "execution_count": null,
   "metadata": {},
   "outputs": [],
   "source": []
  },
  {
   "cell_type": "code",
   "execution_count": null,
   "metadata": {},
   "outputs": [],
   "source": []
  },
  {
   "cell_type": "code",
   "execution_count": null,
   "metadata": {},
   "outputs": [],
   "source": []
  },
  {
   "cell_type": "code",
   "execution_count": null,
   "metadata": {},
   "outputs": [],
   "source": []
  },
  {
   "cell_type": "code",
   "execution_count": null,
   "metadata": {},
   "outputs": [],
   "source": []
  },
  {
   "cell_type": "code",
   "execution_count": null,
   "metadata": {},
   "outputs": [],
   "source": []
  },
  {
   "cell_type": "code",
   "execution_count": null,
   "metadata": {},
   "outputs": [],
   "source": []
  },
  {
   "cell_type": "code",
   "execution_count": null,
   "metadata": {},
   "outputs": [],
   "source": []
  },
  {
   "cell_type": "code",
   "execution_count": null,
   "metadata": {},
   "outputs": [],
   "source": []
  },
  {
   "cell_type": "code",
   "execution_count": null,
   "metadata": {},
   "outputs": [],
   "source": []
  },
  {
   "cell_type": "code",
   "execution_count": null,
   "metadata": {},
   "outputs": [],
   "source": []
  },
  {
   "cell_type": "markdown",
   "metadata": {},
   "source": [
    "## References "
   ]
  },
  {
   "cell_type": "markdown",
   "metadata": {},
   "source": [
    "[1] www.numpy.org/ date: 03/11/2018 \n",
    "\n",
    "[2] https://www.datacamp.com/community/tutorials/python-numpy-tutorial date: 03/11/2018 \n",
    "\n",
    "[3] https://docs.scipy.org/doc/numpy/user/basics.creation.html date: 03/11/2018 \n",
    "\n",
    "[4] https://www.investopedia.com/terms/u/uniform-distribution.asp date: 04/11/2018\n",
    "\n",
    "[5] https://www.statisticshowto.datasciencecentral.com/probability-and-statistics/normal-distributions/ date: 04/11/2018\n",
    "\n",
    "[6] https://www.chegg.com/homework-help/definitions/discrete-uniform-31 date: 04/11/2018 \n",
    "\n",
    "[7] https://socratic.org/questions/what-is-the-difference-between-a-discrete-uniform-distribution-and-a-continuous- dated: 04/11/2018\n"
   ]
  },
  {
   "cell_type": "markdown",
   "metadata": {},
   "source": [
    "## Bibliography and Acknowledgements "
   ]
  },
  {
   "cell_type": "markdown",
   "metadata": {},
   "source": [
    "- https://docs.scipy.org/doc/numpy-1.15.1/user/whatisnumpy.html date: 20/10/2018\n",
    "- https://docs.scipy.org/doc/numpy-1.15.1/reference/routines.random.html date:27/10/2018\n",
    "- http://nbviewer.jupyter.org/gist/rossant/4645217 date: 03/11/2018\n",
    "- https://en.wikipedia.org/wiki/NumPy date: 03/11/2018\n",
    "- https://www.packtpub.com/mapt/book/big_data_and_business_intelligence/9781785285110/2/ch02lvl1sec16/numpy-random-numbers date: 03/11/2018\n",
    "- https://www.datacamp.com/community/tutorials/python-numpy-tutorial date: 03/11/2018 \n",
    "- http://mathworld.wolfram.com/DiscreteUniformDistribution.html date: 04/11/2018 \n",
    "- "
   ]
  },
  {
   "cell_type": "code",
   "execution_count": null,
   "metadata": {},
   "outputs": [],
   "source": []
  }
 ],
 "metadata": {
  "kernelspec": {
   "display_name": "Python 3",
   "language": "python",
   "name": "python3"
  },
  "language_info": {
   "codemirror_mode": {
    "name": "ipython",
    "version": 3
   },
   "file_extension": ".py",
   "mimetype": "text/x-python",
   "name": "python",
   "nbconvert_exporter": "python",
   "pygments_lexer": "ipython3",
   "version": "3.6.7"
  }
 },
 "nbformat": 4,
 "nbformat_minor": 2
}
