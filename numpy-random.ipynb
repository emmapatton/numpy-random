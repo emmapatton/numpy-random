{
 "cells": [
  {
   "cell_type": "markdown",
   "metadata": {},
   "source": [
    "# An Overview of the numpy.random Package"
   ]
  },
  {
   "cell_type": "markdown",
   "metadata": {},
   "source": [
    "## Purpose of the numpy.random Package"
   ]
  },
  {
   "cell_type": "markdown",
   "metadata": {},
   "source": [
    "NumPy is a Python library used for scientific and mathematical computing in the Python programming language [1]. It contains a number of tools that can be used to solve mathematical models of problems using a computer [2]. \n",
    "\n",
    "Numpy.random is a collection of special library functions within NumPy to generate random numbers. These functions can also be used to organise random numbers into arrays of different shapes and sizes [3]. \n",
    "\n",
    "\n",
    "Functions within the numpy.random library are organised into four main categories: \n",
    "\n",
    "- Simple random data\n",
    "- Permutations\n",
    "- Distributions\n",
    "- Random generator\n",
    "\n",
    "The full numpy.random documentation can be accessed [here.](https://docs.scipy.org/doc/numpy/reference/routines.random.html)"
   ]
  },
  {
   "cell_type": "markdown",
   "metadata": {},
   "source": [
    "## Simple random data functions in numpy.random"
   ]
  },
  {
   "cell_type": "markdown",
   "metadata": {},
   "source": [
    "There are 10 functions within the numpy.random \"Simple random data\" family of functions: \n",
    "\n",
    "- rand()\n",
    "- randn()\n",
    "- randint()\n",
    "- random_integers()\n",
    "- random_sample()\n",
    "- random()\n",
    "- ranf()\n",
    "- sample()\n",
    "- choice()\n",
    "- bytes()\n",
    "\n",
    "Each of these are discussed below.\n",
    "\n"
   ]
  },
  {
   "cell_type": "code",
   "execution_count": 1,
   "metadata": {},
   "outputs": [],
   "source": [
    "import numpy as np\n",
    "import matplotlib.pyplot as plt"
   ]
  },
  {
   "cell_type": "markdown",
   "metadata": {},
   "source": [
    "### numpy.random.rand()\n",
    "\n",
    "The rand function creates a random array of positive floating point numbers with a continuous uniform distribution from 0, up to but not including 1. An argument can be passed in, telling the function how many numbers to return. If no argument is provided, the function will return a single float. \n",
    "\n",
    "In other words, this function creates random numbers that are uniformly distributed between 0 and 1, but not including the number 1.Uniform distribution is where each variable, or number in this case, has the same (uniform) probability [4]."
   ]
  },
  {
   "cell_type": "code",
   "execution_count": 2,
   "metadata": {
    "scrolled": true
   },
   "outputs": [
    {
     "data": {
      "text/plain": [
       "array([ 0.22843092,  0.71934654,  0.18570518, ...,  0.69208423,\n",
       "        0.34937945,  0.36886082])"
      ]
     },
     "execution_count": 2,
     "metadata": {},
     "output_type": "execute_result"
    }
   ],
   "source": [
    "# To obtain an array of 100 numbers \n",
    "x = np.random.rand(10000)\n",
    "x"
   ]
  },
  {
   "cell_type": "code",
   "execution_count": 3,
   "metadata": {},
   "outputs": [
    {
     "data": {
      "image/png": "[encoded data removed]",
      "text/plain": [
       "<matplotlib.figure.Figure at 0x27d2afe31d0>"
      ]
     },
     "metadata": {
      "needs_background": "light"
     },
     "output_type": "display_data"
    }
   ],
   "source": [
    "%matplotlib inline\n",
    "\n",
    "# To plot these numbers on a histogram\n",
    "plt.hist(x)\n",
    "plt.show()"
   ]
  },
  {
   "cell_type": "markdown",
   "metadata": {},
   "source": [
    "Further arguments can be passed to request that more than one array of random data is returned, for example:"
   ]
  },
  {
   "cell_type": "code",
   "execution_count": 4,
   "metadata": {},
   "outputs": [
    {
     "data": {
      "text/plain": [
       "array([[[ 0.14066312,  0.61623682,  0.86565352,  0.48552379],\n",
       "        [ 0.69866915,  0.27659234,  0.58444366,  0.40076514]],\n",
       "\n",
       "       [[ 0.58871819,  0.06273371,  0.48331155,  0.28102619],\n",
       "        [ 0.66922111,  0.01059331,  0.40631499,  0.60033742]],\n",
       "\n",
       "       [[ 0.25218288,  0.43009341,  0.50478996,  0.73539107],\n",
       "        [ 0.23779799,  0.12451551,  0.41138464,  0.16647477]],\n",
       "\n",
       "       [[ 0.22815164,  0.70229252,  0.84329739,  0.48430157],\n",
       "        [ 0.17179218,  0.19612493,  0.99413785,  0.65457768]],\n",
       "\n",
       "       [[ 0.87905841,  0.36662736,  0.45897501,  0.29836313],\n",
       "        [ 0.27220237,  0.08474892,  0.74706006,  0.0870557 ]],\n",
       "\n",
       "       [[ 0.13419612,  0.00610542,  0.36133065,  0.74391917],\n",
       "        [ 0.34930683,  0.3424158 ,  0.38700451,  0.15632677]],\n",
       "\n",
       "       [[ 0.37869376,  0.13012713,  0.53253837,  0.42230112],\n",
       "        [ 0.28289562,  0.80721549,  0.87524526,  0.02657241]],\n",
       "\n",
       "       [[ 0.41604249,  0.52888501,  0.53154581,  0.99530479],\n",
       "        [ 0.73935824,  0.18353264,  0.51063414,  0.14995783]],\n",
       "\n",
       "       [[ 0.86805276,  0.63667005,  0.73539711,  0.4261643 ],\n",
       "        [ 0.16690522,  0.7055838 ,  0.70536326,  0.34487267]],\n",
       "\n",
       "       [[ 0.5581987 ,  0.88177237,  0.23503654,  0.83630452],\n",
       "        [ 0.5117547 ,  0.52920381,  0.78129016,  0.8769851 ]]])"
      ]
     },
     "execution_count": 4,
     "metadata": {},
     "output_type": "execute_result"
    }
   ],
   "source": [
    "# 10 2x4 arrays of random numbers\n",
    "x = np.random.rand(10, 2, 4)\n",
    "x"
   ]
  },
  {
   "cell_type": "code",
   "execution_count": 5,
   "metadata": {},
   "outputs": [
    {
     "data": {
      "text/plain": [
       "array([[ 0.90310696,  0.25383899],\n",
       "       [ 0.59595029,  0.98036363],\n",
       "       [ 0.02452788,  0.9223095 ],\n",
       "       ..., \n",
       "       [ 0.1061839 ,  0.88178616],\n",
       "       [ 0.9731711 ,  0.89310186],\n",
       "       [ 0.70114362,  0.49179287]])"
      ]
     },
     "execution_count": 5,
     "metadata": {},
     "output_type": "execute_result"
    }
   ],
   "source": [
    "x = np.random.rand(10000, 2)\n",
    "x"
   ]
  },
  {
   "cell_type": "code",
   "execution_count": 6,
   "metadata": {},
   "outputs": [
    {
     "data": {
      "image/png": "[encoded data removed]",
      "text/plain": [
       "<matplotlib.figure.Figure at 0x27d292fbeb8>"
      ]
     },
     "metadata": {
      "needs_background": "light"
     },
     "output_type": "display_data"
    }
   ],
   "source": [
    "plt.hist(x)\n",
    "plt.show()"
   ]
  },
  {
   "cell_type": "markdown",
   "metadata": {},
   "source": [
    "### numpy.random.randn"
   ]
  },
  {
   "cell_type": "markdown",
   "metadata": {},
   "source": [
    "The randn function also creates a random array of floating point numbers however it differs from the rand function above in that floats can be positive or negative and the distribution is normal (Gaussian). \n",
    "\n",
    "Normal distribution [5] can be visually represented by a bell curve and is distribution that occurs naturally when there is no bias. Most of the data falls within one point or standard deviation on either side of the mean. Examples of normal distribution can be seen throughout the general population, for example in a collection of IQ test scores, blood pressure results, heights, weights etc. "
   ]
  },
  {
   "cell_type": "code",
   "execution_count": 7,
   "metadata": {
    "scrolled": true
   },
   "outputs": [
    {
     "data": {
      "text/plain": [
       "array([-0.58540788,  0.04388222, -0.43308818, ..., -0.14962593,\n",
       "       -0.47874015,  0.22335752])"
      ]
     },
     "execution_count": 7,
     "metadata": {},
     "output_type": "execute_result"
    }
   ],
   "source": [
    "x = np.random.randn(10000)\n",
    "x"
   ]
  },
  {
   "cell_type": "code",
   "execution_count": 8,
   "metadata": {},
   "outputs": [
    {
     "data": {
      "image/png": "[encoded data removed]",
      "text/plain": [
       "<matplotlib.figure.Figure at 0x27d2b0db8d0>"
      ]
     },
     "metadata": {
      "needs_background": "light"
     },
     "output_type": "display_data"
    }
   ],
   "source": [
    "plt.hist(x)\n",
    "plt.show()"
   ]
  },
  {
   "cell_type": "markdown",
   "metadata": {},
   "source": [
    "This function can also provide more than one set of data, for example:"
   ]
  },
  {
   "cell_type": "code",
   "execution_count": 9,
   "metadata": {},
   "outputs": [
    {
     "data": {
      "text/plain": [
       "array([[-1.25813037, -0.18407983,  0.47444407],\n",
       "       [ 0.85395419,  2.22269903,  0.95076707],\n",
       "       [-0.00943567, -1.05975829, -0.59506841],\n",
       "       ..., \n",
       "       [-0.97407484, -0.58004249,  2.17879441],\n",
       "       [-1.0452723 , -0.72765653, -0.81435376],\n",
       "       [-0.15109166, -0.35286306,  0.53313922]])"
      ]
     },
     "execution_count": 9,
     "metadata": {},
     "output_type": "execute_result"
    }
   ],
   "source": [
    "x = np.random.randn(10000, 3)\n",
    "x"
   ]
  },
  {
   "cell_type": "code",
   "execution_count": 10,
   "metadata": {},
   "outputs": [
    {
     "data": {
      "image/png": "[encoded data removed]",
      "text/plain": [
       "<matplotlib.figure.Figure at 0x27d2b1cac88>"
      ]
     },
     "metadata": {
      "needs_background": "light"
     },
     "output_type": "display_data"
    }
   ],
   "source": [
    "plt.hist(x)\n",
    "plt.show()"
   ]
  },
  {
   "cell_type": "markdown",
   "metadata": {},
   "source": [
    "### numpy.random.randint()\n",
    "\n",
    "The randint function returns random integers (whole numbers) that have discrete uniform distribution. Discrete uniform distribution is also known as equally likely outcomes distribution [6]. This is where the probability of evenly spaced values are equally likely to occur, for example when rolling a 6 sided dice, there are 6 evenly likely possibilties of rolling a certain number \n",
    "\n",
    "In probability, discrete uniform distribution differs from continuous uniform distribution in that disrcrete uniform distribution refers to whole numbers and continuous uniform distribution refers to numbers containing a decimal point (floats) [7].  \n",
    "\n",
    "The randint function requires parameters for the lowest and highest numbers you would like it to return. Lowest and highest numbers can be et as postive or negative. The lowest number is included in the output however the highest number is excluded. For example:\n",
    "\n",
    "*np.random.randint(1, 10)*\n",
    "\n",
    "will return a single random number between 1 and 9 inclusive. The size of the sample required can also be set, as outlined below. "
   ]
  },
  {
   "cell_type": "code",
   "execution_count": 11,
   "metadata": {},
   "outputs": [
    {
     "data": {
      "text/plain": [
       "array([17, -5,  8, ...,  9,  5, 12])"
      ]
     },
     "execution_count": 11,
     "metadata": {},
     "output_type": "execute_result"
    }
   ],
   "source": [
    "x = np.random.randint(-5, 20, size=10000)\n",
    "x"
   ]
  },
  {
   "cell_type": "code",
   "execution_count": 12,
   "metadata": {},
   "outputs": [
    {
     "data": {
      "image/png": "[encoded data removed]",
      "text/plain": [
       "<matplotlib.figure.Figure at 0x27d2b288be0>"
      ]
     },
     "metadata": {
      "needs_background": "light"
     },
     "output_type": "display_data"
    }
   ],
   "source": [
    "plt.hist(x)\n",
    "plt.show()"
   ]
  },
  {
   "cell_type": "markdown",
   "metadata": {},
   "source": [
    "### numpy.random.random_integers()\n",
    "\n",
    "This function has been deprecated since version 1.11.0.\n"
   ]
  },
  {
   "cell_type": "markdown",
   "metadata": {},
   "source": [
    "### numpy.random.random_sample()\n",
    "\n",
    "The random_sample() function returns floats between 0.0 and 1.0, not including 1.0 using continuous uniform distribution. "
   ]
  },
  {
   "cell_type": "code",
   "execution_count": 13,
   "metadata": {},
   "outputs": [
    {
     "data": {
      "text/plain": [
       "array([ 0.90173189,  0.13060433,  0.47798113, ...,  0.29098923,\n",
       "        0.66934166,  0.33729395])"
      ]
     },
     "execution_count": 13,
     "metadata": {},
     "output_type": "execute_result"
    }
   ],
   "source": [
    "x = np.random.random_sample(10000)\n",
    "x"
   ]
  },
  {
   "cell_type": "code",
   "execution_count": 14,
   "metadata": {},
   "outputs": [
    {
     "data": {
      "image/png": "[encoded data removed]",
      "text/plain": [
       "<matplotlib.figure.Figure at 0x27d2b492748>"
      ]
     },
     "metadata": {
      "needs_background": "light"
     },
     "output_type": "display_data"
    }
   ],
   "source": [
    "plt.hist(x)\n",
    "plt.show()"
   ]
  },
  {
   "cell_type": "markdown",
   "metadata": {},
   "source": [
    "Similarly to the previous functions discussed, the random_sample function can also output more than one set of data:"
   ]
  },
  {
   "cell_type": "code",
   "execution_count": 15,
   "metadata": {
    "scrolled": true
   },
   "outputs": [
    {
     "data": {
      "text/plain": [
       "array([[[ 0.49872055,  0.20027994,  0.25475678,  0.44579763,  0.23661416],\n",
       "        [ 0.68716151,  0.54442352,  0.4623901 ,  0.28220919,  0.27512966],\n",
       "        [ 0.44639079,  0.60646747,  0.35592272,  0.47225667,  0.11351079],\n",
       "        [ 0.57173109,  0.68278388,  0.50253936,  0.86932973,  0.29491221]],\n",
       "\n",
       "       [[ 0.96613492,  0.71152085,  0.85300922,  0.99725437,  0.56411121],\n",
       "        [ 0.98680642,  0.35445466,  0.75970213,  0.15264549,  0.77292982],\n",
       "        [ 0.03077048,  0.33886239,  0.29942883,  0.30325735,  0.44721604],\n",
       "        [ 0.4390611 ,  0.5496307 ,  0.97148997,  0.08925488,  0.88017224]],\n",
       "\n",
       "       [[ 0.32434789,  0.86846126,  0.0271652 ,  0.49120732,  0.65633943],\n",
       "        [ 0.0124255 ,  0.13225726,  0.2146545 ,  0.48675937,  0.60300775],\n",
       "        [ 0.05796289,  0.44513777,  0.50576048,  0.14069962,  0.71459967],\n",
       "        [ 0.63134062,  0.31894491,  0.67061689,  0.49661242,  0.47307022]],\n",
       "\n",
       "       [[ 0.13581811,  0.55717874,  0.8773481 ,  0.20774056,  0.84321551],\n",
       "        [ 0.17286455,  0.40258799,  0.02980336,  0.00366004,  0.0848754 ],\n",
       "        [ 0.73247129,  0.5757727 ,  0.31965929,  0.77637968,  0.36621963],\n",
       "        [ 0.43975199,  0.5611171 ,  0.32484322,  0.86194815,  0.99859717]],\n",
       "\n",
       "       [[ 0.5688917 ,  0.14312069,  0.67822946,  0.5345222 ,  0.80822258],\n",
       "        [ 0.64370281,  0.43428786,  0.92217983,  0.23491582,  0.70132781],\n",
       "        [ 0.62537082,  0.99166678,  0.52105189,  0.12133571,  0.88048646],\n",
       "        [ 0.3522897 ,  0.09691971,  0.02813533,  0.05499902,  0.19902601]],\n",
       "\n",
       "       [[ 0.57489656,  0.75248322,  0.97277997,  0.6483647 ,  0.53824704],\n",
       "        [ 0.94054129,  0.50162583,  0.81276741,  0.6593401 ,  0.95526868],\n",
       "        [ 0.9085079 ,  0.24951672,  0.54827407,  0.6026693 ,  0.0987561 ],\n",
       "        [ 0.54005606,  0.01950765,  0.93895472,  0.63783915,  0.18620815]],\n",
       "\n",
       "       [[ 0.69990144,  0.76901654,  0.50861038,  0.6009837 ,  0.5749651 ],\n",
       "        [ 0.84460885,  0.16877317,  0.63224425,  0.76096782,  0.1269381 ],\n",
       "        [ 0.16779969,  0.4766215 ,  0.2870866 ,  0.60479481,  0.32096059],\n",
       "        [ 0.17897426,  0.47925211,  0.21921705,  0.22123795,  0.54269054]],\n",
       "\n",
       "       [[ 0.60774801,  0.46076694,  0.42126175,  0.25657013,  0.65154848],\n",
       "        [ 0.93809188,  0.71671102,  0.48670199,  0.08295877,  0.2003614 ],\n",
       "        [ 0.93967387,  0.76719278,  0.72869459,  0.79371752,  0.39639899],\n",
       "        [ 0.93843714,  0.5776769 ,  0.79014337,  0.59328415,  0.97159515]],\n",
       "\n",
       "       [[ 0.10914025,  0.56370954,  0.47680215,  0.88342503,  0.06464466],\n",
       "        [ 0.41587619,  0.91076114,  0.85543041,  0.10496663,  0.41307325],\n",
       "        [ 0.83592635,  0.90598837,  0.60847165,  0.02849375,  0.01666034],\n",
       "        [ 0.73221052,  0.06890031,  0.68951011,  0.89462297,  0.17866487]],\n",
       "\n",
       "       [[ 0.15520603,  0.663177  ,  0.87624064,  0.64373555,  0.85873616],\n",
       "        [ 0.7600383 ,  0.14366671,  0.96321554,  0.79600839,  0.45419622],\n",
       "        [ 0.59681446,  0.68972686,  0.58689295,  0.20340734,  0.9863851 ],\n",
       "        [ 0.68364465,  0.09338506,  0.51438681,  0.19667906,  0.05132842]],\n",
       "\n",
       "       [[ 0.78857528,  0.72315137,  0.71255084,  0.32070773,  0.55448556],\n",
       "        [ 0.38014997,  0.92702944,  0.82006676,  0.70132237,  0.14730697],\n",
       "        [ 0.82792037,  0.91049558,  0.68050587,  0.31167285,  0.6671713 ],\n",
       "        [ 0.203845  ,  0.55451621,  0.32942429,  0.31719899,  0.87097052]],\n",
       "\n",
       "       [[ 0.38730804,  0.19724738,  0.79743094,  0.71865925,  0.2474079 ],\n",
       "        [ 0.35059135,  0.29149475,  0.01790376,  0.7123156 ,  0.69709171],\n",
       "        [ 0.02398717,  0.70430621,  0.48201439,  0.57894798,  0.22138452],\n",
       "        [ 0.00185455,  0.0883735 ,  0.75045846,  0.37768357,  0.78422963]],\n",
       "\n",
       "       [[ 0.97005601,  0.88354837,  0.30159551,  0.39290012,  0.42769783],\n",
       "        [ 0.41914711,  0.81777981,  0.66657765,  0.66905146,  0.51644986],\n",
       "        [ 0.93624888,  0.42012667,  0.64060275,  0.36573721,  0.3332223 ],\n",
       "        [ 0.56128813,  0.8362085 ,  0.60809967,  0.96825231,  0.43360123]],\n",
       "\n",
       "       [[ 0.7606574 ,  0.56371889,  0.5001147 ,  0.19258381,  0.49426103],\n",
       "        [ 0.34762014,  0.40822913,  0.35923416,  0.62223753,  0.54738267],\n",
       "        [ 0.75974088,  0.26742895,  0.31051449,  0.35631571,  0.6956997 ],\n",
       "        [ 0.49568046,  0.4759294 ,  0.80464901,  0.05135056,  0.87350807]],\n",
       "\n",
       "       [[ 0.25052072,  0.46723249,  0.26622686,  0.39170765,  0.70610007],\n",
       "        [ 0.47952624,  0.21225783,  0.26478913,  0.90378326,  0.05760377],\n",
       "        [ 0.6871223 ,  0.2429324 ,  0.78573419,  0.20267593,  0.60779995],\n",
       "        [ 0.83551521,  0.7764734 ,  0.70090226,  0.06339685,  0.4379034 ]],\n",
       "\n",
       "       [[ 0.1480457 ,  0.0273336 ,  0.44067058,  0.38710738,  0.51141865],\n",
       "        [ 0.5599529 ,  0.92976442,  0.58632945,  0.2032799 ,  0.39961469],\n",
       "        [ 0.91157499,  0.69565515,  0.4609124 ,  0.12221935,  0.24068112],\n",
       "        [ 0.24629996,  0.23272447,  0.85299813,  0.25930055,  0.46179404]],\n",
       "\n",
       "       [[ 0.04646208,  0.28319529,  0.25298966,  0.65392412,  0.42205459],\n",
       "        [ 0.59017719,  0.46588372,  0.22884956,  0.36431457,  0.52141522],\n",
       "        [ 0.38226086,  0.89913075,  0.6365441 ,  0.09771132,  0.35664759],\n",
       "        [ 0.16383712,  0.9092303 ,  0.19180513,  0.48203415,  0.17415966]],\n",
       "\n",
       "       [[ 0.96509421,  0.72831449,  0.92959211,  0.02490747,  0.28394003],\n",
       "        [ 0.36631845,  0.72013124,  0.78242118,  0.78312083,  0.85686223],\n",
       "        [ 0.63795858,  0.0293274 ,  0.29661633,  0.28200678,  0.33922659],\n",
       "        [ 0.06663097,  0.45519668,  0.23624256,  0.35095597,  0.48710089]],\n",
       "\n",
       "       [[ 0.5840414 ,  0.87288404,  0.97004452,  0.72121498,  0.46679304],\n",
       "        [ 0.07925   ,  0.62729816,  0.01670561,  0.6347617 ,  0.47575228],\n",
       "        [ 0.58041734,  0.98163254,  0.97667499,  0.15526698,  0.07713806],\n",
       "        [ 0.0040471 ,  0.53480697,  0.0365198 ,  0.50876322,  0.57761028]],\n",
       "\n",
       "       [[ 0.24884869,  0.02682065,  0.68675831,  0.89811998,  0.75794955],\n",
       "        [ 0.61428506,  0.39170172,  0.67170424,  0.91789512,  0.41372313],\n",
       "        [ 0.83148212,  0.24833097,  0.65003213,  0.75034453,  0.57458018],\n",
       "        [ 0.09440885,  0.14890583,  0.67732301,  0.79224426,  0.99684138]]])"
      ]
     },
     "execution_count": 15,
     "metadata": {},
     "output_type": "execute_result"
    }
   ],
   "source": [
    "# 20 4x5 arrays of random numbers \n",
    "x = np.random.random_sample((20, 4, 5))\n",
    "x"
   ]
  },
  {
   "cell_type": "code",
   "execution_count": 16,
   "metadata": {},
   "outputs": [
    {
     "data": {
      "text/plain": [
       "array([[  6.44802281e-01,   4.57794223e-01,   8.33101457e-01,\n",
       "          7.88483393e-01],\n",
       "       [  9.69090068e-01,   9.46022757e-01,   8.45217850e-01,\n",
       "          5.30625579e-01],\n",
       "       [  4.02593825e-01,   9.07235249e-01,   9.01823906e-01,\n",
       "          7.69993921e-01],\n",
       "       [  5.60126622e-01,   6.51591352e-01,   4.76039022e-01,\n",
       "          6.75643831e-01],\n",
       "       [  6.57182838e-01,   2.84623025e-01,   4.84947832e-02,\n",
       "          8.37360045e-01],\n",
       "       [  9.97315226e-01,   8.81010986e-02,   3.75711863e-02,\n",
       "          9.33603118e-01],\n",
       "       [  6.41444676e-01,   6.41675983e-01,   1.48663189e-01,\n",
       "          4.85683324e-01],\n",
       "       [  4.97120961e-01,   7.91871625e-01,   6.15678283e-01,\n",
       "          2.51541804e-01],\n",
       "       [  1.38776467e-01,   6.74679980e-01,   4.10024315e-01,\n",
       "          2.00022515e-01],\n",
       "       [  7.22234245e-02,   4.64737403e-01,   2.64970064e-01,\n",
       "          6.47294425e-01],\n",
       "       [  7.95270368e-01,   7.31905988e-02,   7.13867096e-01,\n",
       "          7.08356491e-01],\n",
       "       [  7.85225757e-01,   5.70154265e-01,   2.71077140e-01,\n",
       "          8.34855151e-01],\n",
       "       [  7.56224859e-01,   6.78073981e-02,   8.33142345e-01,\n",
       "          1.11163704e-02],\n",
       "       [  3.97238162e-01,   4.64351197e-01,   9.17945050e-01,\n",
       "          2.71366535e-02],\n",
       "       [  5.17807092e-01,   6.63911919e-01,   8.97813792e-01,\n",
       "          9.33763149e-01],\n",
       "       [  4.88197491e-01,   8.65359149e-01,   5.81661451e-01,\n",
       "          2.21457344e-01],\n",
       "       [  8.03957623e-01,   4.03716795e-01,   9.00764507e-01,\n",
       "          3.57430723e-01],\n",
       "       [  9.58615386e-01,   1.19485352e-01,   4.68518988e-01,\n",
       "          2.87468983e-04],\n",
       "       [  4.57608668e-01,   3.22900713e-01,   3.67063855e-01,\n",
       "          3.42697806e-02],\n",
       "       [  7.68411180e-01,   1.67698331e-01,   2.16667401e-01,\n",
       "          2.34241364e-01]])"
      ]
     },
     "execution_count": 16,
     "metadata": {},
     "output_type": "execute_result"
    }
   ],
   "source": [
    "# To represent data using a histogram\n",
    "x = np.random.random_sample((20, 4))\n",
    "x"
   ]
  },
  {
   "cell_type": "code",
   "execution_count": 17,
   "metadata": {},
   "outputs": [
    {
     "data": {
      "image/png": "[encoded data removed]",
      "text/plain": [
       "<matplotlib.figure.Figure at 0x27d2b509a20>"
      ]
     },
     "metadata": {
      "needs_background": "light"
     },
     "output_type": "display_data"
    }
   ],
   "source": [
    "plt.hist(x)\n",
    "plt.show()"
   ]
  },
  {
   "cell_type": "markdown",
   "metadata": {},
   "source": [
    "To use the random_sample function across a larger range of numbers (rather than between 0.0 and 1.0), the following code can be used: \n",
    "\n",
    "   *(b - a) * random_sample() + a*\n"
   ]
  },
  {
   "cell_type": "code",
   "execution_count": 18,
   "metadata": {},
   "outputs": [
    {
     "data": {
      "text/plain": [
       "array([ 1.77871884,  2.61159095,  1.22202525,  4.37816926,  4.88588752,\n",
       "        0.52507889,  2.12923697,  1.60529685,  5.99613233,  5.51667818])"
      ]
     },
     "execution_count": 18,
     "metadata": {},
     "output_type": "execute_result"
    }
   ],
   "source": [
    "#To obtain an array of random numbers (uniformly distributed) between 0 and 6\n",
    "x = -6 * np.random.random_sample(10) +6\n",
    "x"
   ]
  },
  {
   "cell_type": "markdown",
   "metadata": {},
   "source": [
    "### numpy.random.random(), numpy.random.ranf() and numpy.random.sample() functions\n",
    "\n",
    "The random, ranf and sample functions are the same as the random_sample function and they return the same output as described above [8]. "
   ]
  },
  {
   "cell_type": "code",
   "execution_count": 35,
   "metadata": {
    "scrolled": true
   },
   "outputs": [
    {
     "data": {
      "text/plain": [
       "array([ 0.40836573,  0.40312532,  0.04871827, ...,  0.39113398,\n",
       "        0.11952316,  0.27936212])"
      ]
     },
     "execution_count": 35,
     "metadata": {},
     "output_type": "execute_result"
    }
   ],
   "source": [
    "x = np.random.random(10000)\n",
    "x"
   ]
  },
  {
   "cell_type": "code",
   "execution_count": 36,
   "metadata": {},
   "outputs": [
    {
     "data": {
      "image/png": "[encoded data removed]",
      "text/plain": [
       "<matplotlib.figure.Figure at 0x27d2d64f898>"
      ]
     },
     "metadata": {
      "needs_background": "light"
     },
     "output_type": "display_data"
    }
   ],
   "source": [
    "plt.hist(x)\n",
    "plt.show()"
   ]
  },
  {
   "cell_type": "code",
   "execution_count": 37,
   "metadata": {},
   "outputs": [
    {
     "data": {
      "text/plain": [
       "array([ 0.1257692 ,  0.96527787,  0.89258952, ...,  0.28327677,\n",
       "        0.86819552,  0.2305637 ])"
      ]
     },
     "execution_count": 37,
     "metadata": {},
     "output_type": "execute_result"
    }
   ],
   "source": [
    "x = np.random.ranf(10000)\n",
    "x"
   ]
  },
  {
   "cell_type": "code",
   "execution_count": 38,
   "metadata": {},
   "outputs": [
    {
     "data": {
      "image/png": "[encoded data removed]",
      "text/plain": [
       "<matplotlib.figure.Figure at 0x27d2d6e7a90>"
      ]
     },
     "metadata": {
      "needs_background": "light"
     },
     "output_type": "display_data"
    }
   ],
   "source": [
    "plt.hist(x)\n",
    "plt.show()"
   ]
  },
  {
   "cell_type": "code",
   "execution_count": 39,
   "metadata": {},
   "outputs": [
    {
     "data": {
      "text/plain": [
       "array([ 0.8444307 ,  0.91592805,  0.22096299, ...,  0.9181386 ,\n",
       "        0.24235056,  0.85599629])"
      ]
     },
     "execution_count": 39,
     "metadata": {},
     "output_type": "execute_result"
    }
   ],
   "source": [
    "x = np.random.sample(10000)\n",
    "x"
   ]
  },
  {
   "cell_type": "code",
   "execution_count": 40,
   "metadata": {},
   "outputs": [
    {
     "data": {
      "image/png": "[encoded data removed]",
      "text/plain": [
       "<matplotlib.figure.Figure at 0x27d2d68e438>"
      ]
     },
     "metadata": {
      "needs_background": "light"
     },
     "output_type": "display_data"
    }
   ],
   "source": [
    "plt.hist(x)\n",
    "plt.show()"
   ]
  },
  {
   "cell_type": "markdown",
   "metadata": {},
   "source": [
    "### numpy.random.choice()"
   ]
  },
  {
   "cell_type": "code",
   "execution_count": 25,
   "metadata": {},
   "outputs": [
    {
     "data": {
      "text/plain": [
       "33"
      ]
     },
     "execution_count": 25,
     "metadata": {},
     "output_type": "execute_result"
    }
   ],
   "source": [
    "x = np.random.choice(100)\n",
    "x"
   ]
  },
  {
   "cell_type": "code",
   "execution_count": 26,
   "metadata": {},
   "outputs": [
    {
     "data": {
      "image/png": "[encoded data removed]",
      "text/plain": [
       "<matplotlib.figure.Figure at 0x27d2b3a89e8>"
      ]
     },
     "metadata": {
      "needs_background": "light"
     },
     "output_type": "display_data"
    }
   ],
   "source": [
    "plt.hist(x)\n",
    "plt.show()"
   ]
  },
  {
   "cell_type": "markdown",
   "metadata": {},
   "source": [
    "### numpy.random.bytes()"
   ]
  },
  {
   "cell_type": "code",
   "execution_count": 27,
   "metadata": {},
   "outputs": [
    {
     "data": {
      "text/plain": [
       "b'\\x12\\xcf\\xf8g\\xb1^\\xde\\xe9Eh'"
      ]
     },
     "execution_count": 27,
     "metadata": {},
     "output_type": "execute_result"
    }
   ],
   "source": [
    "x = np.random.bytes(10)\n",
    "x"
   ]
  },
  {
   "cell_type": "code",
   "execution_count": null,
   "metadata": {},
   "outputs": [],
   "source": []
  },
  {
   "cell_type": "code",
   "execution_count": null,
   "metadata": {},
   "outputs": [],
   "source": []
  },
  {
   "cell_type": "code",
   "execution_count": null,
   "metadata": {},
   "outputs": [],
   "source": []
  },
  {
   "cell_type": "code",
   "execution_count": null,
   "metadata": {},
   "outputs": [],
   "source": []
  },
  {
   "cell_type": "markdown",
   "metadata": {},
   "source": [
    "### Permutations functions in numpy.random"
   ]
  },
  {
   "cell_type": "markdown",
   "metadata": {},
   "source": [
    "The numpy.random.shuffle function shuffles a sequence of set numbers. It changes the sequence or order of numbers while the numbers remain the same. Shuffle permanently changes the array in place. "
   ]
  },
  {
   "cell_type": "code",
   "execution_count": 28,
   "metadata": {},
   "outputs": [],
   "source": [
    "import numpy as np"
   ]
  },
  {
   "cell_type": "code",
   "execution_count": 29,
   "metadata": {},
   "outputs": [
    {
     "name": "stdout",
     "output_type": "stream",
     "text": [
      "None [8 1 0 4 6 5 3 2 9 7]\n"
     ]
    }
   ],
   "source": [
    "# I have created an ordered array of numbers 0-9. \n",
    "arr = np.arange(10)\n",
    "shuffled = np.random.shuffle(arr)\n",
    "print (shuffled, arr)"
   ]
  },
  {
   "cell_type": "markdown",
   "metadata": {},
   "source": [
    "The numpy.random.permutation function works similarly but returns a new array, leaving the original array untouched, as demonstrated below."
   ]
  },
  {
   "cell_type": "code",
   "execution_count": 30,
   "metadata": {},
   "outputs": [
    {
     "name": "stdout",
     "output_type": "stream",
     "text": [
      "[3 8 2 7 1 4 5 9 0 6] [0 1 2 3 4 5 6 7 8 9]\n"
     ]
    }
   ],
   "source": [
    "arr = np.arange(10)\n",
    "shuffled = np.random.permutation(arr)\n",
    "print(shuffled, arr)"
   ]
  },
  {
   "cell_type": "code",
   "execution_count": null,
   "metadata": {},
   "outputs": [],
   "source": []
  },
  {
   "cell_type": "code",
   "execution_count": null,
   "metadata": {},
   "outputs": [],
   "source": []
  },
  {
   "cell_type": "code",
   "execution_count": null,
   "metadata": {},
   "outputs": [],
   "source": []
  },
  {
   "cell_type": "code",
   "execution_count": null,
   "metadata": {},
   "outputs": [],
   "source": []
  },
  {
   "cell_type": "code",
   "execution_count": null,
   "metadata": {},
   "outputs": [],
   "source": []
  },
  {
   "cell_type": "code",
   "execution_count": null,
   "metadata": {},
   "outputs": [],
   "source": []
  },
  {
   "cell_type": "markdown",
   "metadata": {},
   "source": [
    "The numpy.random.permutations function "
   ]
  },
  {
   "cell_type": "code",
   "execution_count": null,
   "metadata": {},
   "outputs": [],
   "source": []
  },
  {
   "cell_type": "code",
   "execution_count": null,
   "metadata": {},
   "outputs": [],
   "source": []
  },
  {
   "cell_type": "markdown",
   "metadata": {
    "collapsed": true
   },
   "source": [
    "### Explain the use and purpose of at least five \"Distributions\" functions"
   ]
  },
  {
   "cell_type": "markdown",
   "metadata": {},
   "source": [
    "### Explain the use of seeds in generating pseudorandom numbers"
   ]
  },
  {
   "cell_type": "code",
   "execution_count": null,
   "metadata": {},
   "outputs": [],
   "source": []
  },
  {
   "cell_type": "code",
   "execution_count": null,
   "metadata": {},
   "outputs": [],
   "source": []
  },
  {
   "cell_type": "code",
   "execution_count": null,
   "metadata": {},
   "outputs": [],
   "source": []
  },
  {
   "cell_type": "code",
   "execution_count": 31,
   "metadata": {},
   "outputs": [],
   "source": [
    "x = np.random.uniform(0, 1000,10000)"
   ]
  },
  {
   "cell_type": "code",
   "execution_count": 32,
   "metadata": {},
   "outputs": [
    {
     "data": {
      "image/png": "[encoded data removed]",
      "text/plain": [
       "<matplotlib.figure.Figure at 0x27d2d6fddd8>"
      ]
     },
     "metadata": {
      "needs_background": "light"
     },
     "output_type": "display_data"
    }
   ],
   "source": [
    "plt.hist(x)\n",
    "plt.show()"
   ]
  },
  {
   "cell_type": "code",
   "execution_count": 33,
   "metadata": {},
   "outputs": [],
   "source": [
    "x = np.random.normal(10, 100, 10000)"
   ]
  },
  {
   "cell_type": "code",
   "execution_count": 34,
   "metadata": {},
   "outputs": [
    {
     "data": {
      "image/png": "[encoded data removed]",
      "text/plain": [
       "<matplotlib.figure.Figure at 0x27d2d6dfdd8>"
      ]
     },
     "metadata": {
      "needs_background": "light"
     },
     "output_type": "display_data"
    }
   ],
   "source": [
    "plt.hist(x)\n",
    "plt.show()"
   ]
  },
  {
   "cell_type": "code",
   "execution_count": null,
   "metadata": {},
   "outputs": [],
   "source": []
  },
  {
   "cell_type": "code",
   "execution_count": null,
   "metadata": {},
   "outputs": [],
   "source": []
  },
  {
   "cell_type": "code",
   "execution_count": null,
   "metadata": {},
   "outputs": [],
   "source": []
  },
  {
   "cell_type": "code",
   "execution_count": null,
   "metadata": {},
   "outputs": [],
   "source": []
  },
  {
   "cell_type": "code",
   "execution_count": null,
   "metadata": {},
   "outputs": [],
   "source": []
  },
  {
   "cell_type": "code",
   "execution_count": null,
   "metadata": {},
   "outputs": [],
   "source": []
  },
  {
   "cell_type": "code",
   "execution_count": null,
   "metadata": {},
   "outputs": [],
   "source": []
  },
  {
   "cell_type": "code",
   "execution_count": null,
   "metadata": {},
   "outputs": [],
   "source": []
  },
  {
   "cell_type": "code",
   "execution_count": null,
   "metadata": {},
   "outputs": [],
   "source": []
  },
  {
   "cell_type": "code",
   "execution_count": null,
   "metadata": {},
   "outputs": [],
   "source": []
  },
  {
   "cell_type": "code",
   "execution_count": null,
   "metadata": {},
   "outputs": [],
   "source": []
  },
  {
   "cell_type": "markdown",
   "metadata": {},
   "source": [
    "## References "
   ]
  },
  {
   "cell_type": "markdown",
   "metadata": {},
   "source": [
    "[1] www.numpy.org/ date: 03/11/2018 \n",
    "\n",
    "[2] https://www.datacamp.com/community/tutorials/python-numpy-tutorial date: 03/11/2018 \n",
    "\n",
    "[3] https://docs.scipy.org/doc/numpy/user/basics.creation.html date: 03/11/2018 \n",
    "\n",
    "[4] https://www.investopedia.com/terms/u/uniform-distribution.asp date: 04/11/2018\n",
    "\n",
    "[5] https://www.statisticshowto.datasciencecentral.com/probability-and-statistics/normal-distributions/ date: 04/11/2018\n",
    "\n",
    "[6] https://www.chegg.com/homework-help/definitions/discrete-uniform-31 date: 04/11/2018 \n",
    "\n",
    "[7] https://socratic.org/questions/what-is-the-difference-between-a-discrete-uniform-distribution-and-a-continuous- dated: 04/11/2018\n",
    "\n",
    "[8] https://stackoverflow.com/questions/18829185/difference-between-various-numpy-random-functions dated: 04/11/2018"
   ]
  },
  {
   "cell_type": "markdown",
   "metadata": {},
   "source": [
    "## Bibliography and Acknowledgements "
   ]
  },
  {
   "cell_type": "markdown",
   "metadata": {},
   "source": [
    "- https://docs.scipy.org/doc/numpy-1.15.1/user/whatisnumpy.html date: 20/10/2018\n",
    "- https://docs.scipy.org/doc/numpy-1.15.1/reference/routines.random.html date:27/10/2018\n",
    "- http://nbviewer.jupyter.org/gist/rossant/4645217 date: 03/11/2018\n",
    "- https://en.wikipedia.org/wiki/NumPy date: 03/11/2018\n",
    "- https://www.packtpub.com/mapt/book/big_data_and_business_intelligence/9781785285110/2/ch02lvl1sec16/numpy-random-numbers date: 03/11/2018\n",
    "- https://www.datacamp.com/community/tutorials/python-numpy-tutorial date: 03/11/2018 \n",
    "- http://mathworld.wolfram.com/DiscreteUniformDistribution.html date: 04/11/2018 \n",
    "- "
   ]
  },
  {
   "cell_type": "code",
   "execution_count": null,
   "metadata": {},
   "outputs": [],
   "source": []
  }
 ],
 "metadata": {
  "kernelspec": {
   "display_name": "Python 3",
   "language": "python",
   "name": "python3"
  },
  "language_info": {
   "codemirror_mode": {
    "name": "ipython",
    "version": 3
   },
   "file_extension": ".py",
   "mimetype": "text/x-python",
   "name": "python",
   "nbconvert_exporter": "python",
   "pygments_lexer": "ipython3",
   "version": "3.6.7"
  }
 },
 "nbformat": 4,
 "nbformat_minor": 2
}
