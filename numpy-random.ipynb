{
 "cells": [
  {
   "cell_type": "markdown",
   "metadata": {},
   "source": [
    "# An Overview of the numpy.random Package"
   ]
  },
  {
   "cell_type": "markdown",
   "metadata": {},
   "source": [
    "## Purpose of the numpy.random Package\n",
    "\n",
    "NumPy is a Python library used for scientific and mathematical computing in the Python programming language [1]. It contains a number of tools that can be used to solve mathematical models of problems using a computer [2]. \n",
    "\n",
    "Numpy.random is a collection of special library functions within NumPy to generate random numbers. These functions can also be used to organise random numbers into arrays of different shapes and sizes [3]. \n",
    "\n",
    "**COMMENT RE PSEUDO RANDOM NUMBERS HERE?**\n",
    "\n",
    "\n",
    "Functions within the numpy.random library are organised into four main categories: \n",
    "\n",
    "- Simple random data\n",
    "- Permutations\n",
    "- Distributions\n",
    "- Random generator\n",
    "\n",
    "The full numpy.random documentation can be accessed [here.](https://docs.scipy.org/doc/numpy/reference/routines.random.html)\n",
    "\n",
    "\n",
    "This notebook will discuss \"simple random data,\" \"permutations\" and \"distributions\" functions. The use of seeds in generating psuedorandom numbers will also be discussed."
   ]
  },
  {
   "cell_type": "markdown",
   "metadata": {},
   "source": [
    "## Simple random data functions in numpy.random\n",
    "\n",
    "There are 10 functions within the numpy.random \"simple random data\" family of functions: \n",
    "\n",
    "- rand()\n",
    "- randn()\n",
    "- randint()\n",
    "- random_integers()\n",
    "- random_sample()\n",
    "- random()\n",
    "- ranf()\n",
    "- sample()\n",
    "- choice()\n",
    "- bytes()\n",
    "\n",
    "Each of these are discussed below.\n"
   ]
  },
  {
   "cell_type": "code",
   "execution_count": 1,
   "metadata": {},
   "outputs": [],
   "source": [
    "import numpy as np\n",
    "import matplotlib.pyplot as plt"
   ]
  },
  {
   "cell_type": "markdown",
   "metadata": {},
   "source": [
    "### numpy.random.rand()\n",
    "\n",
    "The rand function creates a random array of positive floating point numbers with a continuous uniform distribution from 0, up to but not including 1. An argument can be passed in, telling the function how many numbers to return. If no argument is provided, the function will return a single float. \n",
    "\n",
    "In other words, this function creates random numbers that are uniformly distributed between 0 and 1, but not including the number 1.Uniform distribution is where each variable, or number in this case, has the same (uniform) probability [4]."
   ]
  },
  {
   "cell_type": "code",
   "execution_count": 2,
   "metadata": {
    "scrolled": true
   },
   "outputs": [
    {
     "data": {
      "text/plain": [
       "array([ 0.11742955,  0.68813752,  0.85357948, ...,  0.93152182,\n",
       "        0.11049715,  0.33496294])"
      ]
     },
     "execution_count": 2,
     "metadata": {},
     "output_type": "execute_result"
    }
   ],
   "source": [
    "# To obtain an array of 100 numbers \n",
    "x = np.random.rand(10000)\n",
    "x"
   ]
  },
  {
   "cell_type": "code",
   "execution_count": 3,
   "metadata": {},
   "outputs": [
    {
     "data": {
      "image/png": "[encoded data removed]",
      "text/plain": [
       "<matplotlib.figure.Figure at 0x1ab35f38208>"
      ]
     },
     "metadata": {
      "needs_background": "light"
     },
     "output_type": "display_data"
    }
   ],
   "source": [
    "%matplotlib inline\n",
    "\n",
    "# To plot these numbers on a histogram\n",
    "plt.hist(x)\n",
    "plt.show()"
   ]
  },
  {
   "cell_type": "markdown",
   "metadata": {},
   "source": [
    "Further arguments can be passed to request that more than one array of random data is returned, for example:"
   ]
  },
  {
   "cell_type": "code",
   "execution_count": 4,
   "metadata": {},
   "outputs": [
    {
     "data": {
      "text/plain": [
       "array([[[ 0.68164541,  0.67597076,  0.83639142,  0.30961212],\n",
       "        [ 0.98996962,  0.51284447,  0.81285379,  0.102431  ]],\n",
       "\n",
       "       [[ 0.40148721,  0.77953886,  0.2938491 ,  0.58059671],\n",
       "        [ 0.16828668,  0.59867826,  0.71664697,  0.05830659]],\n",
       "\n",
       "       [[ 0.50123165,  0.04706388,  0.85138911,  0.50953579],\n",
       "        [ 0.51419412,  0.49623344,  0.3289224 ,  0.07506396]],\n",
       "\n",
       "       [[ 0.59315231,  0.01193889,  0.13593217,  0.14912517],\n",
       "        [ 0.67222811,  0.9206673 ,  0.14617582,  0.13366036]],\n",
       "\n",
       "       [[ 0.1477085 ,  0.37066431,  0.59683463,  0.11853671],\n",
       "        [ 0.72832991,  0.99627607,  0.90606101,  0.02368467]],\n",
       "\n",
       "       [[ 0.28375483,  0.62365169,  0.08239536,  0.00748713],\n",
       "        [ 0.39252755,  0.74057003,  0.23980462,  0.39329109]],\n",
       "\n",
       "       [[ 0.83420092,  0.51952684,  0.87885959,  0.4242256 ],\n",
       "        [ 0.38498322,  0.11091142,  0.43439923,  0.52845109]],\n",
       "\n",
       "       [[ 0.8509236 ,  0.03525297,  0.67895059,  0.96806195],\n",
       "        [ 0.29423833,  0.30487101,  0.08816492,  0.77388959]],\n",
       "\n",
       "       [[ 0.22071272,  0.5491623 ,  0.95410393,  0.90888364],\n",
       "        [ 0.92940372,  0.94140229,  0.10794121,  0.11104148]],\n",
       "\n",
       "       [[ 0.87684882,  0.01309439,  0.16858317,  0.12961875],\n",
       "        [ 0.22867855,  0.40425034,  0.81085377,  0.01218589]]])"
      ]
     },
     "execution_count": 4,
     "metadata": {},
     "output_type": "execute_result"
    }
   ],
   "source": [
    "# 10 2x4 arrays of random numbers\n",
    "x = np.random.rand(10, 2, 4)\n",
    "x"
   ]
  },
  {
   "cell_type": "code",
   "execution_count": 5,
   "metadata": {},
   "outputs": [
    {
     "data": {
      "text/plain": [
       "array([[ 0.06414891,  0.80157919],\n",
       "       [ 0.23207925,  0.54469232],\n",
       "       [ 0.57079345,  0.71701665],\n",
       "       ..., \n",
       "       [ 0.08079495,  0.36285515],\n",
       "       [ 0.05668875,  0.01554574],\n",
       "       [ 0.27460222,  0.84139777]])"
      ]
     },
     "execution_count": 5,
     "metadata": {},
     "output_type": "execute_result"
    }
   ],
   "source": [
    "x = np.random.rand(10000, 2)\n",
    "x"
   ]
  },
  {
   "cell_type": "code",
   "execution_count": 6,
   "metadata": {},
   "outputs": [
    {
     "data": {
      "image/png": "[encoded data removed]",
      "text/plain": [
       "<matplotlib.figure.Figure at 0x1ab3601ee80>"
      ]
     },
     "metadata": {
      "needs_background": "light"
     },
     "output_type": "display_data"
    }
   ],
   "source": [
    "plt.hist(x)\n",
    "plt.show()"
   ]
  },
  {
   "cell_type": "markdown",
   "metadata": {},
   "source": [
    "### numpy.random.randn"
   ]
  },
  {
   "cell_type": "markdown",
   "metadata": {},
   "source": [
    "The randn function also creates a random array of floating point numbers however it differs from the rand function above in that floats can be positive or negative and the distribution is normal (Gaussian). \n",
    "\n",
    "Normal distribution [5] can be visually represented by a bell curve and is distribution that occurs naturally when there is no bias. Most of the data falls within one point or standard deviation on either side of the mean. Examples of normal distribution can be seen throughout the general population, for example in a collection of IQ test scores, blood pressure results, heights, weights etc. "
   ]
  },
  {
   "cell_type": "code",
   "execution_count": 7,
   "metadata": {
    "scrolled": true
   },
   "outputs": [
    {
     "data": {
      "text/plain": [
       "array([-0.0068796 ,  0.40570762,  0.59950862, ..., -2.28982627,\n",
       "        1.5267077 , -0.4813692 ])"
      ]
     },
     "execution_count": 7,
     "metadata": {},
     "output_type": "execute_result"
    }
   ],
   "source": [
    "x = np.random.randn(10000)\n",
    "x"
   ]
  },
  {
   "cell_type": "code",
   "execution_count": 8,
   "metadata": {},
   "outputs": [
    {
     "data": {
      "image/png": "[encoded data removed]",
      "text/plain": [
       "<matplotlib.figure.Figure at 0x1ab362346d8>"
      ]
     },
     "metadata": {
      "needs_background": "light"
     },
     "output_type": "display_data"
    }
   ],
   "source": [
    "plt.hist(x)\n",
    "plt.show()"
   ]
  },
  {
   "cell_type": "markdown",
   "metadata": {},
   "source": [
    "This function can also provide more than one set of data, for example:"
   ]
  },
  {
   "cell_type": "code",
   "execution_count": 9,
   "metadata": {},
   "outputs": [
    {
     "data": {
      "text/plain": [
       "array([[-2.68974612,  1.03610066, -0.84055683],\n",
       "       [ 0.74362061, -0.74027289,  0.70636499],\n",
       "       [ 0.73930409,  1.00813426, -0.26833122],\n",
       "       ..., \n",
       "       [-1.25491959, -0.46982587,  0.52398547],\n",
       "       [ 1.80425226, -0.02332564, -0.04932549],\n",
       "       [-1.73308889, -1.72781012, -0.95312644]])"
      ]
     },
     "execution_count": 9,
     "metadata": {},
     "output_type": "execute_result"
    }
   ],
   "source": [
    "x = np.random.randn(10000, 3)\n",
    "x"
   ]
  },
  {
   "cell_type": "code",
   "execution_count": 10,
   "metadata": {},
   "outputs": [
    {
     "data": {
      "image/png": "[encoded data removed]",
      "text/plain": [
       "<matplotlib.figure.Figure at 0x1ab363c01d0>"
      ]
     },
     "metadata": {
      "needs_background": "light"
     },
     "output_type": "display_data"
    }
   ],
   "source": [
    "plt.hist(x)\n",
    "plt.show()"
   ]
  },
  {
   "cell_type": "markdown",
   "metadata": {},
   "source": [
    "### numpy.random.randint()\n",
    "\n",
    "The randint function returns random integers (whole numbers) that have discrete uniform distribution. Discrete uniform distribution is also known as equally likely outcomes distribution [6]. This is where the probability of evenly spaced values are equally likely to occur, for example when rolling a 6 sided dice, there are 6 evenly likely possibilties of rolling a certain number \n",
    "\n",
    "In probability, discrete uniform distribution differs from continuous uniform distribution in that disrcrete uniform distribution refers to whole numbers and continuous uniform distribution refers to numbers containing a decimal point (floats) [7].  \n",
    "\n",
    "The randint function requires parameters for the lowest and highest numbers you would like it to return. Lowest and highest numbers can be set as postive or negative. The lowest number is included in the output however the highest number is excluded. For example:\n",
    "\n",
    "*np.random.randint(1, 10)*\n",
    "\n",
    "will return a single random number between 1 and 9 inclusive. The size of the sample required can also be set, as outlined below. "
   ]
  },
  {
   "cell_type": "code",
   "execution_count": 11,
   "metadata": {},
   "outputs": [
    {
     "data": {
      "text/plain": [
       "array([ 9, -4,  0, ..., -5, -5, -5])"
      ]
     },
     "execution_count": 11,
     "metadata": {},
     "output_type": "execute_result"
    }
   ],
   "source": [
    "x = np.random.randint(-5, 20, size=10000)\n",
    "x"
   ]
  },
  {
   "cell_type": "code",
   "execution_count": 12,
   "metadata": {},
   "outputs": [
    {
     "data": {
      "image/png": "[encoded data removed]",
      "text/plain": [
       "<matplotlib.figure.Figure at 0x1ab3621c320>"
      ]
     },
     "metadata": {
      "needs_background": "light"
     },
     "output_type": "display_data"
    }
   ],
   "source": [
    "plt.hist(x)\n",
    "plt.show()"
   ]
  },
  {
   "cell_type": "markdown",
   "metadata": {},
   "source": [
    "### numpy.random.random_integers()\n",
    "\n",
    "This function has been deprecated since version 1.11.0.\n"
   ]
  },
  {
   "cell_type": "markdown",
   "metadata": {},
   "source": [
    "### numpy.random.random_sample()\n",
    "\n",
    "The random_sample() function returns floats between 0.0 and 1.0, not including 1.0 using continuous uniform distribution. "
   ]
  },
  {
   "cell_type": "code",
   "execution_count": 13,
   "metadata": {},
   "outputs": [
    {
     "data": {
      "text/plain": [
       "array([ 0.94047085,  0.86997671,  0.3706472 , ...,  0.38459045,\n",
       "        0.88519026,  0.66900856])"
      ]
     },
     "execution_count": 13,
     "metadata": {},
     "output_type": "execute_result"
    }
   ],
   "source": [
    "x = np.random.random_sample(10000)\n",
    "x"
   ]
  },
  {
   "cell_type": "code",
   "execution_count": 14,
   "metadata": {},
   "outputs": [
    {
     "data": {
      "image/png": "[encoded data removed]",
      "text/plain": [
       "<matplotlib.figure.Figure at 0x1ab365b67b8>"
      ]
     },
     "metadata": {
      "needs_background": "light"
     },
     "output_type": "display_data"
    }
   ],
   "source": [
    "plt.hist(x)\n",
    "plt.show()"
   ]
  },
  {
   "cell_type": "markdown",
   "metadata": {},
   "source": [
    "Similarly to the previous functions discussed, the random_sample function can also output more than one set of data:"
   ]
  },
  {
   "cell_type": "code",
   "execution_count": 15,
   "metadata": {
    "scrolled": true
   },
   "outputs": [
    {
     "data": {
      "text/plain": [
       "array([[[ 0.63178458,  0.47151997,  0.70504386,  0.70846983,  0.11814636],\n",
       "        [ 0.99329056,  0.62676684,  0.61819448,  0.32486731,  0.95082184],\n",
       "        [ 0.58918788,  0.42391243,  0.42466178,  0.7544092 ,  0.083532  ],\n",
       "        [ 0.00575862,  0.9898145 ,  0.57720078,  0.16604636,  0.38459374]],\n",
       "\n",
       "       [[ 0.22466844,  0.81180255,  0.44029921,  0.3771427 ,  0.301097  ],\n",
       "        [ 0.50109483,  0.61914674,  0.01147235,  0.58784304,  0.48086022],\n",
       "        [ 0.34056776,  0.27749646,  0.39762683,  0.52389446,  0.06306981],\n",
       "        [ 0.0897304 ,  0.78361154,  0.11450631,  0.5432172 ,  0.48914152]],\n",
       "\n",
       "       [[ 0.59430632,  0.83638191,  0.58781236,  0.2881885 ,  0.30399268],\n",
       "        [ 0.63765475,  0.19090036,  0.31612638,  0.51735408,  0.59801968],\n",
       "        [ 0.66011424,  0.7268159 ,  0.91711849,  0.25367821,  0.32745685],\n",
       "        [ 0.07243432,  0.23262736,  0.09087443,  0.73342487,  0.47485141]],\n",
       "\n",
       "       [[ 0.22435181,  0.79923976,  0.97981959,  0.74729204,  0.84369883],\n",
       "        [ 0.43488197,  0.31416595,  0.15738702,  0.81955151,  0.93241536],\n",
       "        [ 0.13833255,  0.30003405,  0.82185273,  0.09278789,  0.23314849],\n",
       "        [ 0.30250097,  0.75836252,  0.12301217,  0.95986385,  0.09064591]],\n",
       "\n",
       "       [[ 0.16705583,  0.81307628,  0.18096588,  0.09568117,  0.55785175],\n",
       "        [ 0.71556352,  0.23217586,  0.16264869,  0.40931582,  0.81468198],\n",
       "        [ 0.69572473,  0.6020072 ,  0.93021364,  0.15032007,  0.44849363],\n",
       "        [ 0.50387552,  0.66506577,  0.77347324,  0.02760334,  0.62306004]],\n",
       "\n",
       "       [[ 0.02403258,  0.33566016,  0.41599185,  0.55453499,  0.37323441],\n",
       "        [ 0.50953055,  0.07222882,  0.73838632,  0.26272276,  0.25809965],\n",
       "        [ 0.33573143,  0.00665853,  0.63431476,  0.25370567,  0.34222224],\n",
       "        [ 0.99345675,  0.31405997,  0.98362464,  0.74338453,  0.16177533]],\n",
       "\n",
       "       [[ 0.48943676,  0.9657058 ,  0.3612276 ,  0.2679771 ,  0.22188086],\n",
       "        [ 0.69731689,  0.43031838,  0.04705938,  0.08121075,  0.78590437],\n",
       "        [ 0.17910906,  0.24555966,  0.99329492,  0.04731032,  0.20304598],\n",
       "        [ 0.46198747,  0.6692606 ,  0.75782077,  0.54405884,  0.34150157]],\n",
       "\n",
       "       [[ 0.712951  ,  0.23172302,  0.7032334 ,  0.70183658,  0.38877508],\n",
       "        [ 0.39726993,  0.78094458,  0.56295219,  0.3492088 ,  0.1364908 ],\n",
       "        [ 0.93212265,  0.81564051,  0.90976505,  0.48958707,  0.25555902],\n",
       "        [ 0.01859615,  0.51482537,  0.02148304,  0.88025777,  0.02360187]],\n",
       "\n",
       "       [[ 0.13443515,  0.15807027,  0.63262117,  0.61590995,  0.70874206],\n",
       "        [ 0.5889898 ,  0.17614704,  0.79938812,  0.94888481,  0.72027463],\n",
       "        [ 0.55199423,  0.18480097,  0.79070944,  0.74553438,  0.23057342],\n",
       "        [ 0.44598429,  0.61596796,  0.781777  ,  0.80775994,  0.66009034]],\n",
       "\n",
       "       [[ 0.86652308,  0.47272092,  0.85185693,  0.41090253,  0.36682861],\n",
       "        [ 0.87839149,  0.82105166,  0.78366396,  0.66443032,  0.90988681],\n",
       "        [ 0.15450826,  0.26690147,  0.18451203,  0.4708518 ,  0.34495762],\n",
       "        [ 0.15455519,  0.6340315 ,  0.75011449,  0.98157286,  0.56674837]],\n",
       "\n",
       "       [[ 0.2480282 ,  0.45602309,  0.18888262,  0.77697228,  0.71539888],\n",
       "        [ 0.80893523,  0.17740122,  0.5656995 ,  0.82686197,  0.88571467],\n",
       "        [ 0.45037671,  0.6974068 ,  0.8954251 ,  0.31718206,  0.51723056],\n",
       "        [ 0.34952901,  0.56910134,  0.68596678,  0.67303246,  0.50556857]],\n",
       "\n",
       "       [[ 0.74423339,  0.12650501,  0.27140958,  0.79721303,  0.38149303],\n",
       "        [ 0.10983931,  0.04411466,  0.07986629,  0.76363754,  0.89391316],\n",
       "        [ 0.05347167,  0.05833046,  0.28641287,  0.8037309 ,  0.16545486],\n",
       "        [ 0.31926787,  0.14145165,  0.68076587,  0.03915697,  0.66809777]],\n",
       "\n",
       "       [[ 0.04242847,  0.7059335 ,  0.88646964,  0.42930947,  0.88422053],\n",
       "        [ 0.60389759,  0.99150967,  0.26881028,  0.34086267,  0.18831441],\n",
       "        [ 0.74376822,  0.26535429,  0.91738999,  0.07002104,  0.64016276],\n",
       "        [ 0.8372541 ,  0.90194603,  0.23580208,  0.2955116 ,  0.95135527]],\n",
       "\n",
       "       [[ 0.1941424 ,  0.20121319,  0.66280882,  0.31352403,  0.51491156],\n",
       "        [ 0.93428291,  0.20987024,  0.05579306,  0.23230576,  0.79833215],\n",
       "        [ 0.3059366 ,  0.14201754,  0.75997061,  0.02570135,  0.02344143],\n",
       "        [ 0.40385187,  0.04389674,  0.4709831 ,  0.5083388 ,  0.16439767]],\n",
       "\n",
       "       [[ 0.29118562,  0.2125759 ,  0.89072941,  0.81260563,  0.31389391],\n",
       "        [ 0.57323217,  0.26055518,  0.20232531,  0.65744358,  0.96486661],\n",
       "        [ 0.2855791 ,  0.06455965,  0.37654227,  0.75844331,  0.1945024 ],\n",
       "        [ 0.6753064 ,  0.68244774,  0.20188457,  0.72995115,  0.95894185]],\n",
       "\n",
       "       [[ 0.80850524,  0.29220792,  0.42677731,  0.69623656,  0.94480719],\n",
       "        [ 0.65141587,  0.36744585,  0.21803485,  0.23638385,  0.92930937],\n",
       "        [ 0.9103163 ,  0.3376055 ,  0.51654006,  0.20508473,  0.45710295],\n",
       "        [ 0.90081612,  0.7821914 ,  0.73136176,  0.15164479,  0.1036387 ]],\n",
       "\n",
       "       [[ 0.22131568,  0.19215835,  0.24502611,  0.69907971,  0.70461808],\n",
       "        [ 0.9665227 ,  0.64058077,  0.04150104,  0.53685674,  0.87309004],\n",
       "        [ 0.9232819 ,  0.87945289,  0.57879164,  0.6618436 ,  0.97191861],\n",
       "        [ 0.56925302,  0.19890055,  0.97966683,  0.36247224,  0.37652963]],\n",
       "\n",
       "       [[ 0.62022801,  0.25769635,  0.22776459,  0.24359309,  0.42810888],\n",
       "        [ 0.67538119,  0.07925146,  0.08508922,  0.00817773,  0.03282748],\n",
       "        [ 0.76212651,  0.1086473 ,  0.39845844,  0.40951795,  0.90831503],\n",
       "        [ 0.99183369,  0.24073612,  0.78031198,  0.82067209,  0.17396594]],\n",
       "\n",
       "       [[ 0.75674262,  0.51810155,  0.26551751,  0.46850394,  0.21768223],\n",
       "        [ 0.23320965,  0.90310526,  0.96954959,  0.98769571,  0.67096953],\n",
       "        [ 0.62402125,  0.39930895,  0.60298572,  0.61155727,  0.09593837],\n",
       "        [ 0.8047232 ,  0.66625951,  0.21624029,  0.81778421,  0.74845746]],\n",
       "\n",
       "       [[ 0.79569944,  0.73006007,  0.10573281,  0.20787085,  0.61061203],\n",
       "        [ 0.35032187,  0.50955538,  0.64825219,  0.9998566 ,  0.27519696],\n",
       "        [ 0.923426  ,  0.50594081,  0.98284096,  0.07393522,  0.65276772],\n",
       "        [ 0.46187665,  0.71126524,  0.92792294,  0.2738827 ,  0.08254825]]])"
      ]
     },
     "execution_count": 15,
     "metadata": {},
     "output_type": "execute_result"
    }
   ],
   "source": [
    "# 20 4x5 arrays of random numbers \n",
    "x = np.random.random_sample((20, 4, 5))\n",
    "x"
   ]
  },
  {
   "cell_type": "code",
   "execution_count": 16,
   "metadata": {},
   "outputs": [
    {
     "data": {
      "text/plain": [
       "array([[ 0.26832675,  0.72523141,  0.66382119,  0.13655453],\n",
       "       [ 0.98555208,  0.68485357,  0.97506421,  0.86319104],\n",
       "       [ 0.32145209,  0.37792896,  0.15683656,  0.16000572],\n",
       "       [ 0.86604004,  0.71106543,  0.61402853,  0.24271388],\n",
       "       [ 0.22749781,  0.69879909,  0.72630776,  0.58009218],\n",
       "       [ 0.28350874,  0.65766521,  0.00281036,  0.03762537],\n",
       "       [ 0.43128534,  0.80573323,  0.78904894,  0.44402614],\n",
       "       [ 0.2354897 ,  0.99560388,  0.68222434,  0.78764211],\n",
       "       [ 0.94093835,  0.13530838,  0.94537647,  0.00467646],\n",
       "       [ 0.18570424,  0.38601216,  0.11206065,  0.8362522 ],\n",
       "       [ 0.27439318,  0.8000025 ,  0.28316616,  0.83618526],\n",
       "       [ 0.07962847,  0.64565654,  0.10403507,  0.11286412],\n",
       "       [ 0.80548859,  0.92714736,  0.06663532,  0.09151708],\n",
       "       [ 0.07373999,  0.39804417,  0.97426959,  0.76875673],\n",
       "       [ 0.372341  ,  0.9999536 ,  0.66352725,  0.7736203 ],\n",
       "       [ 0.78118586,  0.61651282,  0.97417953,  0.52455236],\n",
       "       [ 0.75650861,  0.97899558,  0.3655845 ,  0.96969011],\n",
       "       [ 0.10919802,  0.51219159,  0.21922906,  0.05379414],\n",
       "       [ 0.86219943,  0.38155343,  0.4024513 ,  0.17644268],\n",
       "       [ 0.36065675,  0.11562848,  0.02173497,  0.64511128]])"
      ]
     },
     "execution_count": 16,
     "metadata": {},
     "output_type": "execute_result"
    }
   ],
   "source": [
    "# To represent data using a histogram\n",
    "x = np.random.random_sample((20, 4))\n",
    "x"
   ]
  },
  {
   "cell_type": "code",
   "execution_count": 17,
   "metadata": {},
   "outputs": [
    {
     "data": {
      "image/png": "[encoded data removed]",
      "text/plain": [
       "<matplotlib.figure.Figure at 0x1ab3662f358>"
      ]
     },
     "metadata": {
      "needs_background": "light"
     },
     "output_type": "display_data"
    }
   ],
   "source": [
    "plt.hist(x)\n",
    "plt.show()"
   ]
  },
  {
   "cell_type": "markdown",
   "metadata": {},
   "source": [
    "To use the random_sample function across a larger range of numbers (rather than between 0.0 and 1.0), the following code can be used: \n",
    "\n",
    "   *(b - a) * random_sample() + a*\n"
   ]
  },
  {
   "cell_type": "code",
   "execution_count": 18,
   "metadata": {},
   "outputs": [
    {
     "data": {
      "text/plain": [
       "array([ 5.58884085,  3.55738463,  2.92232293,  3.73934657,  3.37689505,\n",
       "        3.32642074,  4.56450662,  5.33437455,  5.10804576,  3.47510137])"
      ]
     },
     "execution_count": 18,
     "metadata": {},
     "output_type": "execute_result"
    }
   ],
   "source": [
    "#To obtain an array of random numbers (uniformly distributed) between 0 and 6\n",
    "x = -6 * np.random.random_sample(10) +6\n",
    "x"
   ]
  },
  {
   "cell_type": "markdown",
   "metadata": {},
   "source": [
    "### numpy.random.random(), numpy.random.ranf() and numpy.random.sample() functions\n",
    "\n",
    "The random, ranf and sample functions are the same as the random_sample function and they return the same output as described above [8]. "
   ]
  },
  {
   "cell_type": "code",
   "execution_count": 19,
   "metadata": {
    "scrolled": true
   },
   "outputs": [
    {
     "data": {
      "text/plain": [
       "array([ 0.8573421 ,  0.06538368,  0.17668188, ...,  0.91318167,\n",
       "        0.64058249,  0.95473291])"
      ]
     },
     "execution_count": 19,
     "metadata": {},
     "output_type": "execute_result"
    }
   ],
   "source": [
    "x = np.random.random(10000)\n",
    "x"
   ]
  },
  {
   "cell_type": "code",
   "execution_count": 20,
   "metadata": {},
   "outputs": [
    {
     "data": {
      "image/png": "[encoded data removed]",
      "text/plain": [
       "<matplotlib.figure.Figure at 0x1ab3609cdd8>"
      ]
     },
     "metadata": {
      "needs_background": "light"
     },
     "output_type": "display_data"
    }
   ],
   "source": [
    "plt.hist(x)\n",
    "plt.show()"
   ]
  },
  {
   "cell_type": "code",
   "execution_count": 21,
   "metadata": {},
   "outputs": [
    {
     "data": {
      "text/plain": [
       "array([ 0.12167448,  0.23876692,  0.09974034, ...,  0.16930464,\n",
       "        0.07632039,  0.94550886])"
      ]
     },
     "execution_count": 21,
     "metadata": {},
     "output_type": "execute_result"
    }
   ],
   "source": [
    "x = np.random.ranf(10000)\n",
    "x"
   ]
  },
  {
   "cell_type": "code",
   "execution_count": 22,
   "metadata": {},
   "outputs": [
    {
     "data": {
      "image/png": "[encoded data removed]",
      "text/plain": [
       "<matplotlib.figure.Figure at 0x1ab3aaaa198>"
      ]
     },
     "metadata": {
      "needs_background": "light"
     },
     "output_type": "display_data"
    }
   ],
   "source": [
    "plt.hist(x)\n",
    "plt.show()"
   ]
  },
  {
   "cell_type": "code",
   "execution_count": 23,
   "metadata": {},
   "outputs": [
    {
     "data": {
      "text/plain": [
       "array([ 0.03818794,  0.72361738,  0.21367047, ...,  0.51349307,\n",
       "        0.42949248,  0.10909659])"
      ]
     },
     "execution_count": 23,
     "metadata": {},
     "output_type": "execute_result"
    }
   ],
   "source": [
    "x = np.random.sample(10000)\n",
    "x"
   ]
  },
  {
   "cell_type": "code",
   "execution_count": 24,
   "metadata": {},
   "outputs": [
    {
     "data": {
      "image/png": "[encoded data removed]",
      "text/plain": [
       "<matplotlib.figure.Figure at 0x1ab3ab20dd8>"
      ]
     },
     "metadata": {
      "needs_background": "light"
     },
     "output_type": "display_data"
    }
   ],
   "source": [
    "plt.hist(x)\n",
    "plt.show()"
   ]
  },
  {
   "cell_type": "markdown",
   "metadata": {},
   "source": [
    "### numpy.random.choice()\n",
    "\n",
    "The choice function provides one positive integer when a single argument is passed. "
   ]
  },
  {
   "cell_type": "code",
   "execution_count": 25,
   "metadata": {},
   "outputs": [
    {
     "data": {
      "text/plain": [
       "7"
      ]
     },
     "execution_count": 25,
     "metadata": {},
     "output_type": "execute_result"
    }
   ],
   "source": [
    "x = np.random.choice(10)\n",
    "x"
   ]
  },
  {
   "cell_type": "markdown",
   "metadata": {},
   "source": [
    "If a second argument is passed, the choice function creates a list of a specified length."
   ]
  },
  {
   "cell_type": "code",
   "execution_count": 26,
   "metadata": {},
   "outputs": [
    {
     "data": {
      "text/plain": [
       "array([0, 9, 5, 5, 0])"
      ]
     },
     "execution_count": 26,
     "metadata": {},
     "output_type": "execute_result"
    }
   ],
   "source": [
    "x = np.random.choice(10, 5)\n",
    "x"
   ]
  },
  {
   "cell_type": "markdown",
   "metadata": {},
   "source": [
    "### numpy.random.bytes()"
   ]
  },
  {
   "cell_type": "code",
   "execution_count": 27,
   "metadata": {},
   "outputs": [
    {
     "data": {
      "text/plain": [
       "b'\\xb3]\\xe6\\xff\\xa0\\\\\\xb7\\xe5\\x9aU'"
      ]
     },
     "execution_count": 27,
     "metadata": {},
     "output_type": "execute_result"
    }
   ],
   "source": [
    "x = np.random.bytes(10)\n",
    "x"
   ]
  },
  {
   "cell_type": "code",
   "execution_count": null,
   "metadata": {},
   "outputs": [],
   "source": []
  },
  {
   "cell_type": "markdown",
   "metadata": {},
   "source": [
    "## Permutations functions in numpy.random\n",
    "\n",
    "There are 2 functions within the numpy.random \"permutations\" family of functions: \n",
    "\n",
    "- shuffle()\n",
    "- permutation()\n",
    "\n",
    "These are discussed below."
   ]
  },
  {
   "cell_type": "markdown",
   "metadata": {},
   "source": [
    "### numpy.random.shuffle()"
   ]
  },
  {
   "cell_type": "markdown",
   "metadata": {},
   "source": [
    "The shuffle function shuffles a sequence of set integers. It changes the sequence or order of integers while the integers remain the same. Shuffle permanently changes the array in place therefore the output remains changed. "
   ]
  },
  {
   "cell_type": "code",
   "execution_count": 28,
   "metadata": {},
   "outputs": [
    {
     "data": {
      "text/plain": [
       "(None, array([1, 7, 4, 2, 3, 6, 0, 5, 9, 8]))"
      ]
     },
     "execution_count": 28,
     "metadata": {},
     "output_type": "execute_result"
    }
   ],
   "source": [
    "# I have created an ordered array of numbers 0-9. \n",
    "\n",
    "arr = np.arange(10)\n",
    "\n",
    "# The shuffle function will change the sequence of these numbers and this will become the new sequence of numbers \n",
    "# for further code\n",
    "\n",
    "shuffled = np.random.shuffle(arr)\n",
    "shuffled, arr"
   ]
  },
  {
   "cell_type": "markdown",
   "metadata": {},
   "source": [
    "### numpy.random.permutation()"
   ]
  },
  {
   "cell_type": "markdown",
   "metadata": {},
   "source": [
    "The permutation function works similarly to the shuffle function but returns a new array, leaving the original array untouched, as demonstrated below."
   ]
  },
  {
   "cell_type": "code",
   "execution_count": 29,
   "metadata": {},
   "outputs": [
    {
     "data": {
      "text/plain": [
       "(array([8, 9, 0, 5, 4, 2, 1, 3, 7, 6]), array([0, 1, 2, 3, 4, 5, 6, 7, 8, 9]))"
      ]
     },
     "execution_count": 29,
     "metadata": {},
     "output_type": "execute_result"
    }
   ],
   "source": [
    "arr = np.arange(10)\n",
    "shuffled = np.random.permutation(arr)\n",
    "shuffled, arr"
   ]
  },
  {
   "cell_type": "code",
   "execution_count": null,
   "metadata": {},
   "outputs": [],
   "source": []
  },
  {
   "cell_type": "markdown",
   "metadata": {
    "collapsed": true
   },
   "source": [
    "## Distributions functions in numpy.random\n",
    "\n",
    "There are 35 functions within the numpy.random \"distributions\" family of functions. Six of these functions are described below, including:\n",
    "\n",
    "- uniform()\n",
    "- normal()\n",
    "- poisson()\n",
    "- power()\n",
    "-\n",
    "-"
   ]
  },
  {
   "cell_type": "markdown",
   "metadata": {},
   "source": [
    "### numpy.random.uniform()"
   ]
  },
  {
   "cell_type": "code",
   "execution_count": null,
   "metadata": {},
   "outputs": [],
   "source": []
  },
  {
   "cell_type": "code",
   "execution_count": 30,
   "metadata": {},
   "outputs": [],
   "source": [
    "x = np.random.uniform(0, 10,100)\n"
   ]
  },
  {
   "cell_type": "code",
   "execution_count": 31,
   "metadata": {},
   "outputs": [
    {
     "data": {
      "image/png": "[encoded data removed]",
      "text/plain": [
       "<matplotlib.figure.Figure at 0x1ab3abf8048>"
      ]
     },
     "metadata": {
      "needs_background": "light"
     },
     "output_type": "display_data"
    }
   ],
   "source": [
    "plt.hist(x)\n",
    "plt.show()"
   ]
  },
  {
   "cell_type": "markdown",
   "metadata": {},
   "source": [
    "### numpy.random.normal()"
   ]
  },
  {
   "cell_type": "code",
   "execution_count": null,
   "metadata": {},
   "outputs": [],
   "source": []
  },
  {
   "cell_type": "code",
   "execution_count": 32,
   "metadata": {},
   "outputs": [
    {
     "data": {
      "text/plain": [
       "array([ -10.8367442 ,  -46.65335749,   24.29217203, ...,  207.97453178,\n",
       "          0.61480638,  205.8776432 ])"
      ]
     },
     "execution_count": 32,
     "metadata": {},
     "output_type": "execute_result"
    }
   ],
   "source": [
    "x = np.random.normal(10, 100, 10000)\n",
    "x"
   ]
  },
  {
   "cell_type": "code",
   "execution_count": 33,
   "metadata": {},
   "outputs": [
    {
     "data": {
      "image/png": "[encoded data removed]",
      "text/plain": [
       "<matplotlib.figure.Figure at 0x1ab3ac27860>"
      ]
     },
     "metadata": {
      "needs_background": "light"
     },
     "output_type": "display_data"
    }
   ],
   "source": [
    "plt.hist(x)\n",
    "plt.show()"
   ]
  },
  {
   "cell_type": "markdown",
   "metadata": {},
   "source": [
    "### numpy.random.poisson()\n",
    "\n",
    "The poisson function returns an array of positive integers based on the Poisson distribution. In statistics, the Poisson distribution [9] demonstrates the probability that a given number of events will occur over a fixed time, distance, area or volume with a known constant rate. These events are discrete in that the occurence of one does not influence the occurence of the next thus occuring independently.  \n",
    "\n",
    "Parameters for the poisson function can influence the size of the interval and the number of integers returned. If an interval is not indicated, the default integer is 1. The below example depicts an array of 100 random integers from the Poisson distribution where lambda is 3.     "
   ]
  },
  {
   "cell_type": "code",
   "execution_count": 51,
   "metadata": {
    "scrolled": true
   },
   "outputs": [
    {
     "data": {
      "text/plain": [
       "array([2, 4, 7, 0, 0, 2, 7, 0, 4, 4, 3, 2, 2, 5, 2, 5, 5, 2, 3, 3, 5, 4, 3,\n",
       "       1, 2, 3, 4, 2, 3, 1, 3, 3, 3, 4, 3, 4, 1, 0, 4, 0, 1, 3, 5, 6, 3, 3,\n",
       "       1, 3, 2, 5, 6, 3, 2, 4, 5, 1, 5, 9, 5, 2, 2, 0, 4, 2, 2, 4, 2, 4, 1,\n",
       "       3, 6, 4, 3, 1, 2, 2, 3, 1, 1, 2, 5, 2, 1, 7, 2, 1, 2, 1, 3, 1, 4, 5,\n",
       "       3, 4, 3, 5, 7, 1, 3, 5])"
      ]
     },
     "execution_count": 51,
     "metadata": {},
     "output_type": "execute_result"
    }
   ],
   "source": [
    "x = np.random.poisson(3, 100)\n",
    "x"
   ]
  },
  {
   "cell_type": "code",
   "execution_count": 49,
   "metadata": {},
   "outputs": [
    {
     "data": {
      "image/png": "[encoded data removed]",
      "text/plain": [
       "<matplotlib.figure.Figure at 0x1ab361e4dd8>"
      ]
     },
     "metadata": {
      "needs_background": "light"
     },
     "output_type": "display_data"
    }
   ],
   "source": [
    "plt.hist(x)\n",
    "plt.show()"
   ]
  },
  {
   "cell_type": "code",
   "execution_count": 52,
   "metadata": {},
   "outputs": [
    {
     "data": {
      "text/plain": [
       "array([ 1983.5831307 ,  1245.19357205,  1579.88362689,  1669.36284639,\n",
       "        1637.78783451,   866.779927  ,   861.53674311,  1687.54850474,\n",
       "        1171.31766387,  1535.59697954,   286.56607991,  1106.89063831,\n",
       "         164.34121713,  1124.02490319,   834.26046323,   828.10471998,\n",
       "         717.9386537 ,  1526.39684303,  1053.04898239,  1030.26334313])"
      ]
     },
     "execution_count": 52,
     "metadata": {},
     "output_type": "execute_result"
    }
   ],
   "source": [
    "x = np.random.rayleigh(1000, 20)\n",
    "x"
   ]
  },
  {
   "cell_type": "code",
   "execution_count": 53,
   "metadata": {},
   "outputs": [
    {
     "data": {
      "image/png": "[encoded data removed]",
      "text/plain": [
       "<matplotlib.figure.Figure at 0x1ab3662fef0>"
      ]
     },
     "metadata": {
      "needs_background": "light"
     },
     "output_type": "display_data"
    }
   ],
   "source": [
    "plt.hist(x)\n",
    "plt.show()"
   ]
  },
  {
   "cell_type": "code",
   "execution_count": null,
   "metadata": {},
   "outputs": [],
   "source": []
  },
  {
   "cell_type": "code",
   "execution_count": 38,
   "metadata": {},
   "outputs": [
    {
     "ename": "ValueError",
     "evalue": "left > mode",
     "output_type": "error",
     "traceback": [
      "\u001b[1;31m---------------------------------------------------------------------------\u001b[0m",
      "\u001b[1;31mValueError\u001b[0m                                Traceback (most recent call last)",
      "\u001b[1;32m<ipython-input-38-206ea1e88379>\u001b[0m in \u001b[0;36m<module>\u001b[1;34m\u001b[0m\n\u001b[1;32m----> 1\u001b[1;33m \u001b[0mx\u001b[0m \u001b[1;33m=\u001b[0m \u001b[0mnp\u001b[0m\u001b[1;33m.\u001b[0m\u001b[0mrandom\u001b[0m\u001b[1;33m.\u001b[0m\u001b[0mtriangular\u001b[0m\u001b[1;33m(\u001b[0m\u001b[1;36m8\u001b[0m\u001b[1;33m,\u001b[0m \u001b[1;36m0\u001b[0m\u001b[1;33m,\u001b[0m \u001b[1;36m100\u001b[0m\u001b[1;33m,\u001b[0m  \u001b[1;36m1000\u001b[0m\u001b[1;33m)\u001b[0m\u001b[1;33m\u001b[0m\u001b[1;33m\u001b[0m\u001b[0m\n\u001b[0m",
      "\u001b[1;32mmtrand.pyx\u001b[0m in \u001b[0;36mmtrand.RandomState.triangular\u001b[1;34m()\u001b[0m\n",
      "\u001b[1;31mValueError\u001b[0m: left > mode"
     ]
    }
   ],
   "source": [
    "x = np.random.triangular(8, 0, 100,  1000)"
   ]
  },
  {
   "cell_type": "markdown",
   "metadata": {},
   "source": []
  },
  {
   "cell_type": "markdown",
   "metadata": {},
   "source": [
    "### numpy.random.power()\n",
    "\n",
    "The power function returns random positive floats between 0.0 and 1.0, but not including 1.0. These random numbers are selected from a positive exponential distribution - this means that there is an increase in the number of outputs or values the closer we get to 1.0. Exponential distribution can be described in relation to time - the probability that an event will occur increases or becomes more likely as the time increases, for exmaple scoring a goal in a football match [10]. "
   ]
  },
  {
   "cell_type": "code",
   "execution_count": null,
   "metadata": {},
   "outputs": [],
   "source": [
    "x = np.random.power( 3, 10000)\n",
    "x"
   ]
  },
  {
   "cell_type": "code",
   "execution_count": null,
   "metadata": {},
   "outputs": [],
   "source": [
    "plt.hist(x)\n",
    "plt.show()"
   ]
  },
  {
   "cell_type": "markdown",
   "metadata": {},
   "source": [
    "The *a* parameter (or first parameter) within the parentheses influences the values closer to 1.0. A higher *a* parameter results in a larger number of outputs that are closer to 1.0, in keeping with positive exponential distribution. This is demonstrated in the above and below histograms where *a* = 3 and *a* = 11."
   ]
  },
  {
   "cell_type": "code",
   "execution_count": null,
   "metadata": {},
   "outputs": [],
   "source": [
    "x = np.random.power( 11, 10000)\n",
    "x"
   ]
  },
  {
   "cell_type": "code",
   "execution_count": null,
   "metadata": {},
   "outputs": [],
   "source": [
    "plt.hist(x)\n",
    "plt.show()"
   ]
  },
  {
   "cell_type": "markdown",
   "metadata": {},
   "source": [
    "### Explain the use of seeds in generating pseudorandom numbers"
   ]
  },
  {
   "cell_type": "code",
   "execution_count": null,
   "metadata": {},
   "outputs": [],
   "source": []
  },
  {
   "cell_type": "code",
   "execution_count": null,
   "metadata": {},
   "outputs": [],
   "source": []
  },
  {
   "cell_type": "code",
   "execution_count": null,
   "metadata": {},
   "outputs": [],
   "source": []
  },
  {
   "cell_type": "markdown",
   "metadata": {},
   "source": [
    "## References "
   ]
  },
  {
   "cell_type": "markdown",
   "metadata": {},
   "source": [
    "[1] www.numpy.org/ date: 03/11/2018 \n",
    "\n",
    "[2] https://www.datacamp.com/community/tutorials/python-numpy-tutorial date: 03/11/2018 \n",
    "\n",
    "[3] https://docs.scipy.org/doc/numpy/user/basics.creation.html date: 03/11/2018 \n",
    "\n",
    "[4] https://www.investopedia.com/terms/u/uniform-distribution.asp date: 04/11/2018\n",
    "\n",
    "[5] https://www.statisticshowto.datasciencecentral.com/probability-and-statistics/normal-distributions/ date: 04/11/2018\n",
    "\n",
    "[6] https://www.chegg.com/homework-help/definitions/discrete-uniform-31 date: 04/11/2018 \n",
    "\n",
    "[7] https://socratic.org/questions/what-is-the-difference-between-a-discrete-uniform-distribution-and-a-continuous- dated: 04/11/2018\n",
    "\n",
    "[8] https://stackoverflow.com/questions/18829185/difference-between-various-numpy-random-functions dated: 04/11/2018\n",
    "\n",
    "[9] https://stattrek.com/probability-distributions/poisson.aspx dated: 06/11/2018\n",
    "\n",
    "[10] https://www.statlect.com/probability-distributions/exponential-distribution dated: 06/11/2018 "
   ]
  },
  {
   "cell_type": "markdown",
   "metadata": {},
   "source": [
    "## Bibliography and Acknowledgements "
   ]
  },
  {
   "cell_type": "markdown",
   "metadata": {},
   "source": [
    "- https://docs.scipy.org/doc/numpy-1.15.1/user/whatisnumpy.html date: 20/10/2018\n",
    "- https://docs.scipy.org/doc/numpy-1.15.1/reference/routines.random.html date:27/10/2018\n",
    "- http://nbviewer.jupyter.org/gist/rossant/4645217 date: 03/11/2018\n",
    "- https://en.wikipedia.org/wiki/NumPy date: 03/11/2018\n",
    "- https://www.packtpub.com/mapt/book/big_data_and_business_intelligence/9781785285110/2/ch02lvl1sec16/numpy-random-numbers date: 03/11/2018\n",
    "- https://www.datacamp.com/community/tutorials/python-numpy-tutorial date: 03/11/2018 \n",
    "- http://mathworld.wolfram.com/DiscreteUniformDistribution.html date: 04/11/2018 \n",
    "- https://machinelearningmastery.com/how-to-generate-random-numbers-in-python/ - good for seeds and pseudo random number info 04/11/2018"
   ]
  },
  {
   "cell_type": "code",
   "execution_count": null,
   "metadata": {},
   "outputs": [],
   "source": []
  }
 ],
 "metadata": {
  "kernelspec": {
   "display_name": "Python 3",
   "language": "python",
   "name": "python3"
  },
  "language_info": {
   "codemirror_mode": {
    "name": "ipython",
    "version": 3
   },
   "file_extension": ".py",
   "mimetype": "text/x-python",
   "name": "python",
   "nbconvert_exporter": "python",
   "pygments_lexer": "ipython3",
   "version": "3.6.7"
  }
 },
 "nbformat": 4,
 "nbformat_minor": 2
}
