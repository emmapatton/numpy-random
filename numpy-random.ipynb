{
 "cells": [
  {
   "attachments": {
    "numpy-logo-small.png": {
     "image/png": "[encoded data removed]"
    }
   },
   "cell_type": "markdown",
   "metadata": {},
   "source": [
    "![numpy-logo-small.png](attachment:numpy-logo-small.png)"
   ]
  },
  {
   "cell_type": "markdown",
   "metadata": {},
   "source": [
    "# An Overview of NumPy's Random Package\n",
    "---"
   ]
  },
  {
   "cell_type": "markdown",
   "metadata": {},
   "source": [
    "## Purpose of the numpy.random Package\n",
    "\n",
    "NumPy is a Python library used for scientific and mathematical computing in the Python programming language [1]. It contains a number of tools that can be used to solve mathematical models of problems using a computer [2]. \n",
    "\n",
    "Numpy.random is a collection of special library functions within NumPy to generate random numbers. These functions can also be used to organise random numbers into arrays of different shapes and sizes [3]. \n",
    " \n",
    "Functions within the numpy.random library are organised into four main categories: \n",
    "\n",
    "- Simple random data\n",
    "- Permutations\n",
    "- Distributions\n",
    "- Random generator\n",
    "\n",
    "The full numpy.random documentation can be accessed [here.](https://docs.scipy.org/doc/numpy/reference/routines.random.html)\n",
    "\n",
    "\n",
    "This notebook will discuss \"simple random data,\" \"permutations\" and \"distributions\" functions. The use of seeds in generating psuedorandom numbers will also be discussed.\n",
    "\n",
    "---"
   ]
  },
  {
   "cell_type": "markdown",
   "metadata": {},
   "source": [
    "### A note on \"random\" numbers\n",
    "\n",
    "While this document refers to generation of random numbers, it is of note that computers are unable to truly generate random numbers, due to  the fact that computers are deterministic - meaning that every time you ask the same question, you’ll get the same answer. Instead computers use algorithms to generate pseudorandom numbers [4]. \n",
    "\n",
    "---"
   ]
  },
  {
   "cell_type": "markdown",
   "metadata": {},
   "source": [
    "\n",
    "## Simple random data functions in numpy.random\n",
    "\n",
    "There are 10 functions within the numpy.random \"simple random data\" family of functions: \n",
    "\n",
    "- rand()\n",
    "- randn()\n",
    "- randint()\n",
    "- random_integers()\n",
    "- random_sample()\n",
    "- random()\n",
    "- ranf()\n",
    "- sample()\n",
    "- choice()\n",
    "- bytes()\n",
    "\n",
    "Each of these are discussed below.\n"
   ]
  },
  {
   "cell_type": "code",
   "execution_count": 1,
   "metadata": {},
   "outputs": [],
   "source": [
    "import numpy as np\n",
    "import matplotlib.pyplot as plt"
   ]
  },
  {
   "cell_type": "markdown",
   "metadata": {},
   "source": [
    "\n",
    "### numpy.random.rand()\n",
    "\n",
    "The rand function creates a random array of positive floating point numbers with a continuous uniform distribution from 0, up to but not including 1. An argument or parameter can be passed in, telling the function how many floats to return. If no argument is provided, the function will return a single float. \n",
    "\n",
    "In other words, this function creates random numbers that are uniformly distributed between 0 and 1, but not including the number 1.Uniform distribution is where each variable, or number in this case, has the same (uniform) probability or likelihood of occuring [4]."
   ]
  },
  {
   "cell_type": "code",
   "execution_count": 2,
   "metadata": {
    "scrolled": true
   },
   "outputs": [
    {
     "data": {
      "text/plain": [
       "array([ 0.66736425,  0.22115018,  0.25007099, ...,  0.04227031,\n",
       "        0.26869999,  0.22881977])"
      ]
     },
     "execution_count": 2,
     "metadata": {},
     "output_type": "execute_result"
    }
   ],
   "source": [
    "# To obtain an array of 100 numbers \n",
    "x = np.random.rand(10000)\n",
    "x"
   ]
  },
  {
   "cell_type": "code",
   "execution_count": 3,
   "metadata": {},
   "outputs": [
    {
     "data": {
      "image/png": "[encoded data removed]",
      "text/plain": [
       "<matplotlib.figure.Figure at 0x28f4ac81198>"
      ]
     },
     "metadata": {
      "needs_background": "light"
     },
     "output_type": "display_data"
    }
   ],
   "source": [
    "%matplotlib inline\n",
    "\n",
    "# To plot these numbers on a histogram\n",
    "plt.hist(x)\n",
    "plt.show()"
   ]
  },
  {
   "cell_type": "markdown",
   "metadata": {},
   "source": [
    "Further parameters can be passed to request that more than one array of random data is returned, for example:"
   ]
  },
  {
   "cell_type": "code",
   "execution_count": 4,
   "metadata": {
    "scrolled": true
   },
   "outputs": [
    {
     "data": {
      "text/plain": [
       "array([[[ 0.56381567,  0.99056208,  0.97856161,  0.49147602],\n",
       "        [ 0.98580801,  0.39574288,  0.29029831,  0.77422599]],\n",
       "\n",
       "       [[ 0.35789213,  0.98812333,  0.77409394,  0.77710516],\n",
       "        [ 0.79589691,  0.22681498,  0.50456869,  0.8546659 ]],\n",
       "\n",
       "       [[ 0.33488127,  0.97575428,  0.39390883,  0.50254592],\n",
       "        [ 0.75985994,  0.00662051,  0.33447084,  0.45720957]],\n",
       "\n",
       "       [[ 0.59793609,  0.91942362,  0.77971407,  0.86537472],\n",
       "        [ 0.34101732,  0.48776227,  0.60083113,  0.91385357]],\n",
       "\n",
       "       [[ 0.54930886,  0.79283821,  0.39852619,  0.18311391],\n",
       "        [ 0.29016642,  0.96962926,  0.24640946,  0.06145045]],\n",
       "\n",
       "       [[ 0.77866047,  0.020593  ,  0.20963224,  0.09991841],\n",
       "        [ 0.74681225,  0.83189236,  0.96605422,  0.35405924]],\n",
       "\n",
       "       [[ 0.74988147,  0.81540595,  0.21482337,  0.59106412],\n",
       "        [ 0.51900017,  0.48191406,  0.57739294,  0.41856822]],\n",
       "\n",
       "       [[ 0.7582525 ,  0.59163882,  0.35064542,  0.59830707],\n",
       "        [ 0.36080839,  0.66644803,  0.63825157,  0.88794214]],\n",
       "\n",
       "       [[ 0.4452814 ,  0.47686206,  0.71296698,  0.60455567],\n",
       "        [ 0.85198446,  0.73147751,  0.78383063,  0.33454031]],\n",
       "\n",
       "       [[ 0.09994353,  0.88924569,  0.83170183,  0.38942282],\n",
       "        [ 0.78699701,  0.43504305,  0.36685859,  0.97788328]]])"
      ]
     },
     "execution_count": 4,
     "metadata": {},
     "output_type": "execute_result"
    }
   ],
   "source": [
    "# 10 2x4 arrays of random numbers is: \n",
    "x = np.random.rand(10, 2, 4)\n",
    "x"
   ]
  },
  {
   "cell_type": "code",
   "execution_count": 5,
   "metadata": {},
   "outputs": [
    {
     "data": {
      "text/plain": [
       "array([[ 0.52796608,  0.34761562],\n",
       "       [ 0.59297254,  0.95278815],\n",
       "       [ 0.54977155,  0.21358678],\n",
       "       ..., \n",
       "       [ 0.81708197,  0.8321046 ],\n",
       "       [ 0.7424617 ,  0.51654432],\n",
       "       [ 0.64405819,  0.8219308 ]])"
      ]
     },
     "execution_count": 5,
     "metadata": {},
     "output_type": "execute_result"
    }
   ],
   "source": [
    "x = np.random.rand(10000, 2)\n",
    "x"
   ]
  },
  {
   "cell_type": "code",
   "execution_count": 6,
   "metadata": {},
   "outputs": [
    {
     "data": {
      "image/png": "[encoded data removed]",
      "text/plain": [
       "<matplotlib.figure.Figure at 0x28f4b32fdd8>"
      ]
     },
     "metadata": {
      "needs_background": "light"
     },
     "output_type": "display_data"
    }
   ],
   "source": [
    "plt.hist(x)\n",
    "plt.show()"
   ]
  },
  {
   "cell_type": "markdown",
   "metadata": {},
   "source": [
    "\n",
    "### numpy.random.randn\n",
    "\n",
    "The randn function also creates a random array of floating point numbers however it differs from the rand function above in that floats can be positive or negative. It also differs in that the randn function is based on normal (Gaussian) distribution. A parameter can be passed in, telling the function how many floats to return. If no argument is provided, the function will return a single float. \n",
    "\n",
    "Normal distribution [5] can be visually represented by a bell curve and is distribution that occurs naturally when there is no bias. Most of the data falls within one point or standard deviation on either side of the mean. Examples of normal distribution can be seen throughout the general population, for example in a collection of IQ test scores, blood pressure results, heights, weights etc. "
   ]
  },
  {
   "cell_type": "code",
   "execution_count": 7,
   "metadata": {
    "scrolled": true
   },
   "outputs": [
    {
     "data": {
      "text/plain": [
       "array([ 0.75769643,  0.58356037,  0.27879177, ..., -1.25154115,\n",
       "        0.75418353,  0.65651206])"
      ]
     },
     "execution_count": 7,
     "metadata": {},
     "output_type": "execute_result"
    }
   ],
   "source": [
    "x = np.random.randn(10000)\n",
    "x"
   ]
  },
  {
   "cell_type": "code",
   "execution_count": 8,
   "metadata": {},
   "outputs": [
    {
     "data": {
      "image/png": "[encoded data removed]",
      "text/plain": [
       "<matplotlib.figure.Figure at 0x28f4b1455f8>"
      ]
     },
     "metadata": {
      "needs_background": "light"
     },
     "output_type": "display_data"
    }
   ],
   "source": [
    "plt.hist(x)\n",
    "plt.show()"
   ]
  },
  {
   "cell_type": "markdown",
   "metadata": {},
   "source": [
    "More parameters can also be passed into the randn function and it will return more than one set of data, for example:"
   ]
  },
  {
   "cell_type": "code",
   "execution_count": 9,
   "metadata": {},
   "outputs": [
    {
     "data": {
      "text/plain": [
       "array([[ 0.4353709 ,  1.5062312 ,  0.96500001],\n",
       "       [-0.17658641, -0.40618482, -0.11395568],\n",
       "       [-0.26445674, -0.1364097 ,  0.58684001],\n",
       "       ..., \n",
       "       [ 0.10421692,  0.22302316, -0.79541001],\n",
       "       [ 0.49983941,  0.04638977, -0.62774182],\n",
       "       [ 0.01835721,  0.31489383, -1.15639999]])"
      ]
     },
     "execution_count": 9,
     "metadata": {},
     "output_type": "execute_result"
    }
   ],
   "source": [
    "x = np.random.randn(10000, 3)\n",
    "x"
   ]
  },
  {
   "cell_type": "code",
   "execution_count": 10,
   "metadata": {},
   "outputs": [
    {
     "data": {
      "image/png": "[encoded data removed]",
      "text/plain": [
       "<matplotlib.figure.Figure at 0x28f4b3f56a0>"
      ]
     },
     "metadata": {
      "needs_background": "light"
     },
     "output_type": "display_data"
    }
   ],
   "source": [
    "plt.hist(x)\n",
    "plt.show()"
   ]
  },
  {
   "cell_type": "markdown",
   "metadata": {},
   "source": [
    "\n",
    "### numpy.random.randint()\n",
    "\n",
    "The randint function returns random integers (whole numbers) that have discrete uniform distribution. Discrete uniform distribution is also known as equally likely outcomes distribution [6]. This is where the probability of evenly spaced values are equally likely to occur, for example when rolling a 6 sided dice, there are 6 evenly likely possibilties of rolling a certain number \n",
    "\n",
    "In probability, discrete uniform distribution differs from continuous uniform distribution in that disrcrete uniform distribution refers to whole numbers and continuous uniform distribution refers to numbers containing a decimal point (floats) [7].  \n",
    "\n",
    "The randint function requires parameters for the lowest and highest numbers you would like it to return. Lowest and highest numbers can be set as postive or negative. The lowest number is included in the output however the highest number is excluded. The example:\n",
    "\n",
    "*np.random.randint(1, 10)*\n",
    "\n",
    "will return a single random number between 1 and 9 inclusive. The size of the sample required can also be set, as outlined below. "
   ]
  },
  {
   "cell_type": "code",
   "execution_count": 11,
   "metadata": {},
   "outputs": [
    {
     "data": {
      "text/plain": [
       "array([ 2,  7, 17, ...,  4, 18, 14])"
      ]
     },
     "execution_count": 11,
     "metadata": {},
     "output_type": "execute_result"
    }
   ],
   "source": [
    "x = np.random.randint(-5, 20, size=10000)\n",
    "x"
   ]
  },
  {
   "cell_type": "code",
   "execution_count": 12,
   "metadata": {},
   "outputs": [
    {
     "data": {
      "image/png": "[encoded data removed]",
      "text/plain": [
       "<matplotlib.figure.Figure at 0x28f4b2be7b8>"
      ]
     },
     "metadata": {
      "needs_background": "light"
     },
     "output_type": "display_data"
    }
   ],
   "source": [
    "plt.hist(x)\n",
    "plt.show()"
   ]
  },
  {
   "cell_type": "markdown",
   "metadata": {},
   "source": [
    "\n",
    "### numpy.random.random_integers()\n",
    "\n",
    "This function has been deprecated since version 1.11.0.\n"
   ]
  },
  {
   "cell_type": "markdown",
   "metadata": {},
   "source": [
    "\n",
    "### numpy.random.random_sample()\n",
    "\n",
    "The random_sample() function returns floats between 0.0 and 1.0, not including 1.0 using continuous uniform distribution. A single argument passed in will return that number of floats. If no argument is passed, a single float will be returned. "
   ]
  },
  {
   "cell_type": "code",
   "execution_count": 13,
   "metadata": {},
   "outputs": [
    {
     "data": {
      "text/plain": [
       "array([ 0.8332698 ,  0.01608228,  0.61826776, ...,  0.61319316,\n",
       "        0.11440732,  0.61250227])"
      ]
     },
     "execution_count": 13,
     "metadata": {},
     "output_type": "execute_result"
    }
   ],
   "source": [
    "x = np.random.random_sample(10000)\n",
    "x"
   ]
  },
  {
   "cell_type": "code",
   "execution_count": 14,
   "metadata": {},
   "outputs": [
    {
     "data": {
      "image/png": "[encoded data removed]",
      "text/plain": [
       "<matplotlib.figure.Figure at 0x28f4b4c5cf8>"
      ]
     },
     "metadata": {
      "needs_background": "light"
     },
     "output_type": "display_data"
    }
   ],
   "source": [
    "plt.hist(x)\n",
    "plt.show()"
   ]
  },
  {
   "cell_type": "markdown",
   "metadata": {},
   "source": [
    "Similarly to the previous functions discussed, the random_sample function can also output more than one set of data if multiple arguments are passed in, for example:"
   ]
  },
  {
   "cell_type": "code",
   "execution_count": 15,
   "metadata": {
    "scrolled": true
   },
   "outputs": [
    {
     "data": {
      "text/plain": [
       "array([[[ 0.15268701,  0.03266326,  0.37580935,  0.78132455,  0.85872997],\n",
       "        [ 0.27722914,  0.61542281,  0.15233839,  0.9874945 ,  0.34981869],\n",
       "        [ 0.91982377,  0.38409512,  0.05497375,  0.36851338,  0.67466987]],\n",
       "\n",
       "       [[ 0.45524192,  0.96394934,  0.408134  ,  0.75595307,  0.44363036],\n",
       "        [ 0.96116283,  0.85509608,  0.08372331,  0.02003473,  0.29471264],\n",
       "        [ 0.39315066,  0.52659509,  0.79401293,  0.61584498,  0.89243675]],\n",
       "\n",
       "       [[ 0.10085914,  0.8678441 ,  0.1007997 ,  0.04537101,  0.68824359],\n",
       "        [ 0.89983162,  0.38126447,  0.50550924,  0.1817994 ,  0.79746328],\n",
       "        [ 0.63841384,  0.00254954,  0.24304586,  0.75431144,  0.65284197]],\n",
       "\n",
       "       [[ 0.27960595,  0.42999338,  0.69219857,  0.39164914,  0.54974735],\n",
       "        [ 0.06844035,  0.31475459,  0.05562376,  0.64312499,  0.66065684],\n",
       "        [ 0.20411508,  0.00984966,  0.91296482,  0.05290072,  0.52998533]],\n",
       "\n",
       "       [[ 0.35472046,  0.17908975,  0.61700899,  0.517113  ,  0.4083855 ],\n",
       "        [ 0.56503608,  0.62495213,  0.87964425,  0.1240903 ,  0.06630436],\n",
       "        [ 0.6005808 ,  0.96312359,  0.33442328,  0.59077209,  0.26569603]],\n",
       "\n",
       "       [[ 0.71791787,  0.45745464,  0.47905901,  0.4583906 ,  0.32916657],\n",
       "        [ 0.23266631,  0.1236493 ,  0.00972571,  0.22277889,  0.50237843],\n",
       "        [ 0.26708979,  0.02769949,  0.95964516,  0.82307012,  0.01089735]],\n",
       "\n",
       "       [[ 0.94982392,  0.57303604,  0.17478157,  0.60304025,  0.00560645],\n",
       "        [ 0.49762265,  0.28404958,  0.05843213,  0.24843621,  0.91834713],\n",
       "        [ 0.36913436,  0.3879994 ,  0.41249665,  0.24831716,  0.60206469]],\n",
       "\n",
       "       [[ 0.51904242,  0.4471707 ,  0.76876085,  0.14499021,  0.87689546],\n",
       "        [ 0.81452561,  0.47284506,  0.3418703 ,  0.07134636,  0.18661153],\n",
       "        [ 0.4296236 ,  0.2370531 ,  0.05876626,  0.19575389,  0.76428301]],\n",
       "\n",
       "       [[ 0.74360575,  0.37416748,  0.83975687,  0.79356064,  0.32601954],\n",
       "        [ 0.13124912,  0.85577281,  0.48738965,  0.65679309,  0.23879736],\n",
       "        [ 0.07633216,  0.67627637,  0.65858255,  0.22221953,  0.76156263]],\n",
       "\n",
       "       [[ 0.05140598,  0.90210692,  0.59768042,  0.55532148,  0.165645  ],\n",
       "        [ 0.68171496,  0.61333663,  0.78458673,  0.47935086,  0.95615579],\n",
       "        [ 0.12271456,  0.38927993,  0.81566042,  0.12041847,  0.11121135]]])"
      ]
     },
     "execution_count": 15,
     "metadata": {},
     "output_type": "execute_result"
    }
   ],
   "source": [
    "# 10 3x5 arrays of random numbers \n",
    "x = np.random.random_sample((10, 3, 5))\n",
    "x"
   ]
  },
  {
   "cell_type": "code",
   "execution_count": 16,
   "metadata": {},
   "outputs": [
    {
     "data": {
      "text/plain": [
       "array([[ 0.78504804,  0.46912794,  0.95392616,  0.5210213 ],\n",
       "       [ 0.71876071,  0.38131059,  0.98226617,  0.08931378],\n",
       "       [ 0.01132779,  0.26978057,  0.04471225,  0.67545817],\n",
       "       [ 0.7184054 ,  0.07579586,  0.99855706,  0.66294781],\n",
       "       [ 0.9266839 ,  0.57477815,  0.37808163,  0.26575912],\n",
       "       [ 0.6035111 ,  0.8441787 ,  0.67542362,  0.59621587],\n",
       "       [ 0.13497049,  0.7744055 ,  0.35646359,  0.715574  ],\n",
       "       [ 0.49025583,  0.78182181,  0.35517838,  0.69625175],\n",
       "       [ 0.83333339,  0.60021437,  0.53669372,  0.96318256],\n",
       "       [ 0.83447585,  0.5298836 ,  0.32530229,  0.85812569],\n",
       "       [ 0.40892053,  0.0807551 ,  0.21779099,  0.75061579],\n",
       "       [ 0.01302531,  0.97256375,  0.9863249 ,  0.71492951],\n",
       "       [ 0.30171962,  0.40224973,  0.05011439,  0.39645764],\n",
       "       [ 0.50636245,  0.59498881,  0.41168696,  0.58030107],\n",
       "       [ 0.55779165,  0.78051074,  0.30281191,  0.07967571],\n",
       "       [ 0.4898472 ,  0.07274179,  0.74577907,  0.33362398],\n",
       "       [ 0.57750698,  0.29651053,  0.26921729,  0.76416145],\n",
       "       [ 0.89007386,  0.09675883,  0.69787873,  0.07746626],\n",
       "       [ 0.81799133,  0.40304857,  0.37709174,  0.78437824],\n",
       "       [ 0.65176728,  0.04815286,  0.75722732,  0.31587939]])"
      ]
     },
     "execution_count": 16,
     "metadata": {},
     "output_type": "execute_result"
    }
   ],
   "source": [
    "# To represent the data using a histogram\n",
    "x = np.random.random_sample((20, 4))\n",
    "x"
   ]
  },
  {
   "cell_type": "code",
   "execution_count": 17,
   "metadata": {},
   "outputs": [
    {
     "data": {
      "image/png": "[encoded data removed]",
      "text/plain": [
       "<matplotlib.figure.Figure at 0x28f4b533a58>"
      ]
     },
     "metadata": {
      "needs_background": "light"
     },
     "output_type": "display_data"
    }
   ],
   "source": [
    "plt.hist(x)\n",
    "plt.show()"
   ]
  },
  {
   "cell_type": "markdown",
   "metadata": {},
   "source": [
    "To use the random_sample function across a larger range of numbers (rather than between 0.0 and 1.0), the following code can be used: \n",
    "\n",
    "   *(b - a) * random_sample() + a*\n"
   ]
  },
  {
   "cell_type": "code",
   "execution_count": 18,
   "metadata": {},
   "outputs": [
    {
     "data": {
      "text/plain": [
       "array([ 0.04503505,  4.52685952,  5.02865804,  2.08363069,  2.19786373,\n",
       "        1.1572589 ,  4.98611939,  5.84393772,  4.21346031,  2.49880364])"
      ]
     },
     "execution_count": 18,
     "metadata": {},
     "output_type": "execute_result"
    }
   ],
   "source": [
    "#To obtain an array of random numbers (uniformly distributed) between 0 and 6\n",
    "x = -6 * np.random.random_sample(10) +6\n",
    "x"
   ]
  },
  {
   "cell_type": "markdown",
   "metadata": {},
   "source": [
    "\n",
    "### numpy.random.random(), numpy.random.ranf() and numpy.random.sample() functions\n",
    "\n",
    "The random, ranf and sample functions are the same as the random_sample function and they return the same output as described above [8]. "
   ]
  },
  {
   "cell_type": "code",
   "execution_count": 19,
   "metadata": {
    "scrolled": true
   },
   "outputs": [
    {
     "data": {
      "text/plain": [
       "array([ 0.23329119,  0.2989632 ,  0.35736141, ...,  0.35128223,\n",
       "        0.28976059,  0.15674574])"
      ]
     },
     "execution_count": 19,
     "metadata": {},
     "output_type": "execute_result"
    }
   ],
   "source": [
    "x = np.random.random(10000)\n",
    "x"
   ]
  },
  {
   "cell_type": "code",
   "execution_count": 20,
   "metadata": {},
   "outputs": [
    {
     "data": {
      "image/png": "[encoded data removed]",
      "text/plain": [
       "<matplotlib.figure.Figure at 0x28f4b5aaeb8>"
      ]
     },
     "metadata": {
      "needs_background": "light"
     },
     "output_type": "display_data"
    }
   ],
   "source": [
    "plt.hist(x)\n",
    "plt.show()"
   ]
  },
  {
   "cell_type": "code",
   "execution_count": 21,
   "metadata": {},
   "outputs": [
    {
     "data": {
      "text/plain": [
       "array([ 0.49236883,  0.89622457,  0.41026629, ...,  0.44578179,\n",
       "        0.66640536,  0.47685408])"
      ]
     },
     "execution_count": 21,
     "metadata": {},
     "output_type": "execute_result"
    }
   ],
   "source": [
    "x = np.random.ranf(10000)\n",
    "x"
   ]
  },
  {
   "cell_type": "code",
   "execution_count": 22,
   "metadata": {},
   "outputs": [
    {
     "data": {
      "image/png": "[encoded data removed]",
      "text/plain": [
       "<matplotlib.figure.Figure at 0x28f4b6e1400>"
      ]
     },
     "metadata": {
      "needs_background": "light"
     },
     "output_type": "display_data"
    }
   ],
   "source": [
    "plt.hist(x)\n",
    "plt.show()"
   ]
  },
  {
   "cell_type": "code",
   "execution_count": 23,
   "metadata": {},
   "outputs": [
    {
     "data": {
      "text/plain": [
       "array([ 0.91921804,  0.41808945,  0.36610443, ...,  0.22568612,\n",
       "        0.09104254,  0.4399916 ])"
      ]
     },
     "execution_count": 23,
     "metadata": {},
     "output_type": "execute_result"
    }
   ],
   "source": [
    "x = np.random.sample(10000)\n",
    "x"
   ]
  },
  {
   "cell_type": "code",
   "execution_count": 24,
   "metadata": {},
   "outputs": [
    {
     "data": {
      "image/png": "[encoded data removed]",
      "text/plain": [
       "<matplotlib.figure.Figure at 0x28f4b73bcf8>"
      ]
     },
     "metadata": {
      "needs_background": "light"
     },
     "output_type": "display_data"
    }
   ],
   "source": [
    "plt.hist(x)\n",
    "plt.show()"
   ]
  },
  {
   "cell_type": "markdown",
   "metadata": {},
   "source": [
    "\n",
    "### numpy.random.choice()\n",
    "\n",
    "At it's most basic, the choice function returns one positive integer when a single argument is passed in. The single argument that is passed in provides the range (automatically starting from 0) that the interger is randomly selected from. Using *np.random.choice(10)* is the same as selecting a single random integer from *np.arange(10).*\n"
   ]
  },
  {
   "cell_type": "code",
   "execution_count": 25,
   "metadata": {},
   "outputs": [
    {
     "data": {
      "text/plain": [
       "95"
      ]
     },
     "execution_count": 25,
     "metadata": {},
     "output_type": "execute_result"
    }
   ],
   "source": [
    "x = np.random.choice(100)\n",
    "x"
   ]
  },
  {
   "cell_type": "markdown",
   "metadata": {},
   "source": [
    "Further arguments can be passed in to the choice funtion. When a second parameter is passed, this relates to the size of the output, for example *np.random.choice(10, 3)* will return 3 random intergers from the range 0 to 9:"
   ]
  },
  {
   "cell_type": "code",
   "execution_count": 26,
   "metadata": {},
   "outputs": [
    {
     "data": {
      "text/plain": [
       "array([2, 2, 9])"
      ]
     },
     "execution_count": 26,
     "metadata": {},
     "output_type": "execute_result"
    }
   ],
   "source": [
    "x = np.random.choice(10, 3)\n",
    "x"
   ]
  },
  {
   "cell_type": "markdown",
   "metadata": {},
   "source": [
    "When a third parameter - a boolean (True or False) is passed in, this will either allow or stop numbers from reccuring. For example True allows numbers to repeat and False stops numbers repeating: "
   ]
  },
  {
   "cell_type": "code",
   "execution_count": 27,
   "metadata": {},
   "outputs": [
    {
     "data": {
      "text/plain": [
       "array([9, 0, 3, 7, 7])"
      ]
     },
     "execution_count": 27,
     "metadata": {},
     "output_type": "execute_result"
    }
   ],
   "source": [
    "x = np.random.choice(10, 5, True)\n",
    "x"
   ]
  },
  {
   "cell_type": "code",
   "execution_count": 28,
   "metadata": {},
   "outputs": [
    {
     "data": {
      "text/plain": [
       "array([7, 4, 2, 8, 3])"
      ]
     },
     "execution_count": 28,
     "metadata": {},
     "output_type": "execute_result"
    }
   ],
   "source": [
    "x = np.random.choice(10, 5, False)\n",
    "x"
   ]
  },
  {
   "cell_type": "markdown",
   "metadata": {},
   "source": [
    "Finally, the choice function also allows for the type of distribution or probabilities assocaited with each entry to be set. If this parameter is not passed in, the choice function assumes uniform distribution."
   ]
  },
  {
   "cell_type": "markdown",
   "metadata": {},
   "source": [
    "\n",
    "### numpy.random.bytes()\n",
    "\n",
    "The bytes function returns a string when an integer is passed in. "
   ]
  },
  {
   "cell_type": "code",
   "execution_count": 29,
   "metadata": {},
   "outputs": [
    {
     "data": {
      "text/plain": [
       "b'\\xc2\\xaca^]\\xdb>\\xcfb\\x86'"
      ]
     },
     "execution_count": 29,
     "metadata": {},
     "output_type": "execute_result"
    }
   ],
   "source": [
    "x = np.random.bytes(10)\n",
    "x"
   ]
  },
  {
   "cell_type": "markdown",
   "metadata": {},
   "source": [
    "---\n",
    "## Permutations functions in numpy.random\n",
    "\n",
    "There are 2 functions within the numpy.random \"permutations\" family of functions: \n",
    "\n",
    "- shuffle()\n",
    "- permutation()\n",
    "\n",
    "These are discussed below."
   ]
  },
  {
   "cell_type": "markdown",
   "metadata": {},
   "source": [
    "\n",
    "### numpy.random.shuffle()"
   ]
  },
  {
   "cell_type": "markdown",
   "metadata": {},
   "source": [
    "The shuffle function shuffles a sequence of set integers. It changes the sequence or order of integers while the integers remain the same. Shuffle permanently changes the array in place therefore the output remains changed. The single parameter passed in indicates the range of numbers returned, for example *(20)* indicates an array from *0 to 19.* "
   ]
  },
  {
   "cell_type": "code",
   "execution_count": 30,
   "metadata": {},
   "outputs": [
    {
     "data": {
      "text/plain": [
       "(None, array([3, 9, 4, 5, 7, 2, 0, 6, 1, 8]))"
      ]
     },
     "execution_count": 30,
     "metadata": {},
     "output_type": "execute_result"
    }
   ],
   "source": [
    "# I have created an ordered array of numbers 0-9. \n",
    "\n",
    "arr = np.arange(10)\n",
    "\n",
    "# The shuffle function will change the sequence of these numbers and this will become the new sequence of numbers \n",
    "# for further code\n",
    "\n",
    "shuffled = np.random.shuffle(arr)\n",
    "shuffled, arr"
   ]
  },
  {
   "cell_type": "markdown",
   "metadata": {},
   "source": [
    "\n",
    "### numpy.random.permutation()"
   ]
  },
  {
   "cell_type": "markdown",
   "metadata": {},
   "source": [
    "The permutation function works similarly to the shuffle function but returns a new array, leaving the original array untouched, as demonstrated below."
   ]
  },
  {
   "cell_type": "code",
   "execution_count": 31,
   "metadata": {},
   "outputs": [
    {
     "data": {
      "text/plain": [
       "(array([6, 4, 3, 2, 8, 9, 0, 1, 5, 7]), array([0, 1, 2, 3, 4, 5, 6, 7, 8, 9]))"
      ]
     },
     "execution_count": 31,
     "metadata": {},
     "output_type": "execute_result"
    }
   ],
   "source": [
    "arr = np.arange(10)\n",
    "shuffled = np.random.permutation(arr)\n",
    "shuffled, arr"
   ]
  },
  {
   "cell_type": "markdown",
   "metadata": {
    "collapsed": true
   },
   "source": [
    "\n",
    "## Distributions functions in numpy.random\n",
    "\n",
    "There are 35 functions within the numpy.random \"distributions\" family of functions. Seven of these functions are described below, including:\n",
    "\n",
    "- uniform()\n",
    "- standard_normal()\n",
    "- normal()\n",
    "- poisson()\n",
    "- power()\n",
    "- exponential()\n",
    "- standard_exponential()"
   ]
  },
  {
   "cell_type": "markdown",
   "metadata": {},
   "source": [
    "\n",
    "### numpy.random.uniform()"
   ]
  },
  {
   "cell_type": "markdown",
   "metadata": {},
   "source": [
    "The uniform function is similar to the rand function described above in that it is utilises uniform distribution. The uniform function differs in that low and high parameters can be set. The \"low\" integer is included as a value however the \"high\" value is not included. The below example demonstrates that values of 0 can occur however only values up to and including 9 can occur. "
   ]
  },
  {
   "cell_type": "code",
   "execution_count": 32,
   "metadata": {},
   "outputs": [
    {
     "data": {
      "text/plain": [
       "array([ 4.70254206,  3.94552046,  1.56849317, ...,  9.67604372,\n",
       "        6.57751172,  2.11270095])"
      ]
     },
     "execution_count": 32,
     "metadata": {},
     "output_type": "execute_result"
    }
   ],
   "source": [
    "x = np.random.uniform(0, 10,10000)\n",
    "x"
   ]
  },
  {
   "cell_type": "code",
   "execution_count": 33,
   "metadata": {},
   "outputs": [
    {
     "data": {
      "image/png": "[encoded data removed]",
      "text/plain": [
       "<matplotlib.figure.Figure at 0x28f4b80a8d0>"
      ]
     },
     "metadata": {
      "needs_background": "light"
     },
     "output_type": "display_data"
    }
   ],
   "source": [
    "plt.hist(x)\n",
    "plt.show()"
   ]
  },
  {
   "cell_type": "markdown",
   "metadata": {},
   "source": [
    "\n",
    "### numpy.random.normal()\n",
    "\n",
    "The normal function runs similarly to the randn function described above.It is based on normal (Gaussian) distribution and visually displays a typical bell curve. \n",
    "\n",
    "The normal function differs from the randn function in that the randn function always has a mean of 0, whereas the mean and standard devaition can be passed in to the normal function. In the example below, the mean is 10 and the standard deviation is 5. You can see that approximately 50% of the values occur within -1 and +1 standard deviation of the mean, from 5 to 15. "
   ]
  },
  {
   "cell_type": "code",
   "execution_count": 34,
   "metadata": {},
   "outputs": [
    {
     "data": {
      "text/plain": [
       "array([  5.18249826,  14.12846825,   7.97111867, ...,  12.06255228,\n",
       "        14.06247672,   8.01927841])"
      ]
     },
     "execution_count": 34,
     "metadata": {},
     "output_type": "execute_result"
    }
   ],
   "source": [
    "x = np.random.normal(10, 5, 10000)\n",
    "x"
   ]
  },
  {
   "cell_type": "code",
   "execution_count": 35,
   "metadata": {},
   "outputs": [
    {
     "data": {
      "image/png": "[encoded data removed]",
      "text/plain": [
       "<matplotlib.figure.Figure at 0x28f4b8349b0>"
      ]
     },
     "metadata": {
      "needs_background": "light"
     },
     "output_type": "display_data"
    }
   ],
   "source": [
    "plt.hist(x)\n",
    "plt.show()"
   ]
  },
  {
   "cell_type": "markdown",
   "metadata": {},
   "source": [
    "\n",
    "### numpy.random.standard_normal()\n",
    "\n",
    "The standard_normal function is the same as the randn function. It uses normal distribution, it always has a mean of 0 and standard deviation of 1."
   ]
  },
  {
   "cell_type": "code",
   "execution_count": 36,
   "metadata": {},
   "outputs": [
    {
     "data": {
      "text/plain": [
       "array([ 0.42134157, -2.15098048,  0.19769494, ...,  0.40045637,\n",
       "        0.45284677,  0.7591614 ])"
      ]
     },
     "execution_count": 36,
     "metadata": {},
     "output_type": "execute_result"
    }
   ],
   "source": [
    "x = np.random.standard_normal(10000)\n",
    "x"
   ]
  },
  {
   "cell_type": "code",
   "execution_count": 37,
   "metadata": {},
   "outputs": [
    {
     "data": {
      "image/png": "[encoded data removed]",
      "text/plain": [
       "<matplotlib.figure.Figure at 0x28f4b879780>"
      ]
     },
     "metadata": {
      "needs_background": "light"
     },
     "output_type": "display_data"
    }
   ],
   "source": [
    "plt.hist(x)\n",
    "plt.show()"
   ]
  },
  {
   "cell_type": "markdown",
   "metadata": {},
   "source": [
    "\n",
    "### numpy.random.poisson()\n",
    "\n",
    "The poisson function returns an array of positive integers based on the Poisson distribution. In statistics, the Poisson distribution demonstrates the probability that a given number of events will occur over a fixed time, distance, area or volume with a known constant rate. These events are discrete in that the occurence of one does not influence the occurence of the next thus occuring independently [9].\n",
    "\n",
    "Parameters for the poisson function can influence the size of the interval and the number of integers returned. If an interval is not indicated, the default integer is 1. The below example depicts an array of 10000 random integers from the Poisson distribution where lambda is 3. It is observed that the greater the number of random outputs, the greater the number of values between 0 and 3."
   ]
  },
  {
   "cell_type": "code",
   "execution_count": 38,
   "metadata": {
    "scrolled": true
   },
   "outputs": [
    {
     "data": {
      "text/plain": [
       "array([2, 2, 3, ..., 2, 1, 3])"
      ]
     },
     "execution_count": 38,
     "metadata": {},
     "output_type": "execute_result"
    }
   ],
   "source": [
    "x = np.random.poisson(3, 10000)\n",
    "x"
   ]
  },
  {
   "cell_type": "code",
   "execution_count": 39,
   "metadata": {},
   "outputs": [
    {
     "data": {
      "image/png": "[encoded data removed]",
      "text/plain": [
       "<matplotlib.figure.Figure at 0x28f4b801be0>"
      ]
     },
     "metadata": {
      "needs_background": "light"
     },
     "output_type": "display_data"
    }
   ],
   "source": [
    "plt.hist(x)\n",
    "plt.show()"
   ]
  },
  {
   "cell_type": "markdown",
   "metadata": {},
   "source": [
    "\n",
    "### numpy.random.power()\n",
    "\n",
    "The power function returns random positive floats between 0.0 and 1.0, but not including 1.0. These random numbers are selected from a positive exponential distribution - this means that there is an increase in the number of outputs or values the closer we get to 1.0. Exponential distribution can be described in relation to time - the probability that an event will occur increases or becomes more likely as the time increases, for example scoring a goal in a football match [10]. "
   ]
  },
  {
   "cell_type": "code",
   "execution_count": 40,
   "metadata": {},
   "outputs": [
    {
     "data": {
      "text/plain": [
       "array([ 0.70949536,  0.98468285,  0.40295275, ...,  0.64032267,\n",
       "        0.85163863,  0.68634539])"
      ]
     },
     "execution_count": 40,
     "metadata": {},
     "output_type": "execute_result"
    }
   ],
   "source": [
    "x = np.random.power( 3, 10000)\n",
    "x"
   ]
  },
  {
   "cell_type": "code",
   "execution_count": 41,
   "metadata": {},
   "outputs": [
    {
     "data": {
      "image/png": "[encoded data removed]",
      "text/plain": [
       "<matplotlib.figure.Figure at 0x28f4b73bba8>"
      ]
     },
     "metadata": {
      "needs_background": "light"
     },
     "output_type": "display_data"
    }
   ],
   "source": [
    "plt.hist(x)\n",
    "plt.show()"
   ]
  },
  {
   "cell_type": "markdown",
   "metadata": {},
   "source": [
    "The *a* parameter (or first parameter) within the parentheses influences the values closer to 1.0. A higher *a* parameter results in a larger number of outputs that are closer to 1.0, in keeping with positive exponential distribution. This is demonstrated in the above and below histograms where *a* = 3 and *a* = 11."
   ]
  },
  {
   "cell_type": "code",
   "execution_count": 42,
   "metadata": {},
   "outputs": [
    {
     "data": {
      "text/plain": [
       "array([ 0.97562019,  0.99884849,  0.90510213, ...,  0.9772885 ,\n",
       "        0.86726104,  0.97046197])"
      ]
     },
     "execution_count": 42,
     "metadata": {},
     "output_type": "execute_result"
    }
   ],
   "source": [
    "x = np.random.power( 11, 10000)\n",
    "x"
   ]
  },
  {
   "cell_type": "code",
   "execution_count": 43,
   "metadata": {},
   "outputs": [
    {
     "data": {
      "image/png": "[encoded data removed]",
      "text/plain": [
       "<matplotlib.figure.Figure at 0x28f4b4fbe48>"
      ]
     },
     "metadata": {
      "needs_background": "light"
     },
     "output_type": "display_data"
    }
   ],
   "source": [
    "plt.hist(x)\n",
    "plt.show()"
   ]
  },
  {
   "cell_type": "code",
   "execution_count": null,
   "metadata": {},
   "outputs": [],
   "source": []
  },
  {
   "cell_type": "code",
   "execution_count": null,
   "metadata": {},
   "outputs": [],
   "source": []
  },
  {
   "cell_type": "code",
   "execution_count": null,
   "metadata": {},
   "outputs": [],
   "source": []
  },
  {
   "cell_type": "markdown",
   "metadata": {},
   "source": [
    "### Explain the use of seeds in generating pseudorandom numbers"
   ]
  },
  {
   "cell_type": "code",
   "execution_count": null,
   "metadata": {},
   "outputs": [],
   "source": []
  },
  {
   "cell_type": "code",
   "execution_count": null,
   "metadata": {},
   "outputs": [],
   "source": []
  },
  {
   "cell_type": "code",
   "execution_count": null,
   "metadata": {},
   "outputs": [],
   "source": []
  },
  {
   "cell_type": "markdown",
   "metadata": {},
   "source": [
    "## References "
   ]
  },
  {
   "cell_type": "markdown",
   "metadata": {},
   "source": [
    "[1] www.numpy.org/ date: 03/11/2018 \n",
    "\n",
    "[2] https://www.datacamp.com/community/tutorials/python-numpy-tutorial date: 03/11/2018 \n",
    "\n",
    "[3] https://docs.scipy.org/doc/numpy/user/basics.creation.html date: 03/11/2018\n",
    "\n",
    "[4] https://engineering.mit.edu/engage/ask-an-engineer/can-a-computer-generate-a-truly-random-number/ date: 09/11/2018 \n",
    "\n",
    "[4] https://www.investopedia.com/terms/u/uniform-distribution.asp date: 04/11/2018\n",
    "\n",
    "[5] https://www.statisticshowto.datasciencecentral.com/probability-and-statistics/normal-distributions/ date: 04/11/2018\n",
    "\n",
    "[6] https://www.chegg.com/homework-help/definitions/discrete-uniform-31 date: 04/11/2018 \n",
    "\n",
    "[7] https://socratic.org/questions/what-is-the-difference-between-a-discrete-uniform-distribution-and-a-continuous- dated: 04/11/2018\n",
    "\n",
    "[8] https://stackoverflow.com/questions/18829185/difference-between-various-numpy-random-functions dated: 04/11/2018\n",
    "\n",
    "[9] https://stattrek.com/probability-distributions/poisson.aspx dated: 06/11/2018\n",
    "\n",
    "[10] https://www.statlect.com/probability-distributions/exponential-distribution dated: 06/11/2018 "
   ]
  },
  {
   "cell_type": "markdown",
   "metadata": {},
   "source": [
    "## Bibliography and Acknowledgements "
   ]
  },
  {
   "cell_type": "markdown",
   "metadata": {},
   "source": [
    "- https://docs.scipy.org/doc/numpy-1.15.1/user/whatisnumpy.html date: 20/10/2018\n",
    "- https://docs.scipy.org/doc/numpy-1.15.1/reference/routines.random.html date:27/10/2018\n",
    "- http://nbviewer.jupyter.org/gist/rossant/4645217 date: 03/11/2018\n",
    "- https://en.wikipedia.org/wiki/NumPy date: 03/11/2018\n",
    "- https://www.packtpub.com/mapt/book/big_data_and_business_intelligence/9781785285110/2/ch02lvl1sec16/numpy-random-numbers date: 03/11/2018\n",
    "- https://www.datacamp.com/community/tutorials/python-numpy-tutorial date: 03/11/2018 \n",
    "- http://mathworld.wolfram.com/DiscreteUniformDistribution.html date: 04/11/2018 \n",
    "- https://machinelearningmastery.com/how-to-generate-random-numbers-in-python/ - good for seeds and pseudo random number info 04/11/2018"
   ]
  },
  {
   "cell_type": "code",
   "execution_count": null,
   "metadata": {},
   "outputs": [],
   "source": []
  }
 ],
 "metadata": {
  "kernelspec": {
   "display_name": "Python 3",
   "language": "python",
   "name": "python3"
  },
  "language_info": {
   "codemirror_mode": {
    "name": "ipython",
    "version": 3
   },
   "file_extension": ".py",
   "mimetype": "text/x-python",
   "name": "python",
   "nbconvert_exporter": "python",
   "pygments_lexer": "ipython3",
   "version": "3.6.7"
  }
 },
 "nbformat": 4,
 "nbformat_minor": 2
}
